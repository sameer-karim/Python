{
 "cells": [
  {
   "cell_type": "code",
   "execution_count": 1,
   "id": "6774a16c",
   "metadata": {},
   "outputs": [],
   "source": [
    "x = 3932"
   ]
  },
  {
   "cell_type": "code",
   "execution_count": 3,
   "id": "5fea2746",
   "metadata": {},
   "outputs": [
    {
     "data": {
      "text/plain": [
       "'2393'"
      ]
     },
     "execution_count": 3,
     "metadata": {},
     "output_type": "execute_result"
    }
   ],
   "source": [
    "str(x)[::-1]"
   ]
  },
  {
   "cell_type": "raw",
   "id": "e382c431",
   "metadata": {},
   "source": [
    "str(x)[:-1]"
   ]
  },
  {
   "cell_type": "code",
   "execution_count": 4,
   "id": "9cb5ab8b",
   "metadata": {},
   "outputs": [
    {
     "data": {
      "text/plain": [
       "'9'"
      ]
     },
     "execution_count": 4,
     "metadata": {},
     "output_type": "execute_result"
    }
   ],
   "source": [
    "str(x)[1:2]"
   ]
  },
  {
   "cell_type": "code",
   "execution_count": 5,
   "id": "215fbda0",
   "metadata": {},
   "outputs": [
    {
     "data": {
      "text/plain": [
       "'2'"
      ]
     },
     "execution_count": 5,
     "metadata": {},
     "output_type": "execute_result"
    }
   ],
   "source": [
    "str(x)[-1::]"
   ]
  },
  {
   "cell_type": "code",
   "execution_count": null,
   "id": "c415b8df",
   "metadata": {},
   "outputs": [],
   "source": []
  }
 ],
 "metadata": {
  "kernelspec": {
   "display_name": "Python 3 (ipykernel)",
   "language": "python",
   "name": "python3"
  },
  "language_info": {
   "codemirror_mode": {
    "name": "ipython",
    "version": 3
   },
   "file_extension": ".py",
   "mimetype": "text/x-python",
   "name": "python",
   "nbconvert_exporter": "python",
   "pygments_lexer": "ipython3",
   "version": "3.9.7"
  }
 },
 "nbformat": 4,
 "nbformat_minor": 5
}
