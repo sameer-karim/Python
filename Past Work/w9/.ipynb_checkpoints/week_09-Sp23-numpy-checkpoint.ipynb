{
 "cells": [
  {
   "cell_type": "markdown",
   "metadata": {},
   "source": [
    "<p style=\"font-size:9px;\">Version: Discussion version 1, \n",
    "    July 18, 2023 | <b>updated Oct 20, 2023</b> [&copy; 2023 gb]</p>\n",
    "<img src=\"images/ischool-banner.png\" />\n",
    "<p>&nbsp;</p>\n",
    "<div style=\"height: 50px;color:#3B7EA1; font-size:24px; vertical-align:top; text-align:left;\">\n",
    "    Computing for Data Science\n",
    "    <img style=\"width:20%; vertical-align:top; float: left; padding-right: 20px; display: block; margin-left: 0; margin-right: auto;\" \n",
    "         src=\"images/ucb_logo.png\"/>\n",
    "</div>\n",
    "<hr />\n",
    "<h1 style=\"font-size:32; color: #003262;\">Weekly Syllabus Topics: Week 8</h1>\n",
    "<table width=\"100%;\">\n",
    "<tr>\n",
    "<td style=\"text-align:left; vertical-align:top;\">\n",
    "<ol>\n",
    "    <li>\n",
    "    <ul>\n",
    "        <li>Computer Architecture Basics; \n",
    "        Bash, Git, GitHub;</li>\n",
    "        <li>Command Line;</li>\n",
    "        <li>Manipulating Files &amp; Directories;\n",
    "        VIM;\n",
    "        Command Line intro;</li>\n",
    "    </ul>\n",
    "</li>\n",
    "<li>\n",
    "    <ul>\n",
    "    <li>Programming Lang Orientation: \n",
    "    <li>jupyter; python and command line;\n",
    "    objects &amp; types;\n",
    "    <li>variables (numbers and strings), formatting strings;</li>\n",
    "    <li>control while loops</li>\n",
    "    </ul>\n",
    "</li>\n",
    "<li>\n",
    "    <ul>\n",
    "        <li>Sequences</li>\n",
    "        <li>Lists, Tuples &amp; Mutability</li>\n",
    "        <li>Ranges</li>\n",
    "        <li>Dictionaries, Nested Lists &amp; dictionaries</li>\n",
    "    </ul>\n",
    "</li>\n",
    "</ol>\n",
    "</td>\n",
    "<td style=\"text-align:left; vertical-align:top;\">\n",
    "<ol start=\"4\">\n",
    "<li>\n",
    "    <ul>\n",
    "        <li>For Loops\n",
    "        <li>Exits\n",
    "        <li>Algorithms: searching [exhaustive, bisection, heron&rsquo;s methods]</li>\n",
    "        <li>Comprehensions</li>\n",
    "    </ul>\n",
    "</li>\n",
    "<li>\n",
    "    <ul>\n",
    "        <li>Functions</li>\n",
    "        <li>Calling, Nesting</li>\n",
    "        <li>Namespaces, Global and Local Vars</li>\n",
    "        <li>Recursion; nested dictionaries &amp; recursion</li>\n",
    "        <li>Parameters</li>\n",
    "        <li>Exceptions</li>\n",
    "        <li>Lambdas</li>\n",
    "    </ul>\n",
    "</li>\n",
    "<li>\n",
    "    <ul>\n",
    "        <li>Complexity\n",
    "        <li>Measuring time and Steps</li>\n",
    "        <li>Big &Theta;</li>\n",
    "        <li>Searching and Subsequences\n",
    "        <li>Modules &amp; Packages</li>\n",
    "    </ul>\n",
    "</li>\n",
    "</ol>\n",
    "</td>\n",
    "    </tr>\n",
    "<table>\n",
    "<table width=\"100%\">\n",
    "    <tr>\n",
    "<td style=\"text-align:left; vertical-align:top;\">\n",
    "<ol start=\"7\">\n",
    "<li>\n",
    "    <ul>\n",
    "        <li>Classes</li>\n",
    "        <li>Attributes, Binding</li>\n",
    "        <li>Initializing and Control</li>\n",
    "        <li>&UnderBar;&UnderBar;str&UnderBar;&UnderBar; and &UnderBar;&UnderBar;repr&UnderBar;&UnderBar;\n",
    "        </li>\n",
    "    </ul>\n",
    "</li>\n",
    "<li>\n",
    "    <ul  style='background-color: #FDB515;'>\n",
    "        <li>Object-Oriented Programming</li>\n",
    "        <li>Inheritance</li>\n",
    "        <li>Polymorphism</li>\n",
    "        <li>Magic Methods</li>\n",
    "    </ul>\n",
    "</li>\n",
    "<li>\n",
    "    <ul>\n",
    "    <li>PyData Ecosystem and Numpy</li>\n",
    "    <li>Boolean selection and types</li>\n",
    "    <li>Vectorization &amp; Multidimensional Arrays</li>\n",
    "    <li>Slicing and combining</li>\n",
    "    <li>Linear model in matrix form, Numpy</li>\n",
    "    </ul>\n",
    "</li>\n",
    "</ol>\n",
    "</td>\n",
    "<td style=\"text-align:left; vertical-align:top;\">\n",
    "<ol start=\"10\">\n",
    "<li>\n",
    "    <ul>\n",
    "        <li>Pandas &amp; Data Analysis</li>\n",
    "        <li>Series and Data Frames</li>\n",
    "        <li>Bracket index, log &amp; iloc</li>\n",
    "        <li>Functions and DataFrames</li>\n",
    "        <li>Sorting</li>\n",
    "    </ul>\n",
    "</li>\n",
    "<li>\n",
    "    <ul>\n",
    "        <li>Datasets and EDA</li>\n",
    "        <li>Fixing Data Issues (Cleansing)</li>\n",
    "        <li>Answering Questions</li>\n",
    "    </ul>\n",
    "</li>\n",
    "<li>\n",
    "    <ul>\n",
    "        <li>Plotting &amp; Visualization</li>\n",
    "        <li>Libraries (Matplotlib, Seaborn, etc.)</li>\n",
    "        <li>Plot features</li>\n",
    "    </ul>\n",
    "</li>\n",
    "</ol>\n",
    "</td>\n",
    "</tr>\n",
    "</table>\n",
    "<table width=\"100%\">\n",
    "<tr>\n",
    "<td style=\"text-align:left; vertical-align:top;\">\n",
    "<ol start=\"13\">\n",
    "    <li>\n",
    "    <ul>\n",
    "        <li>Pandas Aggregation &amp; Group Operations</li>\n",
    "        <li>Series.groupby</li>\n",
    "        <li>DataFrame.groupby</li>\n",
    "        <li>Aggregation</li>\n",
    "        <li>Pivot Tables &amp; Crosstabs</li>\n",
    "    </ul>\n",
    "</li>\n",
    "<li>\n",
    "    <ul>\n",
    "        <li>Presentations (so no time to cover...\n",
    "        <li>Texts, unicode, decoding errors, regex, time series, etc.)</li>\n",
    "    </ul>\n",
    "</li>\n",
    "</ol>\n",
    "</td>\n",
    "</tr>\n",
    "</table>\n",
    "    <p>\n",
    "        <img src=\"images/IntroIcon.png\" style=\"float:left; padding:10px; width:50px; text-align:top;\"/>\n",
    "<img src=\"images/NumPy-logo.svg.png\"/>\n",
    "</p>\n",
    "<hr />\n",
    "<h2 style=\"background-color: #003262; color:white; border-radius: 4px; padding: 8px;\">\n",
    "    Topic 9: From built-in python tools to external libraries: numpy</h2>\n",
    "    <ol style=\"font-family:'Avenir Next';\">\n",
    "    <li>See also the numpy and pandas \"cheat sheets\" in the optional notebook</li>\n",
    "    <li>Python &amp; the universe of 3rd party libraries: a framework</li>\n",
    "    <li>Numpy&rsquo;s various arrays</li>\n",
    "    <li>One-dimensional arrays and Examples</li>\n",
    "    <li>Two-dimensional arrays and examples; introducing some stat commands</li>\n",
    "    <li>Multi-dimensional arrays and examples</li>\n",
    "    <li>Recap</li>\n",
    "    <li>Optional Examples</li>\n",
    "    </ol>\n",
    "<hr />\n",
    "<p style=\"padding:10px; border-radius:5px; background-color:#3B7EA1; color:white; font-size:22px;\">Examples 1. Introducing 3rd Party Libraries – Numpy</p>\n",
    "<p style=\"font-family:'Avenir Next';\">The purpose of this and subsequent live sessions is to integrate tools used in analysis, visualization, efficiency, introduce concepts of some domain-specific libries, and how they collective form a kind of python universe.</p>\n",
    "<img src=\"images/pythoninfosystem.jpeg\"/>"
   ]
  },
  {
   "cell_type": "markdown",
   "metadata": {},
   "source": [
    "<p style=\"padding:10px; border-radius:5px; background-color:#3B7EA1; color:white; font-size:22px;\">1a. What about non-python libraries but other tools, like ChatGBT?</p>\n",
    "<p>Indeed.  For a quick discussion, who has used ChatGBT for coding practices?  There&rsquo;s lots of room for improvement in these kinds of tools, but here&rsquo;s a challenge: write an efficient answer to some (minor) computing challenge, and then have ChatGBT do it.  Is it a help to your learning? Or something else?  Let us know: we&rsquo;re interested.</p>\n",
    "<p><a href=\"https://chat.openai.com/chat\" target=\"new\">chat.openai.com</a></p>"
   ]
  },
  {
   "cell_type": "markdown",
   "metadata": {},
   "source": [
    "<h2 style=\"background-color: #003262; color:white; border-radius: 4px; padding: 8px;\">2.  Building upon the foundation from weeks 1-8 ... </h2>\n",
    "<p style=\"font-family:'Avenir Next';\">Notice the gray box includes python and jupyter; note, too, that numpy is included because this library is optimizied for processing &ldquo;arrays&rdquo;, what python otherwise uses as list.</p>\n",
    "<img src=\"images/numpy-start.png\"/>"
   ]
  },
  {
   "cell_type": "markdown",
   "metadata": {},
   "source": [
    "<blockquote>\n",
    "<h2 style=\"color:cornflowerblue;\">Review of some fundamentals</h2>\n",
    "<p style=\"font-family:'Avenir Next';\"><b>Arrays</b></p>\n",
    "    <b>Single-dimensional</b>\n",
    "<p style=\"font-family:'Avenir Next';\">\n",
    "\t<pre> x = [1,2,3,4,5]\n",
    "\ty = np.array(x)\n",
    "\ty</pre> outputs array([1,2,3,4,5]).  You can also use <code>np.array()</code> and <code>np.asarray()</code></p>\n",
    "</p>\n",
    "<b>Multi-dimensional</b>\n",
    "\t<p style=\"font-family:'Avenir Next';\">For multidimensional arrays we can get the <code>shape</code> of it, e.g., \n",
    "<pre>a = np.array([[1,2,3], ['a','b','c']])\n",
    "\tprint(a.shape)</pre> \n",
    "    return <code>(2,3)</code> two rows of 3 columns.<br />\n",
    "    <p style=\"font-family:'Avenir Next';\">Practice using <b>reshape()</b>, e.g., <code>reshape(5,5)</code>.  Note: when reshaping make sure there's the same number of rows and columns (e.g., (3,5) to (5,3) because need the same number of elements (here 15); if you use (3,5) (5,5) you'd need 25 but we have only 15.  Verify the number of dimensions by asking ... <code>(a.ndim)</code>\n",
    "    </p>\n",
    "<hr />    \n",
    "<p style=\"color:red; font-size:18px;\"><i>Example:</i></p>\n",
    "<p style=\"font-family:'Avenir Next';\">Numpy is a linear algebra library, especially useful for operations on arrays.  Numpy uses C++.  It&rsquo;s array is much faster than python lists.</p>\n",
    "<p>Uses in math work (as a replacement for Matlab), image processing, and machine learning using matrix adding, multiplication, transposition, etc. </p>\n",
    "<p style=\"font-family:'Avenir Next';\">Other important libraries are <b>pandas</b>, <b>matplotlib</b>, <b>sciplot</b>, and hosts of other special-purpose libraries, like pygame, handwriting and speech recognition with scikit-learn, and more.</p>\n",
    "<p style=\"font-family:'Avenir Next';\">Numpy handles a lot of data types designed for matrix multiplication: \n",
    "<ul style=\"line-height:2em;\">\n",
    "    <li>scalars [individual fixed-size data objects, like ints]</li>\n",
    "    <li>masked arrays (using booleans to show if a condition is met (0,1))</li>\n",
    "    <li>dtypes</li>\n",
    "    <li>null as a data type (e.g., df.isnull().sum() and provide a way to replace nulls with a default value, like <i>k</i>-nearest neighbors (<code>df.fillnam(value=mean(df['x'])</code>)</li>\n",
    "    <li>auto cast imaginary nubers of a float</li>\n",
    "    <li>built-in functions (.log(), .recipricol(), .mod(), .convolve() [when two functions work together to create a new function]; turning NaN into a number (<code>.nan_to_num(np.inf)</code>)</li>\n",
    "    <li>and faster techniques (libraries in C, parallel instructions as vectorization [compiles repetitive program instructions into a single vector (a single operation) over a large dataset (that&rsquo;s been broken down to subsets)]</li>\n",
    "    <li>some of the functions are called ufunc (like log2(), gcd(), lcd(), trig functions, etc.</li>\n",
    "</ul>\n",
    "</p>\n",
    "</blockquote>\n",
    "<hr />"
   ]
  },
  {
   "cell_type": "markdown",
   "metadata": {},
   "source": [
    "<hr />\n",
    "<p style=\"padding:10px; border-radius:5px; background-color:#3B7EA1; color:white; font-size:22px;\">2a. One-dimensional array: \n",
    "    [aka scalar; replacement for python list]</p>\n",
    "<p style=\"font-family:'Avenir Next';\">Several examples...</p>\n",
    "<p style=\"font-family:'Avenir Next';\">First the basic structure:</p>"
   ]
  },
  {
   "cell_type": "code",
   "execution_count": 105,
   "metadata": {},
   "outputs": [
    {
     "name": "stdout",
     "output_type": "stream",
     "text": [
      "1-d Array:\t\t[1 2 3 4 5]\n"
     ]
    }
   ],
   "source": [
    "import numpy as np\n",
    "\n",
    "# ONE-DIMENSIONAL ARRAY (scalar)\n",
    "x = [1,2,3,4,5]\n",
    "y = np.array(x)\n",
    "print(f\"1-d Array:\\t\\t{y}\")"
   ]
  },
  {
   "cell_type": "markdown",
   "metadata": {},
   "source": [
    "<blockquote  style=\"font-family:'Avenir Next';\">Example using basic stat commands on numpy array.  The first steps in analysis include reducing the data that don't match our research question, or are out of range, etc., and to create a profile of our data, using <b>measures of central tendancy</b>.  More options for multi-dimensional arrays and easier stats libraries, too.  For now examples:</blockquote>"
   ]
  },
  {
   "cell_type": "code",
   "execution_count": 106,
   "metadata": {},
   "outputs": [
    {
     "name": "stdout",
     "output_type": "stream",
     "text": [
      "________________________________________\n",
      "[ 0  1  2  3  4  5  6  7  8  9 10]\n",
      "sum:\t 55\n",
      "mean:\t 5.0\n",
      "arg min: 0\n",
      "max: \t 10\n",
      "________________________________________\n",
      "[30, 10, 23, 30, 3, 29, 44, 43, 42, 22]\n",
      "sum:\t 276\n",
      "mean:\t 27.6\n",
      "arg min: 4\n",
      "max: \t 44\n",
      "avg: \t 27.6\n",
      "median: \t 29.5\n",
      "avg: \t 27.6\n",
      "std dev:\t 13.016912076218384\n",
      "variance:\t 169.44\n",
      "Var float64:\t 169.44\n"
     ]
    }
   ],
   "source": [
    "arr = np.arange(0,11) # just to demo using the arange()\n",
    "other_array = [30, 10, 23, 30, 3, 29, 44, 43, 42, 22]\n",
    "\n",
    "print(\"_\"*40)\n",
    "print(arr)\n",
    "print(\"sum:\\t\", np.sum(arr))\n",
    "print(\"mean:\\t\", np.mean(arr))\n",
    "print(\"arg min:\", np.argmin(arr))\n",
    "print(\"max: \\t\", np.max(arr))\n",
    "\n",
    "print(\"_\"*40)\n",
    "print(other_array)\n",
    "print(\"sum:\\t\", np.sum(other_array))\n",
    "print(\"mean:\\t\", np.mean(other_array))\n",
    "print(\"arg min:\", np.argmin(other_array))\n",
    "print(\"max: \\t\", np.max(other_array))\n",
    "print(\"avg: \\t\", np.average(other_array))\n",
    "print(\"median: \\t\", np.median(other_array))\n",
    "print(\"avg: \\t\", np.average(other_array))\n",
    "print(\"std dev:\\t\", np.std(other_array))\n",
    "print(\"variance:\\t\", np.var(other_array))\n",
    "print(\"Var float64:\\t\", np.var(other_array, dtype=np.float64))"
   ]
  },
  {
   "cell_type": "markdown",
   "metadata": {},
   "source": [
    "<p style=\"padding:10px; border-radius:5px; background-color:#3B7EA1; color:white; font-size:22px;\">2b. Two-dimensional array; note the number of elements in each array.</p>"
   ]
  },
  {
   "cell_type": "code",
   "execution_count": 107,
   "metadata": {},
   "outputs": [
    {
     "name": "stdout",
     "output_type": "stream",
     "text": [
      "2D Array:\n",
      " [['1' '2' '3']\n",
      " ['a' 'b' 'c']]\n",
      "rows, col\t\t (2, 3)\n",
      "\n",
      "Boolean Indexing Examples:\n",
      "\n",
      "and we need to test first if some condition is met, here whether j > 4\n",
      "[1 6 3 2 4 2]\n",
      "[False  True False False False False]\n"
     ]
    }
   ],
   "source": [
    "# TWO-DIMENSIONAL ARRAY\n",
    "x = np.array([ [1,2,3], ['a','b','c'] ])\n",
    "print(\"2D Array:\\n\", x)\n",
    "print(\"rows, col\\t\\t\", x.shape)\n",
    "\n",
    "# BOOLEAN INDEXING\n",
    "print(\"\\nBoolean Indexing Examples:\\n\")\n",
    "print(\"and we need to test first if some condition is met, here whether j > 4\")\n",
    "j = np.array([1, 6, 3, 2, 4, 2])\n",
    "print(j)\n",
    "print(j > 4)"
   ]
  },
  {
   "cell_type": "markdown",
   "metadata": {},
   "source": [
    "<blockquote style=\"font-family:'Avenir Next';\">Example using basic stat commands on numpy multi-dimensional array:</blockquote>"
   ]
  },
  {
   "cell_type": "code",
   "execution_count": 108,
   "metadata": {},
   "outputs": [
    {
     "name": "stdout",
     "output_type": "stream",
     "text": [
      "Multiplication in array:  70\n"
     ]
    }
   ],
   "source": [
    "# create some arrays - notice the [ [ ]]\n",
    "b = np.array( [ [2], [1], [0] ])\n",
    "c = np.array([1, 2, 3])\n",
    "d = np.array([5, 10, 15])\n",
    "\n",
    "print(\"Multiplication in array: \", np.matmul(c, d))"
   ]
  },
  {
   "cell_type": "markdown",
   "metadata": {},
   "source": [
    "<blockquote style=\"font-family:'Avenir Next';\">Filling in for missing values:</blockquote>"
   ]
  },
  {
   "cell_type": "code",
   "execution_count": 109,
   "metadata": {},
   "outputs": [
    {
     "name": "stdout",
     "output_type": "stream",
     "text": [
      "Get some data, start stop skip [ 0  5 10 15]\n",
      "\n",
      "Create zero-filled array [0. 0. 0. 0.]\n",
      "\n",
      "Create one-filled array [1. 1. 1. 1.]\n",
      "\n",
      "Create an array of a range (common in plotting) with linspace\n",
      "\n",
      "[0.         0.02564103 0.05128205 0.07692308 0.1025641  0.12820513\n",
      " 0.15384615 0.17948718 0.20512821 0.23076923 0.25641026 0.28205128\n",
      " 0.30769231 0.33333333 0.35897436 0.38461538 0.41025641 0.43589744\n",
      " 0.46153846 0.48717949 0.51282051 0.53846154 0.56410256 0.58974359\n",
      " 0.61538462 0.64102564 0.66666667 0.69230769 0.71794872 0.74358974\n",
      " 0.76923077 0.79487179 0.82051282 0.84615385 0.87179487 0.8974359\n",
      " 0.92307692 0.94871795 0.97435897 1.        ]\n",
      "\n",
      "<class 'numpy.ndarray'>\n",
      "\n",
      "Updating values in a range of cells [1:3]:\n",
      " [0.         7.         7.         0.07692308 0.1025641  0.12820513\n",
      " 0.15384615 0.17948718 0.20512821 0.23076923 0.25641026 0.28205128\n",
      " 0.30769231 0.33333333 0.35897436 0.38461538 0.41025641 0.43589744\n",
      " 0.46153846 0.48717949 0.51282051 0.53846154 0.56410256 0.58974359\n",
      " 0.61538462 0.64102564 0.66666667 0.69230769 0.71794872 0.74358974\n",
      " 0.76923077 0.79487179 0.82051282 0.84615385 0.87179487 0.8974359\n",
      " 0.92307692 0.94871795 0.97435897 1.        ]\n",
      "\n"
     ]
    }
   ],
   "source": [
    "#create some data\n",
    "print(f\"Get some data, start stop skip {np.arange(0, 20, 5)}\\n\")\n",
    "\n",
    "print(f\"Create zero-filled array {np.zeros(4)}\\n\")\n",
    "\n",
    "print(f\"Create one-filled array {np.ones(4)}\\n\")\n",
    "\n",
    "print(f\"Create an array of a range (common in plotting) with linspace\\n\")\n",
    "x = np.linspace(0, 1, 40)\n",
    "\n",
    "print(f\"{x}\\n\")\n",
    "\n",
    "x[1:3] = 7\n",
    "print(type(x))\n",
    "print(f\"\\nUpdating values in a range of cells [1:3]:\\n {x}\\n\")"
   ]
  },
  {
   "cell_type": "markdown",
   "metadata": {},
   "source": [
    "<hr />\n",
    "<p style=\"padding:10px; border-radius:5px; background-color:#3B7EA1; color:white; font-size:22px;\">2c. Higher-dimensional array; note the number of elements in each array.</p>\n",
    "<p  style=\"font-family:'Avenir Next';\">Start off with 1D: <code>a = np.array([5, 10, 50])</code></p>\n",
    "<p style=\"font-family:'Avenir Next';\"><code>reshape</code> can turn 1D to 2D.  Ultimately you'll want to do some calculations and extract subsets of data.</p>"
   ]
  },
  {
   "cell_type": "code",
   "execution_count": 110,
   "metadata": {},
   "outputs": [
    {
     "name": "stdout",
     "output_type": "stream",
     "text": [
      "\n",
      "And for higher dimensions:\n",
      "[[ True False False False False]\n",
      " [ True  True False False False]\n",
      " [ True  True  True  True  True]]\n"
     ]
    }
   ],
   "source": [
    "# HIGHER DIMENSIONS\n",
    "print(\"\\nAnd for higher dimensions:\")\n",
    "k = np.array([ [10, 20, 30, 40, 50],\n",
    "              [5, 10, 33, 23, 39],\n",
    "            [2, 4, 6, 9, 10]])\n",
    "print(k <= 10)"
   ]
  },
  {
   "cell_type": "code",
   "execution_count": 111,
   "metadata": {},
   "outputs": [
    {
     "name": "stdout",
     "output_type": "stream",
     "text": [
      "[2 4 6]\n",
      "4\n",
      "\n",
      "---------------\n",
      "[[1. 1. 1.]\n",
      " [1. 1. 1.]]\n",
      "\n",
      "---------------\n",
      "[[1.  1.  0.3]\n",
      " [1.  1.  1. ]]\n",
      "\n",
      "---------------\n",
      "[5 7 9]\n"
     ]
    }
   ],
   "source": [
    "#1d:\n",
    "j = np.array([2, 4, 6])\n",
    "print(j)\n",
    "print(j[1])\n",
    "\n",
    "#2d:\n",
    "print(\"\\n---------------\")\n",
    "k = np.ones((2, 3))\n",
    "print(k)\n",
    "\n",
    "print(\"\\n---------------\")\n",
    "k[0, 2] = .3\n",
    "print(k)\n",
    "\n",
    "print(\"\\n---------------\")\n",
    "# add 2 arrays of same size\n",
    "l = np.array([1,2,3])\n",
    "m = np.array([4,5,6])\n",
    "print( l + m )"
   ]
  },
  {
   "cell_type": "markdown",
   "metadata": {},
   "source": [
    "<hr />\n",
    "<p style=\"font-family:'Avenir Next';\"><b>Slice</b> up your Multidimensional Arrays</p>"
   ]
  },
  {
   "cell_type": "code",
   "execution_count": 112,
   "metadata": {},
   "outputs": [
    {
     "name": "stdout",
     "output_type": "stream",
     "text": [
      "[[ 0  1  2  3  4  5]\n",
      " [ 6  7  8  9 10 11]\n",
      " [12 13 14 15 16 17]\n",
      " [18 19 20 21 22 23]\n",
      " [24 25 26 27 28 29]]\n",
      "\n",
      "----------\n",
      "[[ 6  7]\n",
      " [12 13]\n",
      " [18 19]]\n",
      "\n",
      "----------\n",
      "[[ 2  3]\n",
      " [ 8  9]\n",
      " [14 15]]\n",
      "\n",
      "----------\n",
      "[ 0  6 12 18 24]\n",
      "\n",
      "broadcast a change of the first 3x3\n",
      "[[ 0  0  0  3  4  5]\n",
      " [ 0  0  0  9 10 11]\n",
      " [ 0  0  0 15 16 17]\n",
      " [18 19 20 21 22 23]\n",
      " [24 25 26 27 28 29]]\n"
     ]
    }
   ],
   "source": [
    "a = np.reshape(np.arange(30), (5,6)) # create a 5x6 array\n",
    "print(a)\n",
    "\n",
    "print(\"\\n----------\")\n",
    "b = a[1:4, 0:2] #select elements in rows 1-3 and columns 0-1\n",
    "print(b)\n",
    "\n",
    "print(\"\\n----------\")\n",
    "c = a[:3, 2:4] #select elements in rows 0-2 and columns 2-3\n",
    "print(c)\n",
    "\n",
    "print(\"\\n----------\")\n",
    "d = a[:, 0] # select all elements in the 0-th column\n",
    "print(d)\n",
    "\n",
    "print(\"\\nbroadcast a change of the first 3x3\")\n",
    "a[:3, :3] = 0\n",
    "print(a)"
   ]
  },
  {
   "cell_type": "markdown",
   "metadata": {},
   "source": [
    "<blockquote  style=\"font-family:'Avenir Next';\">\n",
    "    <b style=\"color:red;\">2c.1</b> Fancy indexing, returning T/F</blockquote>"
   ]
  },
  {
   "cell_type": "code",
   "execution_count": 113,
   "metadata": {},
   "outputs": [
    {
     "name": "stdout",
     "output_type": "stream",
     "text": [
      "\n",
      "Fancy Indexing or Boolean Mask:\n",
      "A condition for one array is used to return data \n",
      "of another array when the condition is met.\n",
      "['C' 'D' 'E']\n",
      "[2 4 6]\n",
      "[3]\n",
      "<class 'numpy.ndarray'>\n"
     ]
    }
   ],
   "source": [
    "# BOOLEAN MASK / FANCY INDEXING\n",
    "print(\"\\nFancy Indexing or Boolean Mask:\")\n",
    "print(\"A condition for one array is used to return data \")\n",
    "print(\"of another array when the condition is met.\")\n",
    "l = np.array([2, 3, 4, 5, 6])\n",
    "m = np.array([\"A\", \"B\", \"C\", \"D\", \"E\"])\n",
    "\n",
    "print( m[l >= 4])  \n",
    "print( l[l % 2 == 0])\n",
    "\n",
    "print(l[l == 3])\n",
    "i = l[l == 3]\n",
    "print(type(i))"
   ]
  },
  {
   "cell_type": "markdown",
   "metadata": {},
   "source": [
    "<blockquote style=\"font-family:'Avenir Next';\"><b style=\"color:red;\">2c.2</b> Vectorization\n",
    "</blockquote>"
   ]
  },
  {
   "cell_type": "code",
   "execution_count": 114,
   "metadata": {},
   "outputs": [
    {
     "name": "stdout",
     "output_type": "stream",
     "text": [
      "Vectorizing a multidimensional array:\n",
      " [1.41421356 1.73205081 2.         2.23606798 2.44948974]\n"
     ]
    }
   ],
   "source": [
    "# side note: vectorization is O(log n)\n",
    "# see https://numpy.org/doc/stable/reference/generated/numpy.vectorize.html\n",
    "# faster for some work, otherwise same.\n",
    "# vectorization is just implementing array operations on a dataset \n",
    "# where everything is treated linearlly instead of by row\n",
    "# e.g., [a, s, d, f, g, h] instead of\n",
    "# [a, s, d]\n",
    "# [f, g, h]\n",
    "import numpy as np\n",
    "import math\n",
    "\n",
    "def sq(x):\n",
    "    return np.sqrt(x) # return math.sqrt(x)\n",
    "\n",
    "def vectorize(x):\n",
    "    return np.vectorize(sq)(x)\n",
    "\n",
    "print(f\"Vectorizing a multidimensional array:\\n {vectorize(l)}\")\n"
   ]
  },
  {
   "cell_type": "markdown",
   "metadata": {},
   "source": [
    "<table width=\"100%\">\n",
    "    <tr>\n",
    "        <td><img src=\"images/dotproduct.png\"/></td>\n",
    "        <td><img src=\"images/outerProduct.png\"></td>\n",
    "        <td><img src=\"images/ElementwiseProduct.png\"></td>\n",
    "    </tr>\n",
    "</table>    "
   ]
  },
  {
   "cell_type": "markdown",
   "metadata": {},
   "source": [
    "<p style=\"font-family:'Avenir Next';\"><b style=\"color:red;\">2d</b> Reshaping\n",
    "</p>"
   ]
  },
  {
   "cell_type": "code",
   "execution_count": 115,
   "metadata": {},
   "outputs": [
    {
     "name": "stdout",
     "output_type": "stream",
     "text": [
      "---------------------------------------- \n",
      "\n",
      "Reshape the data from 1D to 2D; and from 1D to 3D\n",
      "[['A' 'B' 'C']\n",
      " ['D' 'E' 'F']\n",
      " ['G' 'H' 'I']]\n",
      "---------------------------------------- \n",
      "\n",
      "Reshape the data from 1D to 3D\n",
      "[[[1 2 3]\n",
      "  [4 5 6]\n",
      "  [7 8 9]]]\n"
     ]
    }
   ],
   "source": [
    "# RESHAPING\n",
    "print(\"-\"*40,\"\\n\")\n",
    "print(\"Reshape the data from 1D to 2D; and from 1D to 3D\")\n",
    "testarr = np.array(['A','B','C','D','E','F','G','H','I'])\n",
    "newtestarr = testarr.reshape(3, 3)\n",
    "print(newtestarr)\n",
    "\n",
    "print(\"-\"*40,\"\\n\")\n",
    "print(\"Reshape the data from 1D to 3D\")\n",
    "testarr = np.array([1, 2, 3, 4, 5, 6, 7, 8, 9])\n",
    "newtestarr = testarr.reshape(1, 3, 3)\n",
    "\n",
    "print(newtestarr)"
   ]
  },
  {
   "cell_type": "markdown",
   "metadata": {},
   "source": [
    "<hr />\n",
    "<h2 style=\"background-color: #003262; color:white; border-radius: 4px; padding: 8px;\">Numpy Array Creation Recap</h2>\n",
    "<ul><li>Make 1, 2, or higher-dimensional arrays.</li>\n",
    "    <li>Reshape</li>\n",
    "    <li>Boolean Masks</li>\n",
    "</ul>"
   ]
  },
  {
   "cell_type": "markdown",
   "metadata": {},
   "source": [
    "<img style=\"width:100%\" src=\"images/NumPyArray1.jpeg\">"
   ]
  },
  {
   "cell_type": "markdown",
   "metadata": {},
   "source": [
    "<hr />\n",
    "<p style=\"color:red;font-family:Baskerville;font-size:18px;padding:10px;\"><i>Recap of other main nympy functions</i></p>\n",
    "<ol style=\"line-height: 2em; font-family:'Avenir Next';\">\n",
    "\t<li><b>slicing</b> and :  print([1:2])</li>\n",
    "\t<li><b>multiplication</b>: using two arrays, multiply them.</li>\n",
    "    <li>Finding some data: <b>where</b> to find a value, e.g., np.where(myarray == 9) or np.where(myarray // 3 == 3)</li>\n",
    "    <li><b>searchsorted</b> to insert a value in its right ordered place, like inserting \"b\" after \"a\" and \"c\" (e.g., np.searchsorted(alpha_array, 'b') to see what its index is</li>\n",
    "\t<li><b>arange()</b> with start, stop, step syntax</li>\n",
    "\t<li><b>zeros()</b> and <code>ones()</code>; <code>linspace</code>, an array full of 0s: <code>np.zeros(5)</code> <code>np.zeros( (4,10) )</code>.  linspace creates 1-D sapce of values from start, stop, number_to_create, e.g., <code>linspace(0,1,50)</code></li>\n",
    "\t<li><b>broadcasting</b> is a way to set a range of values to something.  Here set the data in an arry from 1-5 to be value of 5: <code>a[1:5] = 100</code>\n",
    "\t<li>eye() - an identity matrix created with a single # for the size</li>\n",
    "\t<li><b>dot product</b></li>\n",
    "\t<li><b>sum()</b> items in array</li>\n",
    "\t<li>mix in lambda functions ...<br />\n",
    "\t<pre>from functools import reduce\n",
    "\ta = [4, 10, 15]\n",
    "\tsum = reduce(lambda x, y: x + 1, a)\n",
    "\tprint(sum)\n",
    "\t</pre>\n",
    "\t</li>\n",
    "\t<li><b>mean</b></li>\n",
    "\t<li><b>exponent</b></li>\n",
    "\t<li><b>flatten</b> reduces the array to a single entity</li>\n",
    "\t<li><b>sort</b></li>\n",
    "\t<li><b>randomize an array</b> random.rand(0,3)<br />\n",
    "\tThere are variations random.randn() for normal distribution around 0 in single or 2d; random.randint().</li>\n",
    "\t<li><b>min(), max(), abs()</b> for values; <b>argmin()</b> and <b>argmax()</b> for index of min/max values: <code>a = np.random.randint(0,10,3)</code>  and find the location of the lowest value with a.arrmin()\n",
    "\t<li><b>sin(), cos()</b></li>\n",
    "\t<li><b>conditional</b>\n",
    "    <li>bitwise &amp; and and bitwise or |</li>\n",
    "</ol>\n",
    "<p>Also Built-in are <i>distributions</i> (normal, binomial, poisson, uniform, logistic, multinominla, exponential, chi square, rayleigh, parento, and zipf</p>\n",
    " <hr />"
   ]
  },
  {
   "cell_type": "markdown",
   "metadata": {},
   "source": [
    "<hr />\n",
    "<p style=\"padding:10px; border-radius:5px; background-color:#3B7EA1; color:white; font-size:22px;\"><i>Examples:</i> to integrate many techniques we&rsquo;ve learned so far.</p>\n",
    "<p><img src=\"images/hands-on.png\" style=\"float:left;width:75px;\">\n",
    "<ul style=\"font-family:'Avenir Next';\">\n",
    "    <li>Slicing &amp; Extracting with Numpy</li>\n",
    "    <li>Dot Product &amp; Runtime</li>\n",
    "    <li>Learning tools for exploration &amp; analysis: starting to integrate visualizations (later this term)</li>\n",
    "    <li>Mean squares</li>\n",
    "    <li>Demo stats package, running with 100,000,000 data: to suggest when you create your own libraries</li>\n",
    "    <li>Rational numbers: overwriting magic methods for object comparison</li>\n",
    "</ul>\n",
    "</p>\n",
    "<p>Or proceed directly to the breakout rooms.</p>"
   ]
  },
  {
   "cell_type": "markdown",
   "metadata": {},
   "source": [
    "<hr />\n",
    "<p style=\"font-family:'Avenir Next'; color:red;\">Example: Slicing and axes in extracting data</p>\n",
    "    <p style=\"font-family:'Avenir Next';\">Both important ideas to practice.</p>"
   ]
  },
  {
   "cell_type": "code",
   "execution_count": 116,
   "metadata": {},
   "outputs": [
    {
     "name": "stdout",
     "output_type": "stream",
     "text": [
      "[[1 2 3 4]\n",
      " [4 3 2 1]\n",
      " [5 2 8 4]\n",
      " [4 1 7 9]]\n",
      "\n",
      ": column averages\n",
      "[3.5 2.  5.  4.5]\n",
      "\n",
      ": row averages\n",
      "[2.5  2.5  4.75 5.25]\n",
      "\n",
      ": Slice out a single column for averaging\n",
      "[3 2 8 7]\n",
      "5.0\n",
      "\n",
      ": first row:  [1 2 3 4]\n",
      "\n",
      ": single datum:  1\n"
     ]
    }
   ],
   "source": [
    "import numpy as np\n",
    "\"\"\" given this multidimensional array, let's get the mean \"\"\"\n",
    "testarray = np.array([[1,2,3,4],[4,3,2,1],[5,2,8,4],[4,1,7,9]])\n",
    "print(testarray)\n",
    "\n",
    "# to get the average by columns, use axis = 0\n",
    "print(\"\\n: column averages\")\n",
    "print(testarray.mean(axis = 0))\n",
    "\n",
    "# to get average by rows, use axis = 1\n",
    "print(\"\\n: row averages\")\n",
    "print(testarray.mean(axis = 1))\n",
    "\n",
    "# now let's extract a single column byindexing it ... \n",
    "# to extract column 2:\n",
    "print(\"\\n: Slice out a single column for averaging\")\n",
    "slice = testarray[:,2]\n",
    "print(slice)\n",
    "print(np.mean(slice))\n",
    "\n",
    "# slice out the first row of data\n",
    "print(\"\\n: first row: \", testarray[0,:])\n",
    "\n",
    "# slide out a single datum\n",
    "print(\"\\n: single datum: \", testarray[0,0])"
   ]
  },
  {
   "cell_type": "markdown",
   "metadata": {},
   "source": [
    "<hr />\n",
    "<p style=\"font-family:'Avenir Next'; color:red;\">Dot Product Example</p>\n",
    "<p style=\"font-family:'Avenir Next';\">Compare the run-time speeds</p>"
   ]
  },
  {
   "cell_type": "code",
   "execution_count": 117,
   "metadata": {},
   "outputs": [
    {
     "name": "stdout",
     "output_type": "stream",
     "text": [
      "dot_product = 833323333350000.0\n",
      "Computation time = 25.148000000001502ms\n",
      "\n",
      "n_dot_product = 833323333350000\n",
      "Computation time = 0.22699999999531428ms\n"
     ]
    }
   ],
   "source": [
    "# Dot product\n",
    "import time\n",
    "import numpy\n",
    "import array\n",
    "\n",
    "# 8 bytes size int\n",
    "a = array.array('q')\n",
    "for i in range(100000):\n",
    "\ta.append(i);\n",
    "\n",
    "b = array.array('q')\n",
    "for i in range(100000, 200000):\n",
    "\tb.append(i)\n",
    "\n",
    "# classic dot product of vectors implementation\n",
    "tic = time.process_time()\n",
    "dot = 0.0;\n",
    "\n",
    "for i in range(len(a)):\n",
    "\tdot += a[i] * b[i]\n",
    "\n",
    "toc = time.process_time()\n",
    "\n",
    "print(\"dot_product = \"+ str(dot));\n",
    "print(\"Computation time = \" + str(1000*(toc - tic )) + \"ms\")\n",
    "\n",
    "\n",
    "n_tic = time.process_time()\n",
    "n_dot_product = numpy.dot(a, b)\n",
    "n_toc = time.process_time()\n",
    "\n",
    "print(\"\\nn_dot_product = \"+str(n_dot_product))\n",
    "print(\"Computation time = \"+str(1000*(n_toc - n_tic ))+\"ms\")\n",
    "\n"
   ]
  },
  {
   "cell_type": "markdown",
   "metadata": {},
   "source": [
    "<hr />\n",
    "<p style=\"font-family:'Avenir Next'; color:red;\">Example: learning tools for analysis and exploration:</p>\n",
    "<ol>\n",
    "    <li>Aa good guide to how to think about integrating this all into your work</li>\n",
    "    <li>Import the libraries: python first, then 3rd party (like pandas), then our own libraries</li>\n",
    "    <li>Get your data [should use try/except block]; by file, by SQL connector, by web scraping, through API, etc.</li>\n",
    "    <li>What stat or analysis or exploration?</li>\n",
    "    <li>Capturing the results</li>\n",
    "     <li>Plot the results - both to learn about the data and for later analysis of the appropriately-cleaned data</li>\n",
    "</ol>"
   ]
  },
  {
   "cell_type": "code",
   "execution_count": 120,
   "metadata": {},
   "outputs": [
    {
     "data": {
      "image/png": "[encoded data removed]",
      "text/plain": [
       "<Figure size 432x288 with 1 Axes>"
      ]
     },
     "metadata": {
      "needs_background": "light"
     },
     "output_type": "display_data"
    },
    {
     "name": "stdout",
     "output_type": "stream",
     "text": [
      "    jones  smith\n",
      "0      39     39\n",
      "1      10     99\n",
      "2      29     29\n",
      "3      20     21\n",
      "4      29     30\n",
      "5      40     50\n",
      "6      42     42\n",
      "7      44     49\n",
      "8      93     29\n",
      "9      19     39\n",
      "10     91     93\n",
      "11     89     80\n",
      "12     88     74\n",
      "13     74     20\n",
      "14     30     21\n",
      "\n",
      "All done.\n",
      "––––––––––––––––––––––––––––––––––––––––––––––––––––––––––––\n"
     ]
    }
   ],
   "source": [
    "import numpy as np\n",
    "import matplotlib.pyplot as plt\n",
    "import pandas as pd\n",
    "from sklearn.linear_model import LinearRegression\n",
    "\n",
    "try:\n",
    "    dataset = pd.read_csv('fake_data.csv')\n",
    "except FileNotFoundException as e:\n",
    "    print(f\"Sorry: {e}\")\n",
    "else:\n",
    "    X = dataset[[\"jones\"]]\n",
    "    y = dataset[[\"smith\"]]\n",
    "\n",
    "    regressor = LinearRegression()\n",
    "    regressor.fit(X, y)\n",
    "\n",
    "    y_pred = regressor.predict(X)\n",
    "\n",
    "    # notice that colors depend on the library; but most support RGB and some named colors\n",
    "    plt.scatter(X, y, color = '#00Fa2f')\n",
    "    #plt.plot(X, regressor.predict(X), color = '#ff0011')\n",
    "    #plt.plot(X, regressor.predict(X), color = 'orange')\n",
    "    #plt.plot(X, regressor.predict(X), color = 'olive')\n",
    "    #plt.plot(X, regressor.predict(X), color = 'tomato')\n",
    "    plt.plot(X, regressor.predict(X), color = '#6A0DAD')\n",
    "\n",
    "    plt.title('Jones vs Smith')\n",
    "    plt.xlabel('Jones')\n",
    "    plt.ylabel('Smith')\n",
    "    plt.show()\n",
    "    \n",
    "    print(dataset)\n",
    "finally:\n",
    "    print(\"\\nAll done.\")\n",
    "    \n",
    "print(\"–\"*60)\n"
   ]
  },
  {
   "cell_type": "markdown",
   "metadata": {},
   "source": [
    "<hr />\n",
    "<p style=\"font-family:'Avenir Next'; color:red;\">Example: Mean Square Error - bridge to other libraries, such scikit-learn, pandas, others...</p>"
   ]
  },
  {
   "cell_type": "code",
   "execution_count": 88,
   "metadata": {},
   "outputs": [
    {
     "name": "stdout",
     "output_type": "stream",
     "text": [
      "    jones\n",
      "0      39\n",
      "1      10\n",
      "2      29\n",
      "3      20\n",
      "4      29\n",
      "5      40\n",
      "6      42\n",
      "7      44\n",
      "8      93\n",
      "9      19\n",
      "10     91\n",
      "11     89\n",
      "12     88\n",
      "13     74\n",
      "14     30\n",
      "<class 'list'>\n",
      "1490.5523809523809\n"
     ]
    }
   ],
   "source": [
    "#Mean Square Error can be done with scikit-learn, pandas, numpy...\n",
    "print(X)\n",
    "orig_values = [X]\n",
    "print(type(orig_values))\n",
    "# gonna get some crazy values!\n",
    "pred_values = [37,11,29,20,28,25,35,40,80,19,81,87,75,29]\n",
    "\n",
    "mean_square_error = np.square(np.subtract(orig_values, pred_values)).mean()\n",
    "print(mean_square_error)"
   ]
  },
  {
   "cell_type": "markdown",
   "metadata": {},
   "source": [
    "<hr />\n",
    "See also numpy's bitwise and &amp; and or |\n",
    "<a href=\"https://numpy.org/doc/stable/reference/generated/numpy.bitwise_and.html\" target=\"new\">Docs</a>"
   ]
  },
  {
   "cell_type": "markdown",
   "metadata": {},
   "source": [
    "\n",
    "<hr />\n",
    "<p style=\"padding:10px; border-radius:5px; background-color:#3B7EA1; color:white; font-size:16px;\">Example: a long <u>optional</u> example. We&rsquo;re working up from basic functionality to larger data sets: Below box demonstrates calculating statistics for 100,000,000 observations.</p>\n",
    "<p style=\"font-family:'Avenir Next';\">This takes about 86-100 seconds to run; there are even other python libraries to increase the speed, measured in the time.process_time() method.</p>\n",
    "<p style=\"font-family:'Avenir Next';\">Outputs:<br />\n",
    "<pre>Number of Observations: 100000000\n",
    "Arthmetic Mean: 49999999.5\n",
    "Median: 49999999.5\n",
    "Sample Standard Deviation: 28867513.60382066\n",
    "Program Runtime: 117.0 seconds\n",
    "</pre>"
   ]
  },
  {
   "cell_type": "code",
   "execution_count": 104,
   "metadata": {},
   "outputs": [
    {
     "name": "stdout",
     "output_type": "stream",
     "text": [
      "Number of Observations: 100000000 \n",
      "Arithmetic Mean: 49999999.5 \n",
      "Median: 49999999.5 \n",
      "Sample Standard Deviation: 28867513.60382066 \n",
      "Program Runtime: 48.5 seconds\n"
     ]
    }
   ],
   "source": [
    "import sys\n",
    "import traceback\n",
    "import time\n",
    "from math import sqrt\n",
    "import numpy as np\n",
    "  \n",
    "class SummaryStatistics(object): \n",
    "    \"\"\"\n",
    "    calculate number of observations, arithmetic mean, median\n",
    "    and sample standard deviation using standard procedures\n",
    "    \"\"\"\n",
    " \n",
    "    def __init__(self):\n",
    "        pass\n",
    " \n",
    "    def calculate_number_observation(self, one_dimensional_array):        \n",
    "        \"\"\"\n",
    "        calculate  number of observations\n",
    "        :param one_dimensional_array: numpy one dimensional array\n",
    "        :return number of observations value\n",
    "        \"\"\"\n",
    " \n",
    "        number_observation = 0\n",
    "        try:\n",
    "            number_observation = one_dimensional_array.size    \n",
    "        except Exception:\n",
    "            self.print_exception_message()\n",
    "        return number_observation\n",
    " \n",
    " \n",
    "    def calculate_arithmetic_mean(self, one_dimensional_array, number_observation):    \n",
    "        \"\"\"\n",
    "        calculate arithmetic mean\n",
    "        :param one_dimensional_array: numpy one dimensional array\n",
    "        :param number_observation: number of observations\n",
    "        :return arithmetic mean value\n",
    "        \"\"\"\n",
    "        arithmetic_mean = 0.0\n",
    "        try:\n",
    "            sum_result = 0.0\n",
    "            for i in range(number_observation):\n",
    "                sum_result += one_dimensional_array[i]    \n",
    "                arithmetic_mean = sum_result / number_observation\n",
    "        except Exception:\n",
    "            self.print_exception_message()\n",
    "        return arithmetic_mean\n",
    "\n",
    "    def calculate_median(self, one_dimensional_array, number_observation):       \n",
    "        \"\"\"\n",
    "        calculate  median\n",
    "        :param one_dimensional_array: numpy one dimensional array\n",
    "        :param number_observation: number of observations\n",
    "        :return median value\n",
    "        \"\"\"\n",
    "        median = 0.0\n",
    "        try:\n",
    "            one_dimensional_array.sort()\n",
    "            half_position = number_observation // 2\n",
    "            if not number_observation % 2:\n",
    "                median = (one_dimensional_array[half_position - 1] + one_dimensional_array[half_position]) / 2.0\n",
    "            else:\n",
    "                median = one_dimensional_array[half_position]        \n",
    "        except Exception:\n",
    "            self.print_exception_message() \n",
    "        return median\n",
    " \n",
    "\n",
    "    def calculate_sample_standard_deviation(self, one_dimensional_array, number_observation, arithmetic_mean):    \n",
    "        \"\"\"\n",
    "        calculate sample standard deviation\n",
    "        :param one_dimensional_array: numpy one dimensional array\n",
    "        :param number_observation:  number of observations\n",
    "        :param arithmetic_mean: arithmetic mean value\n",
    "        :return sample standard deviation value\n",
    "        \"\"\"\n",
    "        sample_standard_deviation = 0.0\n",
    "        try:\n",
    "            sum_result = 0.0\n",
    "            for i in range(number_observation):                    \n",
    "                sum_result += pow((one_dimensional_array[i] - arithmetic_mean), 2)             \n",
    "            sample_variance = sum_result / (number_observation - 1) \n",
    "            sample_standard_deviation = sqrt(sample_variance)        \n",
    "        except Exception:\n",
    "             self.print_exception_message()\n",
    "        return sample_standard_deviation\n",
    "\n",
    "    def print_exception_message(self, message_orientation = \"horizontal\"):\n",
    "        \"\"\"\n",
    "        print full exception message\n",
    "        :param message_orientation: horizontal or vertical\n",
    "        :return none\n",
    "        \"\"\"\n",
    "        try:\n",
    "            exc_type, exc_value, exc_tb = sys.exc_info()             \n",
    "            file_name, line_number, procedure_name, line_code = traceback.extract_tb(exc_tb)[-1]        \n",
    "            time_stamp = \" [Time Stamp]: \" + str(time.strftime(\"%Y-%m-%d %I:%M:%S %p\"))\n",
    "            file_name = \" [File Name]: \" + str(file_name)\n",
    "            procedure_name = \" [Procedure Name]: \" + str(procedure_name)\n",
    "            error_message = \" [Error Message]: \" + str(exc_value)        \n",
    "            error_type = \" [Error Type]: \" + str(exc_type)                 \n",
    "            line_number = \" [Line Number]: \" + str(line_number)\n",
    "            line_code = \" [Line Code]: \" + str(line_code)\n",
    "            if (message_orientation == \"horizontal\"):\n",
    "                print( \"An error occurred:{};{};{};{};{};{};{}\".format(time_stamp, file_name, procedure_name, error_message, error_type, line_number, line_code))\n",
    "            elif (message_orientation == \"vertical\"):\n",
    "                print( \"An error occurred:\\n{}\\n{}\\n{}\\n{}\\n{}\\n{}\\n{}\".format(time_stamp, file_name, procedure_name, error_message, error_type, line_number, line_code))\n",
    "            else: \n",
    "                pass                     \n",
    "        except Exception:\n",
    "                pass\n",
    "\n",
    "\n",
    "# --------------------------------------------------\n",
    " \n",
    "def main(one_dimensional_array):\n",
    "    #create summary statistics class object\n",
    "    summary_statistics = SummaryStatistics()\n",
    " \n",
    "    # calculate number of observation\n",
    "    number_observation = summary_statistics.calculate_number_observation(one_dimensional_array)\n",
    "    print(\"Number of Observations: {} \".format(number_observation))\n",
    " \n",
    "    # calculate arithmetic mean\n",
    "    arithmetic_mean = summary_statistics.calculate_arithmetic_mean(one_dimensional_array, number_observation)\n",
    "    print(\"Arithmetic Mean: {} \".format(arithmetic_mean))\n",
    " \n",
    "    #calculatte median\n",
    "    median = summary_statistics.calculate_median(one_dimensional_array, number_observation)\n",
    "    print(\"Median: {} \".format(median))\n",
    "    \n",
    "    # calculate sample standard deviation\n",
    "    sample_standard_deviation = summary_statistics.calculate_sample_standard_deviation(one_dimensional_array, number_observation, arithmetic_mean)\n",
    "    print(\"Sample Standard Deviation: {} \".format(sample_standard_deviation))\n",
    " \n",
    " \n",
    "if __name__ == '__main__':\n",
    "    start_time = time.process_time()  \n",
    "    one_dimensional_array = np.arange(100000000, dtype=np.float64)        \n",
    "    main(one_dimensional_array)\n",
    "    end_time = time.process_time()\n",
    "    print(\"Program Runtime: {} seconds\".format(round(end_time - start_time, 1)))"
   ]
  },
  {
   "cell_type": "markdown",
   "metadata": {},
   "source": [
    "<hr />\n",
    "<p style=\"font-family:'Avenir Next'; color:red;\">Example: rational number</p>\n",
    "<p style=\"font-family:'Avenir Next';\">comparison program to show magic methods, __str__ and __repr__</p>"
   ]
  },
  {
   "cell_type": "code",
   "execution_count": 82,
   "metadata": {},
   "outputs": [
    {
     "name": "stdout",
     "output_type": "stream",
     "text": [
      "12/10\n"
     ]
    }
   ],
   "source": [
    "class RationalNumber:\n",
    "    \"\"\"\n",
    "    Rational Numbers with support for arthmetic operations.\n",
    "        >>> a = RationalNumber(1, 2)\n",
    "        >>> b = RationalNumber(1, 3)\n",
    "        >>> a + b\n",
    "        5/6\n",
    "        >>> a - b\n",
    "        1/6\n",
    "        >>> a * b\n",
    "        1/6\n",
    "        >>> a/b\n",
    "        3/2\n",
    "    \"\"\"\n",
    "    def __init__(self, numerator, denominator=1):\n",
    "        self.n = numerator\n",
    "        self.d = denominator\n",
    "\n",
    "    def __add__(self, other):\n",
    "        if not isinstance(other, RationalNumber):\n",
    "            other = RationalNumber(other)\n",
    "\n",
    "        n = self.n * other.d + self.d * other.n\n",
    "        d = self.d * other.d\n",
    "        return RationalNumber(n, d)\n",
    "\n",
    "    def __sub__(self, other):\n",
    "        if not isinstance(other, RationalNumber):\n",
    "            other = RationalNumber(other)\n",
    "\n",
    "        n1, d1 = self.n, self.d\n",
    "        n2, d2 = other.n, other.d\n",
    "        return RationalNumber(n1*d2 - n2*d1, d1*d2)\n",
    "\n",
    "    def __mul__(self, other):\n",
    "        if not isinstance(other, RationalNumber):\n",
    "            other = RationalNumber(other)\n",
    "\n",
    "        n1, d1 = self.n, self.d\n",
    "        n2, d2 = other.n, other.d\n",
    "        return RationalNumber(n1*n2, d1*d2)\n",
    "\n",
    "    def __div__(self, other):\n",
    "        if not isinstance(other, RationalNumber):\n",
    "            other = RationalNumber(other)\n",
    "\n",
    "        n1, d1 = self.n, self.d\n",
    "        n2, d2 = other.n, other.d\n",
    "        return RationalNumber(n1*d2, d1*n2)\n",
    "\n",
    "    def __str__(self):\n",
    "        return \"%s/%s\" % (self.n, self.d)\n",
    "\n",
    "    __repr__ = __str__\n",
    "    \n",
    "    \n",
    "a = RationalNumber(3, 2)\n",
    "b = RationalNumber(4, 5)\n",
    "\n",
    "print(a * b)"
   ]
  },
  {
   "cell_type": "markdown",
   "metadata": {},
   "source": [
    "<hr />\n",
    "<h2 style=\"background-color: #003262; color:white; border-radius: 4px; padding: 8px;\">\n",
    "Activity</h2>\n",
    "<ol>\n",
    "    <li><a href=\"activity/week_09_activity.ipynb\" target=\"new\">Activity</a></li>\n",
    "    <li><a href=\"activity/week_09_activity_solution.ipynb\" target=\"new\">Solution Key</a></li></ol>"
   ]
  }
 ],
 "metadata": {
  "kernelspec": {
   "display_name": "Python 3 (ipykernel)",
   "language": "python",
   "name": "python3"
  },
  "language_info": {
   "codemirror_mode": {
    "name": "ipython",
    "version": 3
   },
   "file_extension": ".py",
   "mimetype": "text/x-python",
   "name": "python",
   "nbconvert_exporter": "python",
   "pygments_lexer": "ipython3",
   "version": "3.11.4"
  }
 },
 "nbformat": 4,
 "nbformat_minor": 4
}
