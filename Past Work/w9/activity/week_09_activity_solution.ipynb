{
 "cells": [
  {
   "cell_type": "markdown",
   "id": "d69373de",
   "metadata": {},
   "source": [
    "## Week 09 Activity\n",
    "\n",
    "For this activity, we will work with NumPy. For each question below, use NumPy functionality to execute the logic of your answer. <br> \n",
    "(**Do not use ```For``` loops!**)"
   ]
  },
  {
   "cell_type": "markdown",
   "id": "21daaa56",
   "metadata": {},
   "source": [
    "#### Generating Random Data and Filtering That Data\n",
    "\n",
    "Please run the cell below to set your random seed. (This makes the 'randomness' of the array the same for everyone)"
   ]
  },
  {
   "cell_type": "code",
   "execution_count": 1,
   "id": "9afa7300",
   "metadata": {
    "scrolled": true
   },
   "outputs": [
    {
     "data": {
      "text/plain": [
       "(1000,)"
      ]
     },
     "execution_count": 1,
     "metadata": {},
     "output_type": "execute_result"
    }
   ],
   "source": [
    "### Be sure to run this code first!\n",
    "\n",
    "import numpy as np\n",
    "np.random.seed(25)\n",
    "ar = np.random.randn(1000)\n",
    "ar = ar * 100\n",
    "ar = ar.astype('int8')\n",
    "ar.shape"
   ]
  },
  {
   "cell_type": "markdown",
   "id": "79c0de15",
   "metadata": {},
   "source": [
    "**1)** From the above cell you can see that the shape of our array is (1000,) which means that the array is one-dimensional with a size of 1000. <br>\n",
    "\n",
    "For the first part - **reshape** the array to be 200 rows by 5 columns. In numpy, with an array in two-demensions the vertical indexes are called the 'rows' and the horizontal indexes are called the 'columns'.  So for this part make our array `ar` into an array with 200 rows by 5 columns and save this back to the array `ar`."
   ]
  },
  {
   "cell_type": "code",
   "execution_count": 2,
   "id": "68d9747f",
   "metadata": {},
   "outputs": [],
   "source": [
    "ar = ar.reshape((200,5))"
   ]
  },
  {
   "cell_type": "code",
   "execution_count": 3,
   "id": "f35011ce",
   "metadata": {},
   "outputs": [
    {
     "data": {
      "text/plain": [
       "(200, 5)"
      ]
     },
     "execution_count": 3,
     "metadata": {},
     "output_type": "execute_result"
    }
   ],
   "source": [
    "ar.shape"
   ]
  },
  {
   "cell_type": "markdown",
   "id": "c27e35d5",
   "metadata": {},
   "source": [
    "1 Your code in the above cell should print out `(200, 5)`"
   ]
  },
  {
   "cell_type": "markdown",
   "id": "566cb786",
   "metadata": {},
   "source": [
    "***\n",
    "**2a)** Now take the matrix `ar`, we want to get the maximum values from the matrix, column wise. Be sure to remember how many total values you should be outputting (one for every column).\n",
    "\n",
    "For example: if my_matrix is:\n",
    "\n",
    "```\n",
    "4 1 5\n",
    "5 6 7\n",
    "4 5 6\n",
    "```\n",
    "\n",
    "\n",
    "The returned value should be:\n",
    "\n",
    "```\n",
    "([5,7,6])\n",
    "```"
   ]
  },
  {
   "cell_type": "code",
   "execution_count": 4,
   "id": "5cfb5bd8",
   "metadata": {},
   "outputs": [
    {
     "data": {
      "text/plain": [
       "array([123, 125, 126, 126, 127], dtype=int8)"
      ]
     },
     "execution_count": 4,
     "metadata": {},
     "output_type": "execute_result"
    }
   ],
   "source": [
    "ar.max(axis=0)"
   ]
  },
  {
   "cell_type": "markdown",
   "id": "5a762f06",
   "metadata": {},
   "source": [
    "2a should return something like `array([123, 125, 126, 126, 127], dtype=int8)`"
   ]
  },
  {
   "cell_type": "markdown",
   "id": "fe082697",
   "metadata": {},
   "source": [
    "**2b)** How would you return the minimum values, row-wise?"
   ]
  },
  {
   "cell_type": "code",
   "execution_count": 5,
   "id": "c03b3575",
   "metadata": {},
   "outputs": [
    {
     "data": {
      "text/plain": [
       "array([ -95,  -73,  -92, -124,  -27,  -58,  -96,  -63,  -70,  -56,  -94,\n",
       "        -54, -116,  -62,  -34,  -96,  -85,  -78, -114,  -91,   43, -114,\n",
       "        -60,  -65, -126,  -30,  -77, -115, -109,  -88, -114,  -85,  -90,\n",
       "       -126,  -52,  -84, -128,  -64, -126, -126, -121,  -70,  -43,  -74,\n",
       "       -115, -115, -118,  -92,  -96, -118,  -88,  -37, -126, -111,  -79,\n",
       "        -83,  -57, -125, -110,  -64, -124,   31, -116,  -44, -109,  -87,\n",
       "        -60, -120, -114,  -54, -110,  -37,  -61,  -50,  -65,  -70,  -12,\n",
       "        -18,  -20,  -77, -104,  -65, -117, -110,  -97, -109, -127,  -51,\n",
       "       -127, -117,  -39, -121, -117,  -46,  -31, -125,  -77, -112,  -97,\n",
       "        -92,  -77,    0,   -5,  -36,  -41,   48,  -50,  -57,  -39,  -91,\n",
       "        -41,  -52, -122,  -30,  -52,  -78,  -91,  -40,  -83,  -30, -106,\n",
       "       -112,  -93, -117,  -29,  -97, -112, -127, -110,  -97,  -21,  -41,\n",
       "       -123,  -70, -118,  -86,   -7,  -29,  -49,  -51, -117, -123,  -51,\n",
       "        -87,  -96,  -78,    6, -111,  -52, -117,  -89,  -57,  -44, -117,\n",
       "        -96, -125, -118, -120, -112,  -96, -115,  -59,  -90,  -90,  -60,\n",
       "        -95,  -95,  -21, -107,  -81,  -97,  -61, -122, -110,  -20,  -46,\n",
       "       -114, -124, -102, -124, -116,  -57,  -71,   36,  -97, -120, -117,\n",
       "       -115, -100,  -91, -118, -127, -126,  -64,  -97,   -6,  -65,  -71,\n",
       "        -56,   17], dtype=int8)"
      ]
     },
     "execution_count": 5,
     "metadata": {},
     "output_type": "execute_result"
    }
   ],
   "source": [
    "ar.min(axis=1)"
   ]
  },
  {
   "cell_type": "markdown",
   "id": "446adda2",
   "metadata": {},
   "source": [
    "***\n",
    "**3)** Write a function named ```less_than_mean``` that returns the total **number** of values in the `ar` matrix that are less than the mean of all values in the matrix. This should be a single number."
   ]
  },
  {
   "cell_type": "code",
   "execution_count": 6,
   "id": "0c13917a",
   "metadata": {},
   "outputs": [
    {
     "data": {
      "text/plain": [
       "494"
      ]
     },
     "execution_count": 6,
     "metadata": {},
     "output_type": "execute_result"
    }
   ],
   "source": [
    "def less_than_mean(my_matrix):\n",
    "    return (my_matrix < my_matrix.mean()).sum()\n",
    "    \n",
    "less_than_mean(ar)"
   ]
  },
  {
   "cell_type": "markdown",
   "id": "5ec8cb77",
   "metadata": {},
   "source": [
    "3 should return `494`"
   ]
  },
  {
   "cell_type": "markdown",
   "id": "5459ea85",
   "metadata": {},
   "source": [
    "***\n",
    "**4)** Write a function called ```max_position``` that returns the position (as a tuple) of the max value in the passed matrix. \n",
    "\n",
    "For example: if ```my_matrix``` is:\n",
    "```\n",
    "4 1 5\n",
    "5 6 7\n",
    "4 5 6\n",
    "```\n",
    "The returned value should be:\n",
    "```\n",
    "(1, 2)\n",
    "```"
   ]
  },
  {
   "cell_type": "code",
   "execution_count": 7,
   "id": "e2fdd4ca",
   "metadata": {},
   "outputs": [
    {
     "data": {
      "text/plain": [
       "(199, 4)"
      ]
     },
     "execution_count": 7,
     "metadata": {},
     "output_type": "execute_result"
    }
   ],
   "source": [
    "def max_position(my_matrix):\n",
    "    return (tuple(map(int,((np.where(my_matrix == np.max(my_matrix)))))))\n",
    "\n",
    "max_position(ar)"
   ]
  },
  {
   "cell_type": "markdown",
   "id": "61a67fc6",
   "metadata": {},
   "source": [
    "4 should return `(199, 4)`"
   ]
  },
  {
   "cell_type": "markdown",
   "id": "ad9fd2ee",
   "metadata": {},
   "source": [
    "***\n",
    "**Optional Difficult Question**\n",
    "\n",
    "Write an expression that returns the sum of all the values of a boolean array indexed `ar` matrix. Use the boolean array index of the `ar` matrix by: \n",
    "- values greater than 100 -boolean or-\n",
    "- values less than 5 -boolean and- greater than or equal to -20\n",
    "\n",
    "Remember that you can use array slicing and the `&` and `|` operators"
   ]
  },
  {
   "cell_type": "code",
   "execution_count": 8,
   "id": "3aeed541",
   "metadata": {},
   "outputs": [
    {
     "data": {
      "text/plain": [
       "9044"
      ]
     },
     "execution_count": 8,
     "metadata": {},
     "output_type": "execute_result"
    }
   ],
   "source": [
    "def select_sum(my_matrix):\n",
    "    return my_matrix[ ((my_matrix > 100) | ((my_matrix < 5) & (my_matrix >= -20)))].sum()\n",
    "\n",
    "select_sum(ar)"
   ]
  },
  {
   "cell_type": "markdown",
   "id": "d1886868",
   "metadata": {},
   "source": [
    "Looking for the answer of: 9044"
   ]
  },
  {
   "cell_type": "code",
   "execution_count": null,
   "id": "d38b1e8e",
   "metadata": {},
   "outputs": [],
   "source": []
  }
 ],
 "metadata": {
  "kernelspec": {
   "display_name": "Python 3 (ipykernel)",
   "language": "python",
   "name": "python3"
  },
  "language_info": {
   "codemirror_mode": {
    "name": "ipython",
    "version": 3
   },
   "file_extension": ".py",
   "mimetype": "text/x-python",
   "name": "python",
   "nbconvert_exporter": "python",
   "pygments_lexer": "ipython3",
   "version": "3.10.0"
  }
 },
 "nbformat": 4,
 "nbformat_minor": 5
}
