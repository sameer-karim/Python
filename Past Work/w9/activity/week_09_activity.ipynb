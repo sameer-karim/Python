{
 "cells": [
  {
   "cell_type": "markdown",
   "id": "93d9743b",
   "metadata": {},
   "source": [
    "## Week 09 Activity\n",
    "\n",
    "For this activity, we will work with NumPy. For each question below, use NumPy functionality to execute the logic of your answer. <br> \n",
    "(**Do not use ```For``` loops!**)"
   ]
  },
  {
   "cell_type": "markdown",
   "id": "728bc34a",
   "metadata": {},
   "source": [
    "#### Generating Random Data and Filtering That Data\n",
    "\n",
    "Please run the cell below to set your random seed. (This makes the 'randomness' of the array the same for everyone)"
   ]
  },
  {
   "cell_type": "code",
   "execution_count": null,
   "id": "d2b78254",
   "metadata": {
    "scrolled": true
   },
   "outputs": [],
   "source": [
    "### Be sure to run this code first!\n",
    "\n",
    "import numpy as np\n",
    "np.random.seed(25)\n",
    "ar = np.random.randn(1000)\n",
    "ar = ar * 100\n",
    "ar = ar.astype('int8')\n",
    "ar.shape"
   ]
  },
  {
   "cell_type": "markdown",
   "id": "dfa9e170",
   "metadata": {},
   "source": [
    "**1)** From the above cell you can see that the shape of our array is (1000,) which means that the array is one-dimensional with a size of 1000. <br>\n",
    "\n",
    "For the first part - **reshape** the array to be 200 rows by 5 columns. In numpy, with an array in two-demensions the vertical indexes are called the 'rows' and the horizontal indexes are called the 'columns'.  So for this part make our array `ar` into an array with 200 rows by 5 columns and save this back to the array `ar`."
   ]
  },
  {
   "cell_type": "code",
   "execution_count": null,
   "id": "fa1a5b50",
   "metadata": {},
   "outputs": [],
   "source": []
  },
  {
   "cell_type": "code",
   "execution_count": null,
   "id": "fc48be5c",
   "metadata": {},
   "outputs": [],
   "source": [
    "ar.shape"
   ]
  },
  {
   "cell_type": "markdown",
   "id": "0372f6aa",
   "metadata": {},
   "source": [
    "1 Your code in the above cell should print out `(200, 5)`"
   ]
  },
  {
   "cell_type": "markdown",
   "id": "ebe33b8f",
   "metadata": {},
   "source": [
    "***\n",
    "**2a)** Now take the matrix `ar`, we want to get the maximum values from the matrix, column wise. Be sure to remember how many total values you should be outputting (one for every column).\n",
    "\n",
    "For example: if my_matrix is:\n",
    "\n",
    "```\n",
    "4 1 5\n",
    "5 6 7\n",
    "4 5 6\n",
    "```\n",
    "\n",
    "\n",
    "The returned value should be:\n",
    "\n",
    "```\n",
    "([5,7,6])\n",
    "```"
   ]
  },
  {
   "cell_type": "code",
   "execution_count": null,
   "id": "2c09db56",
   "metadata": {},
   "outputs": [],
   "source": []
  },
  {
   "cell_type": "markdown",
   "id": "bf7c7d19",
   "metadata": {},
   "source": [
    "2a should return something like `array([123, 125, 126, 126, 127], dtype=int8)`"
   ]
  },
  {
   "cell_type": "markdown",
   "id": "accc9e2e",
   "metadata": {},
   "source": [
    "**2b)** How would you return the minimum values, row-wise?"
   ]
  },
  {
   "cell_type": "code",
   "execution_count": null,
   "id": "351410fe",
   "metadata": {},
   "outputs": [],
   "source": []
  },
  {
   "cell_type": "markdown",
   "id": "12bc0c2f",
   "metadata": {},
   "source": [
    "***\n",
    "**3)** Write a function named ```less_than_mean``` that returns the total **number** of values in the `ar` matrix that are less than the mean of all values in the matrix. This should be a single number."
   ]
  },
  {
   "cell_type": "code",
   "execution_count": null,
   "id": "135791ec",
   "metadata": {},
   "outputs": [],
   "source": [
    "def less_than_mean(my_matrix):\n",
    "    # YOUR CODE HERE\n",
    "    \n",
    "less_than_mean(ar)"
   ]
  },
  {
   "cell_type": "markdown",
   "id": "5733aaa9",
   "metadata": {},
   "source": [
    "3 should return `494`"
   ]
  },
  {
   "cell_type": "markdown",
   "id": "febd95b2",
   "metadata": {},
   "source": [
    "***\n",
    "**4)** Write a function called ```max_position``` that returns the position (as a tuple) of the max value in the passed matrix. \n",
    "\n",
    "For example: if ```my_matrix``` is:\n",
    "```\n",
    "4 1 5\n",
    "5 6 7\n",
    "4 5 6\n",
    "```\n",
    "The returned value should be:\n",
    "```\n",
    "(1, 2)\n",
    "```"
   ]
  },
  {
   "cell_type": "code",
   "execution_count": null,
   "id": "87acc9af",
   "metadata": {},
   "outputs": [],
   "source": [
    "def max_position(my_matrix):\n",
    "    # YOUR CODE HERE\n",
    "\n",
    "max_position(ar)"
   ]
  },
  {
   "cell_type": "markdown",
   "id": "ce6a02f6",
   "metadata": {},
   "source": [
    "4 should return `(199, 4)`"
   ]
  },
  {
   "cell_type": "markdown",
   "id": "523fbdce",
   "metadata": {},
   "source": [
    "***\n",
    "**Optional Difficult Question**\n",
    "\n",
    "Write an expression that returns the sum of all the values of a boolean array indexed `ar` matrix. Use the boolean array index of the `ar` matrix by: \n",
    "- values greater than 100 -boolean or-\n",
    "- values less than 5 -boolean and- greater than or equal to -20\n",
    "\n",
    "Remember that you can use array slicing and the `&` and `|` operators"
   ]
  },
  {
   "cell_type": "code",
   "execution_count": null,
   "id": "b420923f",
   "metadata": {},
   "outputs": [],
   "source": []
  },
  {
   "cell_type": "markdown",
   "id": "41300ed8",
   "metadata": {},
   "source": [
    "Looking for the answer of: 9044"
   ]
  }
 ],
 "metadata": {
  "kernelspec": {
   "display_name": "Python 3 (ipykernel)",
   "language": "python",
   "name": "python3"
  },
  "language_info": {
   "codemirror_mode": {
    "name": "ipython",
    "version": 3
   },
   "file_extension": ".py",
   "mimetype": "text/x-python",
   "name": "python",
   "nbconvert_exporter": "python",
   "pygments_lexer": "ipython3",
   "version": "3.11.4"
  }
 },
 "nbformat": 4,
 "nbformat_minor": 5
}
