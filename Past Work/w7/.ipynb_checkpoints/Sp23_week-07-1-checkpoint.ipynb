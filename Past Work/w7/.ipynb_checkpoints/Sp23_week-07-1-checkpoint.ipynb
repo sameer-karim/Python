{
 "cells": [
  {
   "cell_type": "markdown",
   "metadata": {},
   "source": [
    "<hr />\n",
    "<h1 style=\"font-family: Baskerville; color: red; font-size: 24px; font-weight: normal; padding: 10px; line-height:30px;\">Topic 7: OOP in general and accessing Python&rsquo;s objects/variables.  <br />\n",
    "    Page 1 of 4.\n",
    "</h1>\n",
    "<p style=\"font-size:9px;\">\n",
    "    Reorganized Notebook for Week 7, Spring 2023; updated Feb 23, 2023 (added pix) <span style=\"color:white;\">&copy;2023 GB</span><br />\n",
    "</p>\n",
    "<img style=\"width: 100%;\" src=\"images/classdiagram1.png\" />\n",
    "<hr />"
   ]
  },
  {
   "cell_type": "markdown",
   "metadata": {},
   "source": [
    "<div style=\"background-color:beige; padding:10px;\">\n",
    "<h2 style=\"color:red;\">About this topic&rsquo;s notebooks.</h2>\n",
    "<p>This week&rsquso;s live session is divided into four notebooks, each emphasizing a point from the asynch that contextualizes and builds upon the lesson.\n",
    "<ol>\n",
    "\t<li>Page 1: OOP in general and accessing Python’s objects/variables\n",
    "\t\t<ul>\n",
    "\t\t\t<li>OOP and OOD</li>\n",
    "\t\t\t<li>Terms in OOP</li>\n",
    "\t\t\t<li>Abstraction</li>\n",
    "\t\t\t<li>Examples</li>\n",
    "\t\t\t<li>Bridge: __doc__ and our objects</li>\n",
    "\t\t\t<li>Bank Class example</li>\n",
    "\t\t\t<li>Project 1 notes</li>\n",
    "\t\t\t</ul>\n",
    "\t</li>\n",
    "\t<li>Page 2: <a href=\"Sp23_week-07-2.ipynb\" target=\"new\">__str__ and __repr__</a><ul>\n",
    "\t\t\t<li>__str__ and __repr__</li>\n",
    "\t\t\t<li>__str()__ and __repr()__</li>\n",
    "\t\t\t<li>Building on the Bank class</li>\n",
    "\t\t</ul>\n",
    "\t</li>\n",
    "\t<li>Page 3: <a href=\"Sp23_week-07-3.ipynb\" target=\"new\">OOP in \n",
    "\t\tgeneral and accessing Python’s objects/variables</a><ul>\n",
    "\t\t\t<li>dot operator to access variables</li>\n",
    "\t\t\t<li>protecting (hiding) variables from others</li>\n",
    "\t\t\t<li>get/set approach for accessing variables</li>\n",
    "\t\t\t<li>@ property decorators</li>\n",
    "\t\t\t</ul>\n",
    "\t</li>\n",
    "\t<li>\n",
    "\t\tPage 4: Appendix\n",
    "\t</li>\n",
    "</ol>\n",
    "</div>\n",
    "<hr />"
   ]
  },
  {
   "cell_type": "markdown",
   "metadata": {},
   "source": [
    "<p style=\"font-size: 22px; font-family: Baskerville; line-height: 24px; color:red;\"><i>About this week&rsquo;s topics:</i></p>\n",
    "<p style=\"font-size: 18px; line-height: 24px;\">The asynch (video) section of this week introduced a number of points about objects in general and python&rsquo;s in specific.  </p>\n",
    "    <blockquote>\n",
    "\t<ul>\n",
    "\t<li>objects: built into python and those we build ourselves</li>\n",
    "\t<li>their attributes</li>\n",
    "\t<li>methods</li>\n",
    "\t<li>defining a class</li>\n",
    "\t<li>constructing a class</li>\n",
    "\t<li>controlling access to attributes</li>\n",
    "\t<li>use of python's built-in &#95;&#95;str&#95;&#95; and &#95;&#95;repr&#95;&#95;   methods</li>\n",
    "\t</ul>\n",
    "</blockquote>\n",
    "<p style=\"font-size: 18px; line-height: 24px;\"> \n",
    "    The purpose of this live session is to emphasize how we integrate the concepts of OOD (design) and leverage Python&rsquo;s unique features in OOP (programing).</p>"
   ]
  },
  {
   "cell_type": "markdown",
   "metadata": {},
   "source": [
    "<hr />\n",
    "<p style=\"font-size: 18px; line-height: 24px;\">First, let's consider objects as abstractions. Objects are designed to overcome our thinking about code: they allow us to decompose <i>real-world things</i> (like planes, and bicycles, and financial records) into code.</p>\n",
    "<p style=\"font-size: 18px; line-height: 24px;\"> \n",
    "    Generally: why use objects and why not?</p>\n",
    "<blockquote>The benefits include creating code expressions of <ul><li>&ldquo;real-world objects&rdquo;</li>\n",
    "    <li>adaptability (share your code and build on stable classes), </li>\n",
    "    <li>security (data hiding and abstractions to keep others from our data), </li>\n",
    "    <li> more rapid code development (API idea);</li>\n",
    "    <li><i>On the other hand,</i> there can be a steep learning curve,\n",
    "    </li>\n",
    "    <li>code bloat,</li>\n",
    "    <li>a run-time cost,</li>\n",
    "    <li>and not suited for all kinds of problems or on-the-job needs</li></ul>\n",
    "</blockquote>\n",
    "<p style=\"font-size: 18px; line-height: 24px;\">Creating an object should be worth it: will you use it repeatedly? does it represent something in the real-world you can build upon for as a basis for similar things? can you identify (a) the <u>fundamental attributes</u> or properties of the object and (b) the <u>fundamental behaviors</u> or actions of this object?</p>\n",
    "<hr />\n",
    "<p style=\"font-size: 22px; font-family: Baskerville; line-height: 24px; color:red;\"><i>Terms used in OOP</i></p>\n",
    "<blockquote>\n",
    "    <ul>\n",
    "    <li><b>Abstraction</b>: identifying shared characteristics of our work (methods or procedures) and the object itself</li>\n",
    "    <li><b>Object</b>: A &ldquo;class&rdquo; defines the common traits of similar tings, such as <i>mammals</i> ... and then you might have <i>child classes</i> such as <u>dog</u>, <u>cat</u>, <u>dolphin</u> and the like that share (a) the base (or parent) class properties and (b) exhibit their own unique characteristics ... </li>\n",
    "    <li><b>Class</b>: is just the object when expressed in code.</li>\n",
    "    <li>Objects/Classes exhibit 3 features that keep <i>the object's properties and what the object does (aka methods) in the same block of code (the class)</i>:\n",
    "    <ol>\n",
    "        <li><b>Encapsulation</b>: Encapsulation is wrapping the data under a single, consolidated unit. In OOP, it is defined as binding data with a function that manipulates it.</li>\n",
    "        <li><b>Inheritance</b>: Inheritance is the ability of one class to derive its characteristics from another class.</li>\n",
    "        <li><b>Polymorphism </b>: Polymorphism refers to a programming language’s ability to process objects uniquely according to their data type and/or class. [Python&rsquo;s polymorphism is different from the idea applied in other languages; the classic <u>class signature</u> for disambiguating similar classes doesn&rsquo;t work here.  Python relies on *arg and **kwarg for this behavior.]\n",
    "        </li>\n",
    "     </ol>\n",
    "        </li>\n",
    "        <li><b>Interface (API)</b>: is usually a module for a specific communication between other applications and languages, such as the mysql.connection interface [you may already be familiar with JDBC:ODBC, or python's beautifulsoup, and other APIs</li>\n",
    "</ul>\n",
    "</blockquote>"
   ]
  },
  {
   "cell_type": "markdown",
   "metadata": {},
   "source": [
    "<table width=\"100%\">\n",
    "    <tr>\n",
    "        <td style=\"width:50%\">\n",
    "        Identifying facets from real-world things:<br />\n",
    "        <img src=\"images/class1.jpg\">\n",
    "        </td>\n",
    "        <td>\n",
    "            Working into Abstraction/Classes:<br/ >\n",
    "            <img src = \"images/classesall.png\"/>\n",
    "        </td>\n",
    "    </tr>\n",
    "</table>"
   ]
  },
  {
   "cell_type": "markdown",
   "metadata": {},
   "source": [
    "<p style=\"font-size: 22px; font-family: Baskerville; line-height: 24px; color:red;\"><i>Abstraction of a Ball class used in various Sports</i></p>\n",
    "<p>Let's use the example of a sports team as a parent class to hold all the common properties/methods of sports and then have children <i>inherit</i> the Sports' concepts (properties/methods) and then add their own for the specific type of game.  Check out the following:\n",
    "<table width=\"100%\">\n",
    "    <tr style=\"vertical-align: top;\">\n",
    "        <td style=\"text-align:left;\">Object</td>\n",
    "        <td>&nbsp;</td>\n",
    "        <td style=\"text-align:left;\">Properties</td>\n",
    "        <td style=\"text-align:left;\">Methods</td>\n",
    "    </tr>\n",
    "    <tr style=\"vertical-align: top;\">\n",
    "        <td style=\"text-align:left;\">Sport Ball<br />\n",
    "        <img style=\"height: 75px;\" src=\"images/ball-1.png\"></td>\n",
    "         <td>&nbsp;</td>\n",
    "        <td style=\"text-align:left;\">name (string)<br />\n",
    "            measurement (string)<br />\n",
    "            referreed (boolean)<br />\n",
    "            professional_or_amateur (int {0:1})\n",
    "        </td>\n",
    "        <td style=\"text-align:left;\">game_starts_at()<br />\n",
    "            game_ends_at()<br />\n",
    "        </td>\n",
    "    </tr>\n",
    "    <tr>\n",
    "        <td><i>inherits from <br />and extends</i>\n",
    "        <br />parent Sport</td>\n",
    "        <td style=\"text-align:left;\">Football\n",
    "        <br />\n",
    "        <img style=\"height: 75px;\" src=\"images/football_Icon.svg.png\"></td>\n",
    "        <td style=\"text-align:left;\">inherit name, measurement, referred, etc from parent.<br />\n",
    "            add specific properties for <i>this</i> sport: \n",
    "            no_of_players (int)<br />\n",
    "            quarter (int)<br />\n",
    "            downs (int)<br />\n",
    "            quarterback (string)<br />\n",
    "            nfl_team (string)<br />\n",
    "            home_field (string)\n",
    "        </td>\n",
    "        <td style=\"text-align:left;\">\n",
    "            Passed()<br />\n",
    "            Fumbled()<br />\n",
    "            Ball_in_Play()<br />\n",
    "        </td>\n",
    "    </tr>\n",
    "    <tr>\n",
    "        <td><i>inherits from <br />and extends</i>\n",
    "        <br />parent Sport</td>\n",
    "        <td style=\"text-align:left;\">Baseball<br />\n",
    "        <img style=\"height: 75px;\" src=\"images/baseball-1.jpg\"></td>\n",
    "        <td style=\"text-align:left;\">inherit from parent ... <br />\n",
    "            no_of_players (int)<br />\n",
    "            inning (int) <br />\n",
    "            pitcher (string)<br />\n",
    "            batter (string)<br />\n",
    "            opponent (string)<br />\n",
    "            locale (string)\n",
    "        </td>\n",
    "        <td style=\"text-align:left;\">\n",
    "            Hit()<br />\n",
    "            Steals_Base()<br />\n",
    "            Steals_Home()<br />\n",
    "            and so on ... \n",
    "        </td>\n",
    "    </tr>\n",
    "</table>\n",
    "<hr />\n",
    "<table>\n",
    "    <tr>\n",
    "        <td style=\"text-align:left; width:50%\"><b>Encapsulation</b>: the name of the class, variables, and properties (methods) are contained in a single code block.<br />\n",
    "            <b>Inheritance</b>: Football and Baseball <i>inherit</i> the properties of the parent class, Sport.<br />\n",
    "            <b>Polymorphism</b>: traditional polymorphism is reserved to python's own objects, like <code>print()</code>, <code>print(\"consideration\")</code>, <code>print(f\"They displayed {some_var}\")</code>, and so on.</td>\n",
    "        <td style=\"border-radius: 10px; padding:10px; border-color:tomato; border-style: solid; text-align: left;\"><b>Class_Name(parameters):</b><br /><br/>\n",
    "            self.one = instance variable 1<br />\n",
    "            self.two = instance variable 2<br />\n",
    "            instance variable <i>n</i><br />\n",
    "            <hr />\n",
    "            method_1()<br />\n",
    "            method_2()<br />\n",
    "        </td>\n",
    "    </tr>\n",
    "</table>"
   ]
  },
  {
   "cell_type": "markdown",
   "metadata": {},
   "source": [
    "<hr />\n",
    "<p><b>Side Demo</b>: another view of classes suggesting how classes &ldquo;call&rdquo; or send messages to each other and an example of universal modeling language (UML), a popular design technique for object-oriented programming.\n",
    "</p>\n",
    "<table width=\"100%\">\n",
    "    <tr>\n",
    "        <td style=\"width:60%\">\n",
    "            <img src=\"images/classes-data.png\">\n",
    "        </td>\n",
    "        <td>\n",
    "            <img src=\"images/classes-UML.png\">\n",
    "        </td>\n",
    "    </tr>\n",
    "</table>"
   ]
  },
  {
   "cell_type": "markdown",
   "metadata": {},
   "source": [
    "<blockquote>\n",
    "    <p style=\"font-size: 22px; font-family: Baskerville; line-height: 24px; color:red;\"><i>Discussion Example</i></p>\n",
    "<p>Given the above and your experience with the asynch materials and own explorations, here's an example of OOP code.  Identify each element in the line, what they do, why they&rsquo;re there ... \n",
    "    <hr />\n",
    "<pre style=\"padding:4px;border-radius:2px;color:maroon;\">\n",
    "ft = FlightTracking()\n",
    "airline1 = ft.addAircraft( Aircraft(\"BurningMan Airlines\") )\n",
    "airline1.setAirCraftType('A320')\n",
    "airline1.setFlightNo('0334')\n",
    "</pre><i>(...later in our code...)</i>\n",
    "<pre style=\"padding:4px;border-radius:2px;color:maroon;\">\n",
    "airline1.setRoute(\"CDG-BOS\", \"1000 CET\", \"1130 EST\")\n",
    "airline1.getFlightNo(\"0334\")\n",
    "</pre>\n",
    "<p>Identify the constructor, the instance variable, the use of get/set, the methods; can we create \"airline2\"?  Anything else?</p>\n",
    "</blockquote>"
   ]
  },
  {
   "cell_type": "markdown",
   "metadata": {},
   "source": [
    "<hr />\n",
    "<p style=\"font-size: 22px; font-family: Baskerville; line-height: 24px; color:red;\"><i>Designing an idea, Abstraction, and then defining one; using Doc Strings</i></p>\n",
    "<hr />\n",
    "<blockquote>You&rsquo;ll recall from earlier lessons about python&rsquo;s object hierarchy the use of <code>__<i>varname</i>__</code> the dunder that our code inherits.  These variables play significant roles in coding, particularly communicating with the end-user and for documenting (and <code>help()</code>ing our coding.</blockquote>\n",
    "</blockquote>\n",
    "<p>In the below example,\n",
    "    <ol>\n",
    "        <li>identify the base class and constructor</li>\n",
    "        <li>methods of the class</li>\n",
    "        <li>instances of the class</li>\n",
    "        <li>accessing the attributes</li>\n",
    "        <li>updating a value in a class</li>\n",
    "</ol>"
   ]
  },
  {
   "cell_type": "markdown",
   "metadata": {},
   "source": [
    " <blockquote>\n",
    "    <p style=\"font-size: 22px; font-family: Baskerville; line-height: 24px; color:red;\"><i>Example</i></p>\n",
    "<pre>\n",
    "def function_with_docstring(param1, param2):\n",
    "   \"\"\" This function takes a string and \n",
    "       param2 as an int \n",
    "   \n",
    "   Args:\n",
    "       param(1) string: a name\n",
    "       param(2) int   : age\n",
    "   Returns:\n",
    "       bool: True for success, False otherwise\n",
    "   \"\"\"\n",
    "</pre>\n",
    "</blockquote>"
   ]
  },
  {
   "cell_type": "markdown",
   "metadata": {},
   "source": [
    "<hr />\n",
    "<blockquote>\n",
    "    <p><b>Please Note</b>: Here is an example of docstring.  It demonstrates a docstring <i>and</i> we&rsquo;ll use it as a bridge to using python&rsquo;s dunder variables to expose the docstring.  This implements a professional standard, PEP 257. Whenever possible use industrial &amp; professional standards in our coding.\n",
    "    </p>\n",
    "    <p>In the following example, notice that Jupyter displays the output in a rather unattractive output.  Regardless, we can use the output as regular strings for creating documentation of code - especially useful on the job when you inherit others&rsquo; coding for debugging!</p>\n",
    "</blockquote>"
   ]
  },
  {
   "cell_type": "code",
   "execution_count": 1,
   "metadata": {},
   "outputs": [
    {
     "name": "stdout",
     "output_type": "stream",
     "text": [
      "' This function takes a string and param2 as an int \\n    Args:\\n        param(1) string: a name\\n        param(2) int   : age\\n    Returns:\\n    bool: True for success, False otherwise\\n    '\n"
     ]
    }
   ],
   "source": [
    "def function_with_docstring(param1, param2):\n",
    "    \"\"\" This function takes a string and param2 as an int \n",
    "    Args:\n",
    "        param(1) string: a name\n",
    "        param(2) int   : age\n",
    "    Returns:\n",
    "    bool: True for success, False otherwise\n",
    "    \"\"\"\n",
    "\n",
    "print(repr(function_with_docstring.__doc__))"
   ]
  },
  {
   "cell_type": "markdown",
   "metadata": {},
   "source": [
    "<div style=\"height:50px;\"><hr /><div>\n",
    "<p style=\"font-size: 22px; font-family: Baskerville; line-height: 24px; color:red;\"><i>Practice: Constructor and Bank Example</i></p>\n",
    "<p>After coding the class, when we call it in our code we \"construct\" it, using the <code>__init__</code> command.  The constructor requests of the OS whether there is a congituous block of RAM large enough to hold the object.  If so, create it.</p>\n",
    "<p>In the below example of Bank, see if you can identify each line&rsquo;s purpose.</p>"
   ]
  },
  {
   "cell_type": "markdown",
   "metadata": {},
   "source": [
    "<p><b>Use-case scenario:</b>. We want to create an object for banking.  Consequently we start off by creating a class for &ldquo;Bank&rdquo; ... then we can create endless banks and extend the type of banks&rsquo; specific needs.</p>\n",
    "\n",
    "<p>Notice this example: <code>BoM = Bank(\"Bank of Monterey\", \"Monterey\")</code>\n",
    "</p>\n",
    "<ol>\n",
    "    <li>The <b>base class</b> is \"class Bank\".</li>\n",
    "    <li><b>Instantiate</b> an individual copy of a bank from the base: \n",
    "        <code>BoM = Bank(\"BoM\", \"Seaside\")</code>\n",
    "    </li>\n",
    "    <li>Review the <b>type</b> of an object and see the dunder \n",
    "        <code>__main__</code>:\n",
    "        <pre>&lt;BoM&gt; has type <code>'__main__.Bank'</code>\n",
    "        </pre>\n",
    "    </li>\n",
    "    <li>We can modify <b>all</b> instances by changing a Class attribute: \n",
    "        <code>Bank.preferred_currency = \"EUR\"</code>\n",
    "    </li>\n",
    "    <li>Modify an <b>individual instance</b>: \n",
    "        <code>BoM.preferred_curency = 'CDN'</code>\n",
    "    </li>\n",
    "</ol>\n",
    "<hr />\n",
    "<p style=\"color:maroon;\">Optional - a glimpse into the many windows into our objects.</p>\n",
    "<p>But note the <code>__str__</code> and <code>__repr__</code> attributes that all of our objects inherit and which we can overwrite. </p>"
   ]
  },
  {
   "cell_type": "markdown",
   "metadata": {},
   "source": [
    "<p style=\"font-size: 22px; font-family: Baskerville; line-height: 24px; color:red;\"><i>Example:  The Bank Class</i></p>\n",
    "<p>Notice each part of the class definition, the use of <code>self</code>, parameters and default parameters that are passinto the class.</p>\n",
    "<p>Notice, too, the <u>two instances</u> of a bank.</p>\n",
    "<hr />\n",
    "<p><b>1</b> Define the Class:</p>"
   ]
  },
  {
   "cell_type": "code",
   "execution_count": 3,
   "metadata": {},
   "outputs": [],
   "source": [
    "# DEFINE A CLASS\n",
    "class Bank:\n",
    "    \"\"\" Base class for all banks \"\"\"\n",
    "    total_branches = 0                     # NOTE: Class Attribute\n",
    "\n",
    "    def __init__(self, name, city, money_on_hand = 10000):\n",
    "        self.name = name\n",
    "        self.city = city\n",
    "        self.no_of_transactions = 0        # Instance Attribute\n",
    "        self.money_on_hand = money_on_hand\n",
    "        Bank.preferred_currency = \"USD\"    # Class attribute\n",
    "                                           # See the reference to Bank Class\n",
    "        \n",
    "    def showBankInfo(self):                # add a method to get data \n",
    "        print(self.name, self.city)\n",
    "\n",
    "    def how_much_in_vault(self):\n",
    "        print(\"$ in vault: \", self.money_on_hand)\n",
    "\n",
    "    def add_money(self, amount):\n",
    "        self.money_on_hand += amount\n",
    "        self.no_of_transactions += 1"
   ]
  },
  {
   "cell_type": "markdown",
   "metadata": {},
   "source": [
    "<hr />\n",
    "<p><b>2</b> Create Instances of the Bank Class:</p>"
   ]
  },
  {
   "cell_type": "code",
   "execution_count": 4,
   "metadata": {},
   "outputs": [
    {
     "name": "stdout",
     "output_type": "stream",
     "text": [
      "Berkeley\n",
      "San Francisco\n",
      "\n",
      "After moving the bank to the Valley:  Bakersfield\n"
     ]
    }
   ],
   "source": [
    "# TWO INSTANCES of the Bank()\n",
    "bankOfAmerica = Bank(\"BoA\", \"Berkeley\")\n",
    "wellsFargo = Bank(\"WF\", \"San Francisco\")\n",
    "\n",
    "# ACCESSING THE ATTRIBUTES using a dot operator\n",
    "print(bankOfAmerica.city)\n",
    "print(wellsFargo.city)\n",
    "\n",
    "# UPDATING A VALUE\n",
    "bankOfAmerica.city = \"Bakersfield\"\n",
    "print(\"\\nAfter moving the bank to the Valley: \", bankOfAmerica.city)\n"
   ]
  },
  {
   "cell_type": "markdown",
   "metadata": {},
   "source": [
    "<hr />\n",
    "<p><b>2a</b> The Python dunder variables we inherit to learn about your object and to override some default behaviors:</p>\n",
    "<p>Notice the many __<i>var</i>__ names <u>and</u> the inclusion of our own class&rsquo;s variables and methods.</p> \n",
    "<p>For documentation, check out <a href=\"https://docs.python.org/3/reference/datamodel.html\" target=\"new\">Python Docs</a>.</p>\n",
    "<p>And as a reminder review this </p>\n",
    "    <a href=\"images/GemQf.png\" target=\"new\">\n",
    "        <img style=\"width:50%\" src=\"images/GemQf.png\"/> \n",
    "    </a>\n",
    "    <hr />\n",
    "    <h3>Python Object Hierarchy to see the relationship between the objects and dunder variables our written classes inherit.</h3>"
   ]
  },
  {
   "cell_type": "code",
   "execution_count": 5,
   "metadata": {},
   "outputs": [
    {
     "data": {
      "text/plain": [
       "['__class__',\n",
       " '__delattr__',\n",
       " '__dict__',\n",
       " '__dir__',\n",
       " '__doc__',\n",
       " '__eq__',\n",
       " '__format__',\n",
       " '__ge__',\n",
       " '__getattribute__',\n",
       " '__gt__',\n",
       " '__hash__',\n",
       " '__init__',\n",
       " '__init_subclass__',\n",
       " '__le__',\n",
       " '__lt__',\n",
       " '__module__',\n",
       " '__ne__',\n",
       " '__new__',\n",
       " '__reduce__',\n",
       " '__reduce_ex__',\n",
       " '__repr__',\n",
       " '__setattr__',\n",
       " '__sizeof__',\n",
       " '__str__',\n",
       " '__subclasshook__',\n",
       " '__weakref__',\n",
       " 'add_money',\n",
       " 'city',\n",
       " 'how_much_in_vault',\n",
       " 'money_on_hand',\n",
       " 'name',\n",
       " 'no_of_transactions',\n",
       " 'preferred_currency',\n",
       " 'showBankInfo',\n",
       " 'total_branches']"
      ]
     },
     "execution_count": 5,
     "metadata": {},
     "output_type": "execute_result"
    }
   ],
   "source": [
    "BoM = Bank(\"Bank of Monterey\", \"Monterey\")\n",
    "dir(BoM)  # this is a class method"
   ]
  },
  {
   "cell_type": "markdown",
   "metadata": {},
   "source": [
    "<hr />\n",
    "<p><b>3</b> Use the dunder vars to learn about the class&rsquo;s properties</p>"
   ]
  },
  {
   "cell_type": "code",
   "execution_count": 6,
   "metadata": {},
   "outputs": [
    {
     "name": "stdout",
     "output_type": "stream",
     "text": [
      "Get all the attributes ... \n",
      "{'name': 'Bank of Monterey', 'city': 'Monterey', 'no_of_transactions': 0, 'money_on_hand': 10000}\n",
      "\n",
      "Our object is an instance of what class?\n",
      "<class '__main__.Bank'>\n",
      "\n",
      "  Base class for all banks \n"
     ]
    }
   ],
   "source": [
    "print(\"Get all the attributes ... \")\n",
    "print(BoM.__dict__)  # this is an attribute information\n",
    "\n",
    "print(\"\\nOur object is an instance of what class?\")\n",
    "print(BoM.__class__)\n",
    "\n",
    "print(\"\\n\", BoM.__doc__)  # docstring"
   ]
  },
  {
   "cell_type": "markdown",
   "metadata": {},
   "source": [
    "<hr />\n",
    "<p><b>4</b> Demo of using the objects&rsquo; docstrings and built-in info/help ? of the class.</p>"
   ]
  },
  {
   "cell_type": "code",
   "execution_count": 7,
   "metadata": {},
   "outputs": [],
   "source": [
    "# How about getting class documentation?\n",
    "# You'll notice a box appear at the bottom of \n",
    "# the Notebook.\n",
    "\n",
    "?Bank"
   ]
  },
  {
   "cell_type": "markdown",
   "metadata": {},
   "source": [
    "<div style=\"background-color: brown; padding:10px; color:white;\">\n",
    "    <p>What you learned:</p>\n",
    "    <ul>\n",
    "        <li>Terms in OOP</li>\n",
    "        <li>Abstraction, Encapsulation, Constructors</li>\n",
    "        <li>Doc Strings</li>\n",
    "        <li>Creating a Base Class (e.g., Bank())</li>\n",
    "        <li>Instantiating copies of Bank</li>\n",
    "        <li>Accessing data using dunders in our objects</li>\n",
    "        <li>Next, learn about what we can do with the intersection of Python&rsquo;s object and our own coding; especially the many ways we can hide &amp; access variables in objects.</li>\n",
    "    </ul>\n",
    "</div>\n"
   ]
  },
  {
   "cell_type": "markdown",
   "metadata": {},
   "source": [
    "<hr />\n",
    "<h2 style=\"background-color:skyblue;padding:15px;border-radius:4px;\">Project 1: Multi-armed Bandit Contest</h2>\n",
    "<p>Python has a built-in random method ... yet we can anticipate some of the most useful libraries in python: numpy and pandas.  In the asynch you heard about the numpy library (as well as the convention of using an alias, e.g., <code>import numpy as np</code>).</p>\n",
    "<p>Suggestion: write out the steps (pseudocode).  You're assigned class names to use as well as some method names.  What attributes will each Class need?  I think you'll want to apply iterating over a list, value checking, and particularly how you create objects and pass them or their reference in the Auction game.</p>\n",
    "<p>In the bandit question, there&rsquo;s the Bandit class and the Solver class.</p>\n",
    "<p>Note that the we have data members that are \"protected\" by using the _ as the first part of their names.  Even tho python has no really strict way to hide variables we can try to make them as least public as possible (aka \"data mangling\"... by prefacing them with a _, [<i>but we're <u>not</u> getting into the myriad uses of _ and __ to rewrite a variable, etc.</i>] e.g., \n",
    "    <pre>\n",
    "    class Mozart:\n",
    "        # protected data members\n",
    "        _enemy = \"Salieri\"\n",
    "        \n",
    "        def lifeAndTimes(self, event):\n",
    "           print(\"Today's \",event, \" was sponsored by \", self._enemy)\n",
    "           \n",
    "     composer = Mozart()\n",
    "     composer.lifeAndTimes(\"Murder\")\n",
    "     </pre>\n",
    "     "
   ]
  },
  {
   "cell_type": "markdown",
   "metadata": {},
   "source": [
    "<hr />\n",
    "<h2 style=\"background-color:skyblue;padding:15px;border-radius:4px;\">End of the Main Content</h2>\n",
    "<hr />\n",
    "<h3 style=\"color: white; background-color:skyblue;padding:15px;border-radius:4px;\">Recap</h3>\n",
    "<ul>\n",
    "    <li>Intro to Objects in general: attributes and methods</li>\n",
    "<li>Defining an Object</li>\n",
    "<li>Doc Strings</li>\n",
    "<li>Objects: encapsulation, polymorphism, inheritance</li>\n",
    "<li>Object Construction and __init__</li>\n",
    "<li>Bank example</li>\n",
    "<li>__str__ and __repr__</li>\n",
    "    <li>Bank again with 2nd object, CountryInfo</li>\n",
    "    <li>Project 1: Multi-armed Bandit</li>\n",
    "    </ul>\n",
    "<p>Can you identify or create ... </p>\n",
    "<ul>\n",
    "    <li>what and why do we have Object-Oriented Programming?</li>\n",
    "    <li>what's the relationship between python's objects and our own?</li>\n",
    "    <li>what are the properties of all objects in OOD</li>\n",
    "    <li>do you feel comfortable creating your own objects? And accessing the data therein?</li>\n",
    "    <li>What's the purpose (and similarities) of __str__ and __repr__?</li>\n",
    "</ul>\n",
    "    "
   ]
  },
  {
   "cell_type": "markdown",
   "metadata": {},
   "source": [
    "<hr /><p>Next week we look at polymorphism, inheritance, super(), and <i>many</i> get/set combinations.</p>\n",
    "<p style=\"font-size:9px;\">End of the notebook.  Feb 14, 2022</p>"
   ]
  },
  {
   "cell_type": "markdown",
   "metadata": {},
   "source": [
    "<hr />\n",
    "<h2>Midterm Prep</h2>\n",
    "<p>The midterm is open book.  You're asked to work alone, tho.</p>\n",
    "<p>Less difficult that before and certainly shorter! I believe there are 3 questions that will tax you on\n",
    "<ul><li>using our data structures efficiently</li>\n",
    "    <li>counting and frequencies</li>\n",
    "    <li>extracting data from these data structures</li>\n",
    "    <li>formatting output, including floating point values</li>\n",
    "    <li>you'll have to think about extracting data from these structures and subsetting some of those data</li>\n",
    "    <li>&Theta;(<i>n</i><sup>2</sup>): can you improve upon this?</li>\n",
    "    </ul>\n",
    "<hr />"
   ]
  },
  {
   "cell_type": "markdown",
   "metadata": {},
   "source": [
    "<hr />\n",
    "<a href=\"Sp23_week-07-2.ipynb\" target=\"new\">\n",
    "<h3 style=\"font-weight: normal; line-height: 22px;\">Continue with below examples, introducing variable access in OOP or proceed to Page 2: __str__ and __repr__</h3>\n",
    "</a>\n",
    "<p>End of page 1.</p>"
   ]
  },
  {
   "cell_type": "code",
   "execution_count": null,
   "metadata": {},
   "outputs": [],
   "source": []
  }
 ],
 "metadata": {
  "kernelspec": {
   "display_name": "Python 3 (ipykernel)",
   "language": "python",
   "name": "python3"
  },
  "language_info": {
   "codemirror_mode": {
    "name": "ipython",
    "version": 3
   },
   "file_extension": ".py",
   "mimetype": "text/x-python",
   "name": "python",
   "nbconvert_exporter": "python",
   "pygments_lexer": "ipython3",
   "version": "3.11.4"
  }
 },
 "nbformat": 4,
 "nbformat_minor": 4
}
