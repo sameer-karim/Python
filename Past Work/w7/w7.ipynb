{
 "cells": [
  {
   "cell_type": "code",
   "execution_count": 1,
   "metadata": {},
   "outputs": [
    {
     "data": {
      "text/html": [
       "<script src=\"js/showNotes.js\"></script>\n"
      ],
      "text/plain": [
       "<IPython.core.display.HTML object>"
      ]
     },
     "metadata": {},
     "output_type": "display_data"
    }
   ],
   "source": [
    "%%html\n",
    "<script src=\"js/showNotes.js\"></script>"
   ]
  },
  {
   "cell_type": "markdown",
   "metadata": {},
   "source": [
    "<p style=\"font-size:9px;\">Version: Discussion version 1, \n",
    "    July 18, 2023 | <b>updated Oct 4, 2023</b> [&copy; 2023 gb]</p>\n",
    "<img src=\"images/ischool-banner.png\" />\n",
    "<p>&nbsp;</p>\n",
    "<div style=\"height: 100px;color:#3B7EA1; font-size:24px; vertical-align:top; text-align:left;\">\n",
    "    Computing for Data Science\n",
    "    <img style=\"width:20%; vertical-align:top; float: left; padding-right: 20px; display: block; margin-left: 0; margin-right: auto;\" \n",
    "         src=\"images/ucb_logo.png\"/>\n",
    "</div>\n",
    "<h2>Week 07</h2>"
   ]
  },
  {
   "cell_type": "markdown",
   "metadata": {},
   "source": [
    "<hr />\n",
    "<h1 style=\"font-size:36; color: #003262;\">Current (F23) Weekly Syllabus Topics</h1>\n",
    "<table width=\"100%;\">\n",
    "<tr>\n",
    "<td style=\"text-align:left; vertical-align:top;\">\n",
    "<ol>\n",
    "    <li>\n",
    "    <ul>\n",
    "        <li>Computer Architecture Basics; \n",
    "        Bash, Git, GitHub;</li>\n",
    "        <li>Command Line;</li>\n",
    "        <li>Manipulating Files &amp; Directories;\n",
    "        VIM;\n",
    "        Command Line intro;</li>\n",
    "    </ul>\n",
    "</li>\n",
    "<li>\n",
    "    <ul>\n",
    "    <li>Programming Lang Orientation: \n",
    "    <li>jupyter; python and command line;\n",
    "    objects &amp; types;\n",
    "    <li>variables (numbers and strings), formatting strings;</li>\n",
    "    <li>control while loops</li>\n",
    "    </ul>\n",
    "</li>\n",
    "<li>\n",
    "    <ul>\n",
    "        <li>Sequences</li>\n",
    "        <li>Lists, Tuples &amp; Mutability</li>\n",
    "        <li>Ranges</li>\n",
    "        <li>Dictionaries, Nested Lists &amp; dictionaries</li>\n",
    "    </ul>\n",
    "</li>\n",
    "</ol>\n",
    "</td>\n",
    "<td style=\"text-align:left; vertical-align:top;\">\n",
    "<ol start=\"4\">\n",
    "<li>\n",
    "    <ul>\n",
    "        <li>For Loops\n",
    "        <li>Exits\n",
    "        <li>Algorithms: searching [exhaustive, bisection, heron&rsquo;s methods]</li>\n",
    "        <li>Comprehensions</li>\n",
    "    </ul>\n",
    "</li>\n",
    "<li>\n",
    "    <ul>\n",
    "        <li>Functions</li>\n",
    "        <li>Calling, Nesting</li>\n",
    "        <li>Namespaces, Global and Local Vars</li>\n",
    "        <li>Recursion; nested dictionaries &amp; recursion</li>\n",
    "        <li>Parameters</li>\n",
    "        <li>Exceptions</li>\n",
    "        <li>Lambdas</li>\n",
    "    </ul>\n",
    "</li>\n",
    "<li>\n",
    "    <ul>\n",
    "        <li>Complexity\n",
    "        <li>Measuring time and Steps</li>\n",
    "        <li>Big &Theta;</li>\n",
    "        <li>Searching and Subsequences\n",
    "        <li>Modules &amp; Packages</li>\n",
    "    </ul>\n",
    "</li>\n",
    "</ol>\n",
    "</td>\n",
    "    </tr>\n",
    "<table>\n",
    "<table width=\"100%\">\n",
    "    <tr>\n",
    "<td style=\"text-align:left; vertical-align:top;\">\n",
    "<ol start=\"7\">\n",
    "<li>\n",
    "    <ul  style='background-color: #FDB515;'>\n",
    "        <li>Classes</li>\n",
    "        <li>Attributes, Binding</li>\n",
    "        <li>Initializing and Control</li>\n",
    "        <li>&UnderBar;&UnderBar;str&UnderBar;&UnderBar; and &UnderBar;&UnderBar;repr&UnderBar;&UnderBar;\n",
    "        </li>\n",
    "    </ul>\n",
    "</li>\n",
    "<li>\n",
    "    <ul>\n",
    "        <li>Object-Oriented Programming</li>\n",
    "        <li>Inheritance</li>\n",
    "        <li>Polymorphism</li>\n",
    "        <li>Magic Methods</li>\n",
    "    </ul>\n",
    "</li>\n",
    "<li>\n",
    "    <ul>\n",
    "    <li>PyData Ecosystem and Numpy</li>\n",
    "    <li>Boolean selection and types</li>\n",
    "    <li>Vectorization &amp; Multidimensional Arrays</li>\n",
    "    <li>Slicing and combining</li>\n",
    "    <li>Linear model in matrix form, Numpy</li>\n",
    "    </ul>\n",
    "</li>\n",
    "</ol>\n",
    "</td>\n",
    "<td style=\"text-align:left; vertical-align:top;\">\n",
    "<ol start=\"10\">\n",
    "<li>\n",
    "    <ul>\n",
    "        <li>Pandas &amp; Data Analysis</li>\n",
    "        <li>Series and Data Frames</li>\n",
    "        <li>Bracket index, log &amp; iloc</li>\n",
    "        <li>Functions and DataFrames</li>\n",
    "        <li>Sorting</li>\n",
    "    </ul>\n",
    "</li>\n",
    "<li>\n",
    "    <ul>\n",
    "        <li>Datasets and EDA</li>\n",
    "        <li>Fixing Data Issues (Cleansing)</li>\n",
    "        <li>Answering Questions</li>\n",
    "    </ul>\n",
    "</li>\n",
    "<li>\n",
    "    <ul>\n",
    "        <li>Plotting &amp; Visualization</li>\n",
    "        <li>Libraries (Matplotlib, Seaborn, etc.)</li>\n",
    "        <li>Plot features</li>\n",
    "    </ul>\n",
    "</li>\n",
    "</ol>\n",
    "</td>\n",
    "</tr>\n",
    "</table>\n",
    "<table width=\"100%\">\n",
    "<tr>\n",
    "<td style=\"text-align:left; vertical-align:top;\">\n",
    "<ol start=\"13\">\n",
    "    <li>\n",
    "    <ul>\n",
    "        <li>Pandas Aggregation &amp; Group Operations</li>\n",
    "        <li>Series.groupby</li>\n",
    "        <li>DataFrame.groupby</li>\n",
    "        <li>Aggregation</li>\n",
    "        <li>Pivot Tables &amp; Crosstabs</li>\n",
    "    </ul>\n",
    "</li>\n",
    "<li>\n",
    "    <ul>\n",
    "        <li>Presentations (so no time to cover...\n",
    "        <li>Texts, unicode, decoding errors, regex, time series, etc.)</li>\n",
    "    </ul>\n",
    "</li>\n",
    "</ol>\n",
    "</td>\n",
    "</tr>\n",
    "</table>"
   ]
  },
  {
   "cell_type": "markdown",
   "metadata": {},
   "source": [
    "<p style=\"font-size: 16px; line-height: 22px; color: #3B7EA1;\">\n",
    "    Check-In:  how was last week?\n",
    "</p>"
   ]
  },
  {
   "cell_type": "markdown",
   "metadata": {},
   "source": [
    "<hr />\n",
    "    <p>\n",
    "        <img src=\"images/IntroIcon.png\" style=\"float:left; padding:10px; width:50px; text-align:top;\"/>\n",
    "        <span  style=\"color: #3B7EA1;font-size:24px;\">Introduction</span>\n",
    "    </p>"
   ]
  },
  {
   "cell_type": "markdown",
   "metadata": {},
   "source": [
    "<h1 style=\"font-size:36; color: #003262;\">\n",
    "Week 7 Topics</h1>\n",
    "<p>\n",
    "<h2>Demos and Deeper-Divers for this Week</h2>\n",
    "<p>There are supplemental notebooks for the get/set and str/repr methods that build sequentially how to use these commands.  They&rsquo;re linked to the content in this live session&rsquo;s notebook.\n",
    "    <p style=\"padding:10px; border-radius:5px; background-color:#3B7EA1; color:white; font-size:22px;\">This week's notebook includes a sequential disucssion of str and repr and another about how to use get and set.</p>\n",
    "    <ol>\n",
    "        <li><a href=\"Sp23_week-07-2.ipynb\" target=\"new\">Constructor and Bank Example</a>: using <code>__str__</code> and <code>__repr__</code> versus <code>__str()__</code> and <code>__repr()__</code>\n",
    "         </li>\n",
    "    <li><a href=\"Sp23_week_07-3.ipynb\" target=\"new\">How to use classes</a>: <code>get/set</code>, the dot operator, accessing classes, private and protected variables, and <code>@</code> property decorators</li>\n",
    "    <li><a href=\"Sp23_week-07-appendix.ipynb\" target=\"new\">Optional singly-linked lists; counting frequencies</a></li>\n",
    "    </ol>\n",
    "<p>We start with a discussion point about diagramming and creating classes, moving quickly to a code sample, and then a work-thru example of building a bank.</p>"
   ]
  },
  {
   "cell_type": "markdown",
   "metadata": {},
   "source": [
    "<hr />\n",
    "<h2 style=\"background-color: #003262; color:white; border-radius: 4px; padding: 8px;\">\n",
    "    Classes\n",
    "</h2>\n",
    "<a href=\"w7_images/classdiagram1.png\" target=\"new\">\n",
    "<img style=\"width: 100%;\" src=\"w7_images/classdiagram1.png\" /></a>\n",
    "<h3><i>Terms used in OOP</i></h3>\n",
    "<blockquote>\n",
    "    <ul>\n",
    "    <li><b>Abstraction</b>: identifying shared characteristics of our work (methods or procedures) and the object itself</li>\n",
    "    <li><b>Object</b>: A &ldquo;class&rdquo; defines the common traits of similar tings, such as <i>mammals</i> ... and then you might have <i>child classes</i> such as <u>dog</u>, <u>cat</u>, <u>dolphin</u> and the like that share (a) the base (or parent) class properties and (b) exhibit their own unique characteristics ... </li>\n",
    "    <li><b>Class</b>: is just the object when expressed in code.</li>\n",
    "    <li>Objects/Classes exhibit 3 features that keep <i>the object's properties and what the object does (aka methods) in the same block of code (the class)</i>:\n",
    "    <ol>\n",
    "        <li><b>Encapsulation</b>: Encapsulation is wrapping the data under a single, consolidated unit. In OOP, it is defined as binding data with a function that manipulates it.</li>\n",
    "        <li><b>Inheritance</b>: Inheritance is the ability of one class to derive its characteristics from another class.</li>\n",
    "        <li><b>Polymorphism </b>: Polymorphism refers to a programming language’s ability to process objects uniquely according to their data type and/or class. [Python&rsquo;s polymorphism is different from the idea applied in other languages; the classic <u>class signature</u> for disambiguating similar classes doesn&rsquo;t work here.  Python relies on *arg and **kwarg for this behavior.]\n",
    "        </li>\n",
    "     </ol>\n",
    "        </li>\n",
    "        <li><b>Interface (API)</b>: is usually a module for a specific communication between other applications and languages, such as the mysql.connection interface [you may already be familiar with JDBC:ODBC, or beautifulsoup, and other APIs].</li>\n",
    "</ul>\n",
    "</blockquote>"
   ]
  },
  {
   "cell_type": "markdown",
   "metadata": {},
   "source": [
    "<h2 style=\"color:#003262;\">About Classes</h2>\n",
    "<ol style=\"line-height:24px;\">\n",
    "    <li>Represent <b>things-in-the-world</b>: build objects from primitive and complex data types.</li>\n",
    "<li>Classes are self-contained (<b>encapsulated</b>), meaning they hold all the specific characteristics of an object as well as all its behaviors (aka <b>methods</b>).</li>\n",
    "    <li>Define the shared elements/behaviors in a <b>parent class</b>: <code>class <span style='color:maroon;'>Person</span></code></li>\n",
    "    <li>Classes are created when you create them: aka <i>constructor</i>.  Python will auto-construct classes but best practices is to be specific: use the <code>__init__</code>.</li>\n",
    "    <li>Build on those properties in <b>child classes</b> (<i>inheritance</i>), e.g., <code>class <span style='color:olive;'>Student</span>(<span style='color:maroon;'>Person</span>)</code></li>\n",
    "    <li>Child classes can call upon the parent's (super) class constructors: e.g., <code>super().__init__()</code></li>\n",
    "    <li><b>Contruct</b> as many copies of the parent or child as you need: e.g., all students share properties as persons.  Note the real-world point: students have different properties/behaviors than profs and administrators.  E.g., <br />\n",
    "        <code>student1 = Student()</code><br />\n",
    "        <code>student 2 = Student()</code>\n",
    "    </li>\n",
    "    <li>Group other behaviors in appropriate classes: e.g., have a class for handling messages to the users (e.g., a Message class)</li>\n",
    "    <li>Need some context to group them all: say a School class where the other classes interact.</li>\n",
    "    <li>Preferrably a single main-doorway to the program: a <b>main</b> statement <br /><code>if __name__ == \"__main__\"</code><br /> and then <i>instantiate</i> the code by creating the School program</li>\n",
    "    </ol>"
   ]
  },
  {
   "cell_type": "markdown",
   "metadata": {},
   "source": [
    "<p style=\"color:#003262;\">Read this code and identify all parts.  Notice <ul>\n",
    "    <li>the syntax</li>\n",
    "    <li>the use of <code>self</code></li>\n",
    "    <li>the dot-operator</li>\n",
    "    <li>and how classes are instantiated (e.g., s = Student())</li>\n",
    "</ul>\n",
    "</p>\n",
    "<pre>\n",
    "import os\n",
    "\n",
    "class Person:\n",
    "    def __init__(self, fname, lname):\n",
    "        self.firstname = fname\n",
    "        self.lastname = lname\n",
    "    def printname(self):\n",
    "        print(self.firstname, self.lastname)\n",
    "\n",
    "class Student(Person):\n",
    "    def __init__(self, fname, lname, year):\n",
    "        super().__init__(fname, lname)\n",
    "        self.graduationyear = year\n",
    "    def welcome(self):\n",
    "        print(\"Welcome\", self.firstname, self.lastname, \n",
    "            \"to the class of\", self.graduationyear)\n",
    "    def test(self):\n",
    "        print(\"This is a test.\", self.graduationyear)\n",
    "        if self.graduationyear &lt; 2030:\n",
    "            msg = Msg()\n",
    "            msg.<b>set</b>_msg('This is from test in \n",
    "            student - called if gradyear &lt; 2030')\n",
    "            msg.<b>get</b>_msg()\n",
    "\n",
    "class Msg:\n",
    "    def __init__(self, s = \"curious\"):\n",
    "        self.s = s\n",
    "        # print(s)\n",
    "    def set_msg(self, new_msg):\n",
    "        self.s = new_msg\n",
    "    def get_msg(self):\n",
    "        return print(\"\\nSystem Message: \\n    \",self.s, \"\\n\")\n",
    "        \n",
    "class Main:  # can call it anything you want\n",
    "    os.system(\"clear\")\n",
    "    s = Student(\"Samantha\", \"Stevens\", 2024)\n",
    "    s.welcome()\n",
    "    s.printname()\n",
    "    \n",
    "    m = Msg()\n",
    "    m.set_msg(\"Uncle Arthur welcomes You!\")\n",
    "    m.get_msg()\n",
    "    \n",
    "    p = Person(\"Lars\",\"Ingersol\")\n",
    "    s.test()\n",
    "    \n",
    "if __name__ == \"__main__\":\n",
    "\t\"\"\" here are the entrances to the program - \n",
    "    use either, both work equally well \n",
    "\tbut there's a difference - once is \n",
    "    an instance of main; the other is the sole \n",
    "\tobject, Main \"\"\"\n",
    "\t\n",
    "    main = Main()\n",
    "    # or equally, just Main()\n",
    "</pre>"
   ]
  },
  {
   "cell_type": "markdown",
   "metadata": {},
   "source": [
    "<h2 style=\"background-color: #003262; color:white; border-radius: 4px; padding: 8px;\">\n",
    "Practice: Constructor and Bank Example\n",
    "</h2>\n",
    "<p>After coding the class, when we call it in our code we \"construct\" it, using the <code>__init__</code> command.  The constructor requests of the OS whether there is a congituous block of RAM large enough to hold the object.  If so, create it.</p>\n",
    "<p>In the below example of Bank, see if you can identify each line&rsquo;s purpose.</p>"
   ]
  },
  {
   "cell_type": "markdown",
   "metadata": {},
   "source": [
    "<p><b style=\"color: #3B7EA1;\">Use-case scenario:</b> We want to create an object for banking.  Consequently we start off by creating a class for &ldquo;Bank&rdquo; ... then we can create endless banks and extend the type of banks&rsquo; specific needs.</p>\n",
    "\n",
    "<p>Notice this example: <code>BoM = Bank(\"Bank of Monterey\", \"Monterey\")</code>\n",
    "</p>\n",
    "<ol>\n",
    "    <li>The <b>base class</b> is \"class Bank\".</li>\n",
    "    <li><b>Instantiate</b> an individual copy of a bank from the base: \n",
    "        <code>BoM = Bank(\"BoM\", \"Seaside\")</code>\n",
    "    </li>\n",
    "    <li>Review the <b>type</b> of an object and see the dunder \n",
    "        <code>__main__</code>:\n",
    "        <pre>&lt;BoM&gt; has type <code>'__main__.Bank'</code>\n",
    "        </pre>\n",
    "    </li>\n",
    "    <li>We can modify <b>all</b> instances by changing a Class attribute: \n",
    "        <code>Bank.preferred_currency = \"EUR\"</code>\n",
    "    </li>\n",
    "    <li>Modify an <b>individual instance</b>: \n",
    "        <code>BoM.preferred_curency = 'CDN'</code>\n",
    "    </li>\n",
    "</ol>\n",
    "<hr />\n",
    "<p style=\"color:maroon;\">Optional - a glimpse into the many windows into our objects.</p>\n",
    "<p>But note the <code>__str__</code> and <code>__repr__</code> attributes that all of our objects inherit and which we can overwrite. </p>"
   ]
  },
  {
   "cell_type": "markdown",
   "metadata": {},
   "source": [
    "<p>Notice each part of the class definition, the use of <code>self</code>, parameters and default parameters that are passinto the class.</p>\n",
    "<p>Notice, too, the <u>two instances</u> of a bank.</p>\n",
    "<hr />\n",
    "<p><b>1</b> Define the Class:</p>"
   ]
  },
  {
   "cell_type": "code",
   "execution_count": 1,
   "metadata": {
    "tags": []
   },
   "outputs": [],
   "source": [
    "# DEFINE A CLASS\n",
    "class Bank:\n",
    "    \"\"\" Base class for all banks \"\"\"\n",
    "    total_branches = 0                     # NOTE: Class Attribute\n",
    "\n",
    "    def __init__(self, name, city, money_on_hand = 10000):\n",
    "        self.name = name\n",
    "        self.city = city\n",
    "        self.no_of_transactions = 0        # Instance Attribute\n",
    "        self.money_on_hand = money_on_hand\n",
    "        Bank.preferred_currency = \"USD\"    # Class attribute\n",
    "                                           # See the reference to Bank Class\n",
    "        \n",
    "    def showBankInfo(self):                # add a method to get data \n",
    "        print(self.name, self.city)\n",
    "\n",
    "    def how_much_in_vault(self):\n",
    "        print(\"$ in vault: \", self.money_on_hand)\n",
    "\n",
    "    def add_money(self, amount):\n",
    "        self.money_on_hand += amount\n",
    "        self.no_of_transactions += 1"
   ]
  },
  {
   "cell_type": "markdown",
   "metadata": {},
   "source": [
    "<hr />\n",
    "<p><b>2</b> Create Instances of the Bank Class:</p>"
   ]
  },
  {
   "cell_type": "code",
   "execution_count": 14,
   "metadata": {
    "tags": []
   },
   "outputs": [
    {
     "name": "stdout",
     "output_type": "stream",
     "text": [
      "Berkeley\n",
      "San Francisco\n",
      "$ in vault:  12000\n",
      "WF San Francisco\n",
      "1\n",
      "0\n",
      "YUAN\n",
      "\n",
      "After moving the bank to the Valley:  Bakersfield\n"
     ]
    }
   ],
   "source": [
    "# TWO INSTANCES of the Bank()\n",
    "bankOfAmerica = Bank(\"BoA\", \"Berkeley\")\n",
    "wellsFargo = Bank(\"WF\", \"San Francisco\")\n",
    "\n",
    "# ACCESSING THE ATTRIBUTES using a dot operator\n",
    "print(bankOfAmerica.city)\n",
    "print(wellsFargo.city)\n",
    "bankOfAmerica.add_money(2000)\n",
    "bankOfAmerica.how_much_in_vault()\n",
    "wellsFargo.showBankInfo()\n",
    "print(bankOfAmerica.no_of_transactions)\n",
    "print(wellsFargo.no_of_transactions)\n",
    "wellsFargo.preferred_currency = 'YUAN'\n",
    "print(wellsFargo.preferred_currency)\n",
    "\n",
    "# UPDATING A VALUE\n",
    "bankOfAmerica.city = \"Bakersfield\"\n",
    "print(\"\\nAfter moving the bank to the Valley: \", bankOfAmerica.city)"
   ]
  },
  {
   "cell_type": "markdown",
   "metadata": {},
   "source": [
    "<blockquote><p>Recall from week 1 the python object hierarchy.  Our classes <i>inherit</i> all python's classes and our entire program is a protected variable.  Therefore we can access lots of information about our program, our classes, doc strings, and more, just as if we were querying python's built-in objects.</p>"
   ]
  },
  {
   "cell_type": "code",
   "execution_count": 3,
   "metadata": {},
   "outputs": [
    {
     "data": {
      "text/plain": [
       "['__class__',\n",
       " '__delattr__',\n",
       " '__dict__',\n",
       " '__dir__',\n",
       " '__doc__',\n",
       " '__eq__',\n",
       " '__format__',\n",
       " '__ge__',\n",
       " '__getattribute__',\n",
       " '__getstate__',\n",
       " '__gt__',\n",
       " '__hash__',\n",
       " '__init__',\n",
       " '__init_subclass__',\n",
       " '__le__',\n",
       " '__lt__',\n",
       " '__module__',\n",
       " '__ne__',\n",
       " '__new__',\n",
       " '__reduce__',\n",
       " '__reduce_ex__',\n",
       " '__repr__',\n",
       " '__setattr__',\n",
       " '__sizeof__',\n",
       " '__str__',\n",
       " '__subclasshook__',\n",
       " '__weakref__',\n",
       " 'add_money',\n",
       " 'city',\n",
       " 'how_much_in_vault',\n",
       " 'money_on_hand',\n",
       " 'name',\n",
       " 'no_of_transactions',\n",
       " 'preferred_currency',\n",
       " 'showBankInfo',\n",
       " 'total_branches']"
      ]
     },
     "execution_count": 3,
     "metadata": {},
     "output_type": "execute_result"
    }
   ],
   "source": [
    "BoM = Bank(\"Bank of Monterey\", \"Monterey\")\n",
    "dir(BoM)  # this is a class method"
   ]
  },
  {
   "cell_type": "markdown",
   "metadata": {},
   "source": [
    "<hr />\n",
    "<p><b>3</b> Use the dunder vars to learn about the class&rsquo;s properties</p>"
   ]
  },
  {
   "cell_type": "code",
   "execution_count": 4,
   "metadata": {},
   "outputs": [
    {
     "name": "stdout",
     "output_type": "stream",
     "text": [
      "Get all the attributes ... \n",
      "{'name': 'Bank of Monterey', 'city': 'Monterey', 'no_of_transactions': 0, 'money_on_hand': 10000}\n",
      "\n",
      "Our object is an instance of what class?\n",
      "<class '__main__.Bank'>\n",
      "\n",
      "  Base class for all banks \n"
     ]
    }
   ],
   "source": [
    "print(\"Get all the attributes ... \")\n",
    "print(BoM.__dict__)  # this is an attribute information\n",
    "\n",
    "print(\"\\nOur object is an instance of what class?\")\n",
    "print(BoM.__class__)\n",
    "\n",
    "print(\"\\n\", BoM.__doc__)  # docstring"
   ]
  },
  {
   "cell_type": "markdown",
   "metadata": {},
   "source": [
    "<hr />\n",
    "<p><b>4</b> Demo of using the objects&rsquo; docstrings and built-in info/help ? of the class.</p>"
   ]
  },
  {
   "cell_type": "code",
   "execution_count": 6,
   "metadata": {},
   "outputs": [],
   "source": [
    "# How about getting class documentation?\n",
    "# You'll notice a box appear at the bottom of \n",
    "# the Notebook.\n",
    "\n",
    "?Bank"
   ]
  },
  {
   "cell_type": "markdown",
   "metadata": {},
   "source": [
    "<hr />\n",
    "<p>Before proceeding to the breakout room, it's worth working through the get/set and str/repr notebooks.</p>\n",
    "<p style=\"background-color: #003262; color:white; border-radius: 4px; padding: 8px; font-size:24px;\">Breakout Room\n",
    "</p>\n",
    "<a href=\"week_05_activity_solution.ipynb"
   ]
  },
  {
   "cell_type": "markdown",
   "metadata": {},
   "source": [
    "<hr />\n",
    "<div style=\"background-color:#C4820E;color:white; padding:5px;\">\n",
    "    <strong>Appendix</strong>: Optional: Appendix about handling errors: assert, DEBUG, *arg and **kwarg &amp; logging errors.</div>\n",
    "</p>\n",
    "\n"
   ]
  },
  {
   "cell_type": "markdown",
   "metadata": {},
   "source": [
    "<hr />\n",
    "<p>End of the optional and review materials.</p>"
   ]
  }
 ],
 "metadata": {
  "kernelspec": {
   "display_name": "Python 3 (ipykernel)",
   "language": "python",
   "name": "python3"
  },
  "language_info": {
   "codemirror_mode": {
    "name": "ipython",
    "version": 3
   },
   "file_extension": ".py",
   "mimetype": "text/x-python",
   "name": "python",
   "nbconvert_exporter": "python",
   "pygments_lexer": "ipython3",
   "version": "3.11.4"
  }
 },
 "nbformat": 4,
 "nbformat_minor": 4
}
