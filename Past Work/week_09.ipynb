{
 "cells": [
  {
   "cell_type": "markdown",
   "metadata": {},
   "source": [
    "<p style=\"font-size:9px;\">Version: Discussion version 1, \n",
    "    July 18, 2023 | updated Oct <b>24</b>, 2023 [&copy; 2023 gb]</p>\n",
    "<img src=\"images/ischool-banner.png\" />\n",
    "<p>&nbsp;</p>\n",
    "<div style=\"height: 50px;color:#3B7EA1; font-size:24px; vertical-align:top; text-align:left;\">\n",
    "    Computing for Data Science\n",
    "    <img style=\"width:20%; vertical-align:top; float: left; padding-right: 20px; display: block; margin-left: 0; margin-right: auto;\" \n",
    "         src=\"images/ucb_logo.png\"/>\n",
    "</div>\n",
    "<hr />\n",
    "<h1 style=\"font-size:32; color: #003262;\">Weekly Syllabus Topics: Week 9</h1>\n",
    "<table width=\"100%;\">\n",
    "<tr>\n",
    "<td style=\"text-align:left; vertical-align:top;\">\n",
    "<ol>\n",
    "    <li>\n",
    "    <ul>\n",
    "        <li>Computer Architecture Basics; \n",
    "        Bash, Git, GitHub;</li>\n",
    "        <li>Command Line;</li>\n",
    "        <li>Manipulating Files &amp; Directories;\n",
    "        VIM;\n",
    "        Command Line intro;</li>\n",
    "    </ul>\n",
    "</li>\n",
    "<li>\n",
    "    <ul>\n",
    "    <li>Programming Lang Orientation: \n",
    "    <li>jupyter; python and command line;\n",
    "    objects &amp; types;\n",
    "    <li>variables (numbers and strings), formatting strings;</li>\n",
    "    <li>control while loops</li>\n",
    "    </ul>\n",
    "</li>\n",
    "<li>\n",
    "    <ul>\n",
    "        <li>Sequences</li>\n",
    "        <li>Lists, Tuples &amp; Mutability</li>\n",
    "        <li>Ranges</li>\n",
    "        <li>Dictionaries, Nested Lists &amp; dictionaries</li>\n",
    "    </ul>\n",
    "</li>\n",
    "</ol>\n",
    "</td>\n",
    "<td style=\"text-align:left; vertical-align:top;\">\n",
    "<ol start=\"4\">\n",
    "<li>\n",
    "    <ul>\n",
    "        <li>For Loops\n",
    "        <li>Exits\n",
    "        <li>Algorithms: searching [exhaustive, bisection, heron&rsquo;s methods]</li>\n",
    "        <li>Comprehensions</li>\n",
    "    </ul>\n",
    "</li>\n",
    "<li>\n",
    "    <ul>\n",
    "        <li>Functions</li>\n",
    "        <li>Calling, Nesting</li>\n",
    "        <li>Namespaces, Global and Local Vars</li>\n",
    "        <li>Recursion; nested dictionaries &amp; recursion</li>\n",
    "        <li>Parameters</li>\n",
    "        <li>Exceptions</li>\n",
    "        <li>Lambdas</li>\n",
    "    </ul>\n",
    "</li>\n",
    "<li>\n",
    "    <ul>\n",
    "        <li>Complexity\n",
    "        <li>Measuring time and Steps</li>\n",
    "        <li>Big &Theta;</li>\n",
    "        <li>Searching and Subsequences\n",
    "        <li>Modules &amp; Packages</li>\n",
    "    </ul>\n",
    "</li>\n",
    "</ol>\n",
    "</td>\n",
    "    </tr>\n",
    "<table>\n",
    "<table width=\"100%\">\n",
    "    <tr>\n",
    "<td style=\"text-align:left; vertical-align:top;\">\n",
    "<ol start=\"7\">\n",
    "<li>\n",
    "    <ul>\n",
    "        <li>Classes</li>\n",
    "        <li>Attributes, Binding</li>\n",
    "        <li>Initializing and Control</li>\n",
    "        <li>&UnderBar;&UnderBar;str&UnderBar;&UnderBar; and &UnderBar;&UnderBar;repr&UnderBar;&UnderBar;\n",
    "        </li>\n",
    "    </ul>\n",
    "</li>\n",
    "<li>\n",
    "    <ul>\n",
    "        <li>Object-Oriented Programming</li>\n",
    "        <li>Inheritance</li>\n",
    "        <li>Polymorphism</li>\n",
    "        <li>Magic Methods</li>\n",
    "    </ul>\n",
    "</li>\n",
    "<li>\n",
    "    <ul  style='background-color: #FDB515;'>\n",
    "    <li>PyData Ecosystem and Numpy</li>\n",
    "    <li>Boolean selection and types</li>\n",
    "    <li>Vectorization &amp; Multidimensional Arrays</li>\n",
    "    <li>Slicing and combining</li>\n",
    "    <li>Linear model in matrix form, Numpy</li>\n",
    "    </ul>\n",
    "</li>\n",
    "</ol>\n",
    "</td>\n",
    "<td style=\"text-align:left; vertical-align:top;\">\n",
    "<ol start=\"10\">\n",
    "<li>\n",
    "    <ul>\n",
    "        <li>Pandas &amp; Data Analysis</li>\n",
    "        <li>Series and Data Frames</li>\n",
    "        <li>Bracket index, log &amp; iloc</li>\n",
    "        <li>Functions and DataFrames</li>\n",
    "        <li>Sorting</li>\n",
    "    </ul>\n",
    "</li>\n",
    "<li>\n",
    "    <ul>\n",
    "        <li>Datasets and EDA</li>\n",
    "        <li>Fixing Data Issues (Cleansing)</li>\n",
    "        <li>Answering Questions</li>\n",
    "    </ul>\n",
    "</li>\n",
    "<li>\n",
    "    <ul>\n",
    "        <li>Plotting &amp; Visualization</li>\n",
    "        <li>Libraries (Matplotlib, Seaborn, etc.)</li>\n",
    "        <li>Plot features</li>\n",
    "    </ul>\n",
    "</li>\n",
    "</ol>\n",
    "</td>\n",
    "</tr>\n",
    "</table>\n",
    "<table width=\"100%\">\n",
    "<tr>\n",
    "<td style=\"text-align:left; vertical-align:top;\">\n",
    "<ol start=\"13\">\n",
    "    <li>\n",
    "    <ul>\n",
    "        <li>Pandas Aggregation &amp; Group Operations</li>\n",
    "        <li>Series.groupby</li>\n",
    "        <li>DataFrame.groupby</li>\n",
    "        <li>Aggregation</li>\n",
    "        <li>Pivot Tables &amp; Crosstabs</li>\n",
    "    </ul>\n",
    "</li>\n",
    "<li>\n",
    "    <ul>\n",
    "        <li>Presentations (so no time to cover...\n",
    "        <li>Texts, unicode, decoding errors, regex, time series, etc.)</li>\n",
    "    </ul>\n",
    "</li>\n",
    "</ol>\n",
    "</td>\n",
    "</tr>\n",
    "</table>\n",
    "    <p>\n",
    "        <img src=\"images/IntroIcon.png\" style=\"float:left; padding:10px; width:50px; text-align:top;\"/>\n",
    "<img src=\"images/NumPy-logo.svg.png\"/>\n",
    "</p>\n",
    "<hr />\n",
    "<h2 style=\"background-color: #003262; color:white; border-radius: 4px; padding: 8px;\">\n",
    "    Topic 9: From built-in python tools to external libraries: numpy</h2>\n",
    "    <ol style=\"font-family:'Avenir Next';\">\n",
    "    <li>See also the numpy and pandas \"cheat sheets\" in the optional notebook</li>\n",
    "    <li>Python &amp; the universe of 3rd party libraries: a framework</li>\n",
    "    <li>Numpy&rsquo;s various arrays</li>\n",
    "    <li>One-dimensional arrays and Examples</li>\n",
    "    <li>Two-dimensional arrays and examples; introducing some stat commands</li>\n",
    "    <li>Multi-dimensional arrays and examples</li>\n",
    "    <li>Recap</li>\n",
    "    <li>Optional Examples</li>\n",
    "    </ol>\n",
    "<hr />\n",
    "<p style=\"padding:10px; border-radius:5px; background-color:#3B7EA1; color:white; font-size:22px;\">Examples 1. Introducing 3rd Party Libraries – Numpy</p>\n",
    "<p style=\"font-family:'Avenir Next';\">The purpose of this and subsequent live sessions is to integrate tools used in analysis, visualization, efficiency, introduce concepts of some domain-specific libries, and how they collective form a kind of python universe.</p>\n",
    "<img src=\"images/pythoninfosystem.jpeg\"/>"
   ]
  },
  {
   "cell_type": "markdown",
   "metadata": {},
   "source": [
    "<p style=\"padding:10px; border-radius:5px; background-color:#3B7EA1; color:white; font-size:22px;\">1a. What about non-python libraries but other tools, like ChatGPT?</p>\n",
    "<p>Indeed.  For a quick discussion, who has used ChatGPT for coding practices?  There&rsquo;s lots of room for improvement in these kinds of tools, but here&rsquo;s a challenge: write an efficient answer to some (minor) computing challenge, and then have ChatGPT do it.  Is it a help to your learning? Or something else?  Let us know: we&rsquo;re interested.</p>\n",
    "<p><a href=\"https://chat.openai.com/chat\" target=\"new\">chat.openai.com</a></p>"
   ]
  },
  {
   "cell_type": "markdown",
   "metadata": {},
   "source": [
    "<h2 style=\"background-color: #003262; color:white; border-radius: 4px; padding: 8px;\">2.  Building upon the foundation from weeks 1-8 ... </h2>\n",
    "<p style=\"font-family:'Avenir Next';\">Notice the gray box includes python and jupyter; note, too, that numpy is included because this library is optimizied for processing &ldquo;arrays&rdquo;, what python otherwise uses as list.</p>\n",
    "<img src=\"images/numpy-start.png\"/>"
   ]
  },
  {
   "cell_type": "markdown",
   "metadata": {},
   "source": [
    "<blockquote>\n",
    "<h2 style=\"color:cornflowerblue;\">Review of some fundamentals</h2>\n",
    "<p style=\"font-family:'Avenir Next';\"><b>Arrays</b>\n",
    "    </p>\n",
    "    <b>Single-dimensional</b>\n",
    "<p style=\"font-family:'Avenir Next';\">\n",
    "\t<pre> x = [1,2,3,4,5]\n",
    "\ty = np.array(x)\n",
    "\ty</pre> outputs array([1,2,3,4,5]).  You can also use <code>np.array()</code> and <code>np.asarray()</code></p>\n",
    "</p>\n",
    "<b>Multi-dimensional</b>\n",
    "\t<p style=\"font-family:'Avenir Next';\">For multidimensional arrays we can get the <code>shape</code> of it, e.g., \n",
    "<pre>a = np.array([[1,2,3], ['a','b','c']])\n",
    "\tprint(a.shape)</pre> \n",
    "    return <code>(2,3)</code> two rows of 3 columns.<br />\n",
    "    <p style=\"font-family:'Avenir Next';\">Practice using <b>reshape()</b>, e.g., <code>reshape(5,5)</code>.  Note: when reshaping make sure there's the same number of rows and columns (e.g., (3,5) to (5,3) because need the same number of elements (here 15); if you use (3,5) (5,5) you'd need 25 but we have only 15.  Verify the number of dimensions by asking ... <code>(a.ndim)</code>\n",
    "    </p>\n",
    "<hr />    \n",
    "<p style=\"color:red; font-size:18px;\"><i>Example:</i></p>\n",
    "<p style=\"font-family:'Avenir Next';\">Numpy is a linear algebra library, especially useful for operations on arrays.  Numpy uses C++.  It&rsquo;s array is much faster than python lists.</p>\n",
    "<p>Uses in math work (as a replacement for Matlab), image processing, and machine learning using matrix adding, multiplication, transposition, etc. </p>\n",
    "<p style=\"font-family:'Avenir Next';\">Other important libraries are <b>pandas</b>, <b>matplotlib</b>, <b>sciplot</b>, and hosts of other special-purpose libraries, like pygame, handwriting and speech recognition with scikit-learn, and more.</p>\n",
    "<p style=\"font-family:'Avenir Next';\">Numpy handles a lot of data types designed for matrix multiplication: \n",
    "<ul style=\"line-height:2em;\">\n",
    "    <li>scalars [individual fixed-size data objects, like ints]</li>\n",
    "    <li>masked arrays (using booleans to show if a condition is met (0,1))</li>\n",
    "    <li>dtypes</li>\n",
    "    <li>null as a data type (e.g., df.isnull().sum() and provide a way to replace nulls with a default value, like <i>k</i>-nearest neighbors (<code>df.fillnam(value=mean(df['x'])</code>)</li>\n",
    "    <li>auto cast imaginary nubers of a float</li>\n",
    "    <li>built-in functions (.log(), .recipricol(), .mod(), .convolve() [when two functions work together to create a new function]; turning NaN into a number (<code>.nan_to_num(np.inf)</code>)</li>\n",
    "    <li>and faster techniques (libraries in C, parallel instructions as vectorization [compiles repetitive program instructions into a single vector (a single operation) over a large dataset (that&rsquo;s been broken down to subsets)]</li>\n",
    "    <li>some of the functions are called ufunc (like log2(), gcd(), lcd(), trig functions, etc.</li>\n",
    "</ul>\n",
    "</p>\n",
    "</blockquote>\n",
    "<hr />"
   ]
  },
  {
   "cell_type": "code",
   "execution_count": 17,
   "metadata": {},
   "outputs": [
    {
     "data": {
      "text/plain": [
       "2"
      ]
     },
     "execution_count": 17,
     "metadata": {},
     "output_type": "execute_result"
    }
   ],
   "source": [
    "import numpy as np\n",
    "a = np.array([[1,2,3], ['a','b','c']])\n",
    "a.ndim\n",
    "a.shape[0]"
   ]
  },
  {
   "cell_type": "markdown",
   "metadata": {},
   "source": [
    "<hr />\n",
    "<p style=\"padding:10px; border-radius:5px; background-color:#3B7EA1; color:white; font-size:22px;\">2a. One-dimensional array: \n",
    "    [aka scalar; replacement for python list]</p>\n",
    "<p style=\"font-family:'Avenir Next';\">Several examples...</p>\n",
    "<p style=\"font-family:'Avenir Next';\">First the basic structure:</p>"
   ]
  },
  {
   "cell_type": "code",
   "execution_count": null,
   "metadata": {},
   "outputs": [],
   "source": []
  },
  {
   "cell_type": "code",
   "execution_count": 18,
   "metadata": {},
   "outputs": [
    {
     "name": "stdout",
     "output_type": "stream",
     "text": [
      "1-d Array:\t\t[1 2 3 4 5]\n"
     ]
    }
   ],
   "source": [
    "import numpy as np\n",
    "\n",
    "# ONE-DIMENSIONAL ARRAY (scalar)\n",
    "x = [1,2,3,4,5]\n",
    "y = np.array(x)\n",
    "print(f\"1-d Array:\\t\\t{y}\")"
   ]
  },
  {
   "cell_type": "code",
   "execution_count": 21,
   "metadata": {},
   "outputs": [
    {
     "name": "stdout",
     "output_type": "stream",
     "text": [
      "[ 0  1  2  3  4  5  6  7  8  9 10]\n"
     ]
    },
    {
     "data": {
      "text/plain": [
       "55"
      ]
     },
     "execution_count": 21,
     "metadata": {},
     "output_type": "execute_result"
    }
   ],
   "source": [
    "arr = np.arange(0,11) # just to demo using the arange()\n",
    "print(arr)\n",
    "np.sum(arr)\n",
    "np."
   ]
  },
  {
   "cell_type": "markdown",
   "metadata": {},
   "source": [
    "<blockquote  style=\"font-family:'Avenir Next';\">Example using basic stat commands on numpy array.  The first steps in analysis include reducing the data that don't match our research question, or are out of range, etc., and to create a profile of our data, using <b>measures of central tendancy</b>.  More options for multi-dimensional arrays and easier stats libraries, too.  For now examples:</blockquote>"
   ]
  },
  {
   "cell_type": "code",
   "execution_count": 22,
   "metadata": {},
   "outputs": [
    {
     "name": "stdout",
     "output_type": "stream",
     "text": [
      "________________________________________\n",
      "[ 0  1  2  3  4  5  6  7  8  9 10]\n",
      "sum:\t 55\n",
      "mean:\t 5.0\n",
      "arg min: 0\n",
      "max: \t 10\n",
      "________________________________________\n",
      "[30, 10, 23, 30, 3, 29, 44, 43, 42, 22]\n",
      "sum:\t 276\n",
      "mean:\t 27.6\n",
      "arg min: 4\n",
      "max: \t 44\n",
      "avg: \t 27.6\n",
      "median: \t 29.5\n",
      "avg: \t 27.6\n",
      "std dev:\t 13.016912076218384\n",
      "variance:\t 169.44\n",
      "Var float64:\t 169.44\n"
     ]
    }
   ],
   "source": [
    "arr = np.arange(0,11) # just to demo using the arange()\n",
    "other_array = [30, 10, 23, 30, 3, 29, 44, 43, 42, 22]\n",
    "\n",
    "print(\"_\"*40)\n",
    "print(arr)\n",
    "print(\"sum:\\t\", np.sum(arr))\n",
    "print(\"mean:\\t\", np.mean(arr))\n",
    "print(\"arg min:\", np.argmin(arr))\n",
    "print(\"max: \\t\", np.max(arr))\n",
    "\n",
    "print(\"_\"*40)\n",
    "print(other_array)\n",
    "print(\"sum:\\t\", np.sum(other_array))\n",
    "print(\"mean:\\t\", np.mean(other_array))\n",
    "print(\"arg min:\", np.argmin(other_array))\n",
    "print(\"max: \\t\", np.max(other_array))\n",
    "print(\"avg: \\t\", np.average(other_array))\n",
    "print(\"median: \\t\", np.median(other_array))\n",
    "print(\"avg: \\t\", np.average(other_array))\n",
    "print(\"std dev:\\t\", np.std(other_array))\n",
    "print(\"variance:\\t\", np.var(other_array))\n",
    "print(\"Var float64:\\t\", np.var(other_array, dtype=np.float64))"
   ]
  },
  {
   "cell_type": "code",
   "execution_count": 34,
   "metadata": {},
   "outputs": [
    {
     "name": "stdout",
     "output_type": "stream",
     "text": [
      "[[ 1  3  9]\n",
      " [ 9 10  2]\n",
      " [ 9  6  5]\n",
      " [ 7  7 10]\n",
      " [ 3  9  9]]\n",
      "\n",
      "Log:\n",
      "[[0.         1.09861229 2.19722458]\n",
      " [2.19722458 2.30258509 0.69314718]\n",
      " [2.19722458 1.79175947 1.60943791]\n",
      " [1.94591015 1.94591015 2.30258509]\n",
      " [1.09861229 2.19722458 2.19722458]]\n",
      "[5.8 7.  7. ]\n"
     ]
    }
   ],
   "source": [
    "#Fill an array with random ints: \n",
    "ar = np.random.randint(1, 11, size=(5,3))\n",
    "print(ar)\n",
    "print(\"\\nLog:\")\n",
    "# log?\n",
    "print(np.log(ar))\n",
    "print(np.mean(ar, axis=0))"
   ]
  },
  {
   "cell_type": "code",
   "execution_count": 49,
   "metadata": {},
   "outputs": [
    {
     "name": "stdout",
     "output_type": "stream",
     "text": [
      "[[ 5  5 10  3  7]\n",
      " [ 7  9  1  1 10]\n",
      " [ 8  3  5  3  3]\n",
      " [ 3 10  8  7  5]\n",
      " [10  6 10 10  6]]\n",
      "[[1 1 2 3 3]\n",
      " [2 1 2 3 3]\n",
      " [4 4 2 1 3]\n",
      " [4 3 1 4 4]\n",
      " [1 4 2 4 3]]\n",
      "6.2\n",
      "2.6\n",
      "normalized ar1\n",
      "2.6\n",
      "(normalized ar1 - mean(ar1))/sd(ar1)\n",
      "[[-0.41015156 -0.41015156  1.29881326 -1.09373748  0.27343437]\n",
      " [ 0.27343437  0.9570203  -1.77732341 -1.77732341  1.29881326]\n",
      " [ 0.61522733 -1.09373748 -0.41015156 -1.09373748 -1.09373748]\n",
      " [-1.09373748  1.29881326  0.61522733  0.27343437 -0.41015156]\n",
      " [ 1.29881326 -0.06835859  1.29881326  1.29881326 -0.06835859]]\n",
      "-6.272760089132134e-17\n",
      "0.9999999999999999\n"
     ]
    }
   ],
   "source": [
    "# normalize the data \n",
    "\n",
    "ar1 = np.random.randint(1, 11, size=(5,5))\n",
    "ar2 = np.random.randint(1, 5, size=(5,5))\n",
    "\n",
    "print(ar1)\n",
    "print(ar2)\n",
    "\n",
    "\n",
    "print(np.mean(ar1))\n",
    "print(np.mean(ar2))\n",
    "print ('normalized ar1')\n",
    "print((np.mean(np.mean(ar2)*ar1)/np.mean(ar1)))\n",
    "\n",
    "\n",
    "print ('(normalized ar1 - mean(ar1))/sd(ar1)')\n",
    "print((ar1-np.mean(ar1))/np.std(ar1))\n",
    "print(np.mean((ar1-np.mean(ar1))/np.std(ar1)))\n",
    "print(np.std((ar1-np.mean(ar1))/np.std(ar1)))\n"
   ]
  },
  {
   "cell_type": "code",
   "execution_count": 53,
   "metadata": {},
   "outputs": [
    {
     "name": "stdout",
     "output_type": "stream",
     "text": [
      "[[ 1  3  9]\n",
      " [ 9 10  2]\n",
      " [ 9  6  5]\n",
      " [ 7  7 10]\n",
      " [ 3  9  9]]\n",
      "\n",
      "get just the first column\n",
      "[[1]\n",
      " [9]]\n"
     ]
    }
   ],
   "source": [
    "# Selecting:  get columns 1 and 2:\n",
    "print(ar[:, 0:3]) # selects col 1&2\n",
    "\n",
    "# get just the first column\n",
    "print(\"\\nget just the first column\")\n",
    "print(ar[[0,2], 0:1])"
   ]
  },
  {
   "cell_type": "markdown",
   "metadata": {},
   "source": [
    "<blockquote><h3>Sidenote</h3>\n",
    "    <p>Python RANDOM and UFUNCTS (universal functions) have a lot of useful tools: \n",
    "random, seaborn, normal, binomial, poisson, uniform, logistic, multinomial, \n",
    "        exponential, chi square, rayleigh, pareto, zipf distributions</p>\n",
    "    <p>UFUNCTS universal functions: compare using zip() to np.add(); \n",
    "arithmetic, rounding, logs, summations, products, difference, lcm, gcm,\n",
    "        trig, hyperbolic, set</p>\n",
    "    </blockquote>"
   ]
  },
  {
   "cell_type": "code",
   "execution_count": null,
   "metadata": {},
   "outputs": [],
   "source": []
  },
  {
   "cell_type": "code",
   "execution_count": 8,
   "metadata": {},
   "outputs": [],
   "source": []
  },
  {
   "cell_type": "markdown",
   "metadata": {},
   "source": [
    "<p style=\"padding:10px; border-radius:5px; background-color:#3B7EA1; color:white; font-size:22px;\">2b. Two-dimensional array; note the number of elements in each array.</p>"
   ]
  },
  {
   "cell_type": "code",
   "execution_count": 33,
   "metadata": {},
   "outputs": [
    {
     "name": "stdout",
     "output_type": "stream",
     "text": [
      "2D Array:\n",
      " [['1' '2' '3']\n",
      " ['a' 'b' 'c']]\n",
      "rows, col\t\t (2, 3)\n",
      "\n",
      "Boolean Indexing Examples:\n",
      "\n",
      "and we need to test first if some condition is met, here whether j > 4\n",
      "[1 6 3 2 4 2]\n",
      "[False  True False False False False]\n"
     ]
    }
   ],
   "source": [
    "# TWO-DIMENSIONAL ARRAY\n",
    "x = np.array([ [1,2,3], ['a','b','c'] ])\n",
    "print(\"2D Array:\\n\", x)\n",
    "print(\"rows, col\\t\\t\", x.shape)\n",
    "\n",
    "# BOOLEAN INDEXING\n",
    "print(\"\\nBoolean Indexing Examples:\\n\")\n",
    "print(\"and we need to test first if some condition is met, here whether j > 4\")\n",
    "j = np.array([1, 6, 3, 2, 4, 2])\n",
    "print(j)\n",
    "print(j > 4)"
   ]
  },
  {
   "cell_type": "markdown",
   "metadata": {},
   "source": [
    "<blockquote style=\"font-family:'Avenir Next';\">Example using basic stat commands on numpy multi-dimensional array:</blockquote>"
   ]
  },
  {
   "cell_type": "code",
   "execution_count": 54,
   "metadata": {},
   "outputs": [
    {
     "name": "stdout",
     "output_type": "stream",
     "text": [
      "Multiplication in array:  70\n"
     ]
    }
   ],
   "source": [
    "# create some arrays - notice the [ [ ]]\n",
    "b = np.array( [ [2], [1], [0] ])\n",
    "c = np.array([1, 2, 3])\n",
    "d = np.array([5, 10, 15])\n",
    "\n",
    "print(\"Multiplication in array: \", np.matmul(c, d))"
   ]
  },
  {
   "cell_type": "markdown",
   "metadata": {},
   "source": [
    "<blockquote style=\"font-family:'Avenir Next';\">Filling in for missing values:</blockquote>"
   ]
  },
  {
   "cell_type": "code",
   "execution_count": 72,
   "metadata": {},
   "outputs": [
    {
     "name": "stdout",
     "output_type": "stream",
     "text": [
      "Get some data, start stop skip [ 0  5 10 15]\n",
      "\n",
      "Create zero-filled array [[0. 0. 0. 0.]\n",
      " [0. 0. 0. 0.]\n",
      " [0. 0. 0. 0.]\n",
      " [0. 0. 0. 0.]]\n",
      "\n",
      "Create one-filled array [1. 1. 1. 1.]\n",
      "\n",
      "Create an array of a range (common in plotting) with linspace\n",
      "\n",
      "<class 'numpy.ndarray'>\n",
      "\n",
      "Updating values in a range of cells [1:3]:\n",
      " [0.         0.02564103 0.05128205 0.07692308 0.1025641  0.12820513\n",
      " 0.15384615 0.17948718 0.20512821 0.23076923 0.25641026 0.28205128\n",
      " 0.30769231 0.33333333 0.35897436 0.38461538 0.41025641 0.43589744\n",
      " 0.46153846 0.48717949 0.51282051 0.53846154 0.56410256 0.58974359\n",
      " 0.61538462 0.64102564 0.66666667 0.69230769 0.71794872 0.74358974\n",
      " 0.76923077 0.79487179 0.82051282 0.84615385 0.87179487 0.8974359\n",
      " 0.92307692 0.94871795 0.97435897 1.        ]\n",
      "\n"
     ]
    }
   ],
   "source": [
    "#create some data\n",
    "print(f\"Get some data, start stop skip {np.arange(0, 20, 5)}\\n\")\n",
    "\n",
    "print(f\"Create zero-filled array {np.zeros([4,4])}\\n\")\n",
    "\n",
    "print(f\"Create one-filled array {np.ones(4)}\\n\")\n",
    "\n",
    "print(f\"Create an array of a range (common in plotting) with linspace\\n\")\n",
    "x = np.linspace(0, 1, 40)\n",
    "\n",
    "#x[1:3] = 7\n",
    "\n",
    "print(f\"\\nUpdating values in a range of cells [1:3]:\\n {x}\\n\")"
   ]
  },
  {
   "cell_type": "code",
   "execution_count": 28,
   "metadata": {
    "tags": []
   },
   "outputs": [
    {
     "data": {
      "text/plain": [
       "(array([  1.,   0.,   0.,   2.,   7.,   6.,   9.,  17.,  26.,  38.,  46.,\n",
       "         51.,  84.,  68., 100.,  84.,  79.,  84.,  59.,  70.,  36.,  49.,\n",
       "         31.,  11.,  17.,  10.,   8.,   4.,   2.,   1.]),\n",
       " array([3.3379197 , 3.44413953, 3.55035937, 3.6565792 , 3.76279904,\n",
       "        3.86901887, 3.97523871, 4.08145854, 4.18767838, 4.29389821,\n",
       "        4.40011805, 4.50633788, 4.61255772, 4.71877755, 4.82499739,\n",
       "        4.93121722, 5.03743706, 5.14365689, 5.24987673, 5.35609656,\n",
       "        5.46231639, 5.56853623, 5.67475606, 5.7809759 , 5.88719573,\n",
       "        5.99341557, 6.0996354 , 6.20585524, 6.31207507, 6.41829491,\n",
       "        6.52451474]),\n",
       " <BarContainer object of 30 artists>)"
      ]
     },
     "execution_count": 28,
     "metadata": {},
     "output_type": "execute_result"
    },
    {
     "data": {
      "image/png": "[encoded data removed]",
      "text/plain": [
       "<Figure size 640x480 with 1 Axes>"
      ]
     },
     "metadata": {},
     "output_type": "display_data"
    }
   ],
   "source": [
    "import matplotlib.pyplot as plt\n",
    "import numpy as np\n",
    "## make a histogram drawn from a normal distribution of 10 data points\n",
    "x = np.random.normal(0.5,0.5,10)\n",
    "plt.hist(x)\n",
    "\n",
    "## make a histogram drawn drom a normal distribution of 1000 data points\n",
    "\n",
    "## make a histogram drawn from two normal distributions centered on 0 and 5 \n",
    "x = np.random.normal(0,0.5,1000)\n",
    "y = np.random.normal(5,0.5,1000)\n",
    "\n",
    "plt.hist(x, bins=30)\n",
    "plt.hist(y, bins=30)\n",
    "## make a histogram drawn from a poission distribution and a normal distribution\n",
    "\n",
    "## look up poisson parameter and move it to the right\n",
    "#- hint use ?\n",
    "\n",
    "#threshold the poissondistrbtion at 5 and re-plot\n"
   ]
  },
  {
   "cell_type": "code",
   "execution_count": 29,
   "metadata": {
    "tags": []
   },
   "outputs": [
    {
     "data": {
      "text/plain": [
       "(array([   0.,    0.,    0.,    0.,    0., 1000.,    0.,    0.,    0.,\n",
       "           0.]),\n",
       " array([-0.5, -0.4, -0.3, -0.2, -0.1,  0. ,  0.1,  0.2,  0.3,  0.4,  0.5]),\n",
       " <BarContainer object of 10 artists>)"
      ]
     },
     "execution_count": 29,
     "metadata": {},
     "output_type": "execute_result"
    },
    {
     "data": {
      "image/png": "[encoded data removed]",
      "text/plain": [
       "<Figure size 640x480 with 1 Axes>"
      ]
     },
     "metadata": {},
     "output_type": "display_data"
    }
   ],
   "source": [
    "n = 0\n",
    "p = 0.5\n",
    "data = np.random.binomial(n, p, size=1000)\n",
    "plt.hist(data)"
   ]
  },
  {
   "cell_type": "markdown",
   "metadata": {},
   "source": [
    "<hr>\n",
    "<h3>What about integrating arrays into a single 2-d array?</h3>\n",
    "<p><code>vstack</code>, <code>hstack</code>, and <code>concatenate</code>.  Notice the axis option 1 = means <u>rows</u> and 0 means <u>columns</u>.</p>"
   ]
  },
  {
   "cell_type": "code",
   "execution_count": 18,
   "metadata": {
    "tags": []
   },
   "outputs": [
    {
     "name": "stdout",
     "output_type": "stream",
     "text": [
      "vstack\n",
      "[[ 0  1  2  3  4  5  6  7  8  9]\n",
      " [11 12 13 14 15 16 17 18 19 20]]\n",
      "\n",
      "hstack\n",
      "[ 0  1  2  3  4  5  6  7  8  9 11 12 13 14 15 16 17 18 19 20]\n"
     ]
    }
   ],
   "source": [
    "a1 = np.arange(0, 10)\n",
    "a2 = np.arange(11, 21)\n",
    "\n",
    "print(\"vstack\")\n",
    "print(np.vstack([a1, a2]))\n",
    "\n",
    "print(\"\\nhstack\")\n",
    "print(np.hstack([a1, a2]))\n"
   ]
  },
  {
   "cell_type": "code",
   "execution_count": 19,
   "metadata": {
    "tags": []
   },
   "outputs": [
    {
     "name": "stdout",
     "output_type": "stream",
     "text": [
      "[[ 5  6  4]\n",
      " [ 8 14  3]\n",
      " [13  9 11]\n",
      " [12  5  8]\n",
      " [ 1 11  4]]\n",
      "[[3 4 3]\n",
      " [5 0 4]\n",
      " [4 5 0]\n",
      " [2 2 3]\n",
      " [3 5 3]]\n",
      "\n",
      "concatenate, axis = 1\n",
      "[[ 5  6  4  3  4  3]\n",
      " [ 8 14  3  5  0  4]\n",
      " [13  9 11  4  5  0]\n",
      " [12  5  8  2  2  3]\n",
      " [ 1 11  4  3  5  3]]\n"
     ]
    }
   ],
   "source": [
    "ar1 = np.random.randint(15, size=(5, 3))\n",
    "ar2 = np.random.randint(7, size=(5, 3))\n",
    "print(ar1)\n",
    "print(ar2)\n",
    "print(\"\\nconcatenate, axis = 1\")\n",
    "print(np.concatenate((ar1, ar2), axis=1))"
   ]
  },
  {
   "cell_type": "code",
   "execution_count": 20,
   "metadata": {
    "tags": []
   },
   "outputs": [
    {
     "data": {
      "text/plain": [
       "array([[ 7,  6,  7],\n",
       "       [13, 14,  7],\n",
       "       [13, 13, 11],\n",
       "       [14,  7, 11],\n",
       "       [ 3, 15,  7]])"
      ]
     },
     "execution_count": 20,
     "metadata": {},
     "output_type": "execute_result"
    }
   ],
   "source": [
    "# try the set([1,2]) | set([2,3]) operator:\n",
    "# bit-wise or operator\n",
    "ar1 | ar2"
   ]
  },
  {
   "cell_type": "code",
   "execution_count": null,
   "metadata": {},
   "outputs": [],
   "source": []
  },
  {
   "cell_type": "markdown",
   "metadata": {},
   "source": [
    "<hr /><p>\n",
    "<img style=\"float:left;width:77px; padding-right:25px;\" src=\"images/QuestionIcon.png\"><h3>Some Questions:</h3>  \n",
    "<ol>\n",
    "    <li>Convert the values of the above array from floats to ints</li>\n",
    "       <li>Quick way to get values based on some criterium?</li>\n",
    "    <li>Search an array for a value ... </li>\n",
    "    <li>How to get the values and their indices?</li><li>How might we iterate over a 2- or multidimensional array without using nested for loops?</li>\n",
    "</ol></p>"
   ]
  },
  {
   "cell_type": "code",
   "execution_count": 17,
   "metadata": {
    "tags": []
   },
   "outputs": [
    {
     "name": "stdin",
     "output_type": "stream",
     "text": [
      "Enter an integer for an N x N gameboard:  5\n"
     ]
    },
    {
     "data": {
      "text/plain": [
       "array([[0., 0., 0., 0., 1.],\n",
       "       [0., 0., 0., 0., 0.],\n",
       "       [0., 0., 0., 0., 0.],\n",
       "       [0., 0., 0., 0., 0.],\n",
       "       [0., 0., 0., 0., 0.]])"
      ]
     },
     "execution_count": 17,
     "metadata": {},
     "output_type": "execute_result"
    }
   ],
   "source": [
    "#make a gameboard out of a numpy nxn array of zeros\n",
    "import numpy as np\n",
    "\n",
    "n = int(input('Enter an integer for an N x N gameboard: '))\n",
    "gb = np.zeros([n,n])\n",
    "\n",
    "\n",
    "#put a pawn in the lower left corner (use a 1)\n",
    "gb[n-1,0] = 1\n",
    "\n",
    "# execute command move the pawn to the upper right corner\n",
    "gb = gb.T\n",
    "gb\n"
   ]
  },
  {
   "cell_type": "code",
   "execution_count": 1,
   "metadata": {},
   "outputs": [],
   "source": [
    "# question 2 - yields booleans\n"
   ]
  },
  {
   "cell_type": "code",
   "execution_count": 2,
   "metadata": {},
   "outputs": [],
   "source": [
    "# question 2a\n"
   ]
  },
  {
   "cell_type": "code",
   "execution_count": 3,
   "metadata": {},
   "outputs": [],
   "source": [
    "# question 2"
   ]
  },
  {
   "cell_type": "code",
   "execution_count": 5,
   "metadata": {},
   "outputs": [],
   "source": [
    "# question 2\n"
   ]
  },
  {
   "cell_type": "code",
   "execution_count": 6,
   "metadata": {},
   "outputs": [],
   "source": [
    "# question 3\n"
   ]
  },
  {
   "cell_type": "markdown",
   "metadata": {},
   "source": [
    "<hr />\n",
    "<p style=\"padding:10px; border-radius:5px; background-color:#3B7EA1; color:white; font-size:22px;\">2c. Higher-dimensional array; note the number of elements in each array.</p>\n",
    "<p  style=\"font-family:'Avenir Next';\">Start off with 1D: <code>a = np.array([5, 10, 50])</code></p>\n",
    "<p style=\"font-family:'Avenir Next';\"><code>reshape</code> can turn 1D to 2D.  Ultimately you'll want to do some calculations and extract subsets of data.</p>"
   ]
  },
  {
   "cell_type": "code",
   "execution_count": 18,
   "metadata": {},
   "outputs": [
    {
     "name": "stdout",
     "output_type": "stream",
     "text": [
      "\n",
      "And for higher dimensions:\n",
      "[[ True False False False False]\n",
      " [ True  True False False False]\n",
      " [ True  True  True  True  True]]\n"
     ]
    }
   ],
   "source": [
    "# HIGHER DIMENSIONS\n",
    "print(\"\\nAnd for higher dimensions:\")\n",
    "k = np.array([ [10, 20, 30, 40, 50],\n",
    "              [5, 10, 33, 23, 39],\n",
    "            [2, 4, 6, 9, 10]])\n",
    "print(k <= 10)"
   ]
  },
  {
   "cell_type": "code",
   "execution_count": 35,
   "metadata": {},
   "outputs": [
    {
     "name": "stdout",
     "output_type": "stream",
     "text": [
      "[[0 0]\n",
      " [1 0]\n",
      " [1 1]\n",
      " [2 0]\n",
      " [2 1]\n",
      " [2 2]\n",
      " [2 3]\n",
      " [2 4]]\n",
      "\n",
      "\n",
      "[[1 4]]\n"
     ]
    }
   ],
   "source": [
    "print(np.transpose(np.nonzero(k <= 10)))\n",
    "print(\"\\n\")\n",
    "print(np.transpose(np.nonzero(k == 39)))"
   ]
  },
  {
   "cell_type": "markdown",
   "metadata": {},
   "source": [
    "<hr />\n",
    "<p style=\"padding:10px; border-radius:5px; background-color:#3B7EA1; color:white; font-size:22px;\">Instead of hard coding a value, have that criterion calculated, stringing multiple methods, and use in a function ... </p>"
   ]
  },
  {
   "cell_type": "code",
   "execution_count": null,
   "metadata": {},
   "outputs": [],
   "source": [
    "# Notice the use of chained methods ... \n",
    "# note, too, that sometimes we need to wrap parts of the commands in ( ) \n",
    "# to ensure that the values are returned -before- comparing the results.\n",
    "\n",
    "def less_than_mean(my_matrix):\n",
    "    return (my_matrix < my_matrix.mean()).sum()\n",
    "    \n",
    "less_than_mean(ar)"
   ]
  },
  {
   "cell_type": "code",
   "execution_count": 36,
   "metadata": {},
   "outputs": [
    {
     "name": "stdout",
     "output_type": "stream",
     "text": [
      "[2 4 6]\n",
      "4\n",
      "\n",
      "---------------\n",
      "[[1. 1. 1.]\n",
      " [1. 1. 1.]]\n",
      "\n",
      "---------------\n",
      "[[1.  1.  0.3]\n",
      " [1.  1.  1. ]]\n",
      "\n",
      "---------------\n",
      "[5 7 9]\n"
     ]
    }
   ],
   "source": [
    "#1d:\n",
    "j = np.array([2, 4, 6])\n",
    "print(j)\n",
    "print(j[1])\n",
    "\n",
    "#2d:\n",
    "print(\"\\n---------------\")\n",
    "k = np.ones((2, 3))\n",
    "print(k)\n",
    "\n",
    "print(\"\\n---------------\")\n",
    "k[0, 2] = .3\n",
    "print(k)\n",
    "\n",
    "# k[0] = .3\n",
    "\n",
    "print(\"\\n---------------\")\n",
    "# add 2 arrays of same size\n",
    "l = np.array([1,2,3])\n",
    "m = np.array([4,5,6])\n",
    "print( l + m )"
   ]
  },
  {
   "cell_type": "markdown",
   "metadata": {},
   "source": [
    "<hr />\n",
    "<p style=\"font-family:'Avenir Next';\"><b>Slice</b> up your Multidimensional Arrays</p>"
   ]
  },
  {
   "cell_type": "code",
   "execution_count": 37,
   "metadata": {},
   "outputs": [
    {
     "name": "stdout",
     "output_type": "stream",
     "text": [
      "[[ 0  1  2  3  4  5]\n",
      " [ 6  7  8  9 10 11]\n",
      " [12 13 14 15 16 17]\n",
      " [18 19 20 21 22 23]\n",
      " [24 25 26 27 28 29]]\n",
      "\n",
      "----------\n",
      "[[ 6  7]\n",
      " [12 13]\n",
      " [18 19]]\n",
      "\n",
      "----------\n",
      "[[ 2  3]\n",
      " [ 8  9]\n",
      " [14 15]]\n",
      "\n",
      "----------\n",
      "[ 0  6 12 18 24]\n",
      "\n",
      "broadcast a change of the first 3x3\n",
      "[[ 0  0  0  3  4  5]\n",
      " [ 0  0  0  9 10 11]\n",
      " [ 0  0  0 15 16 17]\n",
      " [18 19 20 21 22 23]\n",
      " [24 25 26 27 28 29]]\n"
     ]
    }
   ],
   "source": [
    "a = np.reshape(np.arange(30), (5,6)) # create a 5x6 array\n",
    "print(a)\n",
    "\n",
    "print(\"\\n----------\")\n",
    "b = a[1:4, 0:2] #select elements in rows 1-3 and columns 0-1\n",
    "print(b)\n",
    "\n",
    "print(\"\\n----------\")\n",
    "c = a[:3, 2:4] #select elements in rows 0-2 and columns 2-3\n",
    "print(c)\n",
    "\n",
    "print(\"\\n----------\")\n",
    "d = a[:, 0] # select all elements in the 0-th column\n",
    "print(d)\n",
    "\n",
    "print(\"\\nbroadcast a change of the first 3x3\")\n",
    "a[:3, :3] = 0\n",
    "print(a)"
   ]
  },
  {
   "cell_type": "markdown",
   "metadata": {},
   "source": [
    "<blockquote  style=\"font-family:'Avenir Next';\">\n",
    "    <b style=\"color:red;\">2c.1</b> Fancy indexing, returning T/F.  See also <a href=\"https://numpy.org/doc/stable/user/basics.indexing.html\" target=\"new\">NumPy</a></blockquote>"
   ]
  },
  {
   "cell_type": "code",
   "execution_count": 9,
   "metadata": {},
   "outputs": [
    {
     "name": "stdout",
     "output_type": "stream",
     "text": [
      "\n",
      "Fancy Indexing or Boolean Mask:\n",
      "A condition for one array is used to return data \n",
      "of another array when the condition is met.\n",
      "\n",
      "Print the data from one array (m) where a condition is met in another (l):\n",
      " ['C' 'D' 'E']\n",
      "m:  ['A' 'B' 'C' 'D' 'E']\n",
      "l:  [2 3 4 5 6]\n",
      "['C' 'D' 'E']\n",
      "\n",
      "Extract from l where some condition is met: only even #s:\n",
      "[2 4 6]\n"
     ]
    }
   ],
   "source": [
    "# BOOLEAN MASK / FANCY INDEXING\n",
    "print(\"\\nFancy Indexing or Boolean Mask:\")\n",
    "print(\"A condition for one array is used to return data \")\n",
    "print(\"of another array when the condition is met.\")\n",
    "l = np.array([2, 3, 4, 5, 6])\n",
    "m = np.array([\"A\", \"B\", \"C\", \"D\", \"E\"])\n",
    "\n",
    "\n",
    "print(\"\\nPrint the data from one array (m) where a condition is met in another (l):\\n\", m[l >= 4])  \n",
    "print(\"m: \", m)\n",
    "print(\"l: \", l)\n",
    "print(m[l >= 4])\n",
    "\n",
    "print(\"\\nExtract from l where some condition is met: only even #s:\")\n",
    "print( l[l % 2 == 0])"
   ]
  },
  {
   "cell_type": "markdown",
   "metadata": {},
   "source": [
    "<blockquote style=\"font-family:'Avenir Next';\"><b style=\"color:red;\">2c.2</b> Vectorization\n",
    "</blockquote>"
   ]
  },
  {
   "cell_type": "code",
   "execution_count": 39,
   "metadata": {},
   "outputs": [
    {
     "name": "stdout",
     "output_type": "stream",
     "text": [
      "Vectorizing a multidimensional array:\n",
      " [1.41421356 1.73205081 2.         2.23606798 2.44948974]\n"
     ]
    }
   ],
   "source": [
    "# side note: vectorization is O(log n)\n",
    "# see https://numpy.org/doc/stable/reference/generated/numpy.vectorize.html\n",
    "# faster for some work, otherwise same.\n",
    "# vectorization is just implementing array operations on a dataset \n",
    "# where everything is treated linearlly instead of by row\n",
    "# e.g., [a, s, d, f, g, h] instead of\n",
    "# [a, s, d]\n",
    "# [f, g, h]\n",
    "import numpy as np\n",
    "import math\n",
    "\n",
    "def sq(x):\n",
    "    return np.sqrt(x) # return math.sqrt(x)\n",
    "\n",
    "def vectorize(x):\n",
    "    return np.vectorize(sq)(x)\n",
    "\n",
    "print(f\"Vectorizing a multidimensional array:\\n {vectorize(l)}\")\n"
   ]
  },
  {
   "cell_type": "markdown",
   "metadata": {},
   "source": [
    "<table width=\"100%\">\n",
    "    <tr>\n",
    "        <td><img src=\"images/dotproduct.png\"/></td>\n",
    "        <td><img src=\"images/outerProduct.png\"></td>\n",
    "        <td><img src=\"images/ElementwiseProduct.png\"></td>\n",
    "    </tr>\n",
    "</table>    "
   ]
  },
  {
   "cell_type": "markdown",
   "metadata": {},
   "source": [
    "<p style=\"font-family:'Avenir Next';\"><b style=\"color:red;\">2d</b> Reshaping\n",
    "</p>"
   ]
  },
  {
   "cell_type": "code",
   "execution_count": 115,
   "metadata": {},
   "outputs": [
    {
     "name": "stdout",
     "output_type": "stream",
     "text": [
      "---------------------------------------- \n",
      "\n",
      "Reshape the data from 1D to 2D; and from 1D to 3D\n",
      "[['A' 'B' 'C']\n",
      " ['D' 'E' 'F']\n",
      " ['G' 'H' 'I']]\n",
      "---------------------------------------- \n",
      "\n",
      "Reshape the data from 1D to 3D\n",
      "[[[1 2 3]\n",
      "  [4 5 6]\n",
      "  [7 8 9]]]\n"
     ]
    }
   ],
   "source": [
    "# RESHAPING\n",
    "print(\"-\"*40,\"\\n\")\n",
    "print(\"Reshape the data from 1D to 2D; and from 1D to 3D\")\n",
    "testarr = np.array(['A','B','C','D','E','F','G','H','I'])\n",
    "newtestarr = testarr.reshape(3, 3)\n",
    "print(newtestarr)\n",
    "\n",
    "print(\"-\"*40,\"\\n\")\n",
    "print(\"Reshape the data from 1D to 3D\")\n",
    "testarr = np.array([1, 2, 3, 4, 5, 6, 7, 8, 9])\n",
    "newtestarr = testarr.reshape(1, 3, 3)\n",
    "\n",
    "print(newtestarr)"
   ]
  },
  {
   "cell_type": "markdown",
   "metadata": {},
   "source": [
    "<hr />\n",
    "<h2 style=\"background-color: #003262; color:white; border-radius: 4px; padding: 8px;\">Numpy Array Creation Recap</h2>\n",
    "<ul><li>Make 1, 2, or higher-dimensional arrays.</li>\n",
    "    <li>Reshape</li>\n",
    "    <li>Boolean Masks</li>\n",
    "</ul>"
   ]
  },
  {
   "cell_type": "markdown",
   "metadata": {},
   "source": [
    "<img style=\"width:100%\" src=\"images/NumPyArray1.jpeg\">"
   ]
  },
  {
   "cell_type": "markdown",
   "metadata": {},
   "source": [
    "<hr />\n",
    "<p style=\"color:red;font-family:Baskerville;font-size:18px;padding:10px;\"><i>Recap of other main nympy functions</i></p>\n",
    "<ol style=\"line-height: 2em; font-family:'Avenir Next';\">\n",
    "\t<li><b>slicing</b> and :  print([1:2])</li>\n",
    "\t<li><b>multiplication</b>: using two arrays, multiply them.</li>\n",
    "    <li>Finding some data: <b>where</b> to find a value, e.g., np.where(myarray == 9) or np.where(myarray // 3 == 3)</li>\n",
    "    <li><b>searchsorted</b> to insert a value in its right ordered place, like inserting \"b\" after \"a\" and \"c\" (e.g., np.searchsorted(alpha_array, 'b') to see what its index is</li>\n",
    "\t<li><b>arange()</b> with start, stop, step syntax</li>\n",
    "\t<li><b>zeros()</b> and <code>ones()</code>; <code>linspace</code>, an array full of 0s: <code>np.zeros(5)</code> <code>np.zeros( (4,10) )</code>.  linspace creates 1-D sapce of values from start, stop, number_to_create, e.g., <code>linspace(0,1,50)</code></li>\n",
    "\t<li><b>broadcasting</b> is a way to set a range of values to something.  Here set the data in an arry from 1-5 to be value of 5: <code>a[1:5] = 100</code>\n",
    "\t<li>eye() - an identity matrix created with a single # for the size</li>\n",
    "\t<li><b>dot product</b></li>\n",
    "\t<li><b>sum()</b> items in array</li>\n",
    "\t<li>mix in lambda functions ...<br />\n",
    "\t<pre>from functools import reduce\n",
    "\ta = [4, 10, 15]\n",
    "\tsum = reduce(lambda x, y: x + 1, a)\n",
    "\tprint(sum)\n",
    "\t</pre>\n",
    "\t</li>\n",
    "\t<li><b>mean</b></li>\n",
    "\t<li><b>exponent</b></li>\n",
    "\t<li><b>flatten</b> reduces the array to a single entity</li>\n",
    "\t<li><b>sort</b></li>\n",
    "\t<li><b>randomize an array</b> random.rand(0,3)<br />\n",
    "\tThere are variations random.randn() for normal distribution around 0 in single or 2d; random.randint().</li>\n",
    "\t<li><b>min(), max(), abs()</b> for values; <b>argmin()</b> and <b>argmax()</b> for index of min/max values: <code>a = np.random.randint(0,10,3)</code>  and find the location of the lowest value with a.arrmin()\n",
    "\t<li><b>sin(), cos()</b></li>\n",
    "\t<li><b>conditional</b>\n",
    "    <li>bitwise &amp; and and bitwise or |</li>\n",
    "</ol>\n",
    "<p>Also Built-in are <i>distributions</i> (normal, binomial, poisson, uniform, logistic, multinominla, exponential, chi square, rayleigh, parento, and zipf</p>\n",
    " <hr />"
   ]
  },
  {
   "cell_type": "markdown",
   "metadata": {},
   "source": [
    "<hr />\n",
    "<p style=\"padding:10px; border-radius:5px; background-color:#3B7EA1; color:white; font-size:22px;\"><i>Examples:</i> to integrate many techniques we&rsquo;ve learned so far.</p>\n",
    "<p><img src=\"images/hands-on.png\" style=\"float:left;width:75px;\">\n",
    "<ul style=\"font-family:'Avenir Next';\">\n",
    "    <li>Slicing &amp; Extracting with Numpy</li>\n",
    "    <li>Dot Product &amp; Runtime</li>\n",
    "    <li>Learning tools for exploration &amp; analysis: starting to integrate visualizations (later this term)</li>\n",
    "    <li>Mean squares</li>\n",
    "    <li>Demo stats package, running with 100,000,000 data: to suggest when you create your own libraries</li>\n",
    "    <li>Rational numbers: overwriting magic methods for object comparison</li>\n",
    "</ul>\n",
    "</p>\n",
    "<p>Or proceed directly to the breakout rooms.</p>"
   ]
  },
  {
   "cell_type": "markdown",
   "metadata": {},
   "source": [
    "<hr />\n",
    "<h2 style=\"background-color: #003262; color:white; border-radius: 4px; padding: 8px;\">\n",
    "Optional Section Below ... or Jumpt to Activity</h2>\n",
    "<ol>\n",
    "    <li><a href=\"activity/week_09_activity.ipynb\" target=\"new\">Activity</a></li>\n",
    "    <li><a href=\"activity/week_09_activity_solution.ipynb\" target=\"new\">Solution Key</a></li></ol>"
   ]
  },
  {
   "cell_type": "markdown",
   "metadata": {},
   "source": [
    "<hr />\n",
    "<p style=\"font-family:'Avenir Next'; color:red;\">Example: Slicing and axes in extracting data</p>\n",
    "    <p style=\"font-family:'Avenir Next';\">Both important ideas to practice.</p>"
   ]
  },
  {
   "cell_type": "code",
   "execution_count": 116,
   "metadata": {},
   "outputs": [
    {
     "name": "stdout",
     "output_type": "stream",
     "text": [
      "[[1 2 3 4]\n",
      " [4 3 2 1]\n",
      " [5 2 8 4]\n",
      " [4 1 7 9]]\n",
      "\n",
      ": column averages\n",
      "[3.5 2.  5.  4.5]\n",
      "\n",
      ": row averages\n",
      "[2.5  2.5  4.75 5.25]\n",
      "\n",
      ": Slice out a single column for averaging\n",
      "[3 2 8 7]\n",
      "5.0\n",
      "\n",
      ": first row:  [1 2 3 4]\n",
      "\n",
      ": single datum:  1\n"
     ]
    }
   ],
   "source": [
    "import numpy as np\n",
    "\"\"\" given this multidimensional array, let's get the mean \"\"\"\n",
    "testarray = np.array([[1,2,3,4],[4,3,2,1],[5,2,8,4],[4,1,7,9]])\n",
    "print(testarray)\n",
    "\n",
    "# to get the average by columns, use axis = 0\n",
    "print(\"\\n: column averages\")\n",
    "print(testarray.mean(axis = 0))\n",
    "\n",
    "# to get average by rows, use axis = 1\n",
    "print(\"\\n: row averages\")\n",
    "print(testarray.mean(axis = 1))\n",
    "\n",
    "# now let's extract a single column byindexing it ... \n",
    "# to extract column 2:\n",
    "print(\"\\n: Slice out a single column for averaging\")\n",
    "slice = testarray[:,2]\n",
    "print(slice)\n",
    "print(np.mean(slice))\n",
    "\n",
    "# slice out the first row of data\n",
    "print(\"\\n: first row: \", testarray[0,:])\n",
    "\n",
    "# slide out a single datum\n",
    "print(\"\\n: single datum: \", testarray[0,0])"
   ]
  },
  {
   "cell_type": "markdown",
   "metadata": {},
   "source": [
    "<hr />\n",
    "<p style=\"font-family:'Avenir Next'; color:red;\">Dot Product Example</p>\n",
    "<p style=\"font-family:'Avenir Next';\">Compare the run-time speeds</p>"
   ]
  },
  {
   "cell_type": "code",
   "execution_count": 117,
   "metadata": {},
   "outputs": [
    {
     "name": "stdout",
     "output_type": "stream",
     "text": [
      "dot_product = 833323333350000.0\n",
      "Computation time = 25.148000000001502ms\n",
      "\n",
      "n_dot_product = 833323333350000\n",
      "Computation time = 0.22699999999531428ms\n"
     ]
    }
   ],
   "source": [
    "# Dot product\n",
    "import time\n",
    "import numpy\n",
    "import array\n",
    "\n",
    "# 8 bytes size int\n",
    "a = array.array('q')\n",
    "for i in range(100000):\n",
    "\ta.append(i);\n",
    "\n",
    "b = array.array('q')\n",
    "for i in range(100000, 200000):\n",
    "\tb.append(i)\n",
    "\n",
    "# classic dot product of vectors implementation\n",
    "tic = time.process_time()\n",
    "dot = 0.0;\n",
    "\n",
    "for i in range(len(a)):\n",
    "\tdot += a[i] * b[i]\n",
    "\n",
    "toc = time.process_time()\n",
    "\n",
    "print(\"dot_product = \"+ str(dot));\n",
    "print(\"Computation time = \" + str(1000*(toc - tic )) + \"ms\")\n",
    "\n",
    "\n",
    "n_tic = time.process_time()\n",
    "n_dot_product = numpy.dot(a, b)\n",
    "n_toc = time.process_time()\n",
    "\n",
    "print(\"\\nn_dot_product = \"+str(n_dot_product))\n",
    "print(\"Computation time = \"+str(1000*(n_toc - n_tic ))+\"ms\")\n",
    "\n"
   ]
  },
  {
   "cell_type": "markdown",
   "metadata": {},
   "source": [
    "<hr />\n",
    "<p style=\"font-family:'Avenir Next'; color:red;\">Example: learning tools for analysis and exploration:</p>\n",
    "<ol>\n",
    "    <li>Aa good guide to how to think about integrating this all into your work</li>\n",
    "    <li>Import the libraries: python first, then 3rd party (like pandas), then our own libraries</li>\n",
    "    <li>Get your data [should use try/except block]; by file, by SQL connector, by web scraping, through API, etc.</li>\n",
    "    <li>What stat or analysis or exploration?</li>\n",
    "    <li>Capturing the results</li>\n",
    "     <li>Plot the results - both to learn about the data and for later analysis of the appropriately-cleaned data</li>\n",
    "</ol>"
   ]
  },
  {
   "cell_type": "code",
   "execution_count": 120,
   "metadata": {},
   "outputs": [
    {
     "data": {
      "image/png": "[encoded data removed]",
      "text/plain": [
       "<Figure size 432x288 with 1 Axes>"
      ]
     },
     "metadata": {
      "needs_background": "light"
     },
     "output_type": "display_data"
    },
    {
     "name": "stdout",
     "output_type": "stream",
     "text": [
      "    jones  smith\n",
      "0      39     39\n",
      "1      10     99\n",
      "2      29     29\n",
      "3      20     21\n",
      "4      29     30\n",
      "5      40     50\n",
      "6      42     42\n",
      "7      44     49\n",
      "8      93     29\n",
      "9      19     39\n",
      "10     91     93\n",
      "11     89     80\n",
      "12     88     74\n",
      "13     74     20\n",
      "14     30     21\n",
      "\n",
      "All done.\n",
      "––––––––––––––––––––––––––––––––––––––––––––––––––––––––––––\n"
     ]
    }
   ],
   "source": [
    "import numpy as np\n",
    "import matplotlib.pyplot as plt\n",
    "import pandas as pd\n",
    "from sklearn.linear_model import LinearRegression\n",
    "\n",
    "try:\n",
    "    dataset = pd.read_csv('fake_data.csv')\n",
    "except FileNotFoundException as e:\n",
    "    print(f\"Sorry: {e}\")\n",
    "else:\n",
    "    X = dataset[[\"jones\"]]\n",
    "    y = dataset[[\"smith\"]]\n",
    "\n",
    "    regressor = LinearRegression()\n",
    "    regressor.fit(X, y)\n",
    "\n",
    "    y_pred = regressor.predict(X)\n",
    "\n",
    "    # notice that colors depend on the library; but most support RGB and some named colors\n",
    "    plt.scatter(X, y, color = '#00Fa2f')\n",
    "    #plt.plot(X, regressor.predict(X), color = '#ff0011')\n",
    "    #plt.plot(X, regressor.predict(X), color = 'orange')\n",
    "    #plt.plot(X, regressor.predict(X), color = 'olive')\n",
    "    #plt.plot(X, regressor.predict(X), color = 'tomato')\n",
    "    plt.plot(X, regressor.predict(X), color = '#6A0DAD')\n",
    "\n",
    "    plt.title('Jones vs Smith')\n",
    "    plt.xlabel('Jones')\n",
    "    plt.ylabel('Smith')\n",
    "    plt.show()\n",
    "    \n",
    "    print(dataset)\n",
    "finally:\n",
    "    print(\"\\nAll done.\")\n",
    "    \n",
    "print(\"–\"*60)\n"
   ]
  },
  {
   "cell_type": "markdown",
   "metadata": {},
   "source": [
    "<hr />\n",
    "<p style=\"font-family:'Avenir Next'; color:red;\">Example: Mean Square Error - bridge to other libraries, such scikit-learn, pandas, others...</p>"
   ]
  },
  {
   "cell_type": "code",
   "execution_count": 88,
   "metadata": {},
   "outputs": [
    {
     "name": "stdout",
     "output_type": "stream",
     "text": [
      "    jones\n",
      "0      39\n",
      "1      10\n",
      "2      29\n",
      "3      20\n",
      "4      29\n",
      "5      40\n",
      "6      42\n",
      "7      44\n",
      "8      93\n",
      "9      19\n",
      "10     91\n",
      "11     89\n",
      "12     88\n",
      "13     74\n",
      "14     30\n",
      "<class 'list'>\n",
      "1490.5523809523809\n"
     ]
    }
   ],
   "source": [
    "#Mean Square Error can be done with scikit-learn, pandas, numpy...\n",
    "print(X)\n",
    "orig_values = [X]\n",
    "print(type(orig_values))\n",
    "# gonna get some crazy values!\n",
    "pred_values = [37,11,29,20,28,25,35,40,80,19,81,87,75,29]\n",
    "\n",
    "mean_square_error = np.square(np.subtract(orig_values, pred_values)).mean()\n",
    "print(mean_square_error)"
   ]
  },
  {
   "cell_type": "markdown",
   "metadata": {},
   "source": [
    "<hr />\n",
    "See also numpy's bitwise and &amp; and or |\n",
    "<a href=\"https://numpy.org/doc/stable/reference/generated/numpy.bitwise_and.html\" target=\"new\">Docs</a>"
   ]
  },
  {
   "cell_type": "markdown",
   "metadata": {},
   "source": [
    "<h2>Optional Demo</h2>\n",
    "<hr />\n",
    "<p style=\"padding:10px; border-radius:5px; background-color:#3B7EA1; color:white; font-size:16px;\">Example: a long <u>optional</u> example. We&rsquo;re working up from basic functionality to larger data sets: Below box demonstrates calculating statistics for 100,000,000 observations.</p>\n",
    "<p style=\"font-family:'Avenir Next';\">This takes about 86-100 seconds to run; there are even other python libraries to increase the speed, measured in the time.process_time() method.</p>\n",
    "<p style=\"font-family:'Avenir Next';\">Outputs:<br />\n",
    "<pre>Number of Observations: 100000000\n",
    "Arthmetic Mean: 49999999.5\n",
    "Median: 49999999.5\n",
    "Sample Standard Deviation: 28867513.60382066\n",
    "Program Runtime: 117.0 seconds\n",
    "</pre>"
   ]
  },
  {
   "cell_type": "code",
   "execution_count": 104,
   "metadata": {},
   "outputs": [
    {
     "name": "stdout",
     "output_type": "stream",
     "text": [
      "Number of Observations: 100000000 \n",
      "Arithmetic Mean: 49999999.5 \n",
      "Median: 49999999.5 \n",
      "Sample Standard Deviation: 28867513.60382066 \n",
      "Program Runtime: 48.5 seconds\n"
     ]
    }
   ],
   "source": [
    "import sys\n",
    "import traceback\n",
    "import time\n",
    "from math import sqrt\n",
    "import numpy as np\n",
    "  \n",
    "class SummaryStatistics(object): \n",
    "    \"\"\"\n",
    "    calculate number of observations, arithmetic mean, median\n",
    "    and sample standard deviation using standard procedures\n",
    "    \"\"\"\n",
    " \n",
    "    def __init__(self):\n",
    "        pass\n",
    " \n",
    "    def calculate_number_observation(self, one_dimensional_array):        \n",
    "        \"\"\"\n",
    "        calculate  number of observations\n",
    "        :param one_dimensional_array: numpy one dimensional array\n",
    "        :return number of observations value\n",
    "        \"\"\"\n",
    " \n",
    "        number_observation = 0\n",
    "        try:\n",
    "            number_observation = one_dimensional_array.size    \n",
    "        except Exception:\n",
    "            self.print_exception_message()\n",
    "        return number_observation\n",
    " \n",
    " \n",
    "    def calculate_arithmetic_mean(self, one_dimensional_array, number_observation):    \n",
    "        \"\"\"\n",
    "        calculate arithmetic mean\n",
    "        :param one_dimensional_array: numpy one dimensional array\n",
    "        :param number_observation: number of observations\n",
    "        :return arithmetic mean value\n",
    "        \"\"\"\n",
    "        arithmetic_mean = 0.0\n",
    "        try:\n",
    "            sum_result = 0.0\n",
    "            for i in range(number_observation):\n",
    "                sum_result += one_dimensional_array[i]    \n",
    "                arithmetic_mean = sum_result / number_observation\n",
    "        except Exception:\n",
    "            self.print_exception_message()\n",
    "        return arithmetic_mean\n",
    "\n",
    "    def calculate_median(self, one_dimensional_array, number_observation):       \n",
    "        \"\"\"\n",
    "        calculate  median\n",
    "        :param one_dimensional_array: numpy one dimensional array\n",
    "        :param number_observation: number of observations\n",
    "        :return median value\n",
    "        \"\"\"\n",
    "        median = 0.0\n",
    "        try:\n",
    "            one_dimensional_array.sort()\n",
    "            half_position = number_observation // 2\n",
    "            if not number_observation % 2:\n",
    "                median = (one_dimensional_array[half_position - 1] + one_dimensional_array[half_position]) / 2.0\n",
    "            else:\n",
    "                median = one_dimensional_array[half_position]        \n",
    "        except Exception:\n",
    "            self.print_exception_message() \n",
    "        return median\n",
    " \n",
    "\n",
    "    def calculate_sample_standard_deviation(self, one_dimensional_array, number_observation, arithmetic_mean):    \n",
    "        \"\"\"\n",
    "        calculate sample standard deviation\n",
    "        :param one_dimensional_array: numpy one dimensional array\n",
    "        :param number_observation:  number of observations\n",
    "        :param arithmetic_mean: arithmetic mean value\n",
    "        :return sample standard deviation value\n",
    "        \"\"\"\n",
    "        sample_standard_deviation = 0.0\n",
    "        try:\n",
    "            sum_result = 0.0\n",
    "            for i in range(number_observation):                    \n",
    "                sum_result += pow((one_dimensional_array[i] - arithmetic_mean), 2)             \n",
    "            sample_variance = sum_result / (number_observation - 1) \n",
    "            sample_standard_deviation = sqrt(sample_variance)        \n",
    "        except Exception:\n",
    "             self.print_exception_message()\n",
    "        return sample_standard_deviation\n",
    "\n",
    "    def print_exception_message(self, message_orientation = \"horizontal\"):\n",
    "        \"\"\"\n",
    "        print full exception message\n",
    "        :param message_orientation: horizontal or vertical\n",
    "        :return none\n",
    "        \"\"\"\n",
    "        try:\n",
    "            exc_type, exc_value, exc_tb = sys.exc_info()             \n",
    "            file_name, line_number, procedure_name, line_code = traceback.extract_tb(exc_tb)[-1]        \n",
    "            time_stamp = \" [Time Stamp]: \" + str(time.strftime(\"%Y-%m-%d %I:%M:%S %p\"))\n",
    "            file_name = \" [File Name]: \" + str(file_name)\n",
    "            procedure_name = \" [Procedure Name]: \" + str(procedure_name)\n",
    "            error_message = \" [Error Message]: \" + str(exc_value)        \n",
    "            error_type = \" [Error Type]: \" + str(exc_type)                 \n",
    "            line_number = \" [Line Number]: \" + str(line_number)\n",
    "            line_code = \" [Line Code]: \" + str(line_code)\n",
    "            if (message_orientation == \"horizontal\"):\n",
    "                print( \"An error occurred:{};{};{};{};{};{};{}\".format(time_stamp, file_name, procedure_name, error_message, error_type, line_number, line_code))\n",
    "            elif (message_orientation == \"vertical\"):\n",
    "                print( \"An error occurred:\\n{}\\n{}\\n{}\\n{}\\n{}\\n{}\\n{}\".format(time_stamp, file_name, procedure_name, error_message, error_type, line_number, line_code))\n",
    "            else: \n",
    "                pass                     \n",
    "        except Exception:\n",
    "                pass\n",
    "\n",
    "\n",
    "# --------------------------------------------------\n",
    " \n",
    "def main(one_dimensional_array):\n",
    "    #create summary statistics class object\n",
    "    summary_statistics = SummaryStatistics()\n",
    " \n",
    "    # calculate number of observation\n",
    "    number_observation = summary_statistics.calculate_number_observation(one_dimensional_array)\n",
    "    print(\"Number of Observations: {} \".format(number_observation))\n",
    " \n",
    "    # calculate arithmetic mean\n",
    "    arithmetic_mean = summary_statistics.calculate_arithmetic_mean(one_dimensional_array, number_observation)\n",
    "    print(\"Arithmetic Mean: {} \".format(arithmetic_mean))\n",
    " \n",
    "    #calculatte median\n",
    "    median = summary_statistics.calculate_median(one_dimensional_array, number_observation)\n",
    "    print(\"Median: {} \".format(median))\n",
    "    \n",
    "    # calculate sample standard deviation\n",
    "    sample_standard_deviation = summary_statistics.calculate_sample_standard_deviation(one_dimensional_array, number_observation, arithmetic_mean)\n",
    "    print(\"Sample Standard Deviation: {} \".format(sample_standard_deviation))\n",
    " \n",
    " \n",
    "if __name__ == '__main__':\n",
    "    start_time = time.process_time()  \n",
    "    one_dimensional_array = np.arange(100000000, dtype=np.float64)        \n",
    "    main(one_dimensional_array)\n",
    "    end_time = time.process_time()\n",
    "    print(\"Program Runtime: {} seconds\".format(round(end_time - start_time, 1)))"
   ]
  },
  {
   "cell_type": "markdown",
   "metadata": {},
   "source": [
    "<hr />\n",
    "<p style=\"font-family:'Avenir Next'; color:red;\">Example: rational number</p>\n",
    "<p style=\"font-family:'Avenir Next';\">comparison program to show magic methods, __str__ and __repr__</p>"
   ]
  },
  {
   "cell_type": "code",
   "execution_count": 82,
   "metadata": {},
   "outputs": [
    {
     "name": "stdout",
     "output_type": "stream",
     "text": [
      "12/10\n"
     ]
    }
   ],
   "source": [
    "class RationalNumber:\n",
    "    \"\"\"\n",
    "    Rational Numbers with support for arthmetic operations.\n",
    "        >>> a = RationalNumber(1, 2)\n",
    "        >>> b = RationalNumber(1, 3)\n",
    "        >>> a + b\n",
    "        5/6\n",
    "        >>> a - b\n",
    "        1/6\n",
    "        >>> a * b\n",
    "        1/6\n",
    "        >>> a/b\n",
    "        3/2\n",
    "    \"\"\"\n",
    "    def __init__(self, numerator, denominator=1):\n",
    "        self.n = numerator\n",
    "        self.d = denominator\n",
    "\n",
    "    def __add__(self, other):\n",
    "        if not isinstance(other, RationalNumber):\n",
    "            other = RationalNumber(other)\n",
    "\n",
    "        n = self.n * other.d + self.d * other.n\n",
    "        d = self.d * other.d\n",
    "        return RationalNumber(n, d)\n",
    "\n",
    "    def __sub__(self, other):\n",
    "        if not isinstance(other, RationalNumber):\n",
    "            other = RationalNumber(other)\n",
    "\n",
    "        n1, d1 = self.n, self.d\n",
    "        n2, d2 = other.n, other.d\n",
    "        return RationalNumber(n1*d2 - n2*d1, d1*d2)\n",
    "\n",
    "    def __mul__(self, other):\n",
    "        if not isinstance(other, RationalNumber):\n",
    "            other = RationalNumber(other)\n",
    "\n",
    "        n1, d1 = self.n, self.d\n",
    "        n2, d2 = other.n, other.d\n",
    "        return RationalNumber(n1*n2, d1*d2)\n",
    "\n",
    "    def __div__(self, other):\n",
    "        if not isinstance(other, RationalNumber):\n",
    "            other = RationalNumber(other)\n",
    "\n",
    "        n1, d1 = self.n, self.d\n",
    "        n2, d2 = other.n, other.d\n",
    "        return RationalNumber(n1*d2, d1*n2)\n",
    "\n",
    "    def __str__(self):\n",
    "        return \"%s/%s\" % (self.n, self.d)\n",
    "\n",
    "    __repr__ = __str__\n",
    "    \n",
    "    \n",
    "a = RationalNumber(3, 2)\n",
    "b = RationalNumber(4, 5)\n",
    "\n",
    "print(a * b)"
   ]
  },
  {
   "cell_type": "markdown",
   "metadata": {},
   "source": [
    "<hr />\n",
    "<h2 style=\"background-color: #003262; color:white; border-radius: 4px; padding: 8px;\">\n",
    "Activity</h2>\n",
    "<ol>\n",
    "    <li><a href=\"activity/week_09_activity.ipynb\" target=\"new\">Activity</a></li>\n",
    "    <li><a href=\"activity/week_09_activity_solution.ipynb\" target=\"new\">Solution Key</a></li></ol>"
   ]
  },
  {
   "cell_type": "code",
   "execution_count": 4,
   "metadata": {},
   "outputs": [
    {
     "ename": "AttributeError",
     "evalue": "'str' object has no attribute 'sum'",
     "output_type": "error",
     "traceback": [
      "\u001b[0;31m---------------------------------------------------------------------------\u001b[0m",
      "\u001b[0;31mAttributeError\u001b[0m                            Traceback (most recent call last)",
      "Cell \u001b[0;32mIn[4], line 15\u001b[0m\n\u001b[1;32m     12\u001b[0m df \u001b[38;5;241m=\u001b[39m pd\u001b[38;5;241m.\u001b[39mDataFrame(data)\n\u001b[1;32m     14\u001b[0m \u001b[38;5;66;03m# Collapse the DataFrame into a single column\u001b[39;00m\n\u001b[0;32m---> 15\u001b[0m df[\u001b[38;5;124m'\u001b[39m\u001b[38;5;124mcollapsed_column\u001b[39m\u001b[38;5;124m'\u001b[39m] \u001b[38;5;241m=\u001b[39m \u001b[43mdf\u001b[49m\u001b[38;5;241;43m.\u001b[39;49m\u001b[43mapply\u001b[49m\u001b[43m(\u001b[49m\u001b[38;5;28;43;01mlambda\u001b[39;49;00m\u001b[43m \u001b[49m\u001b[43mrow\u001b[49m\u001b[43m:\u001b[49m\u001b[43m \u001b[49m\u001b[38;5;124;43m'\u001b[39;49m\u001b[38;5;124;43m \u001b[39;49m\u001b[38;5;124;43m'\u001b[39;49m\u001b[38;5;241;43m.\u001b[39;49m\u001b[43msum\u001b[49m\u001b[43m(\u001b[49m\u001b[43mrow\u001b[49m\u001b[43m)\u001b[49m\u001b[43m,\u001b[49m\u001b[43m \u001b[49m\u001b[43maxis\u001b[49m\u001b[38;5;241;43m=\u001b[39;49m\u001b[38;5;241;43m1\u001b[39;49m\u001b[43m)\u001b[49m\n\u001b[1;32m     17\u001b[0m \u001b[38;5;66;03m# Drop the original columns if needed\u001b[39;00m\n\u001b[1;32m     18\u001b[0m df \u001b[38;5;241m=\u001b[39m df\u001b[38;5;241m.\u001b[39mdrop(columns\u001b[38;5;241m=\u001b[39m[\u001b[38;5;124m'\u001b[39m\u001b[38;5;124mcol1\u001b[39m\u001b[38;5;124m'\u001b[39m, \u001b[38;5;124m'\u001b[39m\u001b[38;5;124mcol2\u001b[39m\u001b[38;5;124m'\u001b[39m, \u001b[38;5;124m'\u001b[39m\u001b[38;5;124mcol3\u001b[39m\u001b[38;5;124m'\u001b[39m, \u001b[38;5;124m'\u001b[39m\u001b[38;5;124mcol4\u001b[39m\u001b[38;5;124m'\u001b[39m, \u001b[38;5;124m'\u001b[39m\u001b[38;5;124mcol5\u001b[39m\u001b[38;5;124m'\u001b[39m])\n",
      "File \u001b[0;32m~/opt/anaconda3/lib/python3.9/site-packages/pandas/core/frame.py:9568\u001b[0m, in \u001b[0;36mDataFrame.apply\u001b[0;34m(self, func, axis, raw, result_type, args, **kwargs)\u001b[0m\n\u001b[1;32m   9557\u001b[0m \u001b[38;5;28;01mfrom\u001b[39;00m \u001b[38;5;21;01mpandas\u001b[39;00m\u001b[38;5;21;01m.\u001b[39;00m\u001b[38;5;21;01mcore\u001b[39;00m\u001b[38;5;21;01m.\u001b[39;00m\u001b[38;5;21;01mapply\u001b[39;00m \u001b[38;5;28;01mimport\u001b[39;00m frame_apply\n\u001b[1;32m   9559\u001b[0m op \u001b[38;5;241m=\u001b[39m frame_apply(\n\u001b[1;32m   9560\u001b[0m     \u001b[38;5;28mself\u001b[39m,\n\u001b[1;32m   9561\u001b[0m     func\u001b[38;5;241m=\u001b[39mfunc,\n\u001b[0;32m   (...)\u001b[0m\n\u001b[1;32m   9566\u001b[0m     kwargs\u001b[38;5;241m=\u001b[39mkwargs,\n\u001b[1;32m   9567\u001b[0m )\n\u001b[0;32m-> 9568\u001b[0m \u001b[38;5;28;01mreturn\u001b[39;00m \u001b[43mop\u001b[49m\u001b[38;5;241;43m.\u001b[39;49m\u001b[43mapply\u001b[49m\u001b[43m(\u001b[49m\u001b[43m)\u001b[49m\u001b[38;5;241m.\u001b[39m__finalize__(\u001b[38;5;28mself\u001b[39m, method\u001b[38;5;241m=\u001b[39m\u001b[38;5;124m\"\u001b[39m\u001b[38;5;124mapply\u001b[39m\u001b[38;5;124m\"\u001b[39m)\n",
      "File \u001b[0;32m~/opt/anaconda3/lib/python3.9/site-packages/pandas/core/apply.py:764\u001b[0m, in \u001b[0;36mFrameApply.apply\u001b[0;34m(self)\u001b[0m\n\u001b[1;32m    761\u001b[0m \u001b[38;5;28;01melif\u001b[39;00m \u001b[38;5;28mself\u001b[39m\u001b[38;5;241m.\u001b[39mraw:\n\u001b[1;32m    762\u001b[0m     \u001b[38;5;28;01mreturn\u001b[39;00m \u001b[38;5;28mself\u001b[39m\u001b[38;5;241m.\u001b[39mapply_raw()\n\u001b[0;32m--> 764\u001b[0m \u001b[38;5;28;01mreturn\u001b[39;00m \u001b[38;5;28;43mself\u001b[39;49m\u001b[38;5;241;43m.\u001b[39;49m\u001b[43mapply_standard\u001b[49m\u001b[43m(\u001b[49m\u001b[43m)\u001b[49m\n",
      "File \u001b[0;32m~/opt/anaconda3/lib/python3.9/site-packages/pandas/core/apply.py:891\u001b[0m, in \u001b[0;36mFrameApply.apply_standard\u001b[0;34m(self)\u001b[0m\n\u001b[1;32m    890\u001b[0m \u001b[38;5;28;01mdef\u001b[39;00m \u001b[38;5;21mapply_standard\u001b[39m(\u001b[38;5;28mself\u001b[39m):\n\u001b[0;32m--> 891\u001b[0m     results, res_index \u001b[38;5;241m=\u001b[39m \u001b[38;5;28;43mself\u001b[39;49m\u001b[38;5;241;43m.\u001b[39;49m\u001b[43mapply_series_generator\u001b[49m\u001b[43m(\u001b[49m\u001b[43m)\u001b[49m\n\u001b[1;32m    893\u001b[0m     \u001b[38;5;66;03m# wrap results\u001b[39;00m\n\u001b[1;32m    894\u001b[0m     \u001b[38;5;28;01mreturn\u001b[39;00m \u001b[38;5;28mself\u001b[39m\u001b[38;5;241m.\u001b[39mwrap_results(results, res_index)\n",
      "File \u001b[0;32m~/opt/anaconda3/lib/python3.9/site-packages/pandas/core/apply.py:907\u001b[0m, in \u001b[0;36mFrameApply.apply_series_generator\u001b[0;34m(self)\u001b[0m\n\u001b[1;32m    904\u001b[0m \u001b[38;5;28;01mwith\u001b[39;00m option_context(\u001b[38;5;124m\"\u001b[39m\u001b[38;5;124mmode.chained_assignment\u001b[39m\u001b[38;5;124m\"\u001b[39m, \u001b[38;5;28;01mNone\u001b[39;00m):\n\u001b[1;32m    905\u001b[0m     \u001b[38;5;28;01mfor\u001b[39;00m i, v \u001b[38;5;129;01min\u001b[39;00m \u001b[38;5;28menumerate\u001b[39m(series_gen):\n\u001b[1;32m    906\u001b[0m         \u001b[38;5;66;03m# ignore SettingWithCopy here in case the user mutates\u001b[39;00m\n\u001b[0;32m--> 907\u001b[0m         results[i] \u001b[38;5;241m=\u001b[39m \u001b[38;5;28;43mself\u001b[39;49m\u001b[38;5;241;43m.\u001b[39;49m\u001b[43mf\u001b[49m\u001b[43m(\u001b[49m\u001b[43mv\u001b[49m\u001b[43m)\u001b[49m\n\u001b[1;32m    908\u001b[0m         \u001b[38;5;28;01mif\u001b[39;00m \u001b[38;5;28misinstance\u001b[39m(results[i], ABCSeries):\n\u001b[1;32m    909\u001b[0m             \u001b[38;5;66;03m# If we have a view on v, we need to make a copy because\u001b[39;00m\n\u001b[1;32m    910\u001b[0m             \u001b[38;5;66;03m#  series_generator will swap out the underlying data\u001b[39;00m\n\u001b[1;32m    911\u001b[0m             results[i] \u001b[38;5;241m=\u001b[39m results[i]\u001b[38;5;241m.\u001b[39mcopy(deep\u001b[38;5;241m=\u001b[39m\u001b[38;5;28;01mFalse\u001b[39;00m)\n",
      "Cell \u001b[0;32mIn[4], line 15\u001b[0m, in \u001b[0;36m<lambda>\u001b[0;34m(row)\u001b[0m\n\u001b[1;32m     12\u001b[0m df \u001b[38;5;241m=\u001b[39m pd\u001b[38;5;241m.\u001b[39mDataFrame(data)\n\u001b[1;32m     14\u001b[0m \u001b[38;5;66;03m# Collapse the DataFrame into a single column\u001b[39;00m\n\u001b[0;32m---> 15\u001b[0m df[\u001b[38;5;124m'\u001b[39m\u001b[38;5;124mcollapsed_column\u001b[39m\u001b[38;5;124m'\u001b[39m] \u001b[38;5;241m=\u001b[39m df\u001b[38;5;241m.\u001b[39mapply(\u001b[38;5;28;01mlambda\u001b[39;00m row: \u001b[38;5;124;43m'\u001b[39;49m\u001b[38;5;124;43m \u001b[39;49m\u001b[38;5;124;43m'\u001b[39;49m\u001b[38;5;241;43m.\u001b[39;49m\u001b[43msum\u001b[49m(row), axis\u001b[38;5;241m=\u001b[39m\u001b[38;5;241m1\u001b[39m)\n\u001b[1;32m     17\u001b[0m \u001b[38;5;66;03m# Drop the original columns if needed\u001b[39;00m\n\u001b[1;32m     18\u001b[0m df \u001b[38;5;241m=\u001b[39m df\u001b[38;5;241m.\u001b[39mdrop(columns\u001b[38;5;241m=\u001b[39m[\u001b[38;5;124m'\u001b[39m\u001b[38;5;124mcol1\u001b[39m\u001b[38;5;124m'\u001b[39m, \u001b[38;5;124m'\u001b[39m\u001b[38;5;124mcol2\u001b[39m\u001b[38;5;124m'\u001b[39m, \u001b[38;5;124m'\u001b[39m\u001b[38;5;124mcol3\u001b[39m\u001b[38;5;124m'\u001b[39m, \u001b[38;5;124m'\u001b[39m\u001b[38;5;124mcol4\u001b[39m\u001b[38;5;124m'\u001b[39m, \u001b[38;5;124m'\u001b[39m\u001b[38;5;124mcol5\u001b[39m\u001b[38;5;124m'\u001b[39m])\n",
      "\u001b[0;31mAttributeError\u001b[0m: 'str' object has no attribute 'sum'"
     ]
    }
   ],
   "source": [
    "import pandas as pd\n",
    "\n",
    "# Sample DataFrame with 5 columns\n",
    "data = {\n",
    "    'col1': ['A', 'B', 'C'],\n",
    "    'col2': ['D', 'E', 'F'],\n",
    "    'col3': ['G', 'H', 'I'],\n",
    "    'col4': ['J', 'K', 'L'],\n",
    "    'col5': ['M', 'N', 'O']\n",
    "}\n",
    "\n",
    "df = pd.DataFrame(data)\n",
    "\n",
    "# Collapse the DataFrame into a single column\n",
    "df['collapsed_column'] = df.apply(lambda row: ' '.sum(row), axis=1)\n",
    "\n",
    "# Drop the original columns if needed\n",
    "df = df.drop(columns=['col1', 'col2', 'col3', 'col4', 'col5'])\n",
    "\n",
    "# Display the resulting DataFrame\n",
    "print(df)\n"
   ]
  },
  {
   "cell_type": "code",
   "execution_count": null,
   "metadata": {},
   "outputs": [],
   "source": []
  }
 ],
 "metadata": {
  "kernelspec": {
   "display_name": "Python 3 (ipykernel)",
   "language": "python",
   "name": "python3"
  },
  "language_info": {
   "codemirror_mode": {
    "name": "ipython",
    "version": 3
   },
   "file_extension": ".py",
   "mimetype": "text/x-python",
   "name": "python",
   "nbconvert_exporter": "python",
   "pygments_lexer": "ipython3",
   "version": "3.11.4"
  }
 },
 "nbformat": 4,
 "nbformat_minor": 4
}
