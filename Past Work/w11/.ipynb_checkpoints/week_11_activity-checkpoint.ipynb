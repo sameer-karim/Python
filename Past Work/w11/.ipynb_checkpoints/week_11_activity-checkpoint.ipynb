{
 "cells": [
  {
   "cell_type": "markdown",
   "metadata": {},
   "source": [
    "# Week 11 Activity: Exploratory Data Analysis\n",
    "\n",
    "## Class Discussion\n",
    "\n",
    "1. As you analyze a dataset, it is important to avoid creating many variables to store different subsets of data. Why is this?\n",
    "2. Give an example of important information you might learn from a histogram\n",
    "3. Give an example of important information you might learn from calling value_counts()"
   ]
  },
  {
   "cell_type": "markdown",
   "metadata": {},
   "source": [
    "## Exploring CEO Data\n",
    "\n",
    "You are hired by a think tank that is preparing a report on CEO salary.  The think tank is especially interested in whether company performance is related to salary.  They have collected data on a selection of companies, provided in the file ceo.csv.  You are also given the following codebook:\n",
    "\n",
    "variable | description\n",
    "-------|--\n",
    " salary | 1990 compensation, \\$1000s\n",
    " age | in years\n",
    " college | =1 if attended college\n",
    " grad | =1 if attended graduate school\n",
    " comten |years with company\n",
    " ceoten |years as ceo with company\n",
    " profits |1990 profits, millions\n",
    " mktval |market value, end 1990, mills.\n"
   ]
  },
  {
   "cell_type": "markdown",
   "metadata": {},
   "source": [
    "This data was collected by Wooldridge from the May 6, 1991 issue of Businessweek.  It may have been modified by your instructors to test your abilities."
   ]
  },
  {
   "cell_type": "code",
   "execution_count": 134,
   "metadata": {},
   "outputs": [
    {
     "data": {
      "text/plain": [
       "Index(['salary', 'age', 'college', 'grad', 'comten', 'ceoten', 'profits',\n",
       "       'mktval'],\n",
       "      dtype='object')"
      ]
     },
     "execution_count": 134,
     "metadata": {},
     "output_type": "execute_result"
    }
   ],
   "source": [
    "CEO = pd.read_csv('ceo.csv')\n",
    "CEO.columns"
   ]
  },
  {
   "cell_type": "markdown",
   "metadata": {},
   "source": [
    "Begin with an orientation to the data.  What are the types of variables?"
   ]
  },
  {
   "cell_type": "code",
   "execution_count": null,
   "metadata": {},
   "outputs": [],
   "source": []
  },
  {
   "cell_type": "markdown",
   "metadata": {},
   "source": [
    "How many observations are there?"
   ]
  },
  {
   "cell_type": "code",
   "execution_count": null,
   "metadata": {},
   "outputs": [],
   "source": []
  },
  {
   "cell_type": "markdown",
   "metadata": {},
   "source": [
    "How many missing values are there?"
   ]
  },
  {
   "cell_type": "code",
   "execution_count": null,
   "metadata": {},
   "outputs": [],
   "source": []
  },
  {
   "cell_type": "markdown",
   "metadata": {},
   "source": [
    "### Examine key variables\n",
    "\n",
    "Pull up histograms of variables of key interest: salary, profits, mktval.  What does the shape of each distribution look like?  What can you learn if you take the log of salary?"
   ]
  },
  {
   "cell_type": "code",
   "execution_count": null,
   "metadata": {},
   "outputs": [],
   "source": []
  },
  {
   "cell_type": "markdown",
   "metadata": {},
   "source": [
    "Always remember that the data might contain errors, including miscodings and measurement errors.  What are some sanity checks you can apply to these variables?  See if you can find any rows that you think contain errors."
   ]
  },
  {
   "cell_type": "code",
   "execution_count": null,
   "metadata": {},
   "outputs": [],
   "source": []
  },
  {
   "cell_type": "markdown",
   "metadata": {},
   "source": [
    "### Creating a new variable\n",
    "\n",
    "Combine the profits and mktval into a combined measure that may be interesting from a performance perspective."
   ]
  },
  {
   "cell_type": "code",
   "execution_count": null,
   "metadata": {},
   "outputs": [],
   "source": []
  },
  {
   "cell_type": "markdown",
   "metadata": {},
   "source": [
    "### Examine bivariate relationships\n",
    "\n",
    "Create a scatterplot with profit on the x-axis and salary on the y-axis.  What do you notice about the shape of this relationship?  What kind of model / equation could you use to to represent it?\n",
    "\n",
    "Can you explain what is going on around 0 profit?"
   ]
  },
  {
   "cell_type": "code",
   "execution_count": null,
   "metadata": {},
   "outputs": [],
   "source": []
  },
  {
   "cell_type": "markdown",
   "metadata": {},
   "source": [
    "Next, consider how the college variable is related to salary.  Try computing means, try using histograms."
   ]
  },
  {
   "cell_type": "code",
   "execution_count": null,
   "metadata": {},
   "outputs": [],
   "source": []
  },
  {
   "cell_type": "markdown",
   "metadata": {},
   "source": [
    "Examine other bivariate relationships as your time allows.  Remember your objectives to understand the structure of the data, and especially to look for clues about whether salary is related to company performance."
   ]
  },
  {
   "cell_type": "code",
   "execution_count": null,
   "metadata": {},
   "outputs": [],
   "source": []
  }
 ],
 "metadata": {
  "kernelspec": {
   "display_name": "Python 3 (ipykernel)",
   "language": "python",
   "name": "python3"
  },
  "language_info": {
   "codemirror_mode": {
    "name": "ipython",
    "version": 3
   },
   "file_extension": ".py",
   "mimetype": "text/x-python",
   "name": "python",
   "nbconvert_exporter": "python",
   "pygments_lexer": "ipython3",
   "version": "3.10.0"
  }
 },
 "nbformat": 4,
 "nbformat_minor": 4
}
