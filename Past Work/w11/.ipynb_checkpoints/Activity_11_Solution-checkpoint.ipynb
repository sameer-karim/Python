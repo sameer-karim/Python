{
 "cells": [
  {
   "cell_type": "markdown",
   "id": "312ebd8e",
   "metadata": {},
   "source": [
    "<p>Exploring CEO Data ... Activity 11 - potential \n",
    "    solutions (version 1)</p>\n",
    "<h1 style=\"color:blue\">Exploring CEO Data</h1>\n",
    "<p>\n",
    "You are hired by a think tank that is preparing a report on CEO salary.  The think tank is especially interested in whether company performance is related to salary.  They have collected data on a selection of companies, provided in the file ceo.csv.  You are also given the following codebook:<p>\n",
    "\n",
    "variable | description\n",
    "-------|--\n",
    " salary | 1990 compensation, \\$1000s\n",
    " age | in years\n",
    " college | =1 if attended college\n",
    " grad | =1 if attended graduate school\n",
    " comten |years with company\n",
    " ceoten |years as ceo with company\n",
    " profits |1990 profits, millions\n",
    " mktval |market value, end 1990, mills.\n",
    "\n"
   ]
  },
  {
   "cell_type": "code",
   "execution_count": 2,
   "id": "585dba9b",
   "metadata": {},
   "outputs": [
    {
     "data": {
      "text/plain": [
       "Index(['salary', 'age', 'college', 'grad', 'comten', 'ceoten', 'profits',\n",
       "       'mktval'],\n",
       "      dtype='object')"
      ]
     },
     "execution_count": 2,
     "metadata": {},
     "output_type": "execute_result"
    }
   ],
   "source": [
    "import pandas as pd\n",
    "\n",
    "CEO = pd.read_csv('ceo.csv')\n",
    "CEO.columns"
   ]
  },
  {
   "cell_type": "markdown",
   "id": "b3ceb36a",
   "metadata": {},
   "source": [
    "Begin with an orientation to the data.  What are the types of variables?"
   ]
  },
  {
   "cell_type": "code",
   "execution_count": 4,
   "id": "db01fed4",
   "metadata": {},
   "outputs": [
    {
     "name": "stdout",
     "output_type": "stream",
     "text": [
      "types of data:\n",
      "salary     int64\n",
      "age        int64\n",
      "college    int64\n",
      "grad       int64\n",
      "comten     int64\n",
      "ceoten     int64\n",
      "profits    int64\n",
      "mktval     int64\n",
      "dtype: object\n",
      "\n"
     ]
    }
   ],
   "source": [
    "# start by loading the data into a data frame\n",
    "type(CEO)\n",
    "# since it's a dataframe we can use those methods ... \n",
    "types_of_data = CEO.dtypes\n",
    "print(f\"types of data:\\n{types_of_data}\\n\")"
   ]
  },
  {
   "cell_type": "markdown",
   "id": "46c30b1d",
   "metadata": {},
   "source": [
    "How many observations are there?"
   ]
  },
  {
   "cell_type": "code",
   "execution_count": 5,
   "id": "e063824b",
   "metadata": {},
   "outputs": [
    {
     "data": {
      "text/plain": [
       "salary     185\n",
       "age        185\n",
       "college    185\n",
       "grad       185\n",
       "comten     185\n",
       "ceoten     185\n",
       "profits    185\n",
       "mktval     185\n",
       "dtype: int64"
      ]
     },
     "execution_count": 5,
     "metadata": {},
     "output_type": "execute_result"
    }
   ],
   "source": [
    "# one way is to use the plain ol' count() method:\n",
    "CEO.count()"
   ]
  },
  {
   "cell_type": "markdown",
   "id": "9c53666b",
   "metadata": {},
   "source": [
    "How many missing values are there?"
   ]
  },
  {
   "cell_type": "code",
   "execution_count": 13,
   "id": "67af66b3",
   "metadata": {},
   "outputs": [
    {
     "name": "stdout",
     "output_type": "stream",
     "text": [
      "Individual Column test\n",
      "\n",
      "Using numpy and pandas ... \n",
      "(array([], dtype=int64), array([], dtype=int64))\n",
      "\n",
      "\n",
      "[]\n"
     ]
    }
   ],
   "source": [
    "# missing values are a real problem so we always check ...\n",
    "# and we could reindex the data and search or select individual\n",
    "# columns ... let's experiment.  A \"False\" means the value\n",
    "# is present (≠ isnull).  Here we see that of the 185 counts\n",
    "# from the \n",
    "print(\"Individual Column test\")\n",
    "CEO['salary'].isnull()\n",
    "# we can repeat this for each value or check out the\n",
    "# entire data frame ...\n",
    "\n",
    "\n",
    "print(\"\\nUsing numpy and pandas ... \")\n",
    "import numpy as np\n",
    "import pandas as pd\n",
    "print(np.where(pd.isnull(CEO)))\n",
    "# nothing should show up\n",
    "\n",
    "# and yet another way ... \n",
    "print(\"\\na final way \")\n",
    "print([CEO.iloc[i, j] for i,j in zip(*np.where(pd.isnull(CEO)))])"
   ]
  },
  {
   "cell_type": "markdown",
   "id": "bb1e67f9",
   "metadata": {},
   "source": [
    "<hr/>\n",
    "<h2>Examine key variables</h2>\n",
    "<p>\n",
    "Pull up histograms of variables of key interest: salary, profits, mktval.  What does the shape of each distribution look like?  What can you learn if you take the log of salary?</p>"
   ]
  },
  {
   "cell_type": "code",
   "execution_count": 17,
   "id": "3075b652",
   "metadata": {},
   "outputs": [
    {
     "name": "stdout",
     "output_type": "stream",
     "text": [
      "   salary  profits  mktval\n",
      "0    1033      478    7300\n",
      "1     879      212    4900\n",
      "2     971       69     609\n",
      "3     567       65    1700\n",
      "salary     4\n",
      "profits    4\n",
      "mktval     4\n",
      "dtype: int64\n"
     ]
    }
   ],
   "source": [
    "# for making histograms or any data plot\n",
    "# we need some plotting library.\n",
    "\n",
    "# first we want to extracdt our 3 key variables: salary, profits, mktval.\n",
    "newceo = CEO.loc[0:3, ['salary','profits','mktval']]\n",
    "print(newceo)\n",
    "print(newceo.count())"
   ]
  },
  {
   "cell_type": "code",
   "execution_count": 23,
   "id": "e6d2121a",
   "metadata": {},
   "outputs": [
    {
     "data": {
      "image/png": "[encoded data removed]",
      "text/plain": [
       "<Figure size 432x288 with 1 Axes>"
      ]
     },
     "metadata": {
      "needs_background": "light"
     },
     "output_type": "display_data"
    }
   ],
   "source": [
    "import matplotlib.pyplot as plt\n",
    "import matplotlib\n",
    "%matplotlib inline\n",
    "\n",
    "colors = ['blue', 'yellow', 'red']\n",
    "names = ['Salary', 'Profits', 'Market']\n",
    "\n",
    "plt.hist(newceo, color=colors,label=names)\n",
    "plt.show()"
   ]
  },
  {
   "cell_type": "markdown",
   "id": "d60285d9",
   "metadata": {},
   "source": [
    "Always remember that the data might contain errors, including miscodings and measurement errors.  What are some sanity checks you can apply to these variables?  See if you can find any rows that you think contain errors."
   ]
  },
  {
   "cell_type": "code",
   "execution_count": 32,
   "id": "4f286033",
   "metadata": {},
   "outputs": [
    {
     "name": "stdout",
     "output_type": "stream",
     "text": [
      "HEAD:\n",
      "    salary  profits  mktval\n",
      "0    1033      478    7300\n",
      "1     879      212    4900\n",
      "2     971       69     609\n",
      "3     567       65    1700\n",
      "TAIL:\n",
      "    salary  profits  mktval\n",
      "0    1033      478    7300\n",
      "1     879      212    4900\n",
      "2     971       69     609\n",
      "3     567       65    1700\n",
      "\n",
      "Check out the max values ... \n",
      "\n",
      "salary     1033\n",
      "profits     478\n",
      "mktval     7300\n",
      "dtype: int64\n",
      "\n",
      "Min: salary     567\n",
      "profits     65\n",
      "mktval     609\n",
      "dtype: int64\n"
     ]
    }
   ],
   "source": [
    "# sanity check - make sure we know the head, tail of the data\n",
    "# and maybe check for values out of range?\n",
    "print(f\"HEAD:\\n {newceo.head()}\")\n",
    "print(f\"TAIL:\\n {newceo.tail()}\")\n",
    "\n",
    "# and min and max?\n",
    "print(f\"\\nCheck out the max values ... \\n\")\n",
    "print(newceo.max())\n",
    "\n",
    "print(f\"\\nMin: {newceo.min()}\")"
   ]
  },
  {
   "cell_type": "markdown",
   "id": "f2e73000",
   "metadata": {},
   "source": [
    "### Creating a new variable\n",
    "\n",
    "Combine the profits and mktval into a combined measure that may be interesting from a performance perspective."
   ]
  },
  {
   "cell_type": "code",
   "execution_count": 41,
   "id": "872aa6fe",
   "metadata": {},
   "outputs": [
    {
     "data": {
      "text/plain": [
       "0    1080.8\n",
       "1     900.2\n",
       "2     977.9\n",
       "3     573.5\n",
       "dtype: float64"
      ]
     },
     "execution_count": 41,
     "metadata": {},
     "output_type": "execute_result"
    }
   ],
   "source": [
    "# there's a couple of techniques, like apply() and Numpy's select() method\n",
    "# we can make new columns from other columns\n",
    "# or for based on conditions\n",
    "# in this scenario, we might want to do some job-specific\n",
    "# activity; here say salary + a 10% share of the profits \n",
    "\n",
    "newceo.apply(lambda row: row.salary + (row.profits*.10), axis = 1)"
   ]
  },
  {
   "cell_type": "markdown",
   "id": "bca7fad6",
   "metadata": {},
   "source": [
    "### Examine bivariate relationships\n",
    "\n",
    "Create a scatterplot with profit on the x-axis and salary on the y-axis.  What do you notice about the shape of this relationship?  What kind of model / equation could you use to to represent it?\n",
    "\n",
    "Can you explain what is going on around 0 profit?"
   ]
  },
  {
   "cell_type": "code",
   "execution_count": 55,
   "id": "b349fe91",
   "metadata": {},
   "outputs": [
    {
     "data": {
      "image/png": "[encoded data removed]",
      "text/plain": [
       "<Figure size 432x288 with 1 Axes>"
      ]
     },
     "metadata": {},
     "output_type": "display_data"
    }
   ],
   "source": [
    "# import our libraries; here we'll add seaborn, too.\n",
    "import matplotlib.pyplot as plt\n",
    "import seaborn as sns\n",
    "\n",
    "# ------------------------\n",
    "plt.scatter(newceo.salary, newceo.profits)\n",
    "plt.title(\"Salary and Profits\")\n",
    "plt.xlabel(\"What we paid in salary\")\n",
    "plt.ylabel(\"What did we make?\")\n",
    "plt.show()\n"
   ]
  },
  {
   "cell_type": "markdown",
   "id": "f5257764",
   "metadata": {},
   "source": [
    "Next, consider how the college variable is related to salary.  Try computing means, try using histograms."
   ]
  },
  {
   "cell_type": "code",
   "execution_count": 67,
   "id": "389fdd20",
   "metadata": {},
   "outputs": [
    {
     "data": {
      "text/html": [
       "<div>\n",
       "<style scoped>\n",
       "    .dataframe tbody tr th:only-of-type {\n",
       "        vertical-align: middle;\n",
       "    }\n",
       "\n",
       "    .dataframe tbody tr th {\n",
       "        vertical-align: top;\n",
       "    }\n",
       "\n",
       "    .dataframe thead th {\n",
       "        text-align: right;\n",
       "    }\n",
       "</style>\n",
       "<table border=\"1\" class=\"dataframe\">\n",
       "  <thead>\n",
       "    <tr style=\"text-align: right;\">\n",
       "      <th></th>\n",
       "      <th>salary</th>\n",
       "      <th>age</th>\n",
       "      <th>college</th>\n",
       "      <th>grad</th>\n",
       "      <th>comten</th>\n",
       "      <th>ceoten</th>\n",
       "      <th>profits</th>\n",
       "      <th>mktval</th>\n",
       "    </tr>\n",
       "  </thead>\n",
       "  <tbody>\n",
       "    <tr>\n",
       "      <th>0</th>\n",
       "      <td>1033</td>\n",
       "      <td>62</td>\n",
       "      <td>1</td>\n",
       "      <td>1</td>\n",
       "      <td>30</td>\n",
       "      <td>1</td>\n",
       "      <td>478</td>\n",
       "      <td>7300</td>\n",
       "    </tr>\n",
       "    <tr>\n",
       "      <th>1</th>\n",
       "      <td>879</td>\n",
       "      <td>63</td>\n",
       "      <td>1</td>\n",
       "      <td>1</td>\n",
       "      <td>21</td>\n",
       "      <td>9</td>\n",
       "      <td>212</td>\n",
       "      <td>4900</td>\n",
       "    </tr>\n",
       "    <tr>\n",
       "      <th>2</th>\n",
       "      <td>971</td>\n",
       "      <td>72</td>\n",
       "      <td>1</td>\n",
       "      <td>1</td>\n",
       "      <td>33</td>\n",
       "      <td>24</td>\n",
       "      <td>69</td>\n",
       "      <td>609</td>\n",
       "    </tr>\n",
       "    <tr>\n",
       "      <th>3</th>\n",
       "      <td>567</td>\n",
       "      <td>56</td>\n",
       "      <td>1</td>\n",
       "      <td>0</td>\n",
       "      <td>31</td>\n",
       "      <td>10</td>\n",
       "      <td>65</td>\n",
       "      <td>1700</td>\n",
       "    </tr>\n",
       "    <tr>\n",
       "      <th>4</th>\n",
       "      <td>1336</td>\n",
       "      <td>60</td>\n",
       "      <td>1</td>\n",
       "      <td>1</td>\n",
       "      <td>21</td>\n",
       "      <td>13</td>\n",
       "      <td>562</td>\n",
       "      <td>4300</td>\n",
       "    </tr>\n",
       "    <tr>\n",
       "      <th>...</th>\n",
       "      <td>...</td>\n",
       "      <td>...</td>\n",
       "      <td>...</td>\n",
       "      <td>...</td>\n",
       "      <td>...</td>\n",
       "      <td>...</td>\n",
       "      <td>...</td>\n",
       "      <td>...</td>\n",
       "    </tr>\n",
       "    <tr>\n",
       "      <th>180</th>\n",
       "      <td>1350</td>\n",
       "      <td>68</td>\n",
       "      <td>1</td>\n",
       "      <td>1</td>\n",
       "      <td>5</td>\n",
       "      <td>5</td>\n",
       "      <td>92</td>\n",
       "      <td>2100</td>\n",
       "    </tr>\n",
       "    <tr>\n",
       "      <th>181</th>\n",
       "      <td>999</td>\n",
       "      <td>52</td>\n",
       "      <td>1</td>\n",
       "      <td>0</td>\n",
       "      <td>28</td>\n",
       "      <td>17</td>\n",
       "      <td>21</td>\n",
       "      <td>398</td>\n",
       "    </tr>\n",
       "    <tr>\n",
       "      <th>182</th>\n",
       "      <td>559</td>\n",
       "      <td>57</td>\n",
       "      <td>1</td>\n",
       "      <td>1</td>\n",
       "      <td>34</td>\n",
       "      <td>16</td>\n",
       "      <td>56</td>\n",
       "      <td>653</td>\n",
       "    </tr>\n",
       "    <tr>\n",
       "      <th>183</th>\n",
       "      <td>625</td>\n",
       "      <td>57</td>\n",
       "      <td>0</td>\n",
       "      <td>0</td>\n",
       "      <td>36</td>\n",
       "      <td>9</td>\n",
       "      <td>87</td>\n",
       "      <td>979</td>\n",
       "    </tr>\n",
       "    <tr>\n",
       "      <th>184</th>\n",
       "      <td>713</td>\n",
       "      <td>57</td>\n",
       "      <td>1</td>\n",
       "      <td>1</td>\n",
       "      <td>12</td>\n",
       "      <td>2</td>\n",
       "      <td>55</td>\n",
       "      <td>1300</td>\n",
       "    </tr>\n",
       "  </tbody>\n",
       "</table>\n",
       "<p>185 rows × 8 columns</p>\n",
       "</div>"
      ],
      "text/plain": [
       "     salary  age  college  grad  comten  ceoten  profits  mktval\n",
       "0      1033   62        1     1      30       1      478    7300\n",
       "1       879   63        1     1      21       9      212    4900\n",
       "2       971   72        1     1      33      24       69     609\n",
       "3       567   56        1     0      31      10       65    1700\n",
       "4      1336   60        1     1      21      13      562    4300\n",
       "..      ...  ...      ...   ...     ...     ...      ...     ...\n",
       "180    1350   68        1     1       5       5       92    2100\n",
       "181     999   52        1     0      28      17       21     398\n",
       "182     559   57        1     1      34      16       56     653\n",
       "183     625   57        0     0      36       9       87     979\n",
       "184     713   57        1     1      12       2       55    1300\n",
       "\n",
       "[185 rows x 8 columns]"
      ]
     },
     "execution_count": 67,
     "metadata": {},
     "output_type": "execute_result"
    }
   ],
   "source": [
    "CEO"
   ]
  },
  {
   "cell_type": "code",
   "execution_count": 74,
   "id": "eaafff46",
   "metadata": {},
   "outputs": [
    {
     "data": {
      "text/plain": [
       "<AxesSubplot:xlabel='salary', ylabel='college'>"
      ]
     },
     "execution_count": 74,
     "metadata": {},
     "output_type": "execute_result"
    },
    {
     "data": {
      "image/png": "[encoded data removed]",
      "text/plain": [
       "<Figure size 432x288 with 1 Axes>"
      ]
     },
     "metadata": {},
     "output_type": "display_data"
    }
   ],
   "source": [
    "# this plot isn't very attractive  ... we could have\n",
    "# extracted only the data where college is True and \n",
    "# then used that subplot.  Here is an example\n",
    "# the main dataframe where both are included ... so we \n",
    "# have to interpret the 1 as True and 0.0 as no-college.\n",
    "\n",
    "CEO.plot(x = \"salary\", y = \"college\", kind = \"scatter\")\n"
   ]
  },
  {
   "cell_type": "code",
   "execution_count": null,
   "id": "78b87b33",
   "metadata": {},
   "outputs": [],
   "source": []
  },
  {
   "cell_type": "code",
   "execution_count": null,
   "id": "6de63a9b",
   "metadata": {},
   "outputs": [],
   "source": []
  },
  {
   "cell_type": "markdown",
   "id": "12ff52fa",
   "metadata": {},
   "source": [
    "Examine other bivariate relationships as your time allows.  Remember your objectives to understand the structure of the data, and especially to look for clues about whether salary is related to company performance."
   ]
  },
  {
   "cell_type": "code",
   "execution_count": 75,
   "id": "adb8b32f",
   "metadata": {},
   "outputs": [
    {
     "data": {
      "image/png": "[encoded data removed]",
      "text/plain": [
       "<Figure size 484.875x432 with 6 Axes>"
      ]
     },
     "metadata": {},
     "output_type": "display_data"
    }
   ],
   "source": [
    "# ------------------------- a spin-off of a scatter plot.\n",
    "# another plot\n",
    "sns.set_style(\"whitegrid\")\n",
    "sns.pairplot(newceo, hue=\"profits\", height=3)\n",
    "plt.show()"
   ]
  },
  {
   "cell_type": "code",
   "execution_count": 78,
   "id": "7d8038fc",
   "metadata": {},
   "outputs": [
    {
     "data": {
      "text/plain": [
       "<AxesSubplot:xlabel='age', ylabel='salary'>"
      ]
     },
     "execution_count": 78,
     "metadata": {},
     "output_type": "execute_result"
    },
    {
     "data": {
      "image/png": "[encoded data removed]",
      "text/plain": [
       "<Figure size 432x288 with 1 Axes>"
      ]
     },
     "metadata": {},
     "output_type": "display_data"
    }
   ],
   "source": [
    "# age and salary - any young folk making a lot of Benjamins?\n",
    "\n",
    "CEO[CEO['age'] < 30].plot.scatter(x='age',y='salary')"
   ]
  },
  {
   "cell_type": "code",
   "execution_count": 81,
   "id": "23aa86f4",
   "metadata": {},
   "outputs": [
    {
     "data": {
      "text/plain": [
       "<AxesSubplot:xlabel='profits', ylabel='mktval'>"
      ]
     },
     "execution_count": 81,
     "metadata": {},
     "output_type": "execute_result"
    },
    {
     "data": {
      "image/png": "[encoded data removed]",
      "text/plain": [
       "<Figure size 432x288 with 1 Axes>"
      ]
     },
     "metadata": {},
     "output_type": "display_data"
    }
   ],
   "source": [
    "CEO[CEO['comten'] > 2].plot.scatter(x='profits',y='mktval')"
   ]
  },
  {
   "cell_type": "markdown",
   "id": "05bf6f4e",
   "metadata": {},
   "source": [
    "<hr />\n",
    "<p>This is just a quick potential solution; other instructors doubtless will create vastly better solutions.</p>"
   ]
  },
  {
   "cell_type": "code",
   "execution_count": null,
   "id": "e0e803c7",
   "metadata": {},
   "outputs": [],
   "source": []
  }
 ],
 "metadata": {
  "kernelspec": {
   "display_name": "Python 3 (ipykernel)",
   "language": "python",
   "name": "python3"
  },
  "language_info": {
   "codemirror_mode": {
    "name": "ipython",
    "version": 3
   },
   "file_extension": ".py",
   "mimetype": "text/x-python",
   "name": "python",
   "nbconvert_exporter": "python",
   "pygments_lexer": "ipython3",
   "version": "3.10.0"
  }
 },
 "nbformat": 4,
 "nbformat_minor": 5
}
