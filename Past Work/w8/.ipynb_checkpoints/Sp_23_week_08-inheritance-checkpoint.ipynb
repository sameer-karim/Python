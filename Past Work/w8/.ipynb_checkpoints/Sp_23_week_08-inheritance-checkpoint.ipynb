{
 "cells": [
  {
   "cell_type": "markdown",
   "metadata": {},
   "source": [
    "<hr />\n",
    "<p><b>Demonstration of Inheritance</b></p>\n",
    "<p>1.  The parent class (innovatively named <i>Parent</i>:</p>"
   ]
  },
  {
   "cell_type": "code",
   "execution_count": 21,
   "metadata": {},
   "outputs": [
    {
     "name": "stdout",
     "output_type": "stream",
     "text": [
      "Tom Jones\n"
     ]
    }
   ],
   "source": [
    "class Person:\n",
    "    def __init__(self, fname, lname):\n",
    "        self.fname = fname\n",
    "        self.lname = lname\n",
    "\n",
    "    # as before, we want to get data out\n",
    "    def getName(self):\n",
    "        tempname = self.fname+\" \"+self.lname;\n",
    "        return tempname\n",
    "    \n",
    "person = Person(\"Tom\", \"Jones\")\n",
    "print(person.getName())"
   ]
  },
  {
   "cell_type": "markdown",
   "metadata": {},
   "source": [
    "<blockquote>\n",
    "    <p>When we think of inheritence, the direction, as it were, is from top <i>down</i> ... but the object-hierarchy allows also movement <i>up</i> the chain with <code>super</code>.\n",
    "</blockquote>        \n",
    "\n",
    "<p>Notice the differences between inherited classes with and without an init.</p>\n",
    "<p>2a.  <b>A child class with <u>without</u> <code>__init__</code></b>.  Notice the child class can pass the <i>parent</i> class as a parameter.  So even if our class is empty of methods and parameters, we still have access to those of the parent:</p>"
   ]
  },
  {
   "cell_type": "code",
   "execution_count": 12,
   "metadata": {},
   "outputs": [
    {
     "data": {
      "text/plain": [
       "'Sri Parvadi'"
      ]
     },
     "execution_count": 12,
     "metadata": {},
     "output_type": "execute_result"
    }
   ],
   "source": [
    "class Child(Person):\n",
    "    pass\n",
    "\n",
    "child = Child(\"Sri\", \"Parvadi\")\n",
    "child.getName()  # NOTE: in Jupyter Notebook, the output has ' '"
   ]
  },
  {
   "cell_type": "code",
   "execution_count": 13,
   "metadata": {},
   "outputs": [
    {
     "name": "stdout",
     "output_type": "stream",
     "text": [
      "Sri Parvadi\n"
     ]
    }
   ],
   "source": [
    "print(child.getName())  # in notebook, this technique lacks ' '"
   ]
  },
  {
   "cell_type": "markdown",
   "metadata": {},
   "source": [
    "<hr /><p>2b: <b>A child class <u>with</u> an <code>__init__()</code></b> <u>overrides</u> the parent&rsquo;s __init__.</p>\n",
    "<p>Consequently, we must include the <code>self</code> in the constructor.</p>\n",
    "<p>Notice, too, that for the child we&rsquo;re using an additional parameter (age) - but since Parent doesn't use it, we pass only those it uses.</p>"
   ]
  },
  {
   "cell_type": "code",
   "execution_count": 22,
   "metadata": {},
   "outputs": [
    {
     "name": "stdout",
     "output_type": "stream",
     "text": [
      "Mumin Khan\n"
     ]
    }
   ],
   "source": [
    "class Child(Person):\n",
    "    def __init__(self, fname, lname, age):\n",
    "        Person.__init__(self, fname, lname)\n",
    "        \n",
    "c = Child(\"Mumin\", \"Khan\", 24)\n",
    "print(c.getName())"
   ]
  },
  {
   "cell_type": "markdown",
   "metadata": {},
   "source": [
    "<hr />\n",
    "<p>2c.  <b>Adding methods <u>only</u> to the child</b> ...</p>"
   ]
  },
  {
   "cell_type": "code",
   "execution_count": 19,
   "metadata": {},
   "outputs": [
    {
     "name": "stdout",
     "output_type": "stream",
     "text": [
      "Mumin Khan\n"
     ]
    },
    {
     "data": {
      "text/plain": [
       "24"
      ]
     },
     "execution_count": 19,
     "metadata": {},
     "output_type": "execute_result"
    }
   ],
   "source": [
    "class Child(Person):\n",
    "    def __init__(self, fname, lname, age):\n",
    "        Person.__init__(self, fname, lname)\n",
    "        self.age = age\n",
    "        \n",
    "    def get_age(self):\n",
    "        return self.age\n",
    "        \n",
    "c = Child(\"Mumin\", \"Khan\", 24)\n",
    "print(c.getName())\n",
    "c.get_age()"
   ]
  },
  {
   "cell_type": "markdown",
   "metadata": {},
   "source": [
    "<hr />\n",
    "<p>Reminder using the dot operator to get and set values.</p>"
   ]
  },
  {
   "cell_type": "code",
   "execution_count": 20,
   "metadata": {},
   "outputs": [
    {
     "data": {
      "text/plain": [
       "25"
      ]
     },
     "execution_count": 20,
     "metadata": {},
     "output_type": "execute_result"
    }
   ],
   "source": [
    "c.age = 25\n",
    "c.get_age()"
   ]
  },
  {
   "cell_type": "markdown",
   "metadata": {},
   "source": [
    "<hr />\n",
    "<p>3.  <b>Going <u>up</u> the chain - using <code>super()</code></b> to gain all the properties of the parent.</p>"
   ]
  },
  {
   "cell_type": "code",
   "execution_count": null,
   "metadata": {},
   "outputs": [],
   "source": [
    "class Employee(Person):\n",
    "    def __init__(self, fname, lname):\n",
    "        super().__init__(fname, lname)\n",
    "        self.office = \"Rome\"\n",
    "        \n",
    "    def office_info(self):\n",
    "        return self.fname+\" \"+self.lname+\" of the \"+self.office+\" branch.\""
   ]
  }
 ],
 "metadata": {
  "kernelspec": {
   "display_name": "Python 3",
   "language": "python",
   "name": "python3"
  },
  "language_info": {
   "codemirror_mode": {
    "name": "ipython",
    "version": 3
   },
   "file_extension": ".py",
   "mimetype": "text/x-python",
   "name": "python",
   "nbconvert_exporter": "python",
   "pygments_lexer": "ipython3",
   "version": "3.8.5"
  }
 },
 "nbformat": 4,
 "nbformat_minor": 4
}
