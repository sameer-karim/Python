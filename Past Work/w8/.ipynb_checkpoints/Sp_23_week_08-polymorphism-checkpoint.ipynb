{
 "cells": [
  {
   "cell_type": "markdown",
   "metadata": {},
   "source": [
    "<hr />\n",
    "<h2 style=\"font-weight:lighter;\"><b>Demonstration of Polymorphism</b></h2>\n",
    "<p>Polymorphism in Python is a little different than in other languages.  Let&rsquo;s build up a few examples.</p>"
   ]
  },
  {
   "cell_type": "markdown",
   "metadata": {},
   "source": [
    "<p>1a.  Polymorphism using a default in a method:</p>"
   ]
  },
  {
   "cell_type": "code",
   "execution_count": 6,
   "metadata": {},
   "outputs": [
    {
     "data": {
      "text/plain": [
       "0.73"
      ]
     },
     "execution_count": 6,
     "metadata": {},
     "output_type": "execute_result"
    }
   ],
   "source": [
    "def calc_average_percent(i, j, k = 100):\n",
    "    return (i + j) / k\n",
    "\n",
    "calc_average(50, 23)"
   ]
  },
  {
   "cell_type": "code",
   "execution_count": null,
   "metadata": {},
   "outputs": [],
   "source": []
  },
  {
   "cell_type": "code",
   "execution_count": 11,
   "metadata": {},
   "outputs": [],
   "source": [
    "import statistics\n",
    "from statistics import StatisticsError\n",
    "\n",
    "data = [5, 10, 32, 44, 1, 9, 30, 33, 2, 49]\n",
    "\n",
    "def create_mct(data):\n",
    "    try:\n",
    "        mean = sum(data) / len(data)\n",
    "        mct = []\n",
    "        mct.append(\"Mean: \"+str(mean))\n",
    "        mct.append(\"StdDev: \" + str(statistics.stdev(data)))\n",
    "        mct.append(\"Variance: \"+ str(statistics.variance(data, mean)))\n",
    "        return mct\n",
    "    except StatisticsError as e:\n",
    "        print(f\"A Statistics Error: {e}\")\n",
    "\n",
    "def print_results():\n",
    "    pass\n",
    "\n",
    "create_mct(data)"
   ]
  },
  {
   "cell_type": "code",
   "execution_count": 12,
   "metadata": {},
   "outputs": [
    {
     "name": "stdout",
     "output_type": "stream",
     "text": [
      "A Statistics Error: variance requires at least two data points\n"
     ]
    }
   ],
   "source": [
    "create_mct([1])"
   ]
  },
  {
   "cell_type": "code",
   "execution_count": 35,
   "metadata": {},
   "outputs": [
    {
     "data": {
      "text/plain": [
       "'Sri Parvadi'"
      ]
     },
     "execution_count": 35,
     "metadata": {},
     "output_type": "execute_result"
    }
   ],
   "source": [
    "class Child(Person):\n",
    "    pass\n",
    "\n",
    "child = Child(\"Sri\", \"Parvadi\")\n",
    "child.getName()  # NOTE: in Jupyter Notebook, the output has ' '"
   ]
  },
  {
   "cell_type": "code",
   "execution_count": 36,
   "metadata": {},
   "outputs": [
    {
     "name": "stdout",
     "output_type": "stream",
     "text": [
      "Sri Parvadi\n"
     ]
    }
   ],
   "source": [
    "print(child.getName())  # in notebook, this technique lacks ' '"
   ]
  },
  {
   "cell_type": "markdown",
   "metadata": {},
   "source": [
    "<hr /><p>2b: <b>A child class <u>with</u> an <code>__init__()</code></b> <u>overrides</u> the parent&rsquo;s __init__.</p>\n",
    "<p>Consequently, we must include the <code>self</code> in the constructor.</p>\n",
    "<p>Notice, too, that for the child we&rsquo;re using an additional parameter (age) - but since Parent doesn't use it, we pass only those it uses.</p>"
   ]
  },
  {
   "cell_type": "code",
   "execution_count": 37,
   "metadata": {},
   "outputs": [
    {
     "name": "stdout",
     "output_type": "stream",
     "text": [
      "Mumin Khan\n"
     ]
    }
   ],
   "source": [
    "class Child(Person):\n",
    "    def __init__(self, fname, lname, age):\n",
    "        Person.__init__(self, fname, lname)\n",
    "        \n",
    "c = Child(\"Mumin\", \"Khan\", 24)\n",
    "print(c.getName())"
   ]
  },
  {
   "cell_type": "markdown",
   "metadata": {},
   "source": [
    "<hr />\n",
    "<p>2c.  <b>Adding methods <u>only</u> to the child</b> ...</p>"
   ]
  },
  {
   "cell_type": "code",
   "execution_count": 38,
   "metadata": {},
   "outputs": [
    {
     "name": "stdout",
     "output_type": "stream",
     "text": [
      "Mumin Khan\n"
     ]
    },
    {
     "data": {
      "text/plain": [
       "24"
      ]
     },
     "execution_count": 38,
     "metadata": {},
     "output_type": "execute_result"
    }
   ],
   "source": [
    "class Child(Person):\n",
    "    def __init__(self, fname, lname, age):\n",
    "        Person.__init__(self, fname, lname)\n",
    "        self.age = age\n",
    "        \n",
    "    def get_age(self):\n",
    "        return self.age\n",
    "        \n",
    "c = Child(\"Mumin\", \"Khan\", 24)\n",
    "print(c.getName())\n",
    "c.get_age()"
   ]
  },
  {
   "cell_type": "markdown",
   "metadata": {},
   "source": [
    "<hr />\n",
    "<p>Reminder using the dot operator to get and set values.</p>"
   ]
  },
  {
   "cell_type": "code",
   "execution_count": 39,
   "metadata": {},
   "outputs": [
    {
     "data": {
      "text/plain": [
       "25"
      ]
     },
     "execution_count": 39,
     "metadata": {},
     "output_type": "execute_result"
    }
   ],
   "source": [
    "c.age = 25\n",
    "c.get_age()"
   ]
  },
  {
   "cell_type": "markdown",
   "metadata": {},
   "source": [
    "<hr />\n",
    "<p>3.  <b>Going <u>up</u> the chain - using <code>super()</code></b> to gain all the properties of the parent.</p>"
   ]
  },
  {
   "cell_type": "code",
   "execution_count": 40,
   "metadata": {},
   "outputs": [
    {
     "data": {
      "text/plain": [
       "'Anthony Kim'"
      ]
     },
     "execution_count": 40,
     "metadata": {},
     "output_type": "execute_result"
    }
   ],
   "source": [
    "class Employee(Person):\n",
    "    def __init__(self, fname, lname):\n",
    "        super().__init__(fname, lname)\n",
    "        self.office = \"Rome\"\n",
    "        \n",
    "    def office_info(self):\n",
    "        return self.fname+\" \"+self.lname+\" of the \"+self.office+\" branch.\"\n",
    "    \n",
    "staffer = Employee(\"Anthony\", \"Kim\")\n",
    "# from the parent class: getName\n",
    "staffer.getName()"
   ]
  },
  {
   "cell_type": "code",
   "execution_count": 41,
   "metadata": {},
   "outputs": [
    {
     "data": {
      "text/plain": [
       "'Anthony Kim of the Rome branch.'"
      ]
     },
     "execution_count": 41,
     "metadata": {},
     "output_type": "execute_result"
    }
   ],
   "source": [
    "# from the child class\n",
    "staffer.office_info()"
   ]
  },
  {
   "cell_type": "markdown",
   "metadata": {},
   "source": [
    "<div style=\"background-color:maroon; font-size: 18px; line-height:24px; padding: 10px; color: white;\">\n",
    "Recap:\n",
    "<ul><li>Define the parent class</li>\n",
    "    <li>Define a child class <i>without</i> an __init__</li>\n",
    "    <li> ...  a child class <i>with</i> an __init__ to override the default</li>\n",
    "    <li>Adding methods only to the child</li>\n",
    "    <li>Using super()</li>\n",
    "</ul>\n",
    "</div>"
   ]
  },
  {
   "cell_type": "markdown",
   "metadata": {},
   "source": [
    "<hr />\n",
    "<p>Continue with <a href=\"Sp_23_week_08-polymorphism.ipynb\">Polymorphism</a>.</p>"
   ]
  },
  {
   "cell_type": "code",
   "execution_count": null,
   "metadata": {},
   "outputs": [],
   "source": []
  }
 ],
 "metadata": {
  "kernelspec": {
   "display_name": "Python 3",
   "language": "python",
   "name": "python3"
  },
  "language_info": {
   "codemirror_mode": {
    "name": "ipython",
    "version": 3
   },
   "file_extension": ".py",
   "mimetype": "text/x-python",
   "name": "python",
   "nbconvert_exporter": "python",
   "pygments_lexer": "ipython3",
   "version": "3.8.5"
  }
 },
 "nbformat": 4,
 "nbformat_minor": 4
}
