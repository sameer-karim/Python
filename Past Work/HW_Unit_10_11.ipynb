{
 "cells": [
  {
   "cell_type": "markdown",
   "metadata": {},
   "source": [
    "## Week 10 and 11 Assignment - DATASCI200 Introduction to Data Science Programming, UC Berkeley MIDS\n",
    "\n",
    "Write code in this Jupyter Notebook to solve the following problems. Please upload this **Notebook** with your solutions to your GitHub repository and provide a link in the last question in gradescope. \n",
    "\n",
    "Assignment due date: 11:59PM PT the night before the Week 12 Live Session. Do **NOT** push/upload the data file. "
   ]
  },
  {
   "cell_type": "markdown",
   "metadata": {},
   "source": [
    "## Objectives\n",
    "\n",
    "- Explore and glean insights from a real dataset using pandas\n",
    "- Practice using pandas for exploratory analysis, information gathering, and discovery\n",
    "- Practice cleaning data and answering questions"
   ]
  },
  {
   "cell_type": "markdown",
   "metadata": {},
   "source": [
    "## General Guidelines:\n",
    "\n",
    "- This is a **real** dataset and so it may contain errors and other pecularities to work through\n",
    "- This dataset is ~218mb, which will take some time to load (and probably won't load in Google Sheets or Excel)\n",
    "- If you make assumptions, annotate them in your responses\n",
    "- While there is one code/markdown cell positioned after each question as a placeholder, some of your code/responses may require multiple cells\n",
    "- Double-click the markdown cells that say for example **1a answer here:** to enter your written answers. If you need more cells for your written answers, make them markdown cells (rather than code cells)\n",
    "- This homework assignment is not autograded because of the variety of responses one could give. \n",
    "  - Please upload this notebook to the autograder page and the TAs will manually grade it. \n",
    "  - Ensure that each cell is run and outputs your answer for ease of grading! \n",
    "  - Highly suggest to do a `restart & run all` before uploading your code to ensure everything runs and outputs correctly.\n",
    "  - Answers without code (or code that runs) will be given 0 points.\n",
    "- **This is meant to simulate real world data so you will have to do some external research to determine what some of the answers are!** "
   ]
  },
  {
   "cell_type": "markdown",
   "metadata": {},
   "source": [
    "## Dataset\n",
    "\n",
    "You are to analyze campaign contributions to the 2016 U.S. presidential primary races made in California. Use the csv file located here: https://drive.google.com/file/d/1Lgg-PwXQ6TQLDowd6XyBxZw5g1NGWPjB/view?usp=sharing. You should download and save this file in the same folder as this notebook is stored.  This file originally came from the U.S. Federal Election Commission (https://www.fec.gov/).\n",
    "\n",
    "**DO NOT PUSH THIS FILE TO YOUR GITHUB REPO!**\n",
    "\n",
    "- Best practice is to not have DATA files in your code repo. As shown below, the default load is outside of the folder this notebook is in. If you change the folder where the file is stored please update the first cell!\n",
    "- If you do accidentally push the file to your github repo - follow the directions here to fix it: https://docs.google.com/document/d/15Irgb5V5G7pKPWgAerH7FPMpKeQRunbNflaW-hR2hTA/edit?usp=sharing\n",
    "\n",
    "Documentation for this data can be found here: https://drive.google.com/file/d/11o_SByceenv0NgNMstM-dxC1jL7I9fHL/view?usp=sharing"
   ]
  },
  {
   "cell_type": "markdown",
   "metadata": {},
   "source": [
    "## Data Questions\n",
    "\n",
    "You are working for a California state-wide election campaign. Your boss wants you to examine historic 2016 election contribution data to see what zipcodes are more supportive of fundraising for your candidate. \n",
    "\n",
    "Your boss asks you to filter out some of the records:\n",
    "- Only use primary 2016 contribution data (more like how your race is).\n",
    "- Concentrate on Bernie Sanders as a candidate (most a like your candidate)\n",
    "\n",
    "The questions your boss wants answered is:\n",
    "- Which zipcode (5-digit zipcode) had the highest count of contributions and the most dollar amount?\n",
    "- What day(s) of the month do most people donate?"
   ]
  },
  {
   "cell_type": "markdown",
   "metadata": {},
   "source": [
    "## Setup\n",
    "\n",
    "Run the cell below as it will load the data into a pandas dataframe named `contrib`. Note that a custom date parser is defined to speed up loading. If Python were to guess the date format, it would take even longer to load."
   ]
  },
  {
   "cell_type": "code",
   "execution_count": 151,
   "metadata": {
    "tags": []
   },
   "outputs": [
    {
     "name": "stderr",
     "output_type": "stream",
     "text": [
      "/tmp/ipykernel_798/2050583822.py:14: DtypeWarning: Columns (6,11,12) have mixed types. Specify dtype option on import or set low_memory=False.\n",
      "  contrib = pd.read_csv('P00000001-CA.csv', index_col=False, parse_dates=['contb_receipt_dt'], date_parser=d)\n"
     ]
    }
   ],
   "source": [
    "import pandas as pd\n",
    "import numpy as np\n",
    "from datetime import datetime\n",
    "\n",
    "# These commands below set some options for pandas and to have matplotlib show the charts in the notebook\n",
    "pd.set_option('display.max_rows', 1000)\n",
    "pd.options.display.float_format = '{:,.2f}'.format\n",
    "\n",
    "# Define a date parser to pass to read_csv\n",
    "d = lambda x: datetime.strptime(x, '%d-%b-%y')\n",
    "\n",
    "# Load the data\n",
    "# We have this defaulted to the folder OUTSIDE of your repo - please change it as needed\n",
    "contrib = pd.read_csv('P00000001-CA.csv', index_col=False, parse_dates=['contb_receipt_dt'], date_parser=d)\n",
    "\n",
    "# Note - for now, it is okay to ignore the warning about mixed types. "
   ]
  },
  {
   "cell_type": "markdown",
   "metadata": {},
   "source": [
    "***\n",
    "## 1. Initial Data Checks (50 points)\n",
    "\n",
    "First we will take a preliminary look at the data to check that it was loaded correctly and contains the info we need.\n",
    "\n",
    "The questions to answer at the end of this section:\n",
    "- Do we have the correct # of columns and rows. \n",
    "- Do the records contain data for the questions we want to answer \n",
    "- What columns are important? \n",
    "- What columns can be dropped?\n",
    "- What are the data problems?"
   ]
  },
  {
   "cell_type": "markdown",
   "metadata": {},
   "source": [
    "**1a.** Print the *shape* of the data. Does this match the expectation? (2 points)"
   ]
  },
  {
   "cell_type": "code",
   "execution_count": 152,
   "metadata": {
    "deletable": false,
    "nbgrader": {
     "checksum": "9f7a7938e43b14d3c7c49d6a278b0bb1",
     "grade": true,
     "grade_id": "cell-5d017805206f18b1",
     "locked": false,
     "points": 0,
     "schema_version": 1,
     "solution": true
    }
   },
   "outputs": [
    {
     "data": {
      "text/plain": [
       "(1125659, 18)"
      ]
     },
     "execution_count": 152,
     "metadata": {},
     "output_type": "execute_result"
    }
   ],
   "source": [
    "# 1a YOUR CODE HERE\n",
    "contrib.shape"
   ]
  },
  {
   "cell_type": "markdown",
   "metadata": {},
   "source": [
    "- **1a answer here:** Yes"
   ]
  },
  {
   "cell_type": "markdown",
   "metadata": {
    "deletable": false,
    "nbgrader": {
     "checksum": "e6a198453ec4b0171a064fef0bd7c678",
     "grade": true,
     "grade_id": "cell-3bc26919169bf4aa",
     "locked": false,
     "points": 5,
     "schema_version": 1,
     "solution": true
    }
   },
   "source": [
    "**1b.** Print a list of column names. Are all the columns included that are in the documentation? (2 points)"
   ]
  },
  {
   "cell_type": "code",
   "execution_count": 153,
   "metadata": {
    "deletable": false,
    "nbgrader": {
     "checksum": "4fbf682f1c78b3614832c6f48ecd88c7",
     "grade": true,
     "grade_id": "cell-72bc97601b84f17d",
     "locked": false,
     "points": 5,
     "schema_version": 1,
     "solution": true
    }
   },
   "outputs": [
    {
     "data": {
      "text/plain": [
       "Index(['cmte_id', 'cand_id', 'cand_nm', 'contbr_nm', 'contbr_city',\n",
       "       'contbr_st', 'contbr_zip', 'contbr_employer', 'contbr_occupation',\n",
       "       'contb_receipt_amt', 'contb_receipt_dt', 'receipt_desc', 'memo_cd',\n",
       "       'memo_text', 'form_tp', 'file_num', 'tran_id', 'election_tp'],\n",
       "      dtype='object')"
      ]
     },
     "execution_count": 153,
     "metadata": {},
     "output_type": "execute_result"
    }
   ],
   "source": [
    "# 1b YOUR CODE HERE\n",
    "contrib.columns"
   ]
  },
  {
   "cell_type": "markdown",
   "metadata": {},
   "source": [
    "- **1b answer here:** Yes"
   ]
  },
  {
   "cell_type": "markdown",
   "metadata": {},
   "source": [
    "**1c** Print out the first five rows of the dataset. How do the columns `cand_id`, `cand_nm` and `contbr_st` look? (3 points)"
   ]
  },
  {
   "cell_type": "code",
   "execution_count": 154,
   "metadata": {},
   "outputs": [
    {
     "data": {
      "text/html": [
       "<div>\n",
       "<style scoped>\n",
       "    .dataframe tbody tr th:only-of-type {\n",
       "        vertical-align: middle;\n",
       "    }\n",
       "\n",
       "    .dataframe tbody tr th {\n",
       "        vertical-align: top;\n",
       "    }\n",
       "\n",
       "    .dataframe thead th {\n",
       "        text-align: right;\n",
       "    }\n",
       "</style>\n",
       "<table border=\"1\" class=\"dataframe\">\n",
       "  <thead>\n",
       "    <tr style=\"text-align: right;\">\n",
       "      <th></th>\n",
       "      <th>cmte_id</th>\n",
       "      <th>cand_id</th>\n",
       "      <th>cand_nm</th>\n",
       "      <th>contbr_nm</th>\n",
       "      <th>contbr_city</th>\n",
       "      <th>contbr_st</th>\n",
       "      <th>contbr_zip</th>\n",
       "      <th>contbr_employer</th>\n",
       "      <th>contbr_occupation</th>\n",
       "      <th>contb_receipt_amt</th>\n",
       "      <th>contb_receipt_dt</th>\n",
       "      <th>receipt_desc</th>\n",
       "      <th>memo_cd</th>\n",
       "      <th>memo_text</th>\n",
       "      <th>form_tp</th>\n",
       "      <th>file_num</th>\n",
       "      <th>tran_id</th>\n",
       "      <th>election_tp</th>\n",
       "    </tr>\n",
       "  </thead>\n",
       "  <tbody>\n",
       "    <tr>\n",
       "      <th>0</th>\n",
       "      <td>C00575795</td>\n",
       "      <td>P00003392</td>\n",
       "      <td>Clinton, Hillary Rodham</td>\n",
       "      <td>AULL, ANNE</td>\n",
       "      <td>LARKSPUR</td>\n",
       "      <td>CA</td>\n",
       "      <td>949,391,913.00</td>\n",
       "      <td>NaN</td>\n",
       "      <td>RETIRED</td>\n",
       "      <td>50.00</td>\n",
       "      <td>2016-04-26</td>\n",
       "      <td>NaN</td>\n",
       "      <td>X</td>\n",
       "      <td>* HILLARY VICTORY FUND</td>\n",
       "      <td>SA18</td>\n",
       "      <td>1091718</td>\n",
       "      <td>C4768722</td>\n",
       "      <td>P2016</td>\n",
       "    </tr>\n",
       "    <tr>\n",
       "      <th>1</th>\n",
       "      <td>C00575795</td>\n",
       "      <td>P00003392</td>\n",
       "      <td>Clinton, Hillary Rodham</td>\n",
       "      <td>CARROLL, MARYJEAN</td>\n",
       "      <td>CAMBRIA</td>\n",
       "      <td>CA</td>\n",
       "      <td>934,284,638.00</td>\n",
       "      <td>NaN</td>\n",
       "      <td>RETIRED</td>\n",
       "      <td>200.00</td>\n",
       "      <td>2016-04-20</td>\n",
       "      <td>NaN</td>\n",
       "      <td>X</td>\n",
       "      <td>* HILLARY VICTORY FUND</td>\n",
       "      <td>SA18</td>\n",
       "      <td>1091718</td>\n",
       "      <td>C4747242</td>\n",
       "      <td>P2016</td>\n",
       "    </tr>\n",
       "    <tr>\n",
       "      <th>2</th>\n",
       "      <td>C00575795</td>\n",
       "      <td>P00003392</td>\n",
       "      <td>Clinton, Hillary Rodham</td>\n",
       "      <td>GANDARA, DESIREE</td>\n",
       "      <td>FONTANA</td>\n",
       "      <td>CA</td>\n",
       "      <td>923,371,507.00</td>\n",
       "      <td>NaN</td>\n",
       "      <td>RETIRED</td>\n",
       "      <td>5.00</td>\n",
       "      <td>2016-04-02</td>\n",
       "      <td>NaN</td>\n",
       "      <td>X</td>\n",
       "      <td>* HILLARY VICTORY FUND</td>\n",
       "      <td>SA18</td>\n",
       "      <td>1091718</td>\n",
       "      <td>C4666603</td>\n",
       "      <td>P2016</td>\n",
       "    </tr>\n",
       "    <tr>\n",
       "      <th>3</th>\n",
       "      <td>C00577130</td>\n",
       "      <td>P60007168</td>\n",
       "      <td>Sanders, Bernard</td>\n",
       "      <td>LEE, ALAN</td>\n",
       "      <td>CAMARILLO</td>\n",
       "      <td>CA</td>\n",
       "      <td>930,111,214.00</td>\n",
       "      <td>AT&amp;T GOVERNMENT SOLUTIONS</td>\n",
       "      <td>SOFTWARE ENGINEER</td>\n",
       "      <td>40.00</td>\n",
       "      <td>2016-03-04</td>\n",
       "      <td>NaN</td>\n",
       "      <td>NaN</td>\n",
       "      <td>* EARMARKED CONTRIBUTION: SEE BELOW</td>\n",
       "      <td>SA17A</td>\n",
       "      <td>1077404</td>\n",
       "      <td>VPF7BKWA097</td>\n",
       "      <td>P2016</td>\n",
       "    </tr>\n",
       "    <tr>\n",
       "      <th>4</th>\n",
       "      <td>C00577130</td>\n",
       "      <td>P60007168</td>\n",
       "      <td>Sanders, Bernard</td>\n",
       "      <td>LEONELLI, ODETTE</td>\n",
       "      <td>REDONDO BEACH</td>\n",
       "      <td>CA</td>\n",
       "      <td>902,784,310.00</td>\n",
       "      <td>VERICOR ENTERPRISES INC.</td>\n",
       "      <td>PHARMACIST</td>\n",
       "      <td>35.00</td>\n",
       "      <td>2016-03-05</td>\n",
       "      <td>NaN</td>\n",
       "      <td>NaN</td>\n",
       "      <td>* EARMARKED CONTRIBUTION: SEE BELOW</td>\n",
       "      <td>SA17A</td>\n",
       "      <td>1077404</td>\n",
       "      <td>VPF7BKX3MB3</td>\n",
       "      <td>P2016</td>\n",
       "    </tr>\n",
       "  </tbody>\n",
       "</table>\n",
       "</div>"
      ],
      "text/plain": [
       "     cmte_id    cand_id                  cand_nm          contbr_nm  \\\n",
       "0  C00575795  P00003392  Clinton, Hillary Rodham         AULL, ANNE   \n",
       "1  C00575795  P00003392  Clinton, Hillary Rodham  CARROLL, MARYJEAN   \n",
       "2  C00575795  P00003392  Clinton, Hillary Rodham   GANDARA, DESIREE   \n",
       "3  C00577130  P60007168         Sanders, Bernard          LEE, ALAN   \n",
       "4  C00577130  P60007168         Sanders, Bernard   LEONELLI, ODETTE   \n",
       "\n",
       "     contbr_city contbr_st     contbr_zip            contbr_employer  \\\n",
       "0       LARKSPUR        CA 949,391,913.00                        NaN   \n",
       "1        CAMBRIA        CA 934,284,638.00                        NaN   \n",
       "2        FONTANA        CA 923,371,507.00                        NaN   \n",
       "3      CAMARILLO        CA 930,111,214.00  AT&T GOVERNMENT SOLUTIONS   \n",
       "4  REDONDO BEACH        CA 902,784,310.00   VERICOR ENTERPRISES INC.   \n",
       "\n",
       "   contbr_occupation  contb_receipt_amt contb_receipt_dt receipt_desc memo_cd  \\\n",
       "0            RETIRED              50.00       2016-04-26          NaN       X   \n",
       "1            RETIRED             200.00       2016-04-20          NaN       X   \n",
       "2            RETIRED               5.00       2016-04-02          NaN       X   \n",
       "3  SOFTWARE ENGINEER              40.00       2016-03-04          NaN     NaN   \n",
       "4         PHARMACIST              35.00       2016-03-05          NaN     NaN   \n",
       "\n",
       "                             memo_text form_tp  file_num      tran_id  \\\n",
       "0               * HILLARY VICTORY FUND    SA18   1091718     C4768722   \n",
       "1               * HILLARY VICTORY FUND    SA18   1091718     C4747242   \n",
       "2               * HILLARY VICTORY FUND    SA18   1091718     C4666603   \n",
       "3  * EARMARKED CONTRIBUTION: SEE BELOW   SA17A   1077404  VPF7BKWA097   \n",
       "4  * EARMARKED CONTRIBUTION: SEE BELOW   SA17A   1077404  VPF7BKX3MB3   \n",
       "\n",
       "  election_tp  \n",
       "0       P2016  \n",
       "1       P2016  \n",
       "2       P2016  \n",
       "3       P2016  \n",
       "4       P2016  "
      ]
     },
     "execution_count": 154,
     "metadata": {},
     "output_type": "execute_result"
    }
   ],
   "source": [
    "# 1c YOUR CODE HERE\n",
    "contrib.head()"
   ]
  },
  {
   "cell_type": "markdown",
   "metadata": {},
   "source": [
    "- **1c answer here:** cand_id and cand_nm seem to be linked, contbr_st seems to be all the same value (CA)"
   ]
  },
  {
   "cell_type": "markdown",
   "metadata": {
    "deletable": false,
    "nbgrader": {
     "checksum": "0ec29a2cabd52709322d1cfd650babe7",
     "grade": true,
     "grade_id": "cell-23b51536d24c1645",
     "locked": false,
     "points": 0,
     "schema_version": 1,
     "solution": true
    }
   },
   "source": [
    "**1d.** Print out the values for the column `election_tp`. In your own words, based on the documentation, what information does the `election_tp` variable contain? Do the values in the column match the documentation? (3 points)"
   ]
  },
  {
   "cell_type": "code",
   "execution_count": 155,
   "metadata": {},
   "outputs": [
    {
     "data": {
      "text/plain": [
       "0          P2016\n",
       "1          P2016\n",
       "2          P2016\n",
       "3          P2016\n",
       "4          P2016\n",
       "           ...  \n",
       "1125654    P2016\n",
       "1125655    P2016\n",
       "1125656    P2016\n",
       "1125657    P2016\n",
       "1125658    P2016\n",
       "Name: election_tp, Length: 1125659, dtype: object"
      ]
     },
     "execution_count": 155,
     "metadata": {},
     "output_type": "execute_result"
    }
   ],
   "source": [
    "# 1d YOUR CODE HERE\n",
    "contrib['election_tp']"
   ]
  },
  {
   "cell_type": "markdown",
   "metadata": {
    "deletable": false,
    "nbgrader": {
     "checksum": "cfa64002e64474584dc1442b5a39b460",
     "grade": true,
     "grade_id": "cell-8a320c2ff7c24d98",
     "locked": false,
     "points": 0,
     "schema_version": 1,
     "solution": true
    }
   },
   "source": [
    "- **1d answer here:** Seems like it is the type of election (general, primary, etc). Looks like it does match the documentation"
   ]
  },
  {
   "cell_type": "markdown",
   "metadata": {
    "deletable": false,
    "nbgrader": {
     "checksum": "442b24601da06376c43cbe6ef5c5348a",
     "grade": true,
     "grade_id": "cell-6a453219105384dd",
     "locked": false,
     "points": 0,
     "schema_version": 1,
     "solution": true
    }
   },
   "source": [
    "**1e.** Print out the datatypes for all of the columns. What are the datatypes for the `contbr_zip`, `contb_receipt_amt`, `contb_receipt_dt`? (5 points)"
   ]
  },
  {
   "cell_type": "code",
   "execution_count": 156,
   "metadata": {
    "deletable": false,
    "nbgrader": {
     "checksum": "c5a1b7f30648cced7269ccb9b1532bd6",
     "grade": true,
     "grade_id": "cell-90c49bd6471a3dc9",
     "locked": false,
     "points": 0,
     "schema_version": 1,
     "solution": true
    }
   },
   "outputs": [
    {
     "data": {
      "text/plain": [
       "cmte_id                      object\n",
       "cand_id                      object\n",
       "cand_nm                      object\n",
       "contbr_nm                    object\n",
       "contbr_city                  object\n",
       "contbr_st                    object\n",
       "contbr_zip                   object\n",
       "contbr_employer              object\n",
       "contbr_occupation            object\n",
       "contb_receipt_amt           float64\n",
       "contb_receipt_dt     datetime64[ns]\n",
       "receipt_desc                 object\n",
       "memo_cd                      object\n",
       "memo_text                    object\n",
       "form_tp                      object\n",
       "file_num                      int64\n",
       "tran_id                      object\n",
       "election_tp                  object\n",
       "dtype: object"
      ]
     },
     "execution_count": 156,
     "metadata": {},
     "output_type": "execute_result"
    }
   ],
   "source": [
    "# 1e YOUR CODE HERE\n",
    "contrib.dtypes"
   ]
  },
  {
   "cell_type": "markdown",
   "metadata": {
    "deletable": false,
    "nbgrader": {
     "checksum": "60d3e303837e9603de5b96e32af7d806",
     "grade": true,
     "grade_id": "cell-447dc63eff8ebc5f",
     "locked": false,
     "points": 0,
     "schema_version": 1,
     "solution": true
    }
   },
   "source": [
    "- **1e answer here:** contbr_zip: object, contb_receipt_amt: float64, contb_receipt_dt: datetime64[ns]"
   ]
  },
  {
   "cell_type": "markdown",
   "metadata": {
    "deletable": false,
    "nbgrader": {
     "checksum": "20a71229316bf24a2ce62c52f72d8142",
     "grade": true,
     "grade_id": "cell-963603c5ed346a99",
     "locked": false,
     "points": 0,
     "schema_version": 1,
     "solution": true
    }
   },
   "source": [
    "**1f.** What columns have the most non-nulls?  Would you recommend to drop any columns based on the number of nulls? (5 points)"
   ]
  },
  {
   "cell_type": "code",
   "execution_count": 157,
   "metadata": {
    "deletable": false,
    "nbgrader": {
     "checksum": "426b589a9d6457f38381eb1c77678d4f",
     "grade": true,
     "grade_id": "cell-b6fc3f7c906c95a2",
     "locked": false,
     "points": 0,
     "schema_version": 1,
     "solution": true
    }
   },
   "outputs": [
    {
     "data": {
      "text/plain": [
       "cmte_id              1125659\n",
       "cand_id              1125659\n",
       "cand_nm              1125659\n",
       "contbr_nm            1125659\n",
       "contbr_city          1125633\n",
       "contbr_st            1125659\n",
       "contbr_zip           1125564\n",
       "contbr_employer       967757\n",
       "contbr_occupation    1115260\n",
       "contb_receipt_amt    1125659\n",
       "contb_receipt_dt     1125659\n",
       "receipt_desc           15045\n",
       "memo_cd               144268\n",
       "memo_text             501148\n",
       "form_tp              1125659\n",
       "file_num             1125659\n",
       "tran_id              1125659\n",
       "election_tp          1124234\n",
       "dtype: int64"
      ]
     },
     "execution_count": 157,
     "metadata": {},
     "output_type": "execute_result"
    }
   ],
   "source": [
    "# 1f YOUR CODE HERE\n",
    "contrib.count()"
   ]
  },
  {
   "cell_type": "markdown",
   "metadata": {
    "deletable": false,
    "nbgrader": {
     "checksum": "81ebf2a2f96961b4464f6c35d2143427",
     "grade": true,
     "grade_id": "cell-bea2cf7a6fff8565",
     "locked": false,
     "points": 0,
     "schema_version": 1,
     "solution": true
    }
   },
   "source": [
    "- **1f answer here:** 10 columns have every cell filled with some value. The receipt_desc column only has 15045 non-null values, meaning that ~1.3% of cells are filled. I would recommend to drop this column. Other columns with a low amount of null values are memo_text, memo_cd, and contbr_employer. "
   ]
  },
  {
   "cell_type": "markdown",
   "metadata": {},
   "source": [
    "**1g.** A column we know that we want to use is the cand_nm column.  From the documentation each candidate is a unique candidate id also. Check data quality of `cand_id` column to see if it matches `cand_nm` column. Specifically check to ensure our targetted candidate 'Bernard Sanders' always has the same cand_id throughout. Any issues with `cand_nm` matching `cand_id`? (5 points)"
   ]
  },
  {
   "cell_type": "code",
   "execution_count": 158,
   "metadata": {},
   "outputs": [
    {
     "name": "stdout",
     "output_type": "stream",
     "text": [
      "All IDs match the corresponding names.\n"
     ]
    }
   ],
   "source": [
    "# 1g YOUR CODE HERE\n",
    "id_name_match = contrib['cand_id'] == contrib['cand_nm']\n",
    "mismatched_rows = contrib[id_name_match]\n",
    "\n",
    "if mismatched_rows.empty:\n",
    "    print(\"All IDs match the corresponding names.\")\n",
    "else:\n",
    "    print(\"Mismatched rows:\")\n",
    "    print(mismatched_rows)"
   ]
  },
  {
   "cell_type": "markdown",
   "metadata": {},
   "source": [
    "- **1g answer here:** Looks like all IDs match their names"
   ]
  },
  {
   "cell_type": "markdown",
   "metadata": {},
   "source": [
    "**1h.** Another area to check is to make sure all of the records are from California. Check the `contbr_st` column - are there any records outside of California based on `contbr_st`? (5 points)"
   ]
  },
  {
   "cell_type": "code",
   "execution_count": 159,
   "metadata": {},
   "outputs": [
    {
     "name": "stdout",
     "output_type": "stream",
     "text": [
      "The column contbr_st has all the same values (CA).\n"
     ]
    }
   ],
   "source": [
    "# 1h YOUR CODE HERE\n",
    "state = 'contbr_st' \n",
    "\n",
    "if contrib['contbr_st'].nunique() == 1:\n",
    "    print(f\"The column contbr_st has all the same values (CA).\")\n",
    "else:\n",
    "    print(f\"The column contbr_st has different values.\")"
   ]
  },
  {
   "cell_type": "markdown",
   "metadata": {},
   "source": [
    "- **1h answer here:** All rows have the same value"
   ]
  },
  {
   "cell_type": "markdown",
   "metadata": {},
   "source": [
    "**1i.** The next column to check for the analysis is the `tran_id` column. This column could be the primary key so look for duplicates. How many duplicate entries are there? Any pattern for why are there duplicate entries? (5 points)"
   ]
  },
  {
   "cell_type": "code",
   "execution_count": 160,
   "metadata": {},
   "outputs": [
    {
     "name": "stdout",
     "output_type": "stream",
     "text": [
      "The column tran_id has 3454 duplicate values.\n"
     ]
    }
   ],
   "source": [
    "# 1i YOUR CODE HERE\n",
    "unique_values_count = contrib['tran_id'].nunique()\n",
    "total_values_count = len(contrib)\n",
    "\n",
    "if unique_values_count == total_values_count:\n",
    "    print(f\"The column tran_id has all unique values.\")\n",
    "else:\n",
    "    duplicate_values_count = total_values_count - unique_values_count\n",
    "    print(f\"The column tran_id has {duplicate_values_count} duplicate values.\")"
   ]
  },
  {
   "cell_type": "markdown",
   "metadata": {},
   "source": [
    "- **1i answer here:** The loop shows that there are 3454 unique values"
   ]
  },
  {
   "cell_type": "markdown",
   "metadata": {},
   "source": [
    "**1j.** Another column to check is the `contb_receipt_amt` that shows the donation amounts. How many negative donations are included? What do negative donations mean? Please show at least pull a few rows to look at the records with negative donations. Do these records match with the expectation of why a negative donation would happen? (5 points)"
   ]
  },
  {
   "cell_type": "code",
   "execution_count": 161,
   "metadata": {},
   "outputs": [
    {
     "name": "stdout",
     "output_type": "stream",
     "text": [
      "The column 'contb_receipt_amt' has 11896 negative values.\n"
     ]
    },
    {
     "data": {
      "text/html": [
       "<div>\n",
       "<style scoped>\n",
       "    .dataframe tbody tr th:only-of-type {\n",
       "        vertical-align: middle;\n",
       "    }\n",
       "\n",
       "    .dataframe tbody tr th {\n",
       "        vertical-align: top;\n",
       "    }\n",
       "\n",
       "    .dataframe thead th {\n",
       "        text-align: right;\n",
       "    }\n",
       "</style>\n",
       "<table border=\"1\" class=\"dataframe\">\n",
       "  <thead>\n",
       "    <tr style=\"text-align: right;\">\n",
       "      <th></th>\n",
       "      <th>cmte_id</th>\n",
       "      <th>cand_id</th>\n",
       "      <th>cand_nm</th>\n",
       "      <th>contbr_nm</th>\n",
       "      <th>contbr_city</th>\n",
       "      <th>contbr_st</th>\n",
       "      <th>contbr_zip</th>\n",
       "      <th>contbr_employer</th>\n",
       "      <th>contbr_occupation</th>\n",
       "      <th>contb_receipt_amt</th>\n",
       "      <th>contb_receipt_dt</th>\n",
       "      <th>receipt_desc</th>\n",
       "      <th>memo_cd</th>\n",
       "      <th>memo_text</th>\n",
       "      <th>form_tp</th>\n",
       "      <th>file_num</th>\n",
       "      <th>tran_id</th>\n",
       "      <th>election_tp</th>\n",
       "    </tr>\n",
       "  </thead>\n",
       "  <tbody>\n",
       "    <tr>\n",
       "      <th>19</th>\n",
       "      <td>C00574624</td>\n",
       "      <td>P60006111</td>\n",
       "      <td>Cruz, Rafael Edward 'Ted'</td>\n",
       "      <td>JOLLIFF, RICHARD</td>\n",
       "      <td>CHICO</td>\n",
       "      <td>CA</td>\n",
       "      <td>959,289,507.00</td>\n",
       "      <td>SELF EMPLOYED</td>\n",
       "      <td>RANCHER</td>\n",
       "      <td>-25.00</td>\n",
       "      <td>2016-04-29</td>\n",
       "      <td>REDESIGNATION TO GENERAL</td>\n",
       "      <td>X</td>\n",
       "      <td>REDESIGNATION TO GENERAL</td>\n",
       "      <td>SA17A</td>\n",
       "      <td>1077664</td>\n",
       "      <td>SA17A.1826482B</td>\n",
       "      <td>P2016</td>\n",
       "    </tr>\n",
       "    <tr>\n",
       "      <th>23</th>\n",
       "      <td>C00574624</td>\n",
       "      <td>P60006111</td>\n",
       "      <td>Cruz, Rafael Edward 'Ted'</td>\n",
       "      <td>JOLLIFF, RICHARD</td>\n",
       "      <td>CHICO</td>\n",
       "      <td>CA</td>\n",
       "      <td>959,289,507.00</td>\n",
       "      <td>SELF EMPLOYED</td>\n",
       "      <td>RANCHER</td>\n",
       "      <td>-150.00</td>\n",
       "      <td>2016-04-29</td>\n",
       "      <td>REDESIGNATION TO GENERAL</td>\n",
       "      <td>X</td>\n",
       "      <td>REDESIGNATION TO GENERAL</td>\n",
       "      <td>SA17A</td>\n",
       "      <td>1077664</td>\n",
       "      <td>SA17A.1826483B</td>\n",
       "      <td>P2016</td>\n",
       "    </tr>\n",
       "    <tr>\n",
       "      <th>81</th>\n",
       "      <td>C00574624</td>\n",
       "      <td>P60006111</td>\n",
       "      <td>Cruz, Rafael Edward 'Ted'</td>\n",
       "      <td>JOLLIFF, RICHARD</td>\n",
       "      <td>CHICO</td>\n",
       "      <td>CA</td>\n",
       "      <td>959,289,507.00</td>\n",
       "      <td>SELF EMPLOYED</td>\n",
       "      <td>RANCHER</td>\n",
       "      <td>-60.00</td>\n",
       "      <td>2016-04-14</td>\n",
       "      <td>REDESIGNATION TO GENERAL</td>\n",
       "      <td>X</td>\n",
       "      <td>REDESIGNATION TO GENERAL</td>\n",
       "      <td>SA17A</td>\n",
       "      <td>1077664</td>\n",
       "      <td>SA17A.1827494</td>\n",
       "      <td>P2016</td>\n",
       "    </tr>\n",
       "    <tr>\n",
       "      <th>190</th>\n",
       "      <td>C00574624</td>\n",
       "      <td>P60006111</td>\n",
       "      <td>Cruz, Rafael Edward 'Ted'</td>\n",
       "      <td>NOWELL, DIANA L.</td>\n",
       "      <td>RANCHO SANTA MARGARITA</td>\n",
       "      <td>CA</td>\n",
       "      <td>926,884,928.00</td>\n",
       "      <td>CAPISTRAND UNIFIED SCHOOL DISTRICT</td>\n",
       "      <td>LIBRARIAN TECHNICIAN</td>\n",
       "      <td>-100.00</td>\n",
       "      <td>2016-04-11</td>\n",
       "      <td>REDESIGNATION TO GENERAL</td>\n",
       "      <td>X</td>\n",
       "      <td>REDESIGNATION TO GENERAL</td>\n",
       "      <td>SA17A</td>\n",
       "      <td>1077664</td>\n",
       "      <td>SA17A.1639830B</td>\n",
       "      <td>P2016</td>\n",
       "    </tr>\n",
       "    <tr>\n",
       "      <th>213</th>\n",
       "      <td>C00574624</td>\n",
       "      <td>P60006111</td>\n",
       "      <td>Cruz, Rafael Edward 'Ted'</td>\n",
       "      <td>LICHTY, ANDREW MR.</td>\n",
       "      <td>SAN DIEGO</td>\n",
       "      <td>CA</td>\n",
       "      <td>921,096,720.00</td>\n",
       "      <td>SELF EMPLOYED</td>\n",
       "      <td>REAL ESTATE</td>\n",
       "      <td>-25.00</td>\n",
       "      <td>2016-04-30</td>\n",
       "      <td>REDESIGNATION TO GENERAL</td>\n",
       "      <td>X</td>\n",
       "      <td>REDESIGNATION TO GENERAL</td>\n",
       "      <td>SA17A</td>\n",
       "      <td>1077664</td>\n",
       "      <td>SA17A.1826888B</td>\n",
       "      <td>P2016</td>\n",
       "    </tr>\n",
       "  </tbody>\n",
       "</table>\n",
       "</div>"
      ],
      "text/plain": [
       "       cmte_id    cand_id                    cand_nm           contbr_nm  \\\n",
       "19   C00574624  P60006111  Cruz, Rafael Edward 'Ted'    JOLLIFF, RICHARD   \n",
       "23   C00574624  P60006111  Cruz, Rafael Edward 'Ted'    JOLLIFF, RICHARD   \n",
       "81   C00574624  P60006111  Cruz, Rafael Edward 'Ted'    JOLLIFF, RICHARD   \n",
       "190  C00574624  P60006111  Cruz, Rafael Edward 'Ted'    NOWELL, DIANA L.   \n",
       "213  C00574624  P60006111  Cruz, Rafael Edward 'Ted'  LICHTY, ANDREW MR.   \n",
       "\n",
       "                contbr_city contbr_st     contbr_zip  \\\n",
       "19                    CHICO        CA 959,289,507.00   \n",
       "23                    CHICO        CA 959,289,507.00   \n",
       "81                    CHICO        CA 959,289,507.00   \n",
       "190  RANCHO SANTA MARGARITA        CA 926,884,928.00   \n",
       "213               SAN DIEGO        CA 921,096,720.00   \n",
       "\n",
       "                        contbr_employer     contbr_occupation  \\\n",
       "19                        SELF EMPLOYED               RANCHER   \n",
       "23                        SELF EMPLOYED               RANCHER   \n",
       "81                        SELF EMPLOYED               RANCHER   \n",
       "190  CAPISTRAND UNIFIED SCHOOL DISTRICT  LIBRARIAN TECHNICIAN   \n",
       "213                       SELF EMPLOYED           REAL ESTATE   \n",
       "\n",
       "     contb_receipt_amt contb_receipt_dt              receipt_desc memo_cd  \\\n",
       "19              -25.00       2016-04-29  REDESIGNATION TO GENERAL       X   \n",
       "23             -150.00       2016-04-29  REDESIGNATION TO GENERAL       X   \n",
       "81              -60.00       2016-04-14  REDESIGNATION TO GENERAL       X   \n",
       "190            -100.00       2016-04-11  REDESIGNATION TO GENERAL       X   \n",
       "213             -25.00       2016-04-30  REDESIGNATION TO GENERAL       X   \n",
       "\n",
       "                    memo_text form_tp  file_num         tran_id election_tp  \n",
       "19   REDESIGNATION TO GENERAL   SA17A   1077664  SA17A.1826482B       P2016  \n",
       "23   REDESIGNATION TO GENERAL   SA17A   1077664  SA17A.1826483B       P2016  \n",
       "81   REDESIGNATION TO GENERAL   SA17A   1077664   SA17A.1827494       P2016  \n",
       "190  REDESIGNATION TO GENERAL   SA17A   1077664  SA17A.1639830B       P2016  \n",
       "213  REDESIGNATION TO GENERAL   SA17A   1077664  SA17A.1826888B       P2016  "
      ]
     },
     "execution_count": 161,
     "metadata": {},
     "output_type": "execute_result"
    }
   ],
   "source": [
    "# 1j YOUR CODE HERE\n",
    "negatives = 'contb_receipt_amt'  \n",
    "\n",
    "negative_values_count = (contrib[negatives] < 0).sum()\n",
    "negatives_df = contrib[contrib['contb_receipt_amt'] < 0]\n",
    "print(f\"The column '{negatives}' has {negative_values_count} negative values.\")\n",
    "negatives_df.head()"
   ]
  },
  {
   "cell_type": "markdown",
   "metadata": {},
   "source": [
    "- **1j answer here:** There are 11,896 donations. The reason as to why the donation is negative can be found in the memo text or receipt description: It says 'REDESIGNATION TO GENERAL', which may mean some kind of reallocation or repayment for overages. "
   ]
  },
  {
   "cell_type": "markdown",
   "metadata": {},
   "source": [
    "**1k.** One more column to look at is the date of donation column. Are there any dates outside of the primary period (defined as 1 Jan 2014 to 7 June 2016)? Are the dates well-formatted for our analysis? (5 points)"
   ]
  },
  {
   "cell_type": "code",
   "execution_count": 162,
   "metadata": {},
   "outputs": [
    {
     "name": "stdout",
     "output_type": "stream",
     "text": [
      "The number of rows outside the date range is: 451372\n"
     ]
    },
    {
     "data": {
      "text/html": [
       "<div>\n",
       "<style scoped>\n",
       "    .dataframe tbody tr th:only-of-type {\n",
       "        vertical-align: middle;\n",
       "    }\n",
       "\n",
       "    .dataframe tbody tr th {\n",
       "        vertical-align: top;\n",
       "    }\n",
       "\n",
       "    .dataframe thead th {\n",
       "        text-align: right;\n",
       "    }\n",
       "</style>\n",
       "<table border=\"1\" class=\"dataframe\">\n",
       "  <thead>\n",
       "    <tr style=\"text-align: right;\">\n",
       "      <th></th>\n",
       "      <th>cmte_id</th>\n",
       "      <th>cand_id</th>\n",
       "      <th>cand_nm</th>\n",
       "      <th>contbr_nm</th>\n",
       "      <th>contbr_city</th>\n",
       "      <th>contbr_st</th>\n",
       "      <th>contbr_zip</th>\n",
       "      <th>contbr_employer</th>\n",
       "      <th>contbr_occupation</th>\n",
       "      <th>contb_receipt_amt</th>\n",
       "      <th>contb_receipt_dt</th>\n",
       "      <th>receipt_desc</th>\n",
       "      <th>memo_cd</th>\n",
       "      <th>memo_text</th>\n",
       "      <th>form_tp</th>\n",
       "      <th>file_num</th>\n",
       "      <th>tran_id</th>\n",
       "      <th>election_tp</th>\n",
       "    </tr>\n",
       "  </thead>\n",
       "  <tbody>\n",
       "    <tr>\n",
       "      <th>9932</th>\n",
       "      <td>C00458844</td>\n",
       "      <td>P60006723</td>\n",
       "      <td>Rubio, Marco</td>\n",
       "      <td>WHEELER, MARY MS.</td>\n",
       "      <td>ATHERTON</td>\n",
       "      <td>CA</td>\n",
       "      <td>940,273,415.00</td>\n",
       "      <td>SELF-EMPLOYED</td>\n",
       "      <td>INTERIOR DESIGNER</td>\n",
       "      <td>-20.00</td>\n",
       "      <td>2013-11-05</td>\n",
       "      <td>NaN</td>\n",
       "      <td>X</td>\n",
       "      <td>TRANSFER FROM RUBIO VICTORY</td>\n",
       "      <td>SA18</td>\n",
       "      <td>1029436</td>\n",
       "      <td>SA18.631526.2.0615</td>\n",
       "      <td>P2016</td>\n",
       "    </tr>\n",
       "    <tr>\n",
       "      <th>9994</th>\n",
       "      <td>C00458844</td>\n",
       "      <td>P60006723</td>\n",
       "      <td>Rubio, Marco</td>\n",
       "      <td>WHEELER, MARY MS.</td>\n",
       "      <td>ATHERTON</td>\n",
       "      <td>CA</td>\n",
       "      <td>940,273,415.00</td>\n",
       "      <td>SELF-EMPLOYED</td>\n",
       "      <td>INTERIOR DESIGNER</td>\n",
       "      <td>20.00</td>\n",
       "      <td>2013-11-05</td>\n",
       "      <td>NaN</td>\n",
       "      <td>X</td>\n",
       "      <td>TRANSFER FROM RUBIO VICTORY</td>\n",
       "      <td>SA18</td>\n",
       "      <td>1029436</td>\n",
       "      <td>SA18.631526.3.0615</td>\n",
       "      <td>G2016</td>\n",
       "    </tr>\n",
       "    <tr>\n",
       "      <th>14673</th>\n",
       "      <td>C00574624</td>\n",
       "      <td>P60006111</td>\n",
       "      <td>Cruz, Rafael Edward 'Ted'</td>\n",
       "      <td>RANDALL, DICK J</td>\n",
       "      <td>CUPERTINO</td>\n",
       "      <td>CA</td>\n",
       "      <td>95,014.00</td>\n",
       "      <td>NaN</td>\n",
       "      <td>NaN</td>\n",
       "      <td>-5,400.00</td>\n",
       "      <td>2016-06-30</td>\n",
       "      <td>Refund</td>\n",
       "      <td>NaN</td>\n",
       "      <td>NaN</td>\n",
       "      <td>SB28A</td>\n",
       "      <td>1096256</td>\n",
       "      <td>SB28A.90932</td>\n",
       "      <td>NaN</td>\n",
       "    </tr>\n",
       "    <tr>\n",
       "      <th>14682</th>\n",
       "      <td>C00605568</td>\n",
       "      <td>P20002671</td>\n",
       "      <td>Johnson, Gary</td>\n",
       "      <td>BOAL, ROB</td>\n",
       "      <td>OAK PARK</td>\n",
       "      <td>CA</td>\n",
       "      <td>91,377.00</td>\n",
       "      <td>VENDAVO</td>\n",
       "      <td>ENGINEER</td>\n",
       "      <td>30.00</td>\n",
       "      <td>2016-07-20</td>\n",
       "      <td>NaN</td>\n",
       "      <td>NaN</td>\n",
       "      <td>NaN</td>\n",
       "      <td>SA17A</td>\n",
       "      <td>1096305</td>\n",
       "      <td>SA17A.50793</td>\n",
       "      <td>G2016</td>\n",
       "    </tr>\n",
       "    <tr>\n",
       "      <th>14697</th>\n",
       "      <td>C00605568</td>\n",
       "      <td>P20002671</td>\n",
       "      <td>Johnson, Gary</td>\n",
       "      <td>LEE, JASCHA</td>\n",
       "      <td>SANTA CRUZ</td>\n",
       "      <td>CA</td>\n",
       "      <td>95,065.00</td>\n",
       "      <td>YAHOO</td>\n",
       "      <td>S/W ENG</td>\n",
       "      <td>88.45</td>\n",
       "      <td>2016-07-14</td>\n",
       "      <td>NaN</td>\n",
       "      <td>NaN</td>\n",
       "      <td>NaN</td>\n",
       "      <td>SA17A</td>\n",
       "      <td>1096305</td>\n",
       "      <td>SA17A.51414</td>\n",
       "      <td>G2016</td>\n",
       "    </tr>\n",
       "    <tr>\n",
       "      <th>14698</th>\n",
       "      <td>C00605568</td>\n",
       "      <td>P20002671</td>\n",
       "      <td>Johnson, Gary</td>\n",
       "      <td>LEE, JASCHA</td>\n",
       "      <td>SANTA CRUZ</td>\n",
       "      <td>CA</td>\n",
       "      <td>95,065.00</td>\n",
       "      <td>YAHOO</td>\n",
       "      <td>S/W ENG</td>\n",
       "      <td>100.00</td>\n",
       "      <td>2016-07-24</td>\n",
       "      <td>NaN</td>\n",
       "      <td>NaN</td>\n",
       "      <td>NaN</td>\n",
       "      <td>SA17A</td>\n",
       "      <td>1096305</td>\n",
       "      <td>SA17A.51415</td>\n",
       "      <td>G2016</td>\n",
       "    </tr>\n",
       "    <tr>\n",
       "      <th>14700</th>\n",
       "      <td>C00575795</td>\n",
       "      <td>P00003392</td>\n",
       "      <td>Clinton, Hillary Rodham</td>\n",
       "      <td>BAKER, JUDY</td>\n",
       "      <td>VACAVILLE</td>\n",
       "      <td>CA</td>\n",
       "      <td>956,873,433.00</td>\n",
       "      <td>NaN</td>\n",
       "      <td>RETIRED</td>\n",
       "      <td>5.00</td>\n",
       "      <td>2016-07-25</td>\n",
       "      <td>NaN</td>\n",
       "      <td>X</td>\n",
       "      <td>* HILLARY VICTORY FUND</td>\n",
       "      <td>SA18</td>\n",
       "      <td>1109498</td>\n",
       "      <td>C8807328</td>\n",
       "      <td>P2016</td>\n",
       "    </tr>\n",
       "    <tr>\n",
       "      <th>14738</th>\n",
       "      <td>C00575795</td>\n",
       "      <td>P00003392</td>\n",
       "      <td>Clinton, Hillary Rodham</td>\n",
       "      <td>JOHNSTON, NAN</td>\n",
       "      <td>PACIFIC GROVE</td>\n",
       "      <td>CA</td>\n",
       "      <td>939,504,535.00</td>\n",
       "      <td>RETIRED</td>\n",
       "      <td>RN</td>\n",
       "      <td>52.12</td>\n",
       "      <td>2016-07-04</td>\n",
       "      <td>NaN</td>\n",
       "      <td>X</td>\n",
       "      <td>* HILLARY VICTORY FUND</td>\n",
       "      <td>SA18</td>\n",
       "      <td>1109498</td>\n",
       "      <td>C8701938</td>\n",
       "      <td>P2016</td>\n",
       "    </tr>\n",
       "    <tr>\n",
       "      <th>14739</th>\n",
       "      <td>C00574624</td>\n",
       "      <td>P60006111</td>\n",
       "      <td>Cruz, Rafael Edward 'Ted'</td>\n",
       "      <td>VAUGHN, J MICHAEL</td>\n",
       "      <td>TRABUCO CANYON</td>\n",
       "      <td>CA</td>\n",
       "      <td>92,679.00</td>\n",
       "      <td>NaN</td>\n",
       "      <td>NaN</td>\n",
       "      <td>-1,000.00</td>\n",
       "      <td>2016-06-10</td>\n",
       "      <td>Refund</td>\n",
       "      <td>NaN</td>\n",
       "      <td>NaN</td>\n",
       "      <td>SB28A</td>\n",
       "      <td>1096256</td>\n",
       "      <td>SB28A.90913</td>\n",
       "      <td>NaN</td>\n",
       "    </tr>\n",
       "    <tr>\n",
       "      <th>14745</th>\n",
       "      <td>C00605568</td>\n",
       "      <td>P20002671</td>\n",
       "      <td>Johnson, Gary</td>\n",
       "      <td>VANDERVEEN, DAVID</td>\n",
       "      <td>LAGUNA BEACH</td>\n",
       "      <td>CA</td>\n",
       "      <td>92,651.00</td>\n",
       "      <td>TWICE REQUESTED NOT RECEIVED</td>\n",
       "      <td>TWICE REQUESTED NOT RECEIVED</td>\n",
       "      <td>500.00</td>\n",
       "      <td>2016-07-19</td>\n",
       "      <td>NaN</td>\n",
       "      <td>NaN</td>\n",
       "      <td>NaN</td>\n",
       "      <td>SA17A</td>\n",
       "      <td>1096305</td>\n",
       "      <td>SA17A.52002</td>\n",
       "      <td>G2016</td>\n",
       "    </tr>\n",
       "  </tbody>\n",
       "</table>\n",
       "</div>"
      ],
      "text/plain": [
       "         cmte_id    cand_id                    cand_nm          contbr_nm  \\\n",
       "9932   C00458844  P60006723               Rubio, Marco  WHEELER, MARY MS.   \n",
       "9994   C00458844  P60006723               Rubio, Marco  WHEELER, MARY MS.   \n",
       "14673  C00574624  P60006111  Cruz, Rafael Edward 'Ted'    RANDALL, DICK J   \n",
       "14682  C00605568  P20002671              Johnson, Gary          BOAL, ROB   \n",
       "14697  C00605568  P20002671              Johnson, Gary        LEE, JASCHA   \n",
       "14698  C00605568  P20002671              Johnson, Gary        LEE, JASCHA   \n",
       "14700  C00575795  P00003392    Clinton, Hillary Rodham        BAKER, JUDY   \n",
       "14738  C00575795  P00003392    Clinton, Hillary Rodham      JOHNSTON, NAN   \n",
       "14739  C00574624  P60006111  Cruz, Rafael Edward 'Ted'  VAUGHN, J MICHAEL   \n",
       "14745  C00605568  P20002671              Johnson, Gary  VANDERVEEN, DAVID   \n",
       "\n",
       "          contbr_city contbr_st     contbr_zip               contbr_employer  \\\n",
       "9932         ATHERTON        CA 940,273,415.00                 SELF-EMPLOYED   \n",
       "9994         ATHERTON        CA 940,273,415.00                 SELF-EMPLOYED   \n",
       "14673       CUPERTINO        CA      95,014.00                           NaN   \n",
       "14682        OAK PARK        CA      91,377.00                       VENDAVO   \n",
       "14697      SANTA CRUZ        CA      95,065.00                         YAHOO   \n",
       "14698      SANTA CRUZ        CA      95,065.00                         YAHOO   \n",
       "14700       VACAVILLE        CA 956,873,433.00                           NaN   \n",
       "14738   PACIFIC GROVE        CA 939,504,535.00                       RETIRED   \n",
       "14739  TRABUCO CANYON        CA      92,679.00                           NaN   \n",
       "14745    LAGUNA BEACH        CA      92,651.00  TWICE REQUESTED NOT RECEIVED   \n",
       "\n",
       "                  contbr_occupation  contb_receipt_amt contb_receipt_dt  \\\n",
       "9932              INTERIOR DESIGNER             -20.00       2013-11-05   \n",
       "9994              INTERIOR DESIGNER              20.00       2013-11-05   \n",
       "14673                           NaN          -5,400.00       2016-06-30   \n",
       "14682                      ENGINEER              30.00       2016-07-20   \n",
       "14697                       S/W ENG              88.45       2016-07-14   \n",
       "14698                       S/W ENG             100.00       2016-07-24   \n",
       "14700                       RETIRED               5.00       2016-07-25   \n",
       "14738                            RN              52.12       2016-07-04   \n",
       "14739                           NaN          -1,000.00       2016-06-10   \n",
       "14745  TWICE REQUESTED NOT RECEIVED             500.00       2016-07-19   \n",
       "\n",
       "      receipt_desc memo_cd                    memo_text form_tp  file_num  \\\n",
       "9932           NaN       X  TRANSFER FROM RUBIO VICTORY    SA18   1029436   \n",
       "9994           NaN       X  TRANSFER FROM RUBIO VICTORY    SA18   1029436   \n",
       "14673       Refund     NaN                          NaN   SB28A   1096256   \n",
       "14682          NaN     NaN                          NaN   SA17A   1096305   \n",
       "14697          NaN     NaN                          NaN   SA17A   1096305   \n",
       "14698          NaN     NaN                          NaN   SA17A   1096305   \n",
       "14700          NaN       X       * HILLARY VICTORY FUND    SA18   1109498   \n",
       "14738          NaN       X       * HILLARY VICTORY FUND    SA18   1109498   \n",
       "14739       Refund     NaN                          NaN   SB28A   1096256   \n",
       "14745          NaN     NaN                          NaN   SA17A   1096305   \n",
       "\n",
       "                  tran_id election_tp  \n",
       "9932   SA18.631526.2.0615       P2016  \n",
       "9994   SA18.631526.3.0615       G2016  \n",
       "14673         SB28A.90932         NaN  \n",
       "14682         SA17A.50793       G2016  \n",
       "14697         SA17A.51414       G2016  \n",
       "14698         SA17A.51415       G2016  \n",
       "14700            C8807328       P2016  \n",
       "14738            C8701938       P2016  \n",
       "14739         SB28A.90913         NaN  \n",
       "14745         SA17A.52002       G2016  "
      ]
     },
     "execution_count": 162,
     "metadata": {},
     "output_type": "execute_result"
    }
   ],
   "source": [
    "# 1k YOUR CODE HERE\n",
    "dates = 'contb_receipt_dt'\n",
    "contrib[dates] = pd.to_datetime(contrib[dates], errors='coerce')\n",
    "\n",
    "start_date = datetime(2014, 1, 1)\n",
    "end_date = datetime(2016, 6, 7)\n",
    "\n",
    "outside_date_range_df = contrib[(contrib[dates] < start_date) | (contrib[dates] > end_date)]\n",
    "count_outside_date_range = len(outside_date_range_df)\n",
    "\n",
    "print(f\"The number of rows outside the date range is: {count_outside_date_range}\")\n",
    "outside_date_range_df.head(10)"
   ]
  },
  {
   "cell_type": "markdown",
   "metadata": {},
   "source": [
    "- **1k answer here:**"
   ]
  },
  {
   "cell_type": "markdown",
   "metadata": {
    "deletable": false,
    "nbgrader": {
     "checksum": "bffd2778d22127102347386bfb6f5b20",
     "grade": true,
     "grade_id": "cell-4ad1da24176f0450",
     "locked": false,
     "points": 0,
     "schema_version": 1,
     "solution": true
    }
   },
   "source": [
    "**1l.** Finally, answer the initial questions in the cells below (5 points)"
   ]
  },
  {
   "cell_type": "markdown",
   "metadata": {},
   "source": [
    "**1l.1** Do we have the correct # of columns and rows.\n",
    "\n",
    "- **1l.1 answer here:** Yes"
   ]
  },
  {
   "cell_type": "markdown",
   "metadata": {},
   "source": [
    "**1l.2** Do the records contain data for the questions we want to answer?\n",
    "\n",
    "- **1l.2 answer here:** Yes"
   ]
  },
  {
   "cell_type": "markdown",
   "metadata": {},
   "source": [
    "**1l.3** What columns are important?\n",
    "\n",
    "- **1l.3 answer here:** cand_nm, contbr_nm, contbr_city, contbr_occupation, contbr_receipt_amt, memo_text"
   ]
  },
  {
   "cell_type": "markdown",
   "metadata": {},
   "source": [
    "**1l.4** What columns can be dropped?\n",
    "\n",
    "- **1l.4 answer here:** contbr_st, receipt_desc, possibly file_num? "
   ]
  },
  {
   "cell_type": "markdown",
   "metadata": {},
   "source": [
    "**1l.5** What are the data problems?\n",
    "\n",
    "- **1l.5 answer here:** Many null values in a few columns, must be cleaned. Also many duplicate values in the transaction column, and if it will be used as a primary key, this will not suffice. "
   ]
  },
  {
   "cell_type": "markdown",
   "metadata": {},
   "source": [
    "**1l.6** List any assumptions so far:\n",
    "\n",
    "- **1l.6 answer here:** That there are no inaccurate data points, nothing is misspelled or miscounted "
   ]
  },
  {
   "cell_type": "markdown",
   "metadata": {
    "deletable": false,
    "nbgrader": {
     "checksum": "14c2855e3d59f0da6b1afd5cf0da2da8",
     "grade": true,
     "grade_id": "cell-fd840cdd19d2bd2a",
     "locked": false,
     "points": 0,
     "schema_version": 1,
     "solution": true
    }
   },
   "source": [
    "***\n",
    "## 2. Data filtering and data quality fixes (30 points)\n",
    "\n",
    "Now that we have a basic understanding of the data, let's filter out the records we don't need and fix the data."
   ]
  },
  {
   "cell_type": "markdown",
   "metadata": {},
   "source": [
    "**2a.** From the dataset filter out (remove) any election_tp not in the primary election. Print/show the shape of the dataframe after the filtering is complete. (5 points)"
   ]
  },
  {
   "cell_type": "code",
   "execution_count": 169,
   "metadata": {
    "deletable": false,
    "nbgrader": {
     "checksum": "43ce3d15cee7ab73f53fd8f054c9826c",
     "grade": true,
     "grade_id": "cell-dce8d3107c1463ca",
     "locked": false,
     "points": 0,
     "schema_version": 1,
     "solution": true
    }
   },
   "outputs": [
    {
     "name": "stdout",
     "output_type": "stream",
     "text": [
      "(315178, 18)\n"
     ]
    },
    {
     "data": {
      "text/html": [
       "<div>\n",
       "<style scoped>\n",
       "    .dataframe tbody tr th:only-of-type {\n",
       "        vertical-align: middle;\n",
       "    }\n",
       "\n",
       "    .dataframe tbody tr th {\n",
       "        vertical-align: top;\n",
       "    }\n",
       "\n",
       "    .dataframe thead th {\n",
       "        text-align: right;\n",
       "    }\n",
       "</style>\n",
       "<table border=\"1\" class=\"dataframe\">\n",
       "  <thead>\n",
       "    <tr style=\"text-align: right;\">\n",
       "      <th></th>\n",
       "      <th>cmte_id</th>\n",
       "      <th>cand_id</th>\n",
       "      <th>cand_nm</th>\n",
       "      <th>contbr_nm</th>\n",
       "      <th>contbr_city</th>\n",
       "      <th>contbr_st</th>\n",
       "      <th>contbr_zip</th>\n",
       "      <th>contbr_employer</th>\n",
       "      <th>contbr_occupation</th>\n",
       "      <th>contb_receipt_amt</th>\n",
       "      <th>contb_receipt_dt</th>\n",
       "      <th>receipt_desc</th>\n",
       "      <th>memo_cd</th>\n",
       "      <th>memo_text</th>\n",
       "      <th>form_tp</th>\n",
       "      <th>file_num</th>\n",
       "      <th>tran_id</th>\n",
       "      <th>election_tp</th>\n",
       "    </tr>\n",
       "  </thead>\n",
       "  <tbody>\n",
       "    <tr>\n",
       "      <th>18</th>\n",
       "      <td>C00574624</td>\n",
       "      <td>P60006111</td>\n",
       "      <td>Cruz, Rafael Edward 'Ted'</td>\n",
       "      <td>JOLLIFF, RICHARD</td>\n",
       "      <td>CHICO</td>\n",
       "      <td>CA</td>\n",
       "      <td>959,289,507.00</td>\n",
       "      <td>SELF EMPLOYED</td>\n",
       "      <td>RANCHER</td>\n",
       "      <td>25.00</td>\n",
       "      <td>2016-04-29</td>\n",
       "      <td>REDESIGNATION FROM PRIMARY</td>\n",
       "      <td>X</td>\n",
       "      <td>REDESIGNATION FROM PRIMARY</td>\n",
       "      <td>SA17A</td>\n",
       "      <td>1077664</td>\n",
       "      <td>SA17A.1826482</td>\n",
       "      <td>G2016</td>\n",
       "    </tr>\n",
       "    <tr>\n",
       "      <th>82</th>\n",
       "      <td>C00574624</td>\n",
       "      <td>P60006111</td>\n",
       "      <td>Cruz, Rafael Edward 'Ted'</td>\n",
       "      <td>JOLLIFF, RICHARD</td>\n",
       "      <td>CHICO</td>\n",
       "      <td>CA</td>\n",
       "      <td>959,289,507.00</td>\n",
       "      <td>SELF EMPLOYED</td>\n",
       "      <td>RANCHER</td>\n",
       "      <td>60.00</td>\n",
       "      <td>2016-04-14</td>\n",
       "      <td>REDESIGNATION FROM PRIMARY</td>\n",
       "      <td>X</td>\n",
       "      <td>REDESIGNATION FROM PRIMARY</td>\n",
       "      <td>SA17A</td>\n",
       "      <td>1077664</td>\n",
       "      <td>SA17A.1827629</td>\n",
       "      <td>G2016</td>\n",
       "    </tr>\n",
       "    <tr>\n",
       "      <th>89</th>\n",
       "      <td>C00574624</td>\n",
       "      <td>P60006111</td>\n",
       "      <td>Cruz, Rafael Edward 'Ted'</td>\n",
       "      <td>JOLLIFF, RICHARD</td>\n",
       "      <td>CHICO</td>\n",
       "      <td>CA</td>\n",
       "      <td>959,289,507.00</td>\n",
       "      <td>SELF EMPLOYED</td>\n",
       "      <td>RANCHER</td>\n",
       "      <td>150.00</td>\n",
       "      <td>2016-04-29</td>\n",
       "      <td>REDESIGNATION FROM PRIMARY</td>\n",
       "      <td>X</td>\n",
       "      <td>REDESIGNATION FROM PRIMARY</td>\n",
       "      <td>SA17A</td>\n",
       "      <td>1077664</td>\n",
       "      <td>SA17A.1826483</td>\n",
       "      <td>G2016</td>\n",
       "    </tr>\n",
       "    <tr>\n",
       "      <th>212</th>\n",
       "      <td>C00574624</td>\n",
       "      <td>P60006111</td>\n",
       "      <td>Cruz, Rafael Edward 'Ted'</td>\n",
       "      <td>LICHTY, ANDREW MR.</td>\n",
       "      <td>SAN DIEGO</td>\n",
       "      <td>CA</td>\n",
       "      <td>921,096,720.00</td>\n",
       "      <td>SELF EMPLOYED</td>\n",
       "      <td>REAL ESTATE</td>\n",
       "      <td>25.00</td>\n",
       "      <td>2016-04-30</td>\n",
       "      <td>REDESIGNATION FROM PRIMARY</td>\n",
       "      <td>X</td>\n",
       "      <td>REDESIGNATION FROM PRIMARY</td>\n",
       "      <td>SA17A</td>\n",
       "      <td>1077664</td>\n",
       "      <td>SA17A.1826888</td>\n",
       "      <td>G2016</td>\n",
       "    </tr>\n",
       "    <tr>\n",
       "      <th>216</th>\n",
       "      <td>C00574624</td>\n",
       "      <td>P60006111</td>\n",
       "      <td>Cruz, Rafael Edward 'Ted'</td>\n",
       "      <td>LICHTY, ANDREW MR.</td>\n",
       "      <td>SAN DIEGO</td>\n",
       "      <td>CA</td>\n",
       "      <td>921,096,720.00</td>\n",
       "      <td>SELF EMPLOYED</td>\n",
       "      <td>REAL ESTATE</td>\n",
       "      <td>50.00</td>\n",
       "      <td>2016-04-30</td>\n",
       "      <td>REDESIGNATION FROM PRIMARY</td>\n",
       "      <td>X</td>\n",
       "      <td>REDESIGNATION FROM PRIMARY</td>\n",
       "      <td>SA17A</td>\n",
       "      <td>1077664</td>\n",
       "      <td>SA17A.1826889</td>\n",
       "      <td>G2016</td>\n",
       "    </tr>\n",
       "  </tbody>\n",
       "</table>\n",
       "</div>"
      ],
      "text/plain": [
       "       cmte_id    cand_id                    cand_nm           contbr_nm  \\\n",
       "18   C00574624  P60006111  Cruz, Rafael Edward 'Ted'    JOLLIFF, RICHARD   \n",
       "82   C00574624  P60006111  Cruz, Rafael Edward 'Ted'    JOLLIFF, RICHARD   \n",
       "89   C00574624  P60006111  Cruz, Rafael Edward 'Ted'    JOLLIFF, RICHARD   \n",
       "212  C00574624  P60006111  Cruz, Rafael Edward 'Ted'  LICHTY, ANDREW MR.   \n",
       "216  C00574624  P60006111  Cruz, Rafael Edward 'Ted'  LICHTY, ANDREW MR.   \n",
       "\n",
       "    contbr_city contbr_st     contbr_zip contbr_employer contbr_occupation  \\\n",
       "18        CHICO        CA 959,289,507.00   SELF EMPLOYED           RANCHER   \n",
       "82        CHICO        CA 959,289,507.00   SELF EMPLOYED           RANCHER   \n",
       "89        CHICO        CA 959,289,507.00   SELF EMPLOYED           RANCHER   \n",
       "212   SAN DIEGO        CA 921,096,720.00   SELF EMPLOYED       REAL ESTATE   \n",
       "216   SAN DIEGO        CA 921,096,720.00   SELF EMPLOYED       REAL ESTATE   \n",
       "\n",
       "     contb_receipt_amt contb_receipt_dt                receipt_desc memo_cd  \\\n",
       "18               25.00       2016-04-29  REDESIGNATION FROM PRIMARY       X   \n",
       "82               60.00       2016-04-14  REDESIGNATION FROM PRIMARY       X   \n",
       "89              150.00       2016-04-29  REDESIGNATION FROM PRIMARY       X   \n",
       "212              25.00       2016-04-30  REDESIGNATION FROM PRIMARY       X   \n",
       "216              50.00       2016-04-30  REDESIGNATION FROM PRIMARY       X   \n",
       "\n",
       "                      memo_text form_tp  file_num        tran_id election_tp  \n",
       "18   REDESIGNATION FROM PRIMARY   SA17A   1077664  SA17A.1826482       G2016  \n",
       "82   REDESIGNATION FROM PRIMARY   SA17A   1077664  SA17A.1827629       G2016  \n",
       "89   REDESIGNATION FROM PRIMARY   SA17A   1077664  SA17A.1826483       G2016  \n",
       "212  REDESIGNATION FROM PRIMARY   SA17A   1077664  SA17A.1826888       G2016  \n",
       "216  REDESIGNATION FROM PRIMARY   SA17A   1077664  SA17A.1826889       G2016  "
      ]
     },
     "execution_count": 169,
     "metadata": {},
     "output_type": "execute_result"
    }
   ],
   "source": [
    "# 2a YOUR CODE HERE\n",
    "primary = 'P2016' \n",
    "filtered_df = contrib[~contrib['election_tp'].astype(str).str.contains(primary, case=False, na=False)]\n",
    "\n",
    "print(filtered_df.shape)\n",
    "filtered_df.head()"
   ]
  },
  {
   "cell_type": "markdown",
   "metadata": {
    "deletable": false,
    "nbgrader": {
     "checksum": "a5f4e6df0f32e24c492a9589ec87fef6",
     "grade": true,
     "grade_id": "cell-9e3f68b21dac8e10",
     "locked": false,
     "points": 0,
     "schema_version": 1,
     "solution": true
    }
   },
   "source": [
    "**2b.** From the dataset filter out (remove) any candidate that is not Bernie Sanders. Print/show the shape of the dataframe after the filtering is complete. (5 points)"
   ]
  },
  {
   "cell_type": "code",
   "execution_count": 170,
   "metadata": {
    "deletable": false,
    "nbgrader": {
     "checksum": "4f1a9e7ee0ded9d2b5af5777cb85e505",
     "grade": true,
     "grade_id": "cell-c14fbed9d72d54e3",
     "locked": false,
     "points": 0,
     "schema_version": 1,
     "solution": true
    }
   },
   "outputs": [
    {
     "name": "stdout",
     "output_type": "stream",
     "text": [
      "(315177, 18)\n"
     ]
    },
    {
     "data": {
      "text/html": [
       "<div>\n",
       "<style scoped>\n",
       "    .dataframe tbody tr th:only-of-type {\n",
       "        vertical-align: middle;\n",
       "    }\n",
       "\n",
       "    .dataframe tbody tr th {\n",
       "        vertical-align: top;\n",
       "    }\n",
       "\n",
       "    .dataframe thead th {\n",
       "        text-align: right;\n",
       "    }\n",
       "</style>\n",
       "<table border=\"1\" class=\"dataframe\">\n",
       "  <thead>\n",
       "    <tr style=\"text-align: right;\">\n",
       "      <th></th>\n",
       "      <th>cmte_id</th>\n",
       "      <th>cand_id</th>\n",
       "      <th>cand_nm</th>\n",
       "      <th>contbr_nm</th>\n",
       "      <th>contbr_city</th>\n",
       "      <th>contbr_st</th>\n",
       "      <th>contbr_zip</th>\n",
       "      <th>contbr_employer</th>\n",
       "      <th>contbr_occupation</th>\n",
       "      <th>contb_receipt_amt</th>\n",
       "      <th>contb_receipt_dt</th>\n",
       "      <th>receipt_desc</th>\n",
       "      <th>memo_cd</th>\n",
       "      <th>memo_text</th>\n",
       "      <th>form_tp</th>\n",
       "      <th>file_num</th>\n",
       "      <th>tran_id</th>\n",
       "      <th>election_tp</th>\n",
       "    </tr>\n",
       "  </thead>\n",
       "  <tbody>\n",
       "    <tr>\n",
       "      <th>18</th>\n",
       "      <td>C00574624</td>\n",
       "      <td>P60006111</td>\n",
       "      <td>Cruz, Rafael Edward 'Ted'</td>\n",
       "      <td>JOLLIFF, RICHARD</td>\n",
       "      <td>CHICO</td>\n",
       "      <td>CA</td>\n",
       "      <td>959,289,507.00</td>\n",
       "      <td>SELF EMPLOYED</td>\n",
       "      <td>RANCHER</td>\n",
       "      <td>25.00</td>\n",
       "      <td>2016-04-29</td>\n",
       "      <td>REDESIGNATION FROM PRIMARY</td>\n",
       "      <td>X</td>\n",
       "      <td>REDESIGNATION FROM PRIMARY</td>\n",
       "      <td>SA17A</td>\n",
       "      <td>1077664</td>\n",
       "      <td>SA17A.1826482</td>\n",
       "      <td>G2016</td>\n",
       "    </tr>\n",
       "    <tr>\n",
       "      <th>82</th>\n",
       "      <td>C00574624</td>\n",
       "      <td>P60006111</td>\n",
       "      <td>Cruz, Rafael Edward 'Ted'</td>\n",
       "      <td>JOLLIFF, RICHARD</td>\n",
       "      <td>CHICO</td>\n",
       "      <td>CA</td>\n",
       "      <td>959,289,507.00</td>\n",
       "      <td>SELF EMPLOYED</td>\n",
       "      <td>RANCHER</td>\n",
       "      <td>60.00</td>\n",
       "      <td>2016-04-14</td>\n",
       "      <td>REDESIGNATION FROM PRIMARY</td>\n",
       "      <td>X</td>\n",
       "      <td>REDESIGNATION FROM PRIMARY</td>\n",
       "      <td>SA17A</td>\n",
       "      <td>1077664</td>\n",
       "      <td>SA17A.1827629</td>\n",
       "      <td>G2016</td>\n",
       "    </tr>\n",
       "    <tr>\n",
       "      <th>89</th>\n",
       "      <td>C00574624</td>\n",
       "      <td>P60006111</td>\n",
       "      <td>Cruz, Rafael Edward 'Ted'</td>\n",
       "      <td>JOLLIFF, RICHARD</td>\n",
       "      <td>CHICO</td>\n",
       "      <td>CA</td>\n",
       "      <td>959,289,507.00</td>\n",
       "      <td>SELF EMPLOYED</td>\n",
       "      <td>RANCHER</td>\n",
       "      <td>150.00</td>\n",
       "      <td>2016-04-29</td>\n",
       "      <td>REDESIGNATION FROM PRIMARY</td>\n",
       "      <td>X</td>\n",
       "      <td>REDESIGNATION FROM PRIMARY</td>\n",
       "      <td>SA17A</td>\n",
       "      <td>1077664</td>\n",
       "      <td>SA17A.1826483</td>\n",
       "      <td>G2016</td>\n",
       "    </tr>\n",
       "    <tr>\n",
       "      <th>212</th>\n",
       "      <td>C00574624</td>\n",
       "      <td>P60006111</td>\n",
       "      <td>Cruz, Rafael Edward 'Ted'</td>\n",
       "      <td>LICHTY, ANDREW MR.</td>\n",
       "      <td>SAN DIEGO</td>\n",
       "      <td>CA</td>\n",
       "      <td>921,096,720.00</td>\n",
       "      <td>SELF EMPLOYED</td>\n",
       "      <td>REAL ESTATE</td>\n",
       "      <td>25.00</td>\n",
       "      <td>2016-04-30</td>\n",
       "      <td>REDESIGNATION FROM PRIMARY</td>\n",
       "      <td>X</td>\n",
       "      <td>REDESIGNATION FROM PRIMARY</td>\n",
       "      <td>SA17A</td>\n",
       "      <td>1077664</td>\n",
       "      <td>SA17A.1826888</td>\n",
       "      <td>G2016</td>\n",
       "    </tr>\n",
       "    <tr>\n",
       "      <th>216</th>\n",
       "      <td>C00574624</td>\n",
       "      <td>P60006111</td>\n",
       "      <td>Cruz, Rafael Edward 'Ted'</td>\n",
       "      <td>LICHTY, ANDREW MR.</td>\n",
       "      <td>SAN DIEGO</td>\n",
       "      <td>CA</td>\n",
       "      <td>921,096,720.00</td>\n",
       "      <td>SELF EMPLOYED</td>\n",
       "      <td>REAL ESTATE</td>\n",
       "      <td>50.00</td>\n",
       "      <td>2016-04-30</td>\n",
       "      <td>REDESIGNATION FROM PRIMARY</td>\n",
       "      <td>X</td>\n",
       "      <td>REDESIGNATION FROM PRIMARY</td>\n",
       "      <td>SA17A</td>\n",
       "      <td>1077664</td>\n",
       "      <td>SA17A.1826889</td>\n",
       "      <td>G2016</td>\n",
       "    </tr>\n",
       "  </tbody>\n",
       "</table>\n",
       "</div>"
      ],
      "text/plain": [
       "       cmte_id    cand_id                    cand_nm           contbr_nm  \\\n",
       "18   C00574624  P60006111  Cruz, Rafael Edward 'Ted'    JOLLIFF, RICHARD   \n",
       "82   C00574624  P60006111  Cruz, Rafael Edward 'Ted'    JOLLIFF, RICHARD   \n",
       "89   C00574624  P60006111  Cruz, Rafael Edward 'Ted'    JOLLIFF, RICHARD   \n",
       "212  C00574624  P60006111  Cruz, Rafael Edward 'Ted'  LICHTY, ANDREW MR.   \n",
       "216  C00574624  P60006111  Cruz, Rafael Edward 'Ted'  LICHTY, ANDREW MR.   \n",
       "\n",
       "    contbr_city contbr_st     contbr_zip contbr_employer contbr_occupation  \\\n",
       "18        CHICO        CA 959,289,507.00   SELF EMPLOYED           RANCHER   \n",
       "82        CHICO        CA 959,289,507.00   SELF EMPLOYED           RANCHER   \n",
       "89        CHICO        CA 959,289,507.00   SELF EMPLOYED           RANCHER   \n",
       "212   SAN DIEGO        CA 921,096,720.00   SELF EMPLOYED       REAL ESTATE   \n",
       "216   SAN DIEGO        CA 921,096,720.00   SELF EMPLOYED       REAL ESTATE   \n",
       "\n",
       "     contb_receipt_amt contb_receipt_dt                receipt_desc memo_cd  \\\n",
       "18               25.00       2016-04-29  REDESIGNATION FROM PRIMARY       X   \n",
       "82               60.00       2016-04-14  REDESIGNATION FROM PRIMARY       X   \n",
       "89              150.00       2016-04-29  REDESIGNATION FROM PRIMARY       X   \n",
       "212              25.00       2016-04-30  REDESIGNATION FROM PRIMARY       X   \n",
       "216              50.00       2016-04-30  REDESIGNATION FROM PRIMARY       X   \n",
       "\n",
       "                      memo_text form_tp  file_num        tran_id election_tp  \n",
       "18   REDESIGNATION FROM PRIMARY   SA17A   1077664  SA17A.1826482       G2016  \n",
       "82   REDESIGNATION FROM PRIMARY   SA17A   1077664  SA17A.1827629       G2016  \n",
       "89   REDESIGNATION FROM PRIMARY   SA17A   1077664  SA17A.1826483       G2016  \n",
       "212  REDESIGNATION FROM PRIMARY   SA17A   1077664  SA17A.1826888       G2016  \n",
       "216  REDESIGNATION FROM PRIMARY   SA17A   1077664  SA17A.1826889       G2016  "
      ]
     },
     "execution_count": 170,
     "metadata": {},
     "output_type": "execute_result"
    }
   ],
   "source": [
    "# 2b YOUR CODE HERE\n",
    "bernie = 'Sanders, Bernard'\n",
    "filtered_df = filtered_df[~filtered_df['cand_nm'].astype(str).str.contains(bernie, case=False, na=False)]\n",
    "\n",
    "print(filtered_df.shape)\n",
    "filtered_df.head()"
   ]
  },
  {
   "cell_type": "markdown",
   "metadata": {},
   "source": [
    "**2c.** The `contbr_zip` column is not formatted well for our analysis. Make a new zipcode column that is the five-digit zipcodes. Filter out any records outside of California based on the zipcode. Print/show the shape of the dataframe after the filtering is complete. (10 points).\n",
    "\n",
    "- You will have to research what the valid 5-digit zipcodes for California are!"
   ]
  },
  {
   "cell_type": "code",
   "execution_count": 171,
   "metadata": {},
   "outputs": [
    {
     "name": "stdout",
     "output_type": "stream",
     "text": [
      "Shape of the DataFrame after filtering for California zip codes: (315075, 19)\n"
     ]
    },
    {
     "data": {
      "text/html": [
       "<div>\n",
       "<style scoped>\n",
       "    .dataframe tbody tr th:only-of-type {\n",
       "        vertical-align: middle;\n",
       "    }\n",
       "\n",
       "    .dataframe tbody tr th {\n",
       "        vertical-align: top;\n",
       "    }\n",
       "\n",
       "    .dataframe thead th {\n",
       "        text-align: right;\n",
       "    }\n",
       "</style>\n",
       "<table border=\"1\" class=\"dataframe\">\n",
       "  <thead>\n",
       "    <tr style=\"text-align: right;\">\n",
       "      <th></th>\n",
       "      <th>cmte_id</th>\n",
       "      <th>cand_id</th>\n",
       "      <th>cand_nm</th>\n",
       "      <th>contbr_nm</th>\n",
       "      <th>contbr_city</th>\n",
       "      <th>contbr_st</th>\n",
       "      <th>contbr_zip</th>\n",
       "      <th>contbr_employer</th>\n",
       "      <th>contbr_occupation</th>\n",
       "      <th>contb_receipt_amt</th>\n",
       "      <th>contb_receipt_dt</th>\n",
       "      <th>receipt_desc</th>\n",
       "      <th>memo_cd</th>\n",
       "      <th>memo_text</th>\n",
       "      <th>form_tp</th>\n",
       "      <th>file_num</th>\n",
       "      <th>tran_id</th>\n",
       "      <th>election_tp</th>\n",
       "      <th>five_zipcode</th>\n",
       "    </tr>\n",
       "  </thead>\n",
       "  <tbody>\n",
       "    <tr>\n",
       "      <th>18</th>\n",
       "      <td>C00574624</td>\n",
       "      <td>P60006111</td>\n",
       "      <td>Cruz, Rafael Edward 'Ted'</td>\n",
       "      <td>JOLLIFF, RICHARD</td>\n",
       "      <td>CHICO</td>\n",
       "      <td>CA</td>\n",
       "      <td>959289507.0</td>\n",
       "      <td>SELF EMPLOYED</td>\n",
       "      <td>RANCHER</td>\n",
       "      <td>25.00</td>\n",
       "      <td>2016-04-29</td>\n",
       "      <td>REDESIGNATION FROM PRIMARY</td>\n",
       "      <td>X</td>\n",
       "      <td>REDESIGNATION FROM PRIMARY</td>\n",
       "      <td>SA17A</td>\n",
       "      <td>1077664</td>\n",
       "      <td>SA17A.1826482</td>\n",
       "      <td>G2016</td>\n",
       "      <td>95928</td>\n",
       "    </tr>\n",
       "    <tr>\n",
       "      <th>82</th>\n",
       "      <td>C00574624</td>\n",
       "      <td>P60006111</td>\n",
       "      <td>Cruz, Rafael Edward 'Ted'</td>\n",
       "      <td>JOLLIFF, RICHARD</td>\n",
       "      <td>CHICO</td>\n",
       "      <td>CA</td>\n",
       "      <td>959289507.0</td>\n",
       "      <td>SELF EMPLOYED</td>\n",
       "      <td>RANCHER</td>\n",
       "      <td>60.00</td>\n",
       "      <td>2016-04-14</td>\n",
       "      <td>REDESIGNATION FROM PRIMARY</td>\n",
       "      <td>X</td>\n",
       "      <td>REDESIGNATION FROM PRIMARY</td>\n",
       "      <td>SA17A</td>\n",
       "      <td>1077664</td>\n",
       "      <td>SA17A.1827629</td>\n",
       "      <td>G2016</td>\n",
       "      <td>95928</td>\n",
       "    </tr>\n",
       "    <tr>\n",
       "      <th>89</th>\n",
       "      <td>C00574624</td>\n",
       "      <td>P60006111</td>\n",
       "      <td>Cruz, Rafael Edward 'Ted'</td>\n",
       "      <td>JOLLIFF, RICHARD</td>\n",
       "      <td>CHICO</td>\n",
       "      <td>CA</td>\n",
       "      <td>959289507.0</td>\n",
       "      <td>SELF EMPLOYED</td>\n",
       "      <td>RANCHER</td>\n",
       "      <td>150.00</td>\n",
       "      <td>2016-04-29</td>\n",
       "      <td>REDESIGNATION FROM PRIMARY</td>\n",
       "      <td>X</td>\n",
       "      <td>REDESIGNATION FROM PRIMARY</td>\n",
       "      <td>SA17A</td>\n",
       "      <td>1077664</td>\n",
       "      <td>SA17A.1826483</td>\n",
       "      <td>G2016</td>\n",
       "      <td>95928</td>\n",
       "    </tr>\n",
       "    <tr>\n",
       "      <th>212</th>\n",
       "      <td>C00574624</td>\n",
       "      <td>P60006111</td>\n",
       "      <td>Cruz, Rafael Edward 'Ted'</td>\n",
       "      <td>LICHTY, ANDREW MR.</td>\n",
       "      <td>SAN DIEGO</td>\n",
       "      <td>CA</td>\n",
       "      <td>921096720.0</td>\n",
       "      <td>SELF EMPLOYED</td>\n",
       "      <td>REAL ESTATE</td>\n",
       "      <td>25.00</td>\n",
       "      <td>2016-04-30</td>\n",
       "      <td>REDESIGNATION FROM PRIMARY</td>\n",
       "      <td>X</td>\n",
       "      <td>REDESIGNATION FROM PRIMARY</td>\n",
       "      <td>SA17A</td>\n",
       "      <td>1077664</td>\n",
       "      <td>SA17A.1826888</td>\n",
       "      <td>G2016</td>\n",
       "      <td>92109</td>\n",
       "    </tr>\n",
       "    <tr>\n",
       "      <th>216</th>\n",
       "      <td>C00574624</td>\n",
       "      <td>P60006111</td>\n",
       "      <td>Cruz, Rafael Edward 'Ted'</td>\n",
       "      <td>LICHTY, ANDREW MR.</td>\n",
       "      <td>SAN DIEGO</td>\n",
       "      <td>CA</td>\n",
       "      <td>921096720.0</td>\n",
       "      <td>SELF EMPLOYED</td>\n",
       "      <td>REAL ESTATE</td>\n",
       "      <td>50.00</td>\n",
       "      <td>2016-04-30</td>\n",
       "      <td>REDESIGNATION FROM PRIMARY</td>\n",
       "      <td>X</td>\n",
       "      <td>REDESIGNATION FROM PRIMARY</td>\n",
       "      <td>SA17A</td>\n",
       "      <td>1077664</td>\n",
       "      <td>SA17A.1826889</td>\n",
       "      <td>G2016</td>\n",
       "      <td>92109</td>\n",
       "    </tr>\n",
       "  </tbody>\n",
       "</table>\n",
       "</div>"
      ],
      "text/plain": [
       "       cmte_id    cand_id                    cand_nm           contbr_nm  \\\n",
       "18   C00574624  P60006111  Cruz, Rafael Edward 'Ted'    JOLLIFF, RICHARD   \n",
       "82   C00574624  P60006111  Cruz, Rafael Edward 'Ted'    JOLLIFF, RICHARD   \n",
       "89   C00574624  P60006111  Cruz, Rafael Edward 'Ted'    JOLLIFF, RICHARD   \n",
       "212  C00574624  P60006111  Cruz, Rafael Edward 'Ted'  LICHTY, ANDREW MR.   \n",
       "216  C00574624  P60006111  Cruz, Rafael Edward 'Ted'  LICHTY, ANDREW MR.   \n",
       "\n",
       "    contbr_city contbr_st   contbr_zip contbr_employer contbr_occupation  \\\n",
       "18        CHICO        CA  959289507.0   SELF EMPLOYED           RANCHER   \n",
       "82        CHICO        CA  959289507.0   SELF EMPLOYED           RANCHER   \n",
       "89        CHICO        CA  959289507.0   SELF EMPLOYED           RANCHER   \n",
       "212   SAN DIEGO        CA  921096720.0   SELF EMPLOYED       REAL ESTATE   \n",
       "216   SAN DIEGO        CA  921096720.0   SELF EMPLOYED       REAL ESTATE   \n",
       "\n",
       "     contb_receipt_amt contb_receipt_dt                receipt_desc memo_cd  \\\n",
       "18               25.00       2016-04-29  REDESIGNATION FROM PRIMARY       X   \n",
       "82               60.00       2016-04-14  REDESIGNATION FROM PRIMARY       X   \n",
       "89              150.00       2016-04-29  REDESIGNATION FROM PRIMARY       X   \n",
       "212              25.00       2016-04-30  REDESIGNATION FROM PRIMARY       X   \n",
       "216              50.00       2016-04-30  REDESIGNATION FROM PRIMARY       X   \n",
       "\n",
       "                      memo_text form_tp  file_num        tran_id election_tp  \\\n",
       "18   REDESIGNATION FROM PRIMARY   SA17A   1077664  SA17A.1826482       G2016   \n",
       "82   REDESIGNATION FROM PRIMARY   SA17A   1077664  SA17A.1827629       G2016   \n",
       "89   REDESIGNATION FROM PRIMARY   SA17A   1077664  SA17A.1826483       G2016   \n",
       "212  REDESIGNATION FROM PRIMARY   SA17A   1077664  SA17A.1826888       G2016   \n",
       "216  REDESIGNATION FROM PRIMARY   SA17A   1077664  SA17A.1826889       G2016   \n",
       "\n",
       "    five_zipcode  \n",
       "18         95928  \n",
       "82         95928  \n",
       "89         95928  \n",
       "212        92109  \n",
       "216        92109  "
      ]
     },
     "execution_count": 171,
     "metadata": {},
     "output_type": "execute_result"
    }
   ],
   "source": [
    "# 2c YOUR CODE HERE\n",
    "filtered_df['contbr_zip'] = filtered_df['contbr_zip'].astype(str)\n",
    "filtered_df['five_zipcode'] = filtered_df['contbr_zip'].str[:5]\n",
    "filtered_df = filtered_df[filtered_df['five_zipcode'].str.startswith('9')]\n",
    "\n",
    "print(\"Shape of the DataFrame after filtering for California zip codes:\", filtered_df.shape)\n",
    "filtered_df.head()"
   ]
  },
  {
   "cell_type": "markdown",
   "metadata": {},
   "source": [
    "**2d.** The receipt amount column has negative donations. After talking with your team, a decision was made that the best course of action is to remove these negative values so that the donation count and amount is more accurate. Print/show the shape of the dataframe after the filtering is complete. (5 points)"
   ]
  },
  {
   "cell_type": "code",
   "execution_count": 174,
   "metadata": {},
   "outputs": [
    {
     "name": "stdout",
     "output_type": "stream",
     "text": [
      "(311722, 19)\n"
     ]
    },
    {
     "data": {
      "text/html": [
       "<div>\n",
       "<style scoped>\n",
       "    .dataframe tbody tr th:only-of-type {\n",
       "        vertical-align: middle;\n",
       "    }\n",
       "\n",
       "    .dataframe tbody tr th {\n",
       "        vertical-align: top;\n",
       "    }\n",
       "\n",
       "    .dataframe thead th {\n",
       "        text-align: right;\n",
       "    }\n",
       "</style>\n",
       "<table border=\"1\" class=\"dataframe\">\n",
       "  <thead>\n",
       "    <tr style=\"text-align: right;\">\n",
       "      <th></th>\n",
       "      <th>cmte_id</th>\n",
       "      <th>cand_id</th>\n",
       "      <th>cand_nm</th>\n",
       "      <th>contbr_nm</th>\n",
       "      <th>contbr_city</th>\n",
       "      <th>contbr_st</th>\n",
       "      <th>contbr_zip</th>\n",
       "      <th>contbr_employer</th>\n",
       "      <th>contbr_occupation</th>\n",
       "      <th>contb_receipt_amt</th>\n",
       "      <th>contb_receipt_dt</th>\n",
       "      <th>receipt_desc</th>\n",
       "      <th>memo_cd</th>\n",
       "      <th>memo_text</th>\n",
       "      <th>form_tp</th>\n",
       "      <th>file_num</th>\n",
       "      <th>tran_id</th>\n",
       "      <th>election_tp</th>\n",
       "      <th>five_zipcode</th>\n",
       "    </tr>\n",
       "  </thead>\n",
       "  <tbody>\n",
       "    <tr>\n",
       "      <th>18</th>\n",
       "      <td>C00574624</td>\n",
       "      <td>P60006111</td>\n",
       "      <td>Cruz, Rafael Edward 'Ted'</td>\n",
       "      <td>JOLLIFF, RICHARD</td>\n",
       "      <td>CHICO</td>\n",
       "      <td>CA</td>\n",
       "      <td>959289507.0</td>\n",
       "      <td>SELF EMPLOYED</td>\n",
       "      <td>RANCHER</td>\n",
       "      <td>25.00</td>\n",
       "      <td>2016-04-29</td>\n",
       "      <td>REDESIGNATION FROM PRIMARY</td>\n",
       "      <td>X</td>\n",
       "      <td>REDESIGNATION FROM PRIMARY</td>\n",
       "      <td>SA17A</td>\n",
       "      <td>1077664</td>\n",
       "      <td>SA17A.1826482</td>\n",
       "      <td>G2016</td>\n",
       "      <td>95928</td>\n",
       "    </tr>\n",
       "    <tr>\n",
       "      <th>82</th>\n",
       "      <td>C00574624</td>\n",
       "      <td>P60006111</td>\n",
       "      <td>Cruz, Rafael Edward 'Ted'</td>\n",
       "      <td>JOLLIFF, RICHARD</td>\n",
       "      <td>CHICO</td>\n",
       "      <td>CA</td>\n",
       "      <td>959289507.0</td>\n",
       "      <td>SELF EMPLOYED</td>\n",
       "      <td>RANCHER</td>\n",
       "      <td>60.00</td>\n",
       "      <td>2016-04-14</td>\n",
       "      <td>REDESIGNATION FROM PRIMARY</td>\n",
       "      <td>X</td>\n",
       "      <td>REDESIGNATION FROM PRIMARY</td>\n",
       "      <td>SA17A</td>\n",
       "      <td>1077664</td>\n",
       "      <td>SA17A.1827629</td>\n",
       "      <td>G2016</td>\n",
       "      <td>95928</td>\n",
       "    </tr>\n",
       "    <tr>\n",
       "      <th>89</th>\n",
       "      <td>C00574624</td>\n",
       "      <td>P60006111</td>\n",
       "      <td>Cruz, Rafael Edward 'Ted'</td>\n",
       "      <td>JOLLIFF, RICHARD</td>\n",
       "      <td>CHICO</td>\n",
       "      <td>CA</td>\n",
       "      <td>959289507.0</td>\n",
       "      <td>SELF EMPLOYED</td>\n",
       "      <td>RANCHER</td>\n",
       "      <td>150.00</td>\n",
       "      <td>2016-04-29</td>\n",
       "      <td>REDESIGNATION FROM PRIMARY</td>\n",
       "      <td>X</td>\n",
       "      <td>REDESIGNATION FROM PRIMARY</td>\n",
       "      <td>SA17A</td>\n",
       "      <td>1077664</td>\n",
       "      <td>SA17A.1826483</td>\n",
       "      <td>G2016</td>\n",
       "      <td>95928</td>\n",
       "    </tr>\n",
       "    <tr>\n",
       "      <th>212</th>\n",
       "      <td>C00574624</td>\n",
       "      <td>P60006111</td>\n",
       "      <td>Cruz, Rafael Edward 'Ted'</td>\n",
       "      <td>LICHTY, ANDREW MR.</td>\n",
       "      <td>SAN DIEGO</td>\n",
       "      <td>CA</td>\n",
       "      <td>921096720.0</td>\n",
       "      <td>SELF EMPLOYED</td>\n",
       "      <td>REAL ESTATE</td>\n",
       "      <td>25.00</td>\n",
       "      <td>2016-04-30</td>\n",
       "      <td>REDESIGNATION FROM PRIMARY</td>\n",
       "      <td>X</td>\n",
       "      <td>REDESIGNATION FROM PRIMARY</td>\n",
       "      <td>SA17A</td>\n",
       "      <td>1077664</td>\n",
       "      <td>SA17A.1826888</td>\n",
       "      <td>G2016</td>\n",
       "      <td>92109</td>\n",
       "    </tr>\n",
       "    <tr>\n",
       "      <th>216</th>\n",
       "      <td>C00574624</td>\n",
       "      <td>P60006111</td>\n",
       "      <td>Cruz, Rafael Edward 'Ted'</td>\n",
       "      <td>LICHTY, ANDREW MR.</td>\n",
       "      <td>SAN DIEGO</td>\n",
       "      <td>CA</td>\n",
       "      <td>921096720.0</td>\n",
       "      <td>SELF EMPLOYED</td>\n",
       "      <td>REAL ESTATE</td>\n",
       "      <td>50.00</td>\n",
       "      <td>2016-04-30</td>\n",
       "      <td>REDESIGNATION FROM PRIMARY</td>\n",
       "      <td>X</td>\n",
       "      <td>REDESIGNATION FROM PRIMARY</td>\n",
       "      <td>SA17A</td>\n",
       "      <td>1077664</td>\n",
       "      <td>SA17A.1826889</td>\n",
       "      <td>G2016</td>\n",
       "      <td>92109</td>\n",
       "    </tr>\n",
       "  </tbody>\n",
       "</table>\n",
       "</div>"
      ],
      "text/plain": [
       "       cmte_id    cand_id                    cand_nm           contbr_nm  \\\n",
       "18   C00574624  P60006111  Cruz, Rafael Edward 'Ted'    JOLLIFF, RICHARD   \n",
       "82   C00574624  P60006111  Cruz, Rafael Edward 'Ted'    JOLLIFF, RICHARD   \n",
       "89   C00574624  P60006111  Cruz, Rafael Edward 'Ted'    JOLLIFF, RICHARD   \n",
       "212  C00574624  P60006111  Cruz, Rafael Edward 'Ted'  LICHTY, ANDREW MR.   \n",
       "216  C00574624  P60006111  Cruz, Rafael Edward 'Ted'  LICHTY, ANDREW MR.   \n",
       "\n",
       "    contbr_city contbr_st   contbr_zip contbr_employer contbr_occupation  \\\n",
       "18        CHICO        CA  959289507.0   SELF EMPLOYED           RANCHER   \n",
       "82        CHICO        CA  959289507.0   SELF EMPLOYED           RANCHER   \n",
       "89        CHICO        CA  959289507.0   SELF EMPLOYED           RANCHER   \n",
       "212   SAN DIEGO        CA  921096720.0   SELF EMPLOYED       REAL ESTATE   \n",
       "216   SAN DIEGO        CA  921096720.0   SELF EMPLOYED       REAL ESTATE   \n",
       "\n",
       "     contb_receipt_amt contb_receipt_dt                receipt_desc memo_cd  \\\n",
       "18               25.00       2016-04-29  REDESIGNATION FROM PRIMARY       X   \n",
       "82               60.00       2016-04-14  REDESIGNATION FROM PRIMARY       X   \n",
       "89              150.00       2016-04-29  REDESIGNATION FROM PRIMARY       X   \n",
       "212              25.00       2016-04-30  REDESIGNATION FROM PRIMARY       X   \n",
       "216              50.00       2016-04-30  REDESIGNATION FROM PRIMARY       X   \n",
       "\n",
       "                      memo_text form_tp  file_num        tran_id election_tp  \\\n",
       "18   REDESIGNATION FROM PRIMARY   SA17A   1077664  SA17A.1826482       G2016   \n",
       "82   REDESIGNATION FROM PRIMARY   SA17A   1077664  SA17A.1827629       G2016   \n",
       "89   REDESIGNATION FROM PRIMARY   SA17A   1077664  SA17A.1826483       G2016   \n",
       "212  REDESIGNATION FROM PRIMARY   SA17A   1077664  SA17A.1826888       G2016   \n",
       "216  REDESIGNATION FROM PRIMARY   SA17A   1077664  SA17A.1826889       G2016   \n",
       "\n",
       "    five_zipcode  \n",
       "18         95928  \n",
       "82         95928  \n",
       "89         95928  \n",
       "212        92109  \n",
       "216        92109  "
      ]
     },
     "execution_count": 174,
     "metadata": {},
     "output_type": "execute_result"
    }
   ],
   "source": [
    "# 2d YOUR CODE HERE\n",
    "non_negative_amts = 'contb_receipt_amt'\n",
    "\n",
    "# Filter out rows with negative values\n",
    "filtered_df = filtered_df[filtered_df['contb_receipt_amt'] >= 0]\n",
    "\n",
    "print(filtered_df.shape)\n",
    "filtered_df.head()"
   ]
  },
  {
   "cell_type": "markdown",
   "metadata": {},
   "source": [
    "**2e.** From the dataset drop any columns that won't be used in the analysis. Print/show the shape of the dataframe after the dropping is complete. What columns did you drop and why? (5 points)"
   ]
  },
  {
   "cell_type": "code",
   "execution_count": 175,
   "metadata": {},
   "outputs": [],
   "source": [
    "# 2e YOUR CODE HERE\n",
    "\n",
    "filtered_df.drop(columns='contbr_st', inplace=True)\n",
    "filtered_df.drop(columns='receipt_desc', inplace=True)\n",
    "filtered_df.drop(columns='file_num', inplace=True)\n"
   ]
  },
  {
   "cell_type": "markdown",
   "metadata": {},
   "source": [
    "- **2e answer here:** Dropped the state column because it is constant across all rows, drop the resceipt_desc because only 1% of rows have a non-null value, and dropped the file number column because there is no explanation in the documentation as to what it represents. "
   ]
  },
  {
   "cell_type": "markdown",
   "metadata": {},
   "source": [
    "**2f.** List any assumptions that you made up to this point:"
   ]
  },
  {
   "cell_type": "markdown",
   "metadata": {},
   "source": [
    "- **2f answer here:** All data is accurate, correctly spelled, counted. Data has been collected correctly and methodically. "
   ]
  },
  {
   "cell_type": "markdown",
   "metadata": {
    "deletable": false,
    "nbgrader": {
     "checksum": "6dc1481a003cdd752c5edfa9ac400879",
     "grade": true,
     "grade_id": "cell-f7a01ce9c5b10ac7",
     "locked": false,
     "points": 0,
     "schema_version": 1,
     "solution": true
    }
   },
   "source": [
    "***\n",
    "## 3. Answering the questions (20 points)\n",
    "\n",
    "Now that the data is cleaned and filterd - let's answer the two questions from your boss!"
   ]
  },
  {
   "cell_type": "markdown",
   "metadata": {
    "deletable": false,
    "nbgrader": {
     "checksum": "010f5de5f6af4c7f830d1cf7a81bbc0f",
     "grade": true,
     "grade_id": "cell-5617179133b06d0c",
     "locked": false,
     "points": 0,
     "schema_version": 1,
     "solution": true
    }
   },
   "source": [
    "**3a.** Which zipcode had the highest count of contributions and the most dollar amount? (10 points)"
   ]
  },
  {
   "cell_type": "code",
   "execution_count": 181,
   "metadata": {},
   "outputs": [
    {
     "name": "stdout",
     "output_type": "stream",
     "text": [
      "     five_zipcode  contb_receipt_amt\n",
      "0             9.0              50.00\n",
      "1           90001           2,986.00\n",
      "2           90002             612.00\n",
      "3           90003             592.00\n",
      "4           90004         247,736.61\n",
      "...           ...                ...\n",
      "1935        97209             500.00\n",
      "1936        97305             500.00\n",
      "1937        98166             125.00\n",
      "1938        98464           1,500.00\n",
      "1939        99999          27,327.20\n",
      "\n",
      "[1940 rows x 2 columns]\n",
      "five_zipcode             94114\n",
      "contb_receipt_amt   702,170.21\n",
      "Name: 1153, dtype: object\n",
      "3386\n"
     ]
    }
   ],
   "source": [
    "# 3a YOUR CODE HERE\n",
    "result_df = filtered_df.groupby('five_zipcode')['contb_receipt_amt'].sum().reset_index()\n",
    "max_row = result_df.loc[result_df['contb_receipt_amt'].idxmax()]\n",
    "highest_contributions_count = filtered_df[filtered_df['five_zipcode'] == max_row['five_zipcode']]['contb_receipt_amt'].count()\n",
    "\n",
    "print(result_df)\n",
    "print(max_row)\n",
    "print(highest_contributions_count)"
   ]
  },
  {
   "cell_type": "markdown",
   "metadata": {},
   "source": [
    "- **3a answer here:** The zipcode with the highest total sum was 94114 at a total of $702,170.21 and had 3386 contributions. "
   ]
  },
  {
   "cell_type": "markdown",
   "metadata": {},
   "source": [
    "**3b.** What day(s) of the month do most people donate? (10 points)"
   ]
  },
  {
   "cell_type": "code",
   "execution_count": 182,
   "metadata": {},
   "outputs": [
    {
     "name": "stdout",
     "output_type": "stream",
     "text": [
      "day_of_month               30.00\n",
      "contb_receipt_amt   2,635,953.26\n",
      "Name: 29, dtype: float64\n"
     ]
    }
   ],
   "source": [
    "# 3b YOUR CODE HERE\n",
    "filtered_df['contb_receipt_dt'] = pd.to_datetime(filtered_df['contb_receipt_dt'])\n",
    "filtered_df['day_of_month'] = filtered_df['contb_receipt_dt'].dt.day\n",
    "daily_contributions = filtered_df.groupby('day_of_month')['contb_receipt_amt'].sum().reset_index()\n",
    "max_contributions_day = daily_contributions.loc[daily_contributions['contb_receipt_amt'].idxmax()]\n",
    "\n",
    "print(max_contributions_day)"
   ]
  },
  {
   "cell_type": "markdown",
   "metadata": {},
   "source": [
    "- **3b answer here:** the 30th of the month "
   ]
  },
  {
   "cell_type": "markdown",
   "metadata": {},
   "source": [
    "## If you have feedback for this homework, please submit it using the link below:\n",
    "\n",
    "http://goo.gl/forms/74yCiQTf6k"
   ]
  }
 ],
 "metadata": {
  "kernelspec": {
   "display_name": "Python 3 (ipykernel)",
   "language": "python",
   "name": "python3"
  },
  "language_info": {
   "codemirror_mode": {
    "name": "ipython",
    "version": 3
   },
   "file_extension": ".py",
   "mimetype": "text/x-python",
   "name": "python",
   "nbconvert_exporter": "python",
   "pygments_lexer": "ipython3",
   "version": "3.11.4"
  }
 },
 "nbformat": 4,
 "nbformat_minor": 4
}
