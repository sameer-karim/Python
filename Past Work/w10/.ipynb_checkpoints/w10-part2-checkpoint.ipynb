{
 "cells": [
  {
   "cell_type": "markdown",
   "metadata": {},
   "source": [
    "<p style=\"font-size:9px;\">Version: Discussion version 1, \n",
    "    July 18, 2023 | Updated Oct 14, 2023: <b>Oct 27, 2023</b> [&copy; 2023 gb]</p>\n",
    "<img src=\"images/ischool-banner.png\" />\n",
    "<p>&nbsp;</p>\n",
    "<div style=\"height: 50px;color:#3B7EA1; font-size:24px; vertical-align:top; text-align:left;\">\n",
    "    Computing for Data Science\n",
    "    <img style=\"width:20%; vertical-align:top; float: left; padding-right: 20px; display: block; margin-left: 0; margin-right: auto;\" \n",
    "         src=\"images/ucb_logo.png\"/>\n",
    "</div>\n",
    "<hr />\n",
    "<h1 style=\"font-size:32; color: #003262;\">Week 9: Optional Page 2</h1>"
   ]
  },
  {
   "cell_type": "markdown",
   "metadata": {},
   "source": [
    "<div style=\"background-color:#AADBFF;padding:10px;border-radius:3px;font-size:18px;font-family:Avenir,Arial;color: white;\">\n",
    "    <b>Preparing for Weeks 11-14 and our Project: Data Exploration &amp; Analysis</b>\n",
    "</div>\n",
    "<p style=\"font-size:20px;line-height:24px;color:cornflowerblue;font-family:Avenir,Arial;\">\n",
    "    Data <b>Exploration</b>:<ul><li>For data integrity</li>\n",
    "        <li>To develop questions based on the variables</li>\n",
    "        <li>To break your model - better now than in production</li>\n",
    "        </ul>\n",
    "   </p>\n",
    "   <p style=\"font-size:20px;line-height:24px;color:cornflowerblue;font-family:Avenir,Arial;\">\n",
    "    Data <b>Analysis</b>:<ul><li>Answer a research question or hypothesis</li>\n",
    "    <li>Usually involves complex math, modeling statistics</li>\n",
    "    <li>Likely to combine datasets</li>\n",
    "    <li>Explore data by collapsing in groups in various ways</li>\n",
    "    <li>Some functions are useful in exploration &amp; analysis</li></ul>\n",
    "    </p>\n",
    "    <hr /><b>Why use Pandas?</b>\n",
    "<p style=\"font-family:Avenir,Arial;\">Pandas and other tools help in machine learning, scaling data, multiple regression, and more!  Usually work together with numpy, scipy, matplotlib, scikit-learn, pysqlite3, psycopg2, and others.  These two sites introduce a <i>lot</i> of features for python to read lots of data sources and more efficient problem-solving techniques: <a href=\"https://pandas.pydata.org/pandas-docs/stable/getting_started/10min.html\" target=\"new\">https://pandas.pydata.org/pandas-docs/stable/getting_started/10min.html</a> and <a href=\"https://pandas.pydata.org/pandas-docs/stable/user_guide/io.html#io-hdf5\" target=\"new\">https://pandas.pydata.org/pandas-docs/stable/user_guide/io.html#io-hdf5</a>.  For even more cool things, like Panels, see the documentation at <a href=\"https://www.tutorialspoint.com/python_pandas/python_pandas_panel.htm\" target=\"new\">https://www.tutorialspoint.com/python_pandas/python_pandas_panel.htm</a>.\n",
    "    </p>\n",
    "<hr />\n",
    "<div style=\"background-color:#AADBFF;padding:10px;border-radius:3px;font-size:24px;font-family:Avenir,Arial;\">\n",
    "    <b>Discussion Option: Work Processes and Systems Overview in Exploration &amp; Analysis</b>\n",
    "</div>\n",
    "    <p style=\"font-family:Avenir,Arial;\">Take time to get to know your data - the domain &amp; range, parametric or non-parametric; explore the measures of central tendancy ... Here are some handy commands:</p>\n",
    "    <img style=\"height:200px;float:left;padding:50px;\" src=\"images/craft_of_research.jpg\" /> \n",
    "    <ul style=\"font-family:Avenir,Arial;\"><li style=\"font-family:Courier;\">value_counts()</li>\n",
    "    <li style=\"font-family:Courier;\">describe()</li>\n",
    "    <li style=\"font-family:Courier;\">min(), max(), isnull()</li>\n",
    "    <li>Plot your data during exploration, too, not just during analysis.</li>\n",
    "    <li>Consider the source(s) of your data and research the topic:\n",
    "        <ul><li>basic research methods require looking at threats to validity,</li>\n",
    "            <li>cross-validating the data, </li>\n",
    "            <li>issues of research \"bias\", </li>\n",
    "            <li>lack of precision in definitions (e.g., mismatched metadata when combining data)</li>\n",
    "            <li>look for any professional/industrial gold standards for measurement</li>\n",
    "            <li>what might be confounding events in your data?</li>\n",
    "        </ul>\n",
    "    </li>\n",
    "    </ul>\n",
    "<p style=\"font-family:Avenir,Arial;\">A standard text for new graduate students is learn about how research is expected to be conducted, the process, research questions, and more.  You might want to read Booth, et al., <i>Craft of research</i>. "
   ]
  },
  {
   "cell_type": "markdown",
   "metadata": {},
   "source": [
    "<hr />\n",
    "<blockquote style=\"background-color: #f0f8ff;\">\n",
    "<h2 style=\"background-color:#AADBFF;padding:10px;border-radius:3px;font-size:24px;\">\n",
    "Optional Discussion: contextualizing programming in the bigger data universe of data mining architecture, info ecologies, </h2>\n",
    "    <p>\n",
    "    Applying exploration &amp; analysis in larger settings: data mining, big data analytics, Hadoop/activities and helpers.</p>\n",
    "    <p>Notice that as datasets get larger and exploration/analysis more complex, we identify specific work behaviors, warehouses, and architectures/other programming languages as part of the job. See the Big Data book in the optional resources.</p>\n",
    "    <hr />\n",
    "    <img src=\"images/dm1.png\" style=\"width:400px;\">Above: Data Mining Activities - notice the result of cleaning data for use in a data warehouse; the forward and backward feeding data flows.<br />\n",
    "    <img src=\"images/bd1.png\" style=\"width:400px;\">Big Data: processes that are more focused on specific cleaning and analysis techniques, some for specific computing techniques (such as Data Cubes for predictive SQL); feature extraction and classification for machine learning; exploring and reporting results.<br />\n",
    "    <img src=\"images/hadoop.png\" style=\"width:400px;\">Hadoop: ultimately there&rsquo;s a hardware and software approach collaborating; software approaches for reducing dimensional space (MapReduce); hardware approaches for more efficient file access (Hadoop Data File System); special purpose code libraries, like Carrot and Pig [yes, those are real]<br />\n",
    "    <img src=\"images/hadoop2.png\" style=\"width:400px;\">Tools: some activities in a distributed system and Business Intelligence... <br />\n",
    "<hr />\n",
    "    <h2>Big Picture</h2>\n",
    "    <img src=\"images/BI-Analytics-N.jpg/\">\n",
    "<hr />\n",
    "</blockquote>\n",
    "<table width=\"100%\">\n",
    "    <tr>\n",
    "        <td colspan=\"2\" style=\"text-align: center; font-size:22px;\">Visual review sheets in the Resources Folder: (click to enlarge)</td>\n",
    "    </tr>\n",
    "    <tr>\n",
    "        <td>\n",
    "            <a href=\"images/pandas-sheet1.png\" target=\"new\">\n",
    "                <img style=\"width:200px;\" src=\"images/pandas-sheet1.png\"/>\n",
    "            </a>\n",
    "        </td>\n",
    "        <td>\n",
    "            <a href=\"images/pandas-sheet2.png\" target=\"new\">\n",
    "            <img style=\"width:200px;\" src=\"images/pandas-sheet2.png\"/>\n",
    "            </a>\n",
    "        </td>\n",
    "    </tr>\n",
    "</table>"
   ]
  },
  {
   "cell_type": "markdown",
   "metadata": {},
   "source": [
    "<hr />\n",
    "<h2 style=\"color:cornflowerblue;\">Preparing a model of a work-flow, starting with getting data...</h2>\n",
    "<p>\n",
    "<b>Integrating data</b> - input/output to csv, sql, json</p>\n",
    "<p>Typical to read in data - sometimes with the metadata (such as an SQL table header) or not - change to .json and import to a dictionary.</p>\n",
    "<p>Examples:<br />\n",
    "    <code>myframe = pd.read_csv('mydata.csv', index_col = 0)</code><br />\n",
    "    <code>myframe = pd.read_json('mydata.json')</code>.  May need the <u>orient</u> keyword.\n",
    "</p><p>\n",
    "If you're reading from sql, you need to <span style=\"font-family:Courier;color:maroon;\">import sqlite3</span>.  Then you can establish \n",
    "    a connection to the databae and then select data from \n",
    "    your table(s), e.g., \n",
    "<code>my_connection = sqlite3.connect(\"mydatabase.db\")</code>\n",
    "\n",
    "</p>\n",
    "<p>If you're importing the web, you <u>may</u> want to separate out the \n",
    "    URL, so that you can change the protocol depending on the source, e.g., \"file://\", \"ftp://\", \n",
    "    \"http://\", \"https://\" and who knows what else ... e.g., \n",
    "    <code>url_prefix = \"http://\"</code><br />\n",
    "    <code>df1 = pd.read_csv(url_prefix + \"dataco/public_data/fire_data_2022.txt\")</code>\n",
    "</p>\n",
    "<p>\n",
    "    <b>Output/convert to different data types:</b>\n",
    "    <br/><span style=\"font-family:Courier;color:maroon;\">dataframe.to_csv('newfile.csv')</span><br />\n",
    "    <span style=\"font-family:Courier;color:maroon;\">dataframe.to_json('newfile.json')</span>\n",
    "    <br />\n",
    "    <span style=\"font-family:Courier;color:maroon;\">dataframe.to_sql('newfile', my_connection)</span>\n",
    "</p>\n",
    "<p style=\"height:75px;\"><hr /></p>\n",
    "<h2 style=\"color:cornflowerblue;\">Get to know your data first</h2>\n",
    "<ol style=\"font-family:Avenir,Arial;\">\n",
    "    <li>What&rsquo;s the dimensions of our data? <code>my_dataframe.shape</code></li>\n",
    "    <li>Get some <u>info</u> about your data: <code>my_dataframe.info()</code></li>\n",
    "    <li>See the <u>first 5 rows</u> (the head) of your data: \n",
    "    <code>my_dataframe.head()</code></li>\n",
    "    <li><u>last</u> rows: <code>my_dataframe.tail()</code></li>\n",
    "    <li><u>remove duplicates</u> <code>drop_duplicates()</code></li>\n",
    "    <li><u>copy</u> the frame to a new one, or overwrite it <code>my_dataframe.drop_duplicates(inplace = True)</code> (We can keep the first of the duplicates (the default) or drop all duplicates:<code>temp_df = my_dataframe.append(my_dataframe)</code> tomake a copy; <code>temp_df.drop_duplicates(inplace=True, keep=False)</code> would overwrite the df and remove all duplicates (keep=False).</li>\n",
    "        </ol>\n",
    "<p>Movie data from <a href=\"https://gist.github.com/tiangechen/b68782efa49a16edaf07dc2cdaa855ea#file-movies-csv\" target=\"new\">here</a></p>\n",
    "<code>movies_df = pd.read_csv(\"movies.csv\", index_col=\"Film\")</code>"
   ]
  },
  {
   "cell_type": "code",
   "execution_count": 172,
   "metadata": {},
   "outputs": [
    {
     "data": {
      "text/html": [
       "<div>\n",
       "<style scoped>\n",
       "    .dataframe tbody tr th:only-of-type {\n",
       "        vertical-align: middle;\n",
       "    }\n",
       "\n",
       "    .dataframe tbody tr th {\n",
       "        vertical-align: top;\n",
       "    }\n",
       "\n",
       "    .dataframe thead th {\n",
       "        text-align: right;\n",
       "    }\n",
       "</style>\n",
       "<table border=\"1\" class=\"dataframe\">\n",
       "  <thead>\n",
       "    <tr style=\"text-align: right;\">\n",
       "      <th></th>\n",
       "      <th>Genre</th>\n",
       "      <th>Lead Studio</th>\n",
       "      <th>Audience score %</th>\n",
       "      <th>Profitability</th>\n",
       "      <th>Rotten Tomatoes %</th>\n",
       "      <th>Worldwide Gross</th>\n",
       "      <th>Year</th>\n",
       "    </tr>\n",
       "    <tr>\n",
       "      <th>Film</th>\n",
       "      <th></th>\n",
       "      <th></th>\n",
       "      <th></th>\n",
       "      <th></th>\n",
       "      <th></th>\n",
       "      <th></th>\n",
       "      <th></th>\n",
       "    </tr>\n",
       "  </thead>\n",
       "  <tbody>\n",
       "    <tr>\n",
       "      <th>Zack and Miri Make a Porno</th>\n",
       "      <td>Romance</td>\n",
       "      <td>The Weinstein Company</td>\n",
       "      <td>70</td>\n",
       "      <td>1.747542</td>\n",
       "      <td>64</td>\n",
       "      <td>$41.94</td>\n",
       "      <td>2008</td>\n",
       "    </tr>\n",
       "    <tr>\n",
       "      <th>Youth in Revolt</th>\n",
       "      <td>Comedy</td>\n",
       "      <td>The Weinstein Company</td>\n",
       "      <td>52</td>\n",
       "      <td>1.090000</td>\n",
       "      <td>68</td>\n",
       "      <td>$19.62</td>\n",
       "      <td>2010</td>\n",
       "    </tr>\n",
       "    <tr>\n",
       "      <th>You Will Meet a Tall Dark Stranger</th>\n",
       "      <td>Comedy</td>\n",
       "      <td>Independent</td>\n",
       "      <td>35</td>\n",
       "      <td>1.211818</td>\n",
       "      <td>43</td>\n",
       "      <td>$26.66</td>\n",
       "      <td>2010</td>\n",
       "    </tr>\n",
       "    <tr>\n",
       "      <th>When in Rome</th>\n",
       "      <td>Comedy</td>\n",
       "      <td>Disney</td>\n",
       "      <td>44</td>\n",
       "      <td>0.000000</td>\n",
       "      <td>15</td>\n",
       "      <td>$43.04</td>\n",
       "      <td>2010</td>\n",
       "    </tr>\n",
       "    <tr>\n",
       "      <th>What Happens in Vegas</th>\n",
       "      <td>Comedy</td>\n",
       "      <td>Fox</td>\n",
       "      <td>72</td>\n",
       "      <td>6.267647</td>\n",
       "      <td>28</td>\n",
       "      <td>$219.37</td>\n",
       "      <td>2008</td>\n",
       "    </tr>\n",
       "  </tbody>\n",
       "</table>\n",
       "</div>"
      ],
      "text/plain": [
       "                                      Genre            Lead Studio  \\\n",
       "Film                                                                 \n",
       "Zack and Miri Make a Porno          Romance  The Weinstein Company   \n",
       "Youth in Revolt                      Comedy  The Weinstein Company   \n",
       "You Will Meet a Tall Dark Stranger   Comedy            Independent   \n",
       "When in Rome                         Comedy                 Disney   \n",
       "What Happens in Vegas                Comedy                    Fox   \n",
       "\n",
       "                                    Audience score %  Profitability  \\\n",
       "Film                                                                  \n",
       "Zack and Miri Make a Porno                        70       1.747542   \n",
       "Youth in Revolt                                   52       1.090000   \n",
       "You Will Meet a Tall Dark Stranger                35       1.211818   \n",
       "When in Rome                                      44       0.000000   \n",
       "What Happens in Vegas                             72       6.267647   \n",
       "\n",
       "                                    Rotten Tomatoes % Worldwide Gross  Year  \n",
       "Film                                                                         \n",
       "Zack and Miri Make a Porno                         64         $41.94   2008  \n",
       "Youth in Revolt                                    68         $19.62   2010  \n",
       "You Will Meet a Tall Dark Stranger                 43         $26.66   2010  \n",
       "When in Rome                                       15         $43.04   2010  \n",
       "What Happens in Vegas                              28        $219.37   2008  "
      ]
     },
     "execution_count": 172,
     "metadata": {},
     "output_type": "execute_result"
    }
   ],
   "source": [
    "movies_df = pd.read_csv(\"files/movies.csv\", index_col=\"Film\")\n",
    "movies_df.head()"
   ]
  },
  {
   "cell_type": "code",
   "execution_count": null,
   "metadata": {},
   "outputs": [],
   "source": []
  },
  {
   "cell_type": "markdown",
   "metadata": {},
   "source": [
    "<hr />\n",
    "<h2 style=\"color:cornflowerblue;\">Getting to you know your data - visually</h2>\n",
    "<p>Next class we look at data visualization.  This section is an optional \n",
    "teaser integrating the exploration and analysis possible with\n",
    " pandas with another language of science, graphics.</p>\n",
    " <p>After you've ingested and gotten to know your data, you'll want to explore it - checking the data distribution, domain and range, and test your data against some specific test or idea.\n",
    "</p>\n",
    "<hr />"
   ]
  },
  {
   "cell_type": "code",
   "execution_count": 174,
   "metadata": {},
   "outputs": [
    {
     "data": {
      "image/png": "[encoded data removed]",
      "text/plain": [
       "<Figure size 432x288 with 1 Axes>"
      ]
     },
     "metadata": {
      "needs_background": "light"
     },
     "output_type": "display_data"
    }
   ],
   "source": [
    "import numpy\n",
    "import matplotlib.pyplot as plt\n",
    "\n",
    "x = numpy.random.normal(5.0, 1.0, 1000000)\n",
    "\n",
    "plt.hist(x, 100)\n",
    "plt.show()"
   ]
  },
  {
   "cell_type": "code",
   "execution_count": 175,
   "metadata": {},
   "outputs": [
    {
     "name": "stdout",
     "output_type": "stream",
     "text": [
      "__________________________________________________ \n",
      " Sacramento      50000\n",
      "Davis           23423\n",
      "Yolo           982874\n",
      "Lakeport        77558\n",
      "Taho            99382\n",
      "Oakland         33423\n",
      "Berkeley        12345\n",
      "Merced          83728\n",
      "Bakersfield     44412\n",
      "Stockton       150000\n",
      "Name: Income, dtype: int64\n",
      "\n",
      "Median:  63779.0\n",
      "Mean:  155714.5\n",
      "STD:  293496.96320073836\n",
      "\n",
      "Who has the most and least?\n",
      "The least: $ 12345  and the most $ 982874\n"
     ]
    }
   ],
   "source": [
    "s3 = pd.Series([50000,23423,982874,77558,99382,33423,12345,\n",
    "                83728,44412,150000], \n",
    "               name='Income', \n",
    "               index=['Sacramento','Davis','Yolo',\n",
    "                      'Lakeport','Taho','Oakland',\n",
    "                      'Berkeley','Merced','Bakersfield','Stockton'])\n",
    "print(\"_\"*50,\"\\n\",s3)\n",
    "print(\"\\nMedian: \", s3.median())\n",
    "print(\"Mean: \",s3.mean())\n",
    "print(\"STD: \",s3.std())\n",
    "print(\"\\nWho has the most and least?\")\n",
    "print(\"The least: $\", s3.min(), \" and the most $\", s3.max())"
   ]
  },
  {
   "cell_type": "code",
   "execution_count": 176,
   "metadata": {},
   "outputs": [
    {
     "data": {
      "text/plain": [
       "<AxesSubplot:title={'center':'pie'}, ylabel='Income'>"
      ]
     },
     "execution_count": 176,
     "metadata": {},
     "output_type": "execute_result"
    },
    {
     "data": {
      "image/png": "[encoded data removed]",
      "text/plain": [
       "<Figure size 864x216 with 4 Axes>"
      ]
     },
     "metadata": {
      "needs_background": "light"
     },
     "output_type": "display_data"
    }
   ],
   "source": [
    "import matplotlib.pyplot as plt\n",
    "\n",
    "fig, axes = plt.subplots(1, 4, figsize=(12,3))\n",
    "s3.plot(ax=axes[0], kind='line', title='line')\n",
    "s3.plot(ax=axes[1], kind='bar', title='bar')\n",
    "s3.plot(ax=axes[2], kind='box', title='box')\n",
    "s3.plot(ax=axes[3], kind='pie', title='pie')"
   ]
  },
  {
   "cell_type": "markdown",
   "metadata": {},
   "source": [
    "<hr />\n",
    "<h2>Continue to Optional Part 3 Demo or to the <a href=\"week_10_activity.ipynb\" target=\"new\">Activity</a> (and <a href=\"week_10_activity_solution.ipynb\" target=\"new\">Solution</a>).</h2>"
   ]
  },
  {
   "cell_type": "code",
   "execution_count": null,
   "metadata": {},
   "outputs": [],
   "source": []
  }
 ],
 "metadata": {
  "kernelspec": {
   "display_name": "Python 3 (ipykernel)",
   "language": "python",
   "name": "python3"
  },
  "language_info": {
   "codemirror_mode": {
    "name": "ipython",
    "version": 3
   },
   "file_extension": ".py",
   "mimetype": "text/x-python",
   "name": "python",
   "nbconvert_exporter": "python",
   "pygments_lexer": "ipython3",
   "version": "3.11.4"
  }
 },
 "nbformat": 4,
 "nbformat_minor": 4
}
