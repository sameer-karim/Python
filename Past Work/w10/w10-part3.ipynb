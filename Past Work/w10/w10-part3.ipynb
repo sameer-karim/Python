{
 "cells": [
  {
   "cell_type": "markdown",
   "metadata": {},
   "source": [
    "<p style=\"font-size:9px;\">Version: Discussion version 1, \n",
    "    July 18, 2023 | Updated Oct 30, 2023: <b>Oct 30, 2023</b> [&copy; 2023 gb]</p>\n",
    "<img src=\"images/ischool-banner.png\" />\n",
    "<p>&nbsp;</p>\n",
    "<div style=\"height: 50px;color:#3B7EA1; font-size:24px; vertical-align:top; text-align:left;\">\n",
    "    Computing for Data Science\n",
    "    <img style=\"width:20%; vertical-align:top; float: left; padding-right: 20px; display: block; margin-left: 0; margin-right: auto;\" \n",
    "         src=\"images/ucb_logo.png\"/>\n",
    "</div>\n",
    "<hr />\n",
    "<h1 style=\"font-size:32; color: #003262;\">Week 10: Part 3</h1>"
   ]
  },
  {
   "cell_type": "markdown",
   "metadata": {},
   "source": [
    "<hr />\n",
    "<p style=\"background-color: #003262; color:white; border-radius: 5px; padding: 12px; font-size:22px;\"><b>Optional Part 3: A worked example</b>\n",
    "</p>\n",
    "<hr />\n",
    "<p><a href=\"w10.ipynb\">Back to Main Lesson</a> ::  \n",
    "    <a href=\"w10.ipynb\">Back to Optional Page 2</a></p>\n",
    "<p style=\"color:cornflowerblue;\">A Final Demo: Reading some data for demo</p>\n",
    "<p>Let&rsquo;s get some  data from a .csv file (cities.csv) ... to imagine we&rsquo;ve have real files from work.<br />\n",
    "NB: in our source file, strings should be in double-quotes, not single ones.</p>\n",
    "<p>The demo data look like this:\n",
    "<pre>\n",
    "Rank,City,Country,Population,CensusDate\n",
    "1,London,UK,\"9,000,000\",June 2014\n",
    "2,Berlin,DE,\"4,000,000\",June 2014\n",
    "3,Paris,FR,\"1,500,000\",Aug 2014\n",
    "4,Marseilles,FR,\"2,500,000\",Aug 2014\n",
    "5,München,DE,\"2,200,100\",April 2014\n",
    "6,香港,CN,\"7,577,231\",Oct 2021\n",
    "</pre>\n",
    "</p>\n",
    "<h3>Below: Note the use of the delimiter, encoding, and header options for the read_csv.</h3>"
   ]
  },
  {
   "cell_type": "code",
   "execution_count": 9,
   "metadata": {},
   "outputs": [
    {
     "name": "stdout",
     "output_type": "stream",
     "text": [
      "First some info about our objects from the file and then the head()\n",
      "<class 'pandas.core.frame.DataFrame'>\n",
      "RangeIndex: 6 entries, 0 to 5\n",
      "Data columns (total 5 columns):\n",
      " #   Column      Non-Null Count  Dtype \n",
      "---  ------      --------------  ----- \n",
      " 0   Rank        6 non-null      int64 \n",
      " 1   City        6 non-null      object\n",
      " 2   Country     6 non-null      object\n",
      " 3   Population  6 non-null      object\n",
      " 4   CensusDate  6 non-null      object\n",
      "dtypes: int64(1), object(4)\n",
      "memory usage: 372.0+ bytes\n",
      "\n",
      "   Rank        City Country Population  CensusDate\n",
      "0     1      London      UK  9,000,000   June 2014\n",
      "1     2      Berlin      DE  4,000,000   June 2014\n",
      "2     3       Paris      FR  1,500,000    Aug 2014\n",
      "3     4  Marseilles      FR  2,500,000    Aug 2014\n",
      "4     5     München      DE  2,200,100  April 2014\n"
     ]
    }
   ],
   "source": [
    "import pandas as pd\n",
    "\n",
    "df_pop = pd.read_csv(\"files/cities.csv\", delimiter=\",\", encoding=\"utf-8\", header=0)\n",
    "print(\"First some info about our objects from the file and then the head()\")\n",
    "df_pop.info()\n",
    "print(\"\")\n",
    "print(df_pop.head())"
   ]
  },
  {
   "cell_type": "code",
   "execution_count": 10,
   "metadata": {},
   "outputs": [
    {
     "data": {
      "text/plain": [
       "' note that df.head(n) is the same as df[:n] '"
      ]
     },
     "execution_count": 10,
     "metadata": {},
     "output_type": "execute_result"
    }
   ],
   "source": [
    "\"\"\" note that df.head(n) is the same as df[:n] \"\"\""
   ]
  },
  {
   "cell_type": "code",
   "execution_count": 11,
   "metadata": {},
   "outputs": [
    {
     "name": "stdout",
     "output_type": "stream",
     "text": [
      "\n",
      " ---------------------------------------- \n",
      "Not happy with this messy data.  Let's clean it up a bit by removing the comma; use apply to convert strings to ints; make a new column \n",
      "   Rank        City Country Population  CensusDate  NumericPopulation\n",
      "0     1      London      UK  9,000,000   June 2014            9000000\n",
      "1     2      Berlin      DE  4,000,000   June 2014            4000000\n",
      "2     3       Paris      FR  1,500,000    Aug 2014            1500000\n",
      "3     4  Marseilles      FR  2,500,000    Aug 2014            2500000\n",
      "4     5     München      DE  2,200,100  April 2014            2200100\n"
     ]
    }
   ],
   "source": [
    "print(\"\\n\",\"-\"*40,\"\\nNot happy with this messy data.  Let's clean it up a bit by removing the comma; use apply to convert strings to ints; make a new column \")\n",
    "df_pop[\"NumericPopulation\"] = df_pop.Population.apply(lambda x: int(x.replace(\",\", \"\")))\n",
    "\n",
    "df_pop[\"Country\"] = df_pop[\"Country\"].apply(lambda x: x.strip())\n",
    "# and confirm\n",
    "print(df_pop.head())"
   ]
  },
  {
   "cell_type": "code",
   "execution_count": 12,
   "metadata": {},
   "outputs": [
    {
     "name": "stdout",
     "output_type": "stream",
     "text": [
      "\n",
      " -------------------------------------------------- Lets index the data by the city name.  Change index by \"set_index()\" and sort.\n",
      "Sort by country and the city ... so set sort_index(level=0) (meaning first index); replace 0 with whatever int you want\n",
      "just city:              Rank Country Population  CensusDate  NumericPopulation\n",
      "City                                                              \n",
      "Berlin         2      DE  4,000,000   June 2014            4000000\n",
      "London         1      UK  9,000,000   June 2014            9000000\n",
      "Marseilles     4      FR  2,500,000    Aug 2014            2500000\n",
      "München        5      DE  2,200,100  April 2014            2200100\n",
      "Paris          3      FR  1,500,000    Aug 2014            1500000\n"
     ]
    }
   ],
   "source": [
    "print(\"\\n\",\"-\"*50,\"Lets index the data by the city name.  Change index by \\\"set_index()\\\" and sort.\")\n",
    "print(\"Sort by country and the city ... so set sort_index(level=0) (meaning first index); replace 0 with whatever int you want\")\n",
    "df_pop2 = df_pop.set_index(\"City\")\n",
    "df_pop2 = df_pop2.sort_index()\n",
    "print(\"just city: \", df_pop2.head())"
   ]
  },
  {
   "cell_type": "code",
   "execution_count": 13,
   "metadata": {},
   "outputs": [
    {
     "name": "stdout",
     "output_type": "stream",
     "text": [
      "now country and city\n"
     ]
    },
    {
     "data": {
      "text/html": [
       "<div>\n",
       "<style scoped>\n",
       "    .dataframe tbody tr th:only-of-type {\n",
       "        vertical-align: middle;\n",
       "    }\n",
       "\n",
       "    .dataframe tbody tr th {\n",
       "        vertical-align: top;\n",
       "    }\n",
       "\n",
       "    .dataframe thead th {\n",
       "        text-align: right;\n",
       "    }\n",
       "</style>\n",
       "<table border=\"1\" class=\"dataframe\">\n",
       "  <thead>\n",
       "    <tr style=\"text-align: right;\">\n",
       "      <th></th>\n",
       "      <th></th>\n",
       "      <th>Rank</th>\n",
       "      <th>Population</th>\n",
       "      <th>CensusDate</th>\n",
       "      <th>NumericPopulation</th>\n",
       "    </tr>\n",
       "    <tr>\n",
       "      <th>Country</th>\n",
       "      <th>City</th>\n",
       "      <th></th>\n",
       "      <th></th>\n",
       "      <th></th>\n",
       "      <th></th>\n",
       "    </tr>\n",
       "  </thead>\n",
       "  <tbody>\n",
       "    <tr>\n",
       "      <th>CN</th>\n",
       "      <th>香港</th>\n",
       "      <td>6</td>\n",
       "      <td>7,577,231</td>\n",
       "      <td>Oct 2021</td>\n",
       "      <td>7577231</td>\n",
       "    </tr>\n",
       "    <tr>\n",
       "      <th rowspan=\"2\" valign=\"top\">DE</th>\n",
       "      <th>Berlin</th>\n",
       "      <td>2</td>\n",
       "      <td>4,000,000</td>\n",
       "      <td>June 2014</td>\n",
       "      <td>4000000</td>\n",
       "    </tr>\n",
       "    <tr>\n",
       "      <th>München</th>\n",
       "      <td>5</td>\n",
       "      <td>2,200,100</td>\n",
       "      <td>April 2014</td>\n",
       "      <td>2200100</td>\n",
       "    </tr>\n",
       "    <tr>\n",
       "      <th rowspan=\"2\" valign=\"top\">FR</th>\n",
       "      <th>Marseilles</th>\n",
       "      <td>4</td>\n",
       "      <td>2,500,000</td>\n",
       "      <td>Aug 2014</td>\n",
       "      <td>2500000</td>\n",
       "    </tr>\n",
       "    <tr>\n",
       "      <th>Paris</th>\n",
       "      <td>3</td>\n",
       "      <td>1,500,000</td>\n",
       "      <td>Aug 2014</td>\n",
       "      <td>1500000</td>\n",
       "    </tr>\n",
       "  </tbody>\n",
       "</table>\n",
       "</div>"
      ],
      "text/plain": [
       "                    Rank Population  CensusDate  NumericPopulation\n",
       "Country City                                                      \n",
       "CN      香港             6  7,577,231    Oct 2021            7577231\n",
       "DE      Berlin         2  4,000,000   June 2014            4000000\n",
       "        München        5  2,200,100  April 2014            2200100\n",
       "FR      Marseilles     4  2,500,000    Aug 2014            2500000\n",
       "        Paris          3  1,500,000    Aug 2014            1500000"
      ]
     },
     "execution_count": 13,
     "metadata": {},
     "output_type": "execute_result"
    }
   ],
   "source": [
    "print(\"now country and city\")\n",
    "df_pop3 = df_pop.set_index([\"Country\", \"City\"]).sort_index(level=0)\n",
    "df_pop3.head()"
   ]
  },
  {
   "cell_type": "code",
   "execution_count": 14,
   "metadata": {},
   "outputs": [
    {
     "name": "stdout",
     "output_type": "stream",
     "text": [
      "\n",
      "Get some counts by Country: how many cities appear for each country?\n",
      "Country\n",
      "DE    2\n",
      "FR    2\n",
      "UK    1\n",
      "CN    1\n",
      "Name: count, dtype: int64\n",
      "\n",
      "Dropping, grouping, reducing ... Drop a column, groupby another column ... and can apply a reduction (like sum, mean...)\n",
      "                    City          Population           CensusDate  \\\n",
      "Country                                                             \n",
      "UK                London           9,000,000            June 2014   \n",
      "CN                    香港           7,577,231             Oct 2021   \n",
      "DE         BerlinMünchen  4,000,0002,200,100  June 2014April 2014   \n",
      "FR       ParisMarseilles  1,500,0002,500,000     Aug 2014Aug 2014   \n",
      "\n",
      "         NumericPopulation  \n",
      "Country                     \n",
      "UK                 9000000  \n",
      "CN                 7577231  \n",
      "DE                 6200100  \n",
      "FR                 4000000  \n"
     ]
    }
   ],
   "source": [
    "print(\"\\nGet some counts by Country: how many cities appear for each country?\")\n",
    "city_count = df_pop.Country.value_counts()\n",
    "print(city_count.head())\n",
    "\n",
    "print(\"\\nDropping, grouping, reducing ... Drop a column, groupby another column ... and can apply a reduction (like sum, mean...)\")\n",
    "df_pop5 = (df_pop.drop(\"Rank\", axis=1)\n",
    "    .groupby(\"Country\").sum()\n",
    "    .sort_values(\"NumericPopulation\",\n",
    "    ascending=False))\n",
    "\n",
    "print(df_pop5.head())"
   ]
  },
  {
   "cell_type": "markdown",
   "metadata": {},
   "source": [
    "<hr />\n",
    "<h2>Odds and Ends</h2>\n",
    "<p>We'll add some fields, select, sort on conditions.</p>"
   ]
  },
  {
   "cell_type": "code",
   "execution_count": 15,
   "metadata": {},
   "outputs": [
    {
     "data": {
      "text/html": [
       "<div>\n",
       "<style scoped>\n",
       "    .dataframe tbody tr th:only-of-type {\n",
       "        vertical-align: middle;\n",
       "    }\n",
       "\n",
       "    .dataframe tbody tr th {\n",
       "        vertical-align: top;\n",
       "    }\n",
       "\n",
       "    .dataframe thead th {\n",
       "        text-align: right;\n",
       "    }\n",
       "</style>\n",
       "<table border=\"1\" class=\"dataframe\">\n",
       "  <thead>\n",
       "    <tr style=\"text-align: right;\">\n",
       "      <th></th>\n",
       "      <th>race</th>\n",
       "      <th>id</th>\n",
       "      <th>fips_char</th>\n",
       "      <th>fips5</th>\n",
       "      <th>place</th>\n",
       "      <th>fname</th>\n",
       "      <th>lname</th>\n",
       "      <th>party</th>\n",
       "      <th>pab</th>\n",
       "      <th>votes</th>\n",
       "      <th>incumbent</th>\n",
       "      <th>mpc</th>\n",
       "    </tr>\n",
       "  </thead>\n",
       "  <tbody>\n",
       "    <tr>\n",
       "      <th>0</th>\n",
       "      <td>President</td>\n",
       "      <td>0</td>\n",
       "      <td>1</td>\n",
       "      <td>NaN</td>\n",
       "      <td>Alabama</td>\n",
       "      <td>Donald</td>\n",
       "      <td>Trump</td>\n",
       "      <td>REP</td>\n",
       "      <td>R</td>\n",
       "      <td>1434159.0</td>\n",
       "      <td>1.0</td>\n",
       "      <td>1.0</td>\n",
       "    </tr>\n",
       "    <tr>\n",
       "      <th>1</th>\n",
       "      <td>President</td>\n",
       "      <td>0</td>\n",
       "      <td>1</td>\n",
       "      <td>NaN</td>\n",
       "      <td>Alabama</td>\n",
       "      <td>Joe</td>\n",
       "      <td>Biden</td>\n",
       "      <td>DEM</td>\n",
       "      <td>D</td>\n",
       "      <td>843473.0</td>\n",
       "      <td>0.0</td>\n",
       "      <td>1.0</td>\n",
       "    </tr>\n",
       "    <tr>\n",
       "      <th>2</th>\n",
       "      <td>President</td>\n",
       "      <td>0</td>\n",
       "      <td>1</td>\n",
       "      <td>NaN</td>\n",
       "      <td>Alabama</td>\n",
       "      <td>Jo</td>\n",
       "      <td>Jorgensen</td>\n",
       "      <td>LIB</td>\n",
       "      <td>O</td>\n",
       "      <td>24994.0</td>\n",
       "      <td>0.0</td>\n",
       "      <td>0.0</td>\n",
       "    </tr>\n",
       "    <tr>\n",
       "      <th>3</th>\n",
       "      <td>President</td>\n",
       "      <td>0</td>\n",
       "      <td>1</td>\n",
       "      <td>NaN</td>\n",
       "      <td>Alabama</td>\n",
       "      <td>NaN</td>\n",
       "      <td>Write-ins</td>\n",
       "      <td>WRI</td>\n",
       "      <td>O</td>\n",
       "      <td>7274.0</td>\n",
       "      <td>0.0</td>\n",
       "      <td>0.0</td>\n",
       "    </tr>\n",
       "    <tr>\n",
       "      <th>4</th>\n",
       "      <td>President</td>\n",
       "      <td>1019</td>\n",
       "      <td>1</td>\n",
       "      <td>1019.0</td>\n",
       "      <td>Cherokee County</td>\n",
       "      <td>Donald</td>\n",
       "      <td>Trump</td>\n",
       "      <td>REP</td>\n",
       "      <td>R</td>\n",
       "      <td>10562.0</td>\n",
       "      <td>1.0</td>\n",
       "      <td>1.0</td>\n",
       "    </tr>\n",
       "  </tbody>\n",
       "</table>\n",
       "</div>"
      ],
      "text/plain": [
       "        race    id  fips_char   fips5            place   fname      lname  \\\n",
       "0  President     0          1     NaN          Alabama  Donald      Trump   \n",
       "1  President     0          1     NaN          Alabama     Joe      Biden   \n",
       "2  President     0          1     NaN          Alabama      Jo  Jorgensen   \n",
       "3  President     0          1     NaN          Alabama     NaN  Write-ins   \n",
       "4  President  1019          1  1019.0  Cherokee County  Donald      Trump   \n",
       "\n",
       "  party pab      votes  incumbent  mpc  \n",
       "0   REP   R  1434159.0        1.0  1.0  \n",
       "1   DEM   D   843473.0        0.0  1.0  \n",
       "2   LIB   O    24994.0        0.0  0.0  \n",
       "3   WRI   O     7274.0        0.0  0.0  \n",
       "4   REP   R    10562.0        1.0  1.0  "
      ]
     },
     "execution_count": 15,
     "metadata": {},
     "output_type": "execute_result"
    }
   ],
   "source": [
    "elections = pd.read_csv('files/results_current.txt')\n",
    "elections.head()"
   ]
  },
  {
   "cell_type": "code",
   "execution_count": 16,
   "metadata": {},
   "outputs": [
    {
     "data": {
      "text/plain": [
       "race\n",
       "President    31583\n",
       "Senate       14514\n",
       "Governor      5160\n",
       "House         1184\n",
       "Name: count, dtype: int64"
      ]
     },
     "execution_count": 16,
     "metadata": {},
     "output_type": "execute_result"
    }
   ],
   "source": [
    "elections.race.value_counts() # "
   ]
  },
  {
   "cell_type": "code",
   "execution_count": 20,
   "metadata": {},
   "outputs": [
    {
     "name": "stdout",
     "output_type": "stream",
     "text": [
      "lname      pab\n",
      "Abbey      O        1\n",
      "Ackerman   D        1\n",
      "Adams      D        1\n",
      "Aderholt   R        1\n",
      "Adkins     R        1\n",
      "                 ... \n",
      "Zinone     R        1\n",
      "Zmich      R        1\n",
      "Zuckerman  D      247\n",
      "Zunker     D        1\n",
      "Zwinak     O        1\n",
      "Length: 1213, dtype: int64\n"
     ]
    }
   ],
   "source": [
    "print(elections.groupby(['lname', 'pab']).size())"
   ]
  },
  {
   "cell_type": "code",
   "execution_count": 21,
   "metadata": {},
   "outputs": [
    {
     "data": {
      "text/plain": [
       "lname\n",
       "Write-ins    0.096463\n",
       "Trump        0.089418\n",
       "Jorgensen    0.089418\n",
       "Biden        0.089418\n",
       "Hawkins      0.057729\n",
       "               ...   \n",
       "Schilling    0.000019\n",
       "Vincent      0.000019\n",
       "Batiste      0.000019\n",
       "Leleux       0.000019\n",
       "Haggit       0.000019\n",
       "Name: proportion, Length: 1108, dtype: float64"
      ]
     },
     "execution_count": 21,
     "metadata": {},
     "output_type": "execute_result"
    }
   ],
   "source": [
    "elections['lname'].value_counts('Trump')"
   ]
  },
  {
   "cell_type": "markdown",
   "metadata": {},
   "source": [
    "<p>End</p>"
   ]
  },
  {
   "cell_type": "code",
   "execution_count": null,
   "metadata": {},
   "outputs": [],
   "source": []
  }
 ],
 "metadata": {
  "kernelspec": {
   "display_name": "Python 3 (ipykernel)",
   "language": "python",
   "name": "python3"
  },
  "language_info": {
   "codemirror_mode": {
    "name": "ipython",
    "version": 3
   },
   "file_extension": ".py",
   "mimetype": "text/x-python",
   "name": "python",
   "nbconvert_exporter": "python",
   "pygments_lexer": "ipython3",
   "version": "3.11.4"
  }
 },
 "nbformat": 4,
 "nbformat_minor": 4
}
