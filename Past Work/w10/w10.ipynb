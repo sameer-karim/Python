{
 "cells": [
  {
   "cell_type": "markdown",
   "metadata": {},
   "source": [
    "<p style=\"font-size:9px;\">Version: Discussion version 1, \n",
    "    July 18, 2023 | Updated Oct 14, 2023: <b>Oct 30, 2023</b> [&copy; 2023 gb]</p>\n",
    "<img src=\"images/ischool-banner.png\" />\n",
    "<p>&nbsp;</p>\n",
    "<div style=\"height: 50px;color:#3B7EA1; font-size:24px; vertical-align:top; text-align:left;\">\n",
    "    Computing for Data Science\n",
    "    <img style=\"width:20%; vertical-align:top; float: left; padding-right: 20px; display: block; margin-left: 0; margin-right: auto;\" \n",
    "         src=\"images/ucb_logo.png\"/>\n",
    "</div>\n",
    "<hr />\n",
    "<h1 style=\"font-size:32; color: #003262;\">Weekly Syllabus Topics: Week 10</h1>\n",
    "<table width=\"100%;\">\n",
    "<tr>\n",
    "<td style=\"text-align:left; vertical-align:top;\">\n",
    "<ol>\n",
    "    <li>\n",
    "    <ul>\n",
    "        <li>Computer Architecture Basics; \n",
    "        Bash, Git, GitHub;</li>\n",
    "        <li>Command Line;</li>\n",
    "        <li>Manipulating Files &amp; Directories;\n",
    "        VIM;\n",
    "        Command Line intro;</li>\n",
    "    </ul>\n",
    "</li>\n",
    "<li>\n",
    "    <ul>\n",
    "    <li>Programming Lang Orientation: \n",
    "    <li>jupyter; python and command line;\n",
    "    objects &amp; types;\n",
    "    <li>variables (numbers and strings), formatting strings;</li>\n",
    "    <li>control while loops</li>\n",
    "    </ul>\n",
    "</li>\n",
    "<li>\n",
    "    <ul>\n",
    "        <li>Sequences</li>\n",
    "        <li>Lists, Tuples &amp; Mutability</li>\n",
    "        <li>Ranges</li>\n",
    "        <li>Dictionaries, Nested Lists &amp; dictionaries</li>\n",
    "    </ul>\n",
    "</li>\n",
    "</ol>\n",
    "</td>\n",
    "<td style=\"text-align:left; vertical-align:top;\">\n",
    "<ol start=\"4\">\n",
    "<li>\n",
    "    <ul>\n",
    "        <li>For Loops\n",
    "        <li>Exits\n",
    "        <li>Algorithms: searching [exhaustive, bisection, heron&rsquo;s methods]</li>\n",
    "        <li>Comprehensions</li>\n",
    "    </ul>\n",
    "</li>\n",
    "<li>\n",
    "    <ul>\n",
    "        <li>Functions</li>\n",
    "        <li>Calling, Nesting</li>\n",
    "        <li>Namespaces, Global and Local Vars</li>\n",
    "        <li>Recursion; nested dictionaries &amp; recursion</li>\n",
    "        <li>Parameters</li>\n",
    "        <li>Exceptions</li>\n",
    "        <li>Lambdas</li>\n",
    "    </ul>\n",
    "</li>\n",
    "<li>\n",
    "    <ul>\n",
    "        <li>Complexity\n",
    "        <li>Measuring time and Steps</li>\n",
    "        <li>Big &Theta;</li>\n",
    "        <li>Searching and Subsequences\n",
    "        <li>Modules &amp; Packages</li>\n",
    "    </ul>\n",
    "</li>\n",
    "</ol>\n",
    "</td>\n",
    "    </tr>\n",
    "<table>\n",
    "<table width=\"100%\">\n",
    "    <tr>\n",
    "<td style=\"text-align:left; vertical-align:top;\">\n",
    "<ol start=\"7\">\n",
    "<li>\n",
    "    <ul>\n",
    "        <li>Classes</li>\n",
    "        <li>Attributes, Binding</li>\n",
    "        <li>Initializing and Control</li>\n",
    "        <li>&UnderBar;&UnderBar;str&UnderBar;&UnderBar; and &UnderBar;&UnderBar;repr&UnderBar;&UnderBar;\n",
    "        </li>\n",
    "    </ul>\n",
    "</li>\n",
    "<li>\n",
    "    <ul>\n",
    "        <li>Object-Oriented Programming</li>\n",
    "        <li>Inheritance</li>\n",
    "        <li>Polymorphism</li>\n",
    "        <li>Magic Methods</li>\n",
    "    </ul>\n",
    "</li>\n",
    "<li>\n",
    "    <ul>\n",
    "    <li>PyData Ecosystem and Numpy</li>\n",
    "    <li>Boolean selection and types</li>\n",
    "    <li>Vectorization &amp; Multidimensional Arrays</li>\n",
    "    <li>Slicing and combining</li>\n",
    "    <li>Linear model in matrix form, Numpy</li>\n",
    "    </ul>\n",
    "</li>\n",
    "</ol>\n",
    "</td>\n",
    "<td style=\"text-align:left; vertical-align:top;\">\n",
    "<ol start=\"10\">\n",
    "<li>\n",
    "    <ul style=\"background-color: #FDB515;\">\n",
    "        <li>Pandas &amp; Data Analysis</li>\n",
    "        <li>Series and Data Frames</li>\n",
    "        <li>Bracket index, log &amp; iloc</li>\n",
    "        <li>Functions and DataFrames</li>\n",
    "        <li>Sorting</li>\n",
    "    </ul>\n",
    "</li>\n",
    "<li>\n",
    "    <ul>\n",
    "        <li>Datasets and EDA</li>\n",
    "        <li>Fixing Data Issues (Cleansing)</li>\n",
    "        <li>Answering Questions</li>\n",
    "    </ul>\n",
    "</li>\n",
    "<li>\n",
    "    <ul>\n",
    "        <li>Plotting &amp; Visualization</li>\n",
    "        <li>Libraries (Matplotlib, Seaborn, etc.)</li>\n",
    "        <li>Plot features</li>\n",
    "    </ul>\n",
    "</li>\n",
    "</ol>\n",
    "</td>\n",
    "</tr>\n",
    "</table>\n",
    "<table width=\"100%\">\n",
    "<tr>\n",
    "<td style=\"text-align:left; vertical-align:top;\">\n",
    "<ol start=\"13\">\n",
    "    <li>\n",
    "    <ul>\n",
    "        <li>Pandas Aggregation &amp; Group Operations</li>\n",
    "        <li>Series.groupby</li>\n",
    "        <li>DataFrame.groupby</li>\n",
    "        <li>Aggregation</li>\n",
    "        <li>Pivot Tables &amp; Crosstabs</li>\n",
    "    </ul>\n",
    "</li>\n",
    "<li>\n",
    "    <ul>\n",
    "        <li>Presentations (so no time to cover...\n",
    "        <li>Texts, unicode, decoding errors, regex, time series, etc.)</li>\n",
    "    </ul>\n",
    "</li>\n",
    "</ol>\n",
    "</td>\n",
    "</tr>\n",
    "</table>\n",
    "    <p>\n",
    "        <img src=\"images/IntroIcon.png\" style=\"float:left; padding:10px; width:50px; text-align:top;\"/>\n",
    "        <span  style=\"color: #3B7EA1;font-size:24px;\">Contents</span>\n",
    "    </p>\n",
    "    <blockquote>\n",
    "<ol>\n",
    "<li>Recap of Basics</li>\n",
    "<li>Working thru a small example</li>\n",
    "<li>loc and iloc</li>\n",
    "<li>Use-case scenario (building to work practices)</li>\n",
    "<li>assign()</li>\n",
    "<li>Prep for 11-14: Data exploration and analysis</li>\n",
    "<li>Research guides</li>\n",
    "<li>Optional: contextualizing in the bigger data universe - from coding to info ecosystems and BI</li>\n",
    "<li>Getting to know your data</li>\n",
    "<li>Some Plots</li>\n",
    "<li>Final Demo of reading from csv (note encoding)</li>\n",
    "<li>Odds and Ends</li>\n",
    "</ol>\n",
    "</blockquote>"
   ]
  },
  {
   "cell_type": "markdown",
   "metadata": {},
   "source": [
    "<p style=\"background-color: #003262; color:white; border-radius: 4px; padding: 12px; font-size:22px;\"><b>Pandas (part 1)</b>\n",
    "</p>\n",
    "<p>There is a <a href=\"w10-part2.ipynb\" target=\"new\">second [optional] notebook</a> that prepares for the activity and introduces concepts we&rsquo;ll continue next week (exploratory data analysis basics &amp; larger architectures and a worked example, with visualizations, and a numpy and pandas review sheet).  A <a href=\"w10-part3.ipynb\" target=\"new\">third optional notebook</a> works another example.</p>\n",
    "<p>Week 10 <a href=\"w_10_activity.ipynb\" target=\"new\">Activity</a> and <a href=\"week_10_activity_solution.ipynb\" target=\"new\">Solution</a>.</p>"
   ]
  },
  {
   "cell_type": "markdown",
   "metadata": {},
   "source": [
    "<hr />\n",
    "<p style=\"padding:10px; border-radius:5px; background-color:#3B7EA1; color:white; font-size:22px;\"><img src=\"images/pandas_mark.svg\" style=\"float:left;width:70px;\">\n",
    "    <b>Panda&rsquo;s Components</b>\n",
    "</p>\n",
    "<p>\n",
    "Pandas components are <code>Series</code> (a column) and <code>DataFrame</code>, a multi-dimensional table made up of Series.\n",
    "<img style=\"width:400px;\" src=\"images/series-and-dataframe.width-1200.png\" />\n",
    "Use pandas to create a frame (that looks like a combo of json and a dictionary):\n",
    "<br />\n",
    "<pre>\n",
    "data = { \n",
    "   'cats': [1, 4, 2, 8],\n",
    "   'dogs': [1, 3, 3, 2]\n",
    "}\n",
    "pets = pd.DataFrame(data)\n",
    "</pre>\n",
    "</p>"
   ]
  },
  {
   "cell_type": "markdown",
   "metadata": {},
   "source": [
    "<hr />\n",
    "<p style=\"padding:10px; border-radius:5px; background-color:#3B7EA1; color:white; font-size:22px;\">\n",
    "    <b>Recap: Exploration &amp; Analysis: Transformations for analysis</b>\n",
    "</p>\n",
    "\n",
    "<table style=\"font-size:20px;font-family:Avenir,Arial; line-height:24px;\">\n",
    "<tr>\n",
    "    <td style=\"text-align:left\" width=\"12%\">Type</td>\n",
    "    <td style=\"text-align:left\" width=\"30%\">Description</td>\n",
    "    <td style=\"text-align:left\">Example</td>\n",
    "</tr>\n",
    "<tr>\n",
    "<td style=\"text-align:left\">Series</td>\n",
    "<td style=\"text-align:left\">1D labeled homogeneous array, size is immutable.</td>\n",
    "<td style=\"font-family:Courier; text-align:left\">\n",
    "import pandas as pd<br />\n",
    "import numpy as np<br />\n",
    "data = np.array(['a','b','c'])<br />\n",
    "s = pd.Series(data)<br />\n",
    "print(s)\n",
    "</td>\n",
    "</tr>\n",
    "<tr><td style=\"text-align:left\">Data Frames</td>\n",
    "<td style=\"text-align:left\">General 2d labeled, size-mutable tabular structure with potentially heterogeneous-typed columns</td>\n",
    "<td style=\"font-family:Courier; text-align:left\">\n",
    "import pandas as pd<br />\n",
    "data = [1, 2, 3, 4, 5]<br />\n",
    "df = pd.DataFrame(data)<br />\n",
    "    </td>\n",
    "    </tr>\n",
    "    <tr><td style=\"text-align:left\">Panel</td>\n",
    "        <td style=\"text-align:left\">General 3d labeled, size-mutable array</td>\n",
    "<td style=\"font-family:Courier; text-align:left\">\n",
    "    import pandas as pd<br />\n",
    "    import numpy as np<br />\n",
    "    data = np.random.rand(2, 4, 5)<br />\n",
    "    p = pd.Panel(data)<br />\n",
    "        </td>\n",
    "    </tr>\n",
    "    </table>\n",
    "<div style=\"height:100px;\"><hr /></div>"
   ]
  },
  {
   "cell_type": "markdown",
   "metadata": {},
   "source": [
    "<hr />\n",
    "<h2 style=\"color:#3B7EA1;\">\n",
    "    <img src=\"images/hands-on.png\" style=\"float:left;width:70px;\">1. Working thru a small example.</h2>\n",
    "    <p>In this example, we import pandas and numpy, load data (as if from a .json file) and begin to practice exploring our data.</p>"
   ]
  },
  {
   "cell_type": "code",
   "execution_count": 1,
   "metadata": {
    "tags": []
   },
   "outputs": [
    {
     "name": "stdout",
     "output_type": "stream",
     "text": [
      "Show the data in a table:\n",
      "                   Fifi     Juan        Toby  Andreas\n",
      "title           manager  manager  programmer  analyst\n",
      "salary            60000    60000       60000    22200\n",
      "cost_of_living      1.0      1.0         1.0      1.0\n",
      "new_salary        60000    60000       60000    22222\n",
      "-----------------------\n",
      "Index:\n",
      "\tIndex(['title', 'salary', 'cost_of_living', 'new_salary'], dtype='object')\n",
      "\n",
      " -----------------------\n",
      "Column names:\n",
      "\t Fifi\n",
      "\t Juan\n",
      "\t Toby\n",
      "\t Andreas\n",
      "\n",
      " -----------------------\n",
      "With a transformation ... \n",
      "              title salary cost_of_living new_salary\n",
      "Fifi        manager  60000            1.0      60000\n",
      "Juan        manager  60000            1.0      60000\n",
      "Toby     programmer  60000            1.0      60000\n",
      "Andreas     analyst  22200            1.0      22222\n"
     ]
    }
   ],
   "source": [
    "# By Hand\n",
    "# as we know from this week's asynch \n",
    "import pandas as pd\n",
    "import numpy as np\n",
    "\n",
    "pay = {\n",
    "  \"Fifi\":{\n",
    "    \"title\":\"manager\",\n",
    "    \"salary\":60000,\n",
    "    \"cost_of_living\":1.0,\n",
    "    \"new_salary\":60000,\n",
    "  },\n",
    "  \"Juan\":{\n",
    "    \"title\":\"manager\",\n",
    "    \"salary\":60000,\n",
    "    \"cost_of_living\":1.0,\n",
    "    \"new_salary\":60000,\n",
    "  },\n",
    "  \"Toby\":{\n",
    "    \"title\":\"programmer\",\n",
    "    \"salary\":60000,\n",
    "    \"cost_of_living\":1.0,\n",
    "    \"new_salary\":60000,\n",
    "  },\n",
    "  \"Andreas\":{\n",
    "    \"title\":\"analyst\",\n",
    "    \"salary\":22200,\n",
    "    \"cost_of_living\":1.0,\n",
    "    \"new_salary\":22222,\n",
    "  }\n",
    "}\n",
    "\n",
    "print(\"Show the data in a table:\")\n",
    "\n",
    "df = pd.DataFrame(pay)\n",
    "print(df)\n",
    "print(\"-----------------------\")\n",
    "\n",
    "# accessing data as an attribute\n",
    "print(f\"Index:\\n\\t{df.index}\")\n",
    "print(\"\\n -----------------------\")\n",
    "# let's check THE COLUMN HEADINGS before continuing.\n",
    "print(\"Column names:\")\n",
    "for col in df.columns:\n",
    "    print(\"\\t\", col)\n",
    "print(\"\\n -----------------------\")\n",
    "print(\"With a transformation ... \")\n",
    "print(pd.DataFrame(pay).T)"
   ]
  },
  {
   "cell_type": "markdown",
   "metadata": {},
   "source": [
    "<hr />\n",
    "<h3 style=\"color:#3B7EA1;\">But the data could be on the wrong axis for our needs ... <code>.T</code> to transform them.</h3>"
   ]
  },
  {
   "cell_type": "code",
   "execution_count": 2,
   "metadata": {
    "tags": []
   },
   "outputs": [
    {
     "name": "stdout",
     "output_type": "stream",
     "text": [
      "   cats  dogs\n",
      "0     1     1\n",
      "1     4     3\n",
      "2     2     3\n",
      "3     8     2\n",
      "------------------------------\n",
      "      0  1  2  3\n",
      "cats  1  4  2  8\n",
      "dogs  1  3  3  2\n"
     ]
    }
   ],
   "source": [
    "data = { \n",
    "   'cats': [1, 4, 2, 8],\n",
    "   'dogs': [1, 3, 3, 2]\n",
    "}\n",
    "pets = pd.DataFrame(data)\n",
    "print(pets)\n",
    "print(\"-\"*30)\n",
    "pets2 = pd.DataFrame(data).T\n",
    "print(pets2.head()) "
   ]
  },
  {
   "cell_type": "markdown",
   "metadata": {},
   "source": [
    "<hr />\n",
    "<p style=\"padding:10px; border-radius:5px; background-color:#3B7EA1; color:white; font-size:18px;\">Extracting specific data by name or index; slicing</p>\n",
    "<hr />\n",
    "<h3 style=\"color:#3B7EA1;\">Locating data in a DF using <code>loc</code> and <code>iloc</code></h3>\n",
    "<table width=\"100%\">\n",
    "    <tr>\n",
    "        <td style=\"text-align: left;\">\n",
    "            <code style=\"background-color:beige;\">loc</code></td>\n",
    "        <td style=\"text-align: left;\">\n",
    "            <code style=\"background-color:beige;\">iloc</code></td>\n",
    "    </tr>\n",
    "    <tr>\n",
    "        <td style=\"text-align: left;\"><b>single label or int</b><br />\n",
    "            <code style=\"background-color:beige;\">loc[A]</code>, \n",
    "            <code style=\"background-color:beige;\">loc[1]</code></td>\n",
    "        <td style=\"text-align: left;\"><b>single int</b><br />\n",
    "            <code style=\"background-color:beige;\">iloc[i]</code></td>\n",
    "    </tr>\n",
    "    <tr>\n",
    "        <td style=\"text-align: left;\"><b>list of labels</b><br />\n",
    "            <code style=\"background-color:beige;\">loc[[A,B]]</code></td>\n",
    "        <td style=\"text-align: left;\"><b>list of ints</b><br/>\n",
    "            <code style=\"background-color:beige;\">iloc[[1,2,3]]</code></td>\n",
    "    </tr>\n",
    "    <tr>\n",
    "        <td style=\"text-align: left;\"><b>slicing</b><br />\n",
    "            <code style=\"background-color:beige;\">loc[A:B]</code> (inclusive)</td>\n",
    "        <td style=\"text-align: left;\"><b>slicing</b><br />\n",
    "            <code style=\"background-color:beige;\">iloc[n:m]</code> (exclusive of m)</td>\n",
    "    </tr>\n",
    "    <tr>\n",
    "        <td style=\"text-align: left;\"><b>lambda</b><br/>\n",
    "            <code style=\"background-color:beige;\">loc[lambda x: x[2]]</code></td>\n",
    "        <td style=\"text-align: left;\"><b>lambda</b><br />\n",
    "            <code style=\"background-color:beige;\">iloc[lambda x: x[2]]</code></td>\n",
    "    </tr>\n",
    "</table>    "
   ]
  },
  {
   "cell_type": "markdown",
   "metadata": {},
   "source": [
    "<p>The main difference between loc and iloc is that loc is label-based (you need to specify the row and column labels) while iloc is integer-position based (you need to specify the row and column by the integer position values, which start with 0).  Check out <a href=\"https://towardsdatascience.com/loc-vs-iloc-in-pandas-heres-the-difference-16cd4bcbecab\" target=\"new\">source</a>.</p>\n",
    "<img style=\"width:400px\" src=\"images/df1.png\">\n",
    "<br />\n",
    "<img style=\"width:400px\" src=\"images/df2.png\">"
   ]
  },
  {
   "cell_type": "code",
   "execution_count": 3,
   "metadata": {},
   "outputs": [
    {
     "data": {
      "text/html": [
       "<div>\n",
       "<style scoped>\n",
       "    .dataframe tbody tr th:only-of-type {\n",
       "        vertical-align: middle;\n",
       "    }\n",
       "\n",
       "    .dataframe tbody tr th {\n",
       "        vertical-align: top;\n",
       "    }\n",
       "\n",
       "    .dataframe thead th {\n",
       "        text-align: right;\n",
       "    }\n",
       "</style>\n",
       "<table border=\"1\" class=\"dataframe\">\n",
       "  <thead>\n",
       "    <tr style=\"text-align: right;\">\n",
       "      <th></th>\n",
       "      <th>Fifi</th>\n",
       "      <th>Juan</th>\n",
       "      <th>Toby</th>\n",
       "      <th>Andreas</th>\n",
       "    </tr>\n",
       "  </thead>\n",
       "  <tbody>\n",
       "    <tr>\n",
       "      <th>title</th>\n",
       "      <td>manager</td>\n",
       "      <td>manager</td>\n",
       "      <td>programmer</td>\n",
       "      <td>analyst</td>\n",
       "    </tr>\n",
       "    <tr>\n",
       "      <th>salary</th>\n",
       "      <td>60000</td>\n",
       "      <td>60000</td>\n",
       "      <td>60000</td>\n",
       "      <td>22200</td>\n",
       "    </tr>\n",
       "    <tr>\n",
       "      <th>cost_of_living</th>\n",
       "      <td>1.0</td>\n",
       "      <td>1.0</td>\n",
       "      <td>1.0</td>\n",
       "      <td>1.0</td>\n",
       "    </tr>\n",
       "    <tr>\n",
       "      <th>new_salary</th>\n",
       "      <td>60000</td>\n",
       "      <td>60000</td>\n",
       "      <td>60000</td>\n",
       "      <td>22222</td>\n",
       "    </tr>\n",
       "  </tbody>\n",
       "</table>\n",
       "</div>"
      ],
      "text/plain": [
       "                   Fifi     Juan        Toby  Andreas\n",
       "title           manager  manager  programmer  analyst\n",
       "salary            60000    60000       60000    22200\n",
       "cost_of_living      1.0      1.0         1.0      1.0\n",
       "new_salary        60000    60000       60000    22222"
      ]
     },
     "execution_count": 3,
     "metadata": {},
     "output_type": "execute_result"
    }
   ],
   "source": [
    "# here is our data, again; now we'll extract only the salary by name and by index\n",
    "df"
   ]
  },
  {
   "cell_type": "code",
   "execution_count": 3,
   "metadata": {
    "tags": []
   },
   "outputs": [
    {
     "name": "stdout",
     "output_type": "stream",
     "text": [
      "Fifi       60000\n",
      "Juan       60000\n",
      "Toby       60000\n",
      "Andreas    22200\n",
      "Name: salary, dtype: object\n",
      "\n",
      "\n",
      "Fifi       60000\n",
      "Juan       60000\n",
      "Toby       60000\n",
      "Andreas    22200\n",
      "Name: salary, dtype: object\n",
      "Fifi       60000\n",
      "Juan       60000\n",
      "Toby       60000\n",
      "Andreas    22200\n",
      "Name: salary, dtype: object\n"
     ]
    }
   ],
   "source": [
    "#notice the use of loc + name and iloc + index\n",
    "print(df.loc['salary'])\n",
    "print(\"\\n\")\n",
    "SALARY = 1\n",
    "print(df.iloc[1])\n",
    "print(df.iloc[SALARY])"
   ]
  },
  {
   "cell_type": "markdown",
   "metadata": {},
   "source": [
    "<p style=\"padding:10px; border-radius:5px; background-color:#3B7EA1; color:white; font-size:18px;\">Perform some functions on extracted data</p>"
   ]
  },
  {
   "cell_type": "code",
   "execution_count": 4,
   "metadata": {
    "tags": []
   },
   "outputs": [
    {
     "name": "stdout",
     "output_type": "stream",
     "text": [
      "Let's check out some salaries:  Juan's salary is $ 60000 \n",
      "\n",
      "And the company mean is:  50550.0 \n",
      "\n",
      "Fifi       False\n",
      "Juan       False\n",
      "Toby       False\n",
      "Andreas     True\n",
      "Name: salary, dtype: bool \n",
      "\n",
      "---------------------------------------- \n",
      "Who's underpaid? \n",
      "\t\n",
      "Fifi       False\n",
      "Juan       False\n",
      "Toby       False\n",
      "Andreas     True\n",
      "Name: salary, dtype: bool\n"
     ]
    }
   ],
   "source": [
    "# here we work from row/col idea for loc to method (.mean() to a folder method)\n",
    "pay = pd.DataFrame(df).T\n",
    "\n",
    "row = 'Juan'\n",
    "col = 'salary'\n",
    "\n",
    "print(\"Let's check out some salaries:  Juan's salary is $\", pay.loc[row, col], \"\\n\")\n",
    "\n",
    "print(\"And the company mean is: \", pay['salary'].mean(), \"\\n\")\n",
    "\n",
    "# let's extract all the people below a salary point\n",
    "print(pay.salary < 60000, \"\\n\")\n",
    "\n",
    "print(\"-\"*40,\"\\nWho's underpaid? \\n\\t\")\n",
    "print(pay.salary < pay['salary'].mean())"
   ]
  },
  {
   "cell_type": "markdown",
   "metadata": {},
   "source": [
    "<blockquote>\n",
    "    <p>Reminder that there are a lot of stat-oriented methods built-in: <code>sum()</code>, <code>min()</code>,\n",
    "        <code>max()</code>,<code>std()</code>,\n",
    "        <code>corr()</code>,<code>cov()</code>, and the all-in-one <code>describe()</code> and \n",
    "        <code>value_counts()</code>\n",
    "</blockquote>"
   ]
  },
  {
   "cell_type": "code",
   "execution_count": 5,
   "metadata": {
    "tags": []
   },
   "outputs": [
    {
     "data": {
      "text/html": [
       "<div>\n",
       "<style scoped>\n",
       "    .dataframe tbody tr th:only-of-type {\n",
       "        vertical-align: middle;\n",
       "    }\n",
       "\n",
       "    .dataframe tbody tr th {\n",
       "        vertical-align: top;\n",
       "    }\n",
       "\n",
       "    .dataframe thead th {\n",
       "        text-align: right;\n",
       "    }\n",
       "</style>\n",
       "<table border=\"1\" class=\"dataframe\">\n",
       "  <thead>\n",
       "    <tr style=\"text-align: right;\">\n",
       "      <th></th>\n",
       "      <th>title</th>\n",
       "      <th>salary</th>\n",
       "      <th>cost_of_living</th>\n",
       "      <th>new_salary</th>\n",
       "    </tr>\n",
       "  </thead>\n",
       "  <tbody>\n",
       "    <tr>\n",
       "      <th>Fifi</th>\n",
       "      <td>manager</td>\n",
       "      <td>60000</td>\n",
       "      <td>1.0</td>\n",
       "      <td>60000</td>\n",
       "    </tr>\n",
       "    <tr>\n",
       "      <th>Juan</th>\n",
       "      <td>manager</td>\n",
       "      <td>60000</td>\n",
       "      <td>1.0</td>\n",
       "      <td>60000</td>\n",
       "    </tr>\n",
       "    <tr>\n",
       "      <th>Toby</th>\n",
       "      <td>programmer</td>\n",
       "      <td>60000</td>\n",
       "      <td>1.0</td>\n",
       "      <td>60000</td>\n",
       "    </tr>\n",
       "  </tbody>\n",
       "</table>\n",
       "</div>"
      ],
      "text/plain": [
       "           title salary cost_of_living new_salary\n",
       "Fifi     manager  60000            1.0      60000\n",
       "Juan     manager  60000            1.0      60000\n",
       "Toby  programmer  60000            1.0      60000"
      ]
     },
     "execution_count": 5,
     "metadata": {},
     "output_type": "execute_result"
    }
   ],
   "source": [
    "pay.loc[pay['salary'] == 60000]"
   ]
  },
  {
   "cell_type": "markdown",
   "metadata": {},
   "source": [
    "<hr />\n",
    "<h2 style=\"color: cornflowerblue;\">Use-case scenarios: working coding into our work practices.</h2>\n",
    "<p>We can never be certain about the source and qualify of our data, nor how we'll perform our tasks until we've get the files and prepare the data.  Say you work for a company and periodically you&rsquo;re asked to provide reports on salaries, calculate cost_of_living and salary bonuses.  For fun, the data come to you from the payroll manager who is on her way out the door for vacation. Consequently you have to check the data a lot before creating your reports, etc.  BTW, usually she sends data in a tab-delimited file (.tsv) but today she sent a .csv.  Let&rsquo;s see what we can do ... </p>\n",
    "<p>The async and many websites show how easy it can be to read data in from a .csv file.  But on the job things mayn't go that easily.  Here we have a comma-delimited file exported from Apple Numbers.  Commands can act very differently based on our computing environment.  Here the .csv file needs some cleanup.\n",
    "</p>"
   ]
  },
  {
   "cell_type": "code",
   "execution_count": 6,
   "metadata": {
    "tags": []
   },
   "outputs": [
    {
     "name": "stdout",
     "output_type": "stream",
     "text": [
      "<class 'pandas.core.frame.DataFrame'>\n",
      "  Unnamed: 0       title  salary_base  cost_of_living  review_percent  \\\n",
      "0       Fifi     manager        50000            0.01            0.01   \n",
      "1        Rex     manager        48000            0.01            0.01   \n",
      "2       Toby  programmer        40000            0.01            0.01   \n",
      "3       Lars     analyst        42500            0.01            0.01   \n",
      "4    Andreas    designer        25000            0.01            0.01   \n",
      "\n",
      "   revised_salary  Unnamed: 6  \n",
      "0             NaN         NaN  \n",
      "1             NaN         NaN  \n",
      "2             NaN         NaN  \n",
      "3             NaN         NaN  \n",
      "4             NaN         NaN  \n",
      "\n",
      " -------------------------------------------------- \n",
      "Suppressing the row numbers during import:\n",
      "\n",
      "              title  salary_base  cost_of_living  review_percent  \\\n",
      "Fifi        manager        50000            0.01            0.01   \n",
      "Rex         manager        48000            0.01            0.01   \n",
      "Toby     programmer        40000            0.01            0.01   \n",
      "Lars        analyst        42500            0.01            0.01   \n",
      "Andreas    designer        25000            0.01            0.01   \n",
      "\n",
      "         revised_salary  Unnamed: 6  \n",
      "Fifi                NaN         NaN  \n",
      "Rex                 NaN         NaN  \n",
      "Toby                NaN         NaN  \n",
      "Lars                NaN         NaN  \n",
      "Andreas             NaN         NaN  \n"
     ]
    }
   ],
   "source": [
    "# IMHO - make sure people DON'T include the title of the exported data\n",
    "# otherwise you have to do a lot of fiddling around w/ pandas to reset the index \n",
    "import pandas as pd\n",
    "\n",
    "# in-class - change the .csv to .tsv and reload. Use .csv for rest of notebook.\n",
    "# notice since the record numbers (0, 1, 2, ... ) in column 0 are exported, too, they'll\n",
    "# show up in the import.  The next cell shows the pretty version of the \"pay\" data\n",
    "\n",
    "\n",
    "pay_test = pd.read_csv('files/BearCo.csv')\n",
    "print(type(pay))\n",
    "\n",
    "print(pay_test)\n",
    "\n",
    "\n",
    "print(\"\\n\",\"-\"*50,\"\\nSuppressing the row numbers during import:\\n\")\n",
    "\n",
    "\n",
    "pay = pd.read_csv('files/BearCo.csv', index_col = 0)\n",
    "print(pay)"
   ]
  },
  {
   "cell_type": "code",
   "execution_count": 7,
   "metadata": {
    "tags": []
   },
   "outputs": [
    {
     "data": {
      "text/html": [
       "<div>\n",
       "<style scoped>\n",
       "    .dataframe tbody tr th:only-of-type {\n",
       "        vertical-align: middle;\n",
       "    }\n",
       "\n",
       "    .dataframe tbody tr th {\n",
       "        vertical-align: top;\n",
       "    }\n",
       "\n",
       "    .dataframe thead th {\n",
       "        text-align: right;\n",
       "    }\n",
       "</style>\n",
       "<table border=\"1\" class=\"dataframe\">\n",
       "  <thead>\n",
       "    <tr style=\"text-align: right;\">\n",
       "      <th></th>\n",
       "      <th>title</th>\n",
       "      <th>salary_base</th>\n",
       "      <th>cost_of_living</th>\n",
       "      <th>review_percent</th>\n",
       "      <th>revised_salary</th>\n",
       "      <th>Unnamed: 6</th>\n",
       "    </tr>\n",
       "  </thead>\n",
       "  <tbody>\n",
       "    <tr>\n",
       "      <th>Fifi</th>\n",
       "      <td>manager</td>\n",
       "      <td>50000</td>\n",
       "      <td>0.01</td>\n",
       "      <td>0.01</td>\n",
       "      <td>NaN</td>\n",
       "      <td>NaN</td>\n",
       "    </tr>\n",
       "    <tr>\n",
       "      <th>Rex</th>\n",
       "      <td>manager</td>\n",
       "      <td>48000</td>\n",
       "      <td>0.01</td>\n",
       "      <td>0.01</td>\n",
       "      <td>NaN</td>\n",
       "      <td>NaN</td>\n",
       "    </tr>\n",
       "    <tr>\n",
       "      <th>Toby</th>\n",
       "      <td>programmer</td>\n",
       "      <td>40000</td>\n",
       "      <td>0.01</td>\n",
       "      <td>0.01</td>\n",
       "      <td>NaN</td>\n",
       "      <td>NaN</td>\n",
       "    </tr>\n",
       "    <tr>\n",
       "      <th>Lars</th>\n",
       "      <td>analyst</td>\n",
       "      <td>42500</td>\n",
       "      <td>0.01</td>\n",
       "      <td>0.01</td>\n",
       "      <td>NaN</td>\n",
       "      <td>NaN</td>\n",
       "    </tr>\n",
       "    <tr>\n",
       "      <th>Andreas</th>\n",
       "      <td>designer</td>\n",
       "      <td>25000</td>\n",
       "      <td>0.01</td>\n",
       "      <td>0.01</td>\n",
       "      <td>NaN</td>\n",
       "      <td>NaN</td>\n",
       "    </tr>\n",
       "  </tbody>\n",
       "</table>\n",
       "</div>"
      ],
      "text/plain": [
       "              title  salary_base  cost_of_living  review_percent  \\\n",
       "Fifi        manager        50000            0.01            0.01   \n",
       "Rex         manager        48000            0.01            0.01   \n",
       "Toby     programmer        40000            0.01            0.01   \n",
       "Lars        analyst        42500            0.01            0.01   \n",
       "Andreas    designer        25000            0.01            0.01   \n",
       "\n",
       "         revised_salary  Unnamed: 6  \n",
       "Fifi                NaN         NaN  \n",
       "Rex                 NaN         NaN  \n",
       "Toby                NaN         NaN  \n",
       "Lars                NaN         NaN  \n",
       "Andreas             NaN         NaN  "
      ]
     },
     "execution_count": 7,
     "metadata": {},
     "output_type": "execute_result"
    }
   ],
   "source": [
    "pay"
   ]
  },
  {
   "cell_type": "code",
   "execution_count": 20,
   "metadata": {
    "tags": []
   },
   "outputs": [
    {
     "name": "stdout",
     "output_type": "stream",
     "text": [
      "0\n",
      "10\n",
      "30\n"
     ]
    }
   ],
   "source": [
    "combo = pd.Series([0,10,25,30,45])\n",
    "\n",
    "for i in combo:\n",
    "    if i % 2 == 0:\n",
    "        print(i)       \n",
    "\n"
   ]
  },
  {
   "cell_type": "markdown",
   "metadata": {},
   "source": [
    "<hr />\n",
    "<p style=\"padding:10px; border-radius:5px; background-color:#3B7EA1; color:white; font-size:18px;\"><img style=\"padding-right:10px; width:75px;float: left;\" src=\"images/DiscussIcon.png\">Review of common techniques:</p>"
   ]
  },
  {
   "cell_type": "markdown",
   "metadata": {},
   "source": [
    "Extracting data by name, location"
   ]
  },
  {
   "cell_type": "code",
   "execution_count": 9,
   "metadata": {},
   "outputs": [
    {
     "data": {
      "text/plain": [
       "ID#      S3992\n",
       "Name     Smith\n",
       "City    Toledo\n",
       "dtype: object"
      ]
     },
     "execution_count": 9,
     "metadata": {},
     "output_type": "execute_result"
    }
   ],
   "source": [
    "#Naming your own columns:\n",
    "import pandas as pd\n",
    "mydata = [\"S3992\", \"Smith\", \"Toledo\"]\n",
    "myseries = pd.Series(mydata, index = [\"ID#\", \"Name\", \"City\"])\n",
    "myseries"
   ]
  },
  {
   "cell_type": "code",
   "execution_count": 10,
   "metadata": {},
   "outputs": [
    {
     "name": "stdout",
     "output_type": "stream",
     "text": [
      "All Data:\n",
      " Mon    322\n",
      "Tue    200\n",
      "Wed    993\n",
      "dtype: int64\n",
      "\n",
      "Mon/Tue:\n",
      " Mon    322\n",
      "Tue    200\n",
      "dtype: int64\n"
     ]
    }
   ],
   "source": [
    "receipts = {\"Mon\": 322, \"Tue\": 200, \"Wed\": 993}\n",
    "mydata = pd.Series(receipts)\n",
    "print(\"All Data:\\n\", mydata)\n",
    "\n",
    "# pull out only Monday and Tuesday\n",
    "myseries = pd.Series(receipts, index = [\"Mon\", \"Tue\"])\n",
    "\n",
    "print(\"\\nMon/Tue:\\n\", myseries)"
   ]
  },
  {
   "cell_type": "code",
   "execution_count": 11,
   "metadata": {},
   "outputs": [
    {
     "name": "stdout",
     "output_type": "stream",
     "text": [
      "\n",
      "              receipts  location\n",
      "Toledo            420         1\n",
      "Bakersfield       380         2\n",
      "Syracuse          390         3\n"
     ]
    },
    {
     "data": {
      "text/plain": [
       "receipts    380\n",
       "location      2\n",
       "Name: Bakersfield, dtype: int64"
      ]
     },
     "execution_count": 11,
     "metadata": {},
     "output_type": "execute_result"
    }
   ],
   "source": [
    "# DATA FROM A DICTIONARY - make a 2x2\n",
    "#name the rows:\n",
    "data = {\n",
    "  \"receipts\": [420, 380, 390],\n",
    "  \"location\": [1, 2, 3]\n",
    "}\n",
    "\n",
    "df = pd.DataFrame(data, index = [\"Toledo\", \"Bakersfield\", \"Syracuse\"])\n",
    "\n",
    "print(\"\\n\", df) \n",
    "\n",
    "df.loc['Bakersfield']"
   ]
  },
  {
   "cell_type": "markdown",
   "metadata": {},
   "source": [
    "<hr /><p style=\"color:#3B7EA1;\">Cleaning the data (a little)</p>\n",
    "<ul><li>Empty Cells <i>dataFrame</i>.dropna()</li>\n",
    "    <li>Removing Rows</li>\n",
    "    <li>Changing Data Values</li>\n",
    "    <li>Dropping Duplicates</li>\n",
    "    <li>Correlation</li>\n",
    "</ul>"
   ]
  },
  {
   "cell_type": "code",
   "execution_count": 22,
   "metadata": {
    "tags": []
   },
   "outputs": [
    {
     "name": "stdout",
     "output_type": "stream",
     "text": [
      "Original Data:\n",
      "              receipts  location\n",
      "Toledo            420         1\n",
      "Bakersfield       380         2\n",
      "Syracuse          390         3\n",
      "Toledo2           420         1 \n",
      "\n"
     ]
    },
    {
     "data": {
      "text/html": [
       "<div>\n",
       "<style scoped>\n",
       "    .dataframe tbody tr th:only-of-type {\n",
       "        vertical-align: middle;\n",
       "    }\n",
       "\n",
       "    .dataframe tbody tr th {\n",
       "        vertical-align: top;\n",
       "    }\n",
       "\n",
       "    .dataframe thead th {\n",
       "        text-align: right;\n",
       "    }\n",
       "</style>\n",
       "<table border=\"1\" class=\"dataframe\">\n",
       "  <thead>\n",
       "    <tr style=\"text-align: right;\">\n",
       "      <th></th>\n",
       "      <th>receipts</th>\n",
       "      <th>location</th>\n",
       "    </tr>\n",
       "  </thead>\n",
       "  <tbody>\n",
       "    <tr>\n",
       "      <th>Toledo</th>\n",
       "      <td>420</td>\n",
       "      <td>1</td>\n",
       "    </tr>\n",
       "    <tr>\n",
       "      <th>Bakersfield</th>\n",
       "      <td>380</td>\n",
       "      <td>2</td>\n",
       "    </tr>\n",
       "    <tr>\n",
       "      <th>Syracuse</th>\n",
       "      <td>390</td>\n",
       "      <td>3</td>\n",
       "    </tr>\n",
       "  </tbody>\n",
       "</table>\n",
       "</div>"
      ],
      "text/plain": [
       "             receipts  location\n",
       "Toledo            420         1\n",
       "Bakersfield       380         2\n",
       "Syracuse          390         3"
      ]
     },
     "execution_count": 22,
     "metadata": {},
     "output_type": "execute_result"
    }
   ],
   "source": [
    "# adding inplace = True replaces the original df, not a copy\n",
    "data2 = {\n",
    "  \"receipts\": [420, 380, 390, 420],\n",
    "  \"location\": [1, 2, 3, 1]\n",
    "}\n",
    "dataFrame2 = pd.DataFrame(data2, index = [\"Toledo\", \"Bakersfield\", \"Syracuse\", \"Toledo2\"])\n",
    "print(\"Original Data:\\n\", dataFrame2, \"\\n\")\n",
    "\n",
    "# drop row by name - easier than by index\n",
    "dataFrame2.drop(labels=['Toledo2'], axis = 0)"
   ]
  },
  {
   "cell_type": "code",
   "execution_count": 23,
   "metadata": {
    "tags": []
   },
   "outputs": [
    {
     "name": "stdout",
     "output_type": "stream",
     "text": [
      "receipts    420\n",
      "location      1\n",
      "Name: Toledo, dtype: int64\n",
      "402.5\n"
     ]
    },
    {
     "data": {
      "text/html": [
       "<div>\n",
       "<style scoped>\n",
       "    .dataframe tbody tr th:only-of-type {\n",
       "        vertical-align: middle;\n",
       "    }\n",
       "\n",
       "    .dataframe tbody tr th {\n",
       "        vertical-align: top;\n",
       "    }\n",
       "\n",
       "    .dataframe thead th {\n",
       "        text-align: right;\n",
       "    }\n",
       "</style>\n",
       "<table border=\"1\" class=\"dataframe\">\n",
       "  <thead>\n",
       "    <tr style=\"text-align: right;\">\n",
       "      <th></th>\n",
       "      <th>receipts</th>\n",
       "      <th>location</th>\n",
       "    </tr>\n",
       "  </thead>\n",
       "  <tbody>\n",
       "    <tr>\n",
       "      <th>receipts</th>\n",
       "      <td>1.000000</td>\n",
       "      <td>-0.802181</td>\n",
       "    </tr>\n",
       "    <tr>\n",
       "      <th>location</th>\n",
       "      <td>-0.802181</td>\n",
       "      <td>1.000000</td>\n",
       "    </tr>\n",
       "  </tbody>\n",
       "</table>\n",
       "</div>"
      ],
      "text/plain": [
       "          receipts  location\n",
       "receipts  1.000000 -0.802181\n",
       "location -0.802181  1.000000"
      ]
     },
     "execution_count": 23,
     "metadata": {},
     "output_type": "execute_result"
    }
   ],
   "source": [
    "# calling a single row: \n",
    "print(dataFrame2.loc['Toledo'])\n",
    "\n",
    "# one way to calc mean - extract convert as list\n",
    "l = dataFrame2.receipts\n",
    "print(l.mean())\n",
    "\n",
    "# correlation? [a silly example here; >= 0.7 = strong relationship]\n",
    "dataFrame2.corr()"
   ]
  },
  {
   "cell_type": "code",
   "execution_count": 24,
   "metadata": {
    "tags": []
   },
   "outputs": [
    {
     "name": "stdout",
     "output_type": "stream",
     "text": [
      "999\n",
      "    subject  group  hours  weight    O2\n",
      "0         1      2     30     200  95.0\n",
      "1         2      1     15     200  90.0\n",
      "2         3      1     25     250  92.0\n",
      "3         4      1     29     175  99.0\n",
      "4         5      1     10     190  92.0\n",
      "5         6      2     35     200  99.0\n",
      "6         7      2     40     210  93.0\n",
      "7         8      2     44     207  99.0\n",
      "8         9      2     32     198  93.0\n",
      "10       11      2     30     200  95.0\n",
      "11       12      1     13     154  98.0\n",
      "12       13      1     15     190  90.0\n",
      "13       14      1     25     220  94.0\n",
      "14       15      1     25     125  99.0\n",
      "15       16      1     12     180  93.0\n",
      "16       17      2     15     200  99.0\n",
      "17       18      2     20     200  97.0\n",
      "18       19      2     14     999  94.0\n",
      "19       20      2     32     198  93.0\n",
      "    subject  group  hours  weight    O2\n",
      "0         1      2     30     200  95.0\n",
      "1         2      1     15     200  90.0\n",
      "2         3      1     25     250  92.0\n",
      "3         4      1     29     175  99.0\n",
      "4         5      1     10     190  92.0\n",
      "5         6      2     35     200  99.0\n",
      "6         7      2     40     210  93.0\n",
      "7         8      2     44     207  99.0\n",
      "8         9      2     32     198  93.0\n",
      "10       11      2     30     200  95.0\n",
      "11       12      1     13     154  98.0\n",
      "12       13      1     15     190  90.0\n",
      "13       14      1     25     220  94.0\n",
      "14       15      1     25     125  99.0\n",
      "15       16      1     12     180  93.0\n",
      "16       17      2     15     200  99.0\n",
      "17       18      2     20     200  97.0\n",
      "18       19      2     14     109  94.0\n",
      "19       20      2     32     198  93.0\n"
     ]
    }
   ],
   "source": [
    "dfh = pd.read_csv(\"files/human_subjects_1.csv\")  # should have 20 rows (1 is empty)\n",
    "# notice row 9 ... \n",
    "dfh.dropna(inplace = True)\n",
    "\n",
    "# note row 18 has a value out of range, let's change it to 222\n",
    "print(dfh.loc[18, 'weight'])\n",
    "# \n",
    "print(dfh.to_string())\n",
    "dfh.loc[18, 'weight'] = 109\n",
    "\n",
    "print(dfh.to_string())"
   ]
  },
  {
   "cell_type": "code",
   "execution_count": 26,
   "metadata": {
    "tags": []
   },
   "outputs": [
    {
     "data": {
      "image/png": "[encoded data removed]",
      "text/plain": [
       "<Figure size 640x480 with 1 Axes>"
      ]
     },
     "metadata": {},
     "output_type": "display_data"
    }
   ],
   "source": [
    "import pandas as pd\n",
    "import matplotlib.pyplot as plt\n",
    "dfh.plot(kind = 'scatter', x = 'weight', y = 'O2')\n",
    "plt.show() "
   ]
  },
  {
   "cell_type": "markdown",
   "metadata": {},
   "source": [
    "<hr />\n",
    "<h3>Addressing issues when reading-in data ... </h3>\n",
    "<p>The column on the left is fine; but the column labels and the extra empty column (Unnamed: 6) need to be addressed.</p>\n",
    "<p>First let's remove that empty column; then try to use the data from the first row as our new column labels.</p>"
   ]
  },
  {
   "cell_type": "code",
   "execution_count": 16,
   "metadata": {},
   "outputs": [
    {
     "name": "stdout",
     "output_type": "stream",
     "text": [
      "Index(['title', 'salary_base', 'cost_of_living', 'review_percent',\n",
      "       'revised_salary', 'Unnamed: 6'],\n",
      "      dtype='object')\n",
      "Unnamed: 6\n"
     ]
    },
    {
     "data": {
      "text/html": [
       "<div>\n",
       "<style scoped>\n",
       "    .dataframe tbody tr th:only-of-type {\n",
       "        vertical-align: middle;\n",
       "    }\n",
       "\n",
       "    .dataframe tbody tr th {\n",
       "        vertical-align: top;\n",
       "    }\n",
       "\n",
       "    .dataframe thead th {\n",
       "        text-align: right;\n",
       "    }\n",
       "</style>\n",
       "<table border=\"1\" class=\"dataframe\">\n",
       "  <thead>\n",
       "    <tr style=\"text-align: right;\">\n",
       "      <th></th>\n",
       "      <th>title</th>\n",
       "      <th>salary_base</th>\n",
       "      <th>cost_of_living</th>\n",
       "      <th>review_percent</th>\n",
       "      <th>revised_salary</th>\n",
       "    </tr>\n",
       "  </thead>\n",
       "  <tbody>\n",
       "    <tr>\n",
       "      <th>Fifi</th>\n",
       "      <td>manager</td>\n",
       "      <td>50000</td>\n",
       "      <td>0.01</td>\n",
       "      <td>0.01</td>\n",
       "      <td>NaN</td>\n",
       "    </tr>\n",
       "    <tr>\n",
       "      <th>Rex</th>\n",
       "      <td>manager</td>\n",
       "      <td>48000</td>\n",
       "      <td>0.01</td>\n",
       "      <td>0.01</td>\n",
       "      <td>NaN</td>\n",
       "    </tr>\n",
       "    <tr>\n",
       "      <th>Toby</th>\n",
       "      <td>programmer</td>\n",
       "      <td>40000</td>\n",
       "      <td>0.01</td>\n",
       "      <td>0.01</td>\n",
       "      <td>NaN</td>\n",
       "    </tr>\n",
       "    <tr>\n",
       "      <th>Lars</th>\n",
       "      <td>analyst</td>\n",
       "      <td>42500</td>\n",
       "      <td>0.01</td>\n",
       "      <td>0.01</td>\n",
       "      <td>NaN</td>\n",
       "    </tr>\n",
       "    <tr>\n",
       "      <th>Andreas</th>\n",
       "      <td>designer</td>\n",
       "      <td>25000</td>\n",
       "      <td>0.01</td>\n",
       "      <td>0.01</td>\n",
       "      <td>NaN</td>\n",
       "    </tr>\n",
       "  </tbody>\n",
       "</table>\n",
       "</div>"
      ],
      "text/plain": [
       "              title  salary_base  cost_of_living  review_percent  \\\n",
       "Fifi        manager        50000            0.01            0.01   \n",
       "Rex         manager        48000            0.01            0.01   \n",
       "Toby     programmer        40000            0.01            0.01   \n",
       "Lars        analyst        42500            0.01            0.01   \n",
       "Andreas    designer        25000            0.01            0.01   \n",
       "\n",
       "         revised_salary  \n",
       "Fifi                NaN  \n",
       "Rex                 NaN  \n",
       "Toby                NaN  \n",
       "Lars                NaN  \n",
       "Andreas             NaN  "
      ]
     },
     "execution_count": 16,
     "metadata": {},
     "output_type": "execute_result"
    }
   ],
   "source": [
    "# check out column names\n",
    "print(pay.columns)\n",
    "\n",
    "print(pay.columns[5])\n",
    "\n",
    "#pay.drop(pay.columns[5], inplace = True)\n",
    "pay.drop(pay.columns[5], axis=1, inplace=True)\n",
    "pay"
   ]
  },
  {
   "cell_type": "code",
   "execution_count": 17,
   "metadata": {},
   "outputs": [
    {
     "name": "stdout",
     "output_type": "stream",
     "text": [
      "48000\n",
      "\n",
      "Rex's salary is  48000\n"
     ]
    }
   ],
   "source": [
    "# iloc test\n",
    "print(pay.iloc[1,1])  # returns 50000\n",
    "\n",
    "# loc test\n",
    "print(\"\\nRex's salary is \", pay.loc['Rex', 'salary_base'])"
   ]
  },
  {
   "cell_type": "markdown",
   "metadata": {},
   "source": [
    "<hr />\n",
    "<h3>Beginning to abstract data by conditions</h3>"
   ]
  },
  {
   "cell_type": "code",
   "execution_count": 18,
   "metadata": {},
   "outputs": [
    {
     "name": "stdout",
     "output_type": "stream",
     "text": [
      "select data < 10:  0     1\n",
      "1     2\n",
      "2     3\n",
      "3     4\n",
      "4     6\n",
      "5     0\n",
      "8     7\n",
      "11    4\n",
      "14    6\n",
      "dtype: int64\n",
      "range of data < 10 > 5:  0     1\n",
      "1     2\n",
      "2     3\n",
      "3     4\n",
      "5     0\n",
      "11    4\n",
      "dtype: int64\n",
      "__________________________________________________ \n",
      "\n",
      "same results but 'chained':  4     6\n",
      "8     7\n",
      "14    6\n",
      "dtype: int64\n",
      "same results without using &:  4     6\n",
      "8     7\n",
      "14    6\n",
      "dtype: int64\n"
     ]
    }
   ],
   "source": [
    "import pandas as pd\n",
    "\n",
    "data = pd.Series([1,2,3,4,6,0,85,45,7,53,321,4,32,2355,6])\n",
    "\n",
    "# select values from data; those < 10\n",
    "print(\"select data < 10: \", data[data < 10])\n",
    "print(\"range of data < 10 > 5: \", data[(data < 10) & (data < 5)])\n",
    "print(\"_\"*50,\"\\n\")\n",
    "# same result but “chained”\n",
    "print(\"same results but 'chained': \", data[(data < 10) & (data > 5)])\n",
    "print(\"same results without using &: \", data[data < 10][data > 5])"
   ]
  },
  {
   "cell_type": "markdown",
   "metadata": {},
   "source": [
    "<hr />\n",
    "<h3 style=\"color:cornflowerblue;\">Creating our own methods and using <code>assign()</code></h3>\n",
    "<p>method for changing our data in an entire column</p>"
   ]
  },
  {
   "cell_type": "code",
   "execution_count": 21,
   "metadata": {},
   "outputs": [
    {
     "data": {
      "text/html": [
       "<div>\n",
       "<style scoped>\n",
       "    .dataframe tbody tr th:only-of-type {\n",
       "        vertical-align: middle;\n",
       "    }\n",
       "\n",
       "    .dataframe tbody tr th {\n",
       "        vertical-align: top;\n",
       "    }\n",
       "\n",
       "    .dataframe thead th {\n",
       "        text-align: right;\n",
       "    }\n",
       "</style>\n",
       "<table border=\"1\" class=\"dataframe\">\n",
       "  <thead>\n",
       "    <tr style=\"text-align: right;\">\n",
       "      <th></th>\n",
       "      <th>title</th>\n",
       "      <th>salary_base</th>\n",
       "      <th>cost_of_living</th>\n",
       "      <th>review_percent</th>\n",
       "      <th>revised_salary</th>\n",
       "    </tr>\n",
       "  </thead>\n",
       "  <tbody>\n",
       "    <tr>\n",
       "      <th>Fifi</th>\n",
       "      <td>manager</td>\n",
       "      <td>50000</td>\n",
       "      <td>0.52</td>\n",
       "      <td>0.01</td>\n",
       "      <td>NaN</td>\n",
       "    </tr>\n",
       "    <tr>\n",
       "      <th>Rex</th>\n",
       "      <td>manager</td>\n",
       "      <td>48000</td>\n",
       "      <td>0.52</td>\n",
       "      <td>0.01</td>\n",
       "      <td>NaN</td>\n",
       "    </tr>\n",
       "    <tr>\n",
       "      <th>Toby</th>\n",
       "      <td>programmer</td>\n",
       "      <td>40000</td>\n",
       "      <td>0.52</td>\n",
       "      <td>0.01</td>\n",
       "      <td>NaN</td>\n",
       "    </tr>\n",
       "    <tr>\n",
       "      <th>Lars</th>\n",
       "      <td>analyst</td>\n",
       "      <td>42500</td>\n",
       "      <td>0.52</td>\n",
       "      <td>3.00</td>\n",
       "      <td>NaN</td>\n",
       "    </tr>\n",
       "    <tr>\n",
       "      <th>Andreas</th>\n",
       "      <td>designer</td>\n",
       "      <td>25000</td>\n",
       "      <td>0.52</td>\n",
       "      <td>3.00</td>\n",
       "      <td>NaN</td>\n",
       "    </tr>\n",
       "  </tbody>\n",
       "</table>\n",
       "</div>"
      ],
      "text/plain": [
       "              title  salary_base  cost_of_living  review_percent  \\\n",
       "Fifi        manager        50000            0.52            0.01   \n",
       "Rex         manager        48000            0.52            0.01   \n",
       "Toby     programmer        40000            0.52            0.01   \n",
       "Lars        analyst        42500            0.52            3.00   \n",
       "Andreas    designer        25000            0.52            3.00   \n",
       "\n",
       "         revised_salary  \n",
       "Fifi                NaN  \n",
       "Rex                 NaN  \n",
       "Toby                NaN  \n",
       "Lars                NaN  \n",
       "Andreas             NaN  "
      ]
     },
     "execution_count": 21,
     "metadata": {},
     "output_type": "execute_result"
    }
   ],
   "source": [
    "# change cost_of_living from 0.01 to a new value\n",
    "# let's try the assign \n",
    "pay = pay.assign(cost_of_living = 0.52)\n",
    "pay"
   ]
  },
  {
   "cell_type": "markdown",
   "metadata": {},
   "source": [
    "<hr /><p>After the reviews, the Boss allows an increase in salary. Lars is getting a boost.</p>"
   ]
  },
  {
   "cell_type": "code",
   "execution_count": 22,
   "metadata": {},
   "outputs": [
    {
     "data": {
      "text/html": [
       "<div>\n",
       "<style scoped>\n",
       "    .dataframe tbody tr th:only-of-type {\n",
       "        vertical-align: middle;\n",
       "    }\n",
       "\n",
       "    .dataframe tbody tr th {\n",
       "        vertical-align: top;\n",
       "    }\n",
       "\n",
       "    .dataframe thead th {\n",
       "        text-align: right;\n",
       "    }\n",
       "</style>\n",
       "<table border=\"1\" class=\"dataframe\">\n",
       "  <thead>\n",
       "    <tr style=\"text-align: right;\">\n",
       "      <th></th>\n",
       "      <th>title</th>\n",
       "      <th>salary_base</th>\n",
       "      <th>cost_of_living</th>\n",
       "      <th>review_percent</th>\n",
       "      <th>revised_salary</th>\n",
       "    </tr>\n",
       "  </thead>\n",
       "  <tbody>\n",
       "    <tr>\n",
       "      <th>Fifi</th>\n",
       "      <td>manager</td>\n",
       "      <td>50000</td>\n",
       "      <td>0.52</td>\n",
       "      <td>0.01</td>\n",
       "      <td>NaN</td>\n",
       "    </tr>\n",
       "    <tr>\n",
       "      <th>Rex</th>\n",
       "      <td>manager</td>\n",
       "      <td>48000</td>\n",
       "      <td>0.52</td>\n",
       "      <td>0.01</td>\n",
       "      <td>NaN</td>\n",
       "    </tr>\n",
       "    <tr>\n",
       "      <th>Toby</th>\n",
       "      <td>programmer</td>\n",
       "      <td>40000</td>\n",
       "      <td>0.52</td>\n",
       "      <td>0.01</td>\n",
       "      <td>NaN</td>\n",
       "    </tr>\n",
       "    <tr>\n",
       "      <th>Lars</th>\n",
       "      <td>analyst</td>\n",
       "      <td>42500</td>\n",
       "      <td>0.52</td>\n",
       "      <td>3.00</td>\n",
       "      <td>NaN</td>\n",
       "    </tr>\n",
       "    <tr>\n",
       "      <th>Andreas</th>\n",
       "      <td>designer</td>\n",
       "      <td>25000</td>\n",
       "      <td>0.52</td>\n",
       "      <td>3.00</td>\n",
       "      <td>NaN</td>\n",
       "    </tr>\n",
       "  </tbody>\n",
       "</table>\n",
       "</div>"
      ],
      "text/plain": [
       "              title  salary_base  cost_of_living  review_percent  \\\n",
       "Fifi        manager        50000            0.52            0.01   \n",
       "Rex         manager        48000            0.52            0.01   \n",
       "Toby     programmer        40000            0.52            0.01   \n",
       "Lars        analyst        42500            0.52            3.00   \n",
       "Andreas    designer        25000            0.52            3.00   \n",
       "\n",
       "         revised_salary  \n",
       "Fifi                NaN  \n",
       "Rex                 NaN  \n",
       "Toby                NaN  \n",
       "Lars                NaN  \n",
       "Andreas             NaN  "
      ]
     },
     "execution_count": 22,
     "metadata": {},
     "output_type": "execute_result"
    }
   ],
   "source": [
    "pay.loc[\"Lars\",\"review_percent\"] = 3\n",
    "pay.loc[\"Andreas\",\"review_percent\"] = 3\n",
    "pay"
   ]
  },
  {
   "cell_type": "markdown",
   "metadata": {},
   "source": [
    "<hr /><p>Update the revised_salary column with new values... </p>"
   ]
  },
  {
   "cell_type": "code",
   "execution_count": 23,
   "metadata": {},
   "outputs": [
    {
     "data": {
      "text/html": [
       "<div>\n",
       "<style scoped>\n",
       "    .dataframe tbody tr th:only-of-type {\n",
       "        vertical-align: middle;\n",
       "    }\n",
       "\n",
       "    .dataframe tbody tr th {\n",
       "        vertical-align: top;\n",
       "    }\n",
       "\n",
       "    .dataframe thead th {\n",
       "        text-align: right;\n",
       "    }\n",
       "</style>\n",
       "<table border=\"1\" class=\"dataframe\">\n",
       "  <thead>\n",
       "    <tr style=\"text-align: right;\">\n",
       "      <th></th>\n",
       "      <th>title</th>\n",
       "      <th>salary_base</th>\n",
       "      <th>cost_of_living</th>\n",
       "      <th>review_percent</th>\n",
       "      <th>revised_salary</th>\n",
       "    </tr>\n",
       "  </thead>\n",
       "  <tbody>\n",
       "    <tr>\n",
       "      <th>Fifi</th>\n",
       "      <td>manager</td>\n",
       "      <td>50000</td>\n",
       "      <td>0.52</td>\n",
       "      <td>0.01</td>\n",
       "      <td>52650.0</td>\n",
       "    </tr>\n",
       "    <tr>\n",
       "      <th>Rex</th>\n",
       "      <td>manager</td>\n",
       "      <td>48000</td>\n",
       "      <td>0.52</td>\n",
       "      <td>0.01</td>\n",
       "      <td>50544.0</td>\n",
       "    </tr>\n",
       "    <tr>\n",
       "      <th>Toby</th>\n",
       "      <td>programmer</td>\n",
       "      <td>40000</td>\n",
       "      <td>0.52</td>\n",
       "      <td>0.01</td>\n",
       "      <td>42120.0</td>\n",
       "    </tr>\n",
       "    <tr>\n",
       "      <th>Lars</th>\n",
       "      <td>analyst</td>\n",
       "      <td>42500</td>\n",
       "      <td>0.52</td>\n",
       "      <td>3.00</td>\n",
       "      <td>57460.0</td>\n",
       "    </tr>\n",
       "    <tr>\n",
       "      <th>Andreas</th>\n",
       "      <td>designer</td>\n",
       "      <td>25000</td>\n",
       "      <td>0.52</td>\n",
       "      <td>3.00</td>\n",
       "      <td>33800.0</td>\n",
       "    </tr>\n",
       "  </tbody>\n",
       "</table>\n",
       "</div>"
      ],
      "text/plain": [
       "              title  salary_base  cost_of_living  review_percent  \\\n",
       "Fifi        manager        50000            0.52            0.01   \n",
       "Rex         manager        48000            0.52            0.01   \n",
       "Toby     programmer        40000            0.52            0.01   \n",
       "Lars        analyst        42500            0.52            3.00   \n",
       "Andreas    designer        25000            0.52            3.00   \n",
       "\n",
       "         revised_salary  \n",
       "Fifi            52650.0  \n",
       "Rex             50544.0  \n",
       "Toby            42120.0  \n",
       "Lars            57460.0  \n",
       "Andreas         33800.0  "
      ]
     },
     "execution_count": 23,
     "metadata": {},
     "output_type": "execute_result"
    }
   ],
   "source": [
    "# overcoded but to show the workings of our using our own functions\n",
    "def update_pay(row):\n",
    "    base = row['salary_base']\n",
    "    return base + base * (row['cost_of_living']*.10) + base * (row['review_percent']*.10)\n",
    "\n",
    "pay['revised_salary'] = pay.apply(lambda row: update_pay(row), axis = 1)\n",
    "pay"
   ]
  },
  {
   "cell_type": "code",
   "execution_count": 24,
   "metadata": {},
   "outputs": [
    {
     "data": {
      "text/html": [
       "<div>\n",
       "<style scoped>\n",
       "    .dataframe tbody tr th:only-of-type {\n",
       "        vertical-align: middle;\n",
       "    }\n",
       "\n",
       "    .dataframe tbody tr th {\n",
       "        vertical-align: top;\n",
       "    }\n",
       "\n",
       "    .dataframe thead th {\n",
       "        text-align: right;\n",
       "    }\n",
       "</style>\n",
       "<table border=\"1\" class=\"dataframe\">\n",
       "  <thead>\n",
       "    <tr style=\"text-align: right;\">\n",
       "      <th></th>\n",
       "      <th>title</th>\n",
       "      <th>salary_base</th>\n",
       "      <th>cost_of_living</th>\n",
       "      <th>review_percent</th>\n",
       "      <th>revised_salary</th>\n",
       "    </tr>\n",
       "  </thead>\n",
       "  <tbody>\n",
       "    <tr>\n",
       "      <th>Fifi</th>\n",
       "      <td>manager</td>\n",
       "      <td>52650.0</td>\n",
       "      <td>0.52</td>\n",
       "      <td>0.01</td>\n",
       "      <td>52650.0</td>\n",
       "    </tr>\n",
       "    <tr>\n",
       "      <th>Rex</th>\n",
       "      <td>manager</td>\n",
       "      <td>50544.0</td>\n",
       "      <td>0.52</td>\n",
       "      <td>0.01</td>\n",
       "      <td>50544.0</td>\n",
       "    </tr>\n",
       "    <tr>\n",
       "      <th>Toby</th>\n",
       "      <td>programmer</td>\n",
       "      <td>42120.0</td>\n",
       "      <td>0.52</td>\n",
       "      <td>0.01</td>\n",
       "      <td>42120.0</td>\n",
       "    </tr>\n",
       "    <tr>\n",
       "      <th>Lars</th>\n",
       "      <td>analyst</td>\n",
       "      <td>57460.0</td>\n",
       "      <td>0.52</td>\n",
       "      <td>3.00</td>\n",
       "      <td>57460.0</td>\n",
       "    </tr>\n",
       "    <tr>\n",
       "      <th>Andreas</th>\n",
       "      <td>designer</td>\n",
       "      <td>33800.0</td>\n",
       "      <td>0.52</td>\n",
       "      <td>3.00</td>\n",
       "      <td>33800.0</td>\n",
       "    </tr>\n",
       "  </tbody>\n",
       "</table>\n",
       "</div>"
      ],
      "text/plain": [
       "              title  salary_base  cost_of_living  review_percent  \\\n",
       "Fifi        manager      52650.0            0.52            0.01   \n",
       "Rex         manager      50544.0            0.52            0.01   \n",
       "Toby     programmer      42120.0            0.52            0.01   \n",
       "Lars        analyst      57460.0            0.52            3.00   \n",
       "Andreas    designer      33800.0            0.52            3.00   \n",
       "\n",
       "         revised_salary  \n",
       "Fifi            52650.0  \n",
       "Rex             50544.0  \n",
       "Toby            42120.0  \n",
       "Lars            57460.0  \n",
       "Andreas         33800.0  "
      ]
     },
     "execution_count": 24,
     "metadata": {},
     "output_type": "execute_result"
    }
   ],
   "source": [
    "# let's clean up that NaN for now ... replacing it with the salary_base\n",
    "\n",
    "pay.salary_base = pay.revised_salary\n",
    "pay"
   ]
  },
  {
   "cell_type": "markdown",
   "metadata": {},
   "source": [
    "<hr />\n",
    "<p>This example should demonstrate some outline the basic features.</p>"
   ]
  },
  {
   "cell_type": "code",
   "execution_count": 25,
   "metadata": {},
   "outputs": [
    {
     "name": "stdout",
     "output_type": "stream",
     "text": [
      "combo after reindex\n",
      "0    0\n",
      "1    0\n",
      "2    0\n",
      "3    0\n",
      "4    0\n",
      "dtype: int64\n"
     ]
    },
    {
     "data": {
      "text/plain": [
       "0    0\n",
       "1    0\n",
       "2    0\n",
       "3    0\n",
       "4    0\n",
       "dtype: int64"
      ]
     },
     "execution_count": 25,
     "metadata": {},
     "output_type": "execute_result"
    }
   ],
   "source": [
    "combo = pd.Series([0,0,0,0,0])\n",
    "new_combo = pd.Series([0,0,0,0,0])\n",
    "new_combination = pd.Series([0,0,0,0,0])\n",
    "\n",
    "# set the fill value.\n",
    "print(\"combo after reindex\")\n",
    "combo.reindex([0, 2, 15, 21], fill_value = 0)\n",
    "print(combo)\n",
    "\n",
    "# fill the NaNs\n",
    "new_combo.fillna(0)\n",
    "\n",
    "# forward and back fill to guess at missing values.\n",
    "new_combo.ffill()\n",
    "\n",
    "new_combo.bfill()\n",
    "\n",
    "new_combination.interpolate() # one of many techniques."
   ]
  },
  {
   "cell_type": "markdown",
   "metadata": {},
   "source": [
    "<p style=\"background-color: #003262; color:white; border-radius: 4px; padding: 12px; font-size:22px;\">Continue with <a style=\"color:white;\" href=\"w10-part2.ipynb\" target='new'>part 2</a> or go to <a  style=\"color:white;\" href=\"week_10_activity.ipynb\" target=\"new\">Activity</a> (<a  style=\"color:white;\" href=\"week_10_activity_solution.ipynb\" target=\"new\">Solution</a>).  \n",
    "    Optionally <a  style=\"color:white;\" href=\"w10-part3.ipynb\" target=\"new\">part 3</a>.\n",
    "</p>"
   ]
  },
  {
   "cell_type": "code",
   "execution_count": null,
   "metadata": {},
   "outputs": [],
   "source": []
  }
 ],
 "metadata": {
  "kernelspec": {
   "display_name": "Python 3 (ipykernel)",
   "language": "python",
   "name": "python3"
  },
  "language_info": {
   "codemirror_mode": {
    "name": "ipython",
    "version": 3
   },
   "file_extension": ".py",
   "mimetype": "text/x-python",
   "name": "python",
   "nbconvert_exporter": "python",
   "pygments_lexer": "ipython3",
   "version": "3.11.4"
  }
 },
 "nbformat": 4,
 "nbformat_minor": 4
}
