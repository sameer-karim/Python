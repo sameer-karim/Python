{
 "cells": [
  {
   "cell_type": "markdown",
   "metadata": {},
   "source": [
    "# Unit 6 Live Session - Breakout Activities\n",
    "\n",
    "## Activity 1 -  Packages and Modules"
   ]
  },
  {
   "cell_type": "markdown",
   "metadata": {},
   "source": [
    "For this breakout activity, you will build your first package and first module as a team!  Please start this activity by choosing two people who will email to the group their solutions to HW 5 (the homework on functions).  We will use these functions to build modules and packages!\n",
    "\n",
    "#### Modules\n",
    "\n",
    "First, let's create two modules. Start by creating two .py files in the same directory as this notebook.  Name one \"wraps.py\" and the other \"piggy.py\".\n",
    "\n",
    "-  Inside wraps.py, save each of the functions one member of your team wrote for problem 5-1-1, \"Nested Functions\".  Import your \"wraps.py\" module, and call each of the functions below:"
   ]
  },
  {
   "cell_type": "code",
   "execution_count": 5,
   "metadata": {
    "tags": []
   },
   "outputs": [
    {
     "name": "stdout",
     "output_type": "stream",
     "text": [
      "1\n",
      "225\n"
     ]
    },
    {
     "data": {
      "text/plain": [
       "9"
      ]
     },
     "execution_count": 5,
     "metadata": {},
     "output_type": "execute_result"
    }
   ],
   "source": [
    "import wraps\n",
    "\n",
    "print(wraps.sum_digits(10))\n",
    "print(wraps.diff_sum_digits(233))\n",
    "wraps.wraps_diff_sum_digits(32)"
   ]
  },
  {
   "cell_type": "markdown",
   "metadata": {},
   "source": [
    "\n",
    "- Insides piggy.py, save two different versions (e.g., one from each student shared) of the pig-latin function.  Make sure to give them unique names!  Below, import and call each of the pig latin functions!"
   ]
  },
  {
   "cell_type": "markdown",
   "metadata": {},
   "source": [
    "#### Packages!\n",
    "\n",
    "Please restart your kernel before completing this problem to clear out your imports from above.\n",
    "\n",
    "Now, let's make a package!  Create a subfolder, name it whatever you would like.  Make a copy of each of your modules inside this subfolder.  Then, make an \\__init__.py file.\n",
    "\n",
    "Use the \"help()\" command below to display the contents of your package and of each module in the package"
   ]
  },
  {
   "cell_type": "code",
   "execution_count": 1,
   "metadata": {
    "tags": []
   },
   "outputs": [
    {
     "ename": "NameError",
     "evalue": "name 'piggy' is not defined",
     "output_type": "error",
     "traceback": [
      "\u001b[0;31m---------------------------------------------------------------------------\u001b[0m",
      "\u001b[0;31mNameError\u001b[0m                                 Traceback (most recent call last)",
      "Cell \u001b[0;32mIn[1], line 4\u001b[0m\n\u001b[1;32m      1\u001b[0m \u001b[38;5;28;01mimport\u001b[39;00m \u001b[38;5;21;01mpiglatin\u001b[39;00m\u001b[38;5;21;01m.\u001b[39;00m\u001b[38;5;21;01mpiggy\u001b[39;00m\n\u001b[1;32m      2\u001b[0m \u001b[38;5;28;01mimport\u001b[39;00m \u001b[38;5;21;01mpiglatin\u001b[39;00m\u001b[38;5;21;01m.\u001b[39;00m\u001b[38;5;21;01mwraps\u001b[39;00m\n\u001b[0;32m----> 4\u001b[0m piggy\u001b[38;5;241m.\u001b[39mis_consonant1(f)\n",
      "\u001b[0;31mNameError\u001b[0m: name 'piggy' is not defined"
     ]
    }
   ],
   "source": [
    "import piglatin.piggy\n",
    "import piglatin.wraps\n",
    "\n",
    "piggy.is_consonant1(f)"
   ]
  },
  {
   "cell_type": "markdown",
   "metadata": {},
   "source": [
    "Run each function, from the package."
   ]
  },
  {
   "cell_type": "code",
   "execution_count": null,
   "metadata": {
    "collapsed": true,
    "jupyter": {
     "outputs_hidden": true
    }
   },
   "outputs": [],
   "source": []
  },
  {
   "cell_type": "markdown",
   "metadata": {},
   "source": [
    "***Discuss***: What is the purpose of \\__init__.py?"
   ]
  },
  {
   "cell_type": "markdown",
   "metadata": {},
   "source": [
    "**Discuss**: What does the command \"sys.path()\" do?"
   ]
  },
  {
   "cell_type": "markdown",
   "metadata": {},
   "source": [
    "Please go to several of the folders that you find when you run the link below.  Can you find the *numpy* package?"
   ]
  },
  {
   "cell_type": "code",
   "execution_count": 4,
   "metadata": {},
   "outputs": [
    {
     "name": "stdout",
     "output_type": "stream",
     "text": [
      "\n",
      "C:\\Users\\cllop\\AppData\\Local\\Continuum\\Anaconda3\\python35.zip\n",
      "C:\\Users\\cllop\\AppData\\Local\\Continuum\\Anaconda3\\DLLs\n",
      "C:\\Users\\cllop\\AppData\\Local\\Continuum\\Anaconda3\\lib\n",
      "C:\\Users\\cllop\\AppData\\Local\\Continuum\\Anaconda3\n",
      "c:\\users\\cllop\\appdata\\local\\continuum\\anaconda3\\lib\\site-packages\\setuptools-20.3-py3.5.egg\n",
      "C:\\Users\\cllop\\AppData\\Local\\Continuum\\Anaconda3\\lib\\site-packages\n",
      "C:\\Users\\cllop\\AppData\\Local\\Continuum\\Anaconda3\\lib\\site-packages\\Sphinx-1.3.5-py3.5.egg\n",
      "C:\\Users\\cllop\\AppData\\Local\\Continuum\\Anaconda3\\lib\\site-packages\\win32\n",
      "C:\\Users\\cllop\\AppData\\Local\\Continuum\\Anaconda3\\lib\\site-packages\\win32\\lib\n",
      "C:\\Users\\cllop\\AppData\\Local\\Continuum\\Anaconda3\\lib\\site-packages\\Pythonwin\n",
      "C:\\Users\\cllop\\AppData\\Local\\Continuum\\Anaconda3\\lib\\site-packages\\IPython\\extensions\n",
      "C:\\Users\\cllop\\.ipython\n"
     ]
    }
   ],
   "source": [
    "import sys\n",
    "for place in sys.path:\n",
    "    print(place)"
   ]
  },
  {
   "cell_type": "markdown",
   "metadata": {},
   "source": [
    "**Discuss** Please open the \\__init__ file in the numpy package.  What do you see?"
   ]
  }
 ],
 "metadata": {
  "anaconda-cloud": {},
  "kernelspec": {
   "display_name": "Python 3 (ipykernel)",
   "language": "python",
   "name": "python3"
  },
  "language_info": {
   "codemirror_mode": {
    "name": "ipython",
    "version": 3
   },
   "file_extension": ".py",
   "mimetype": "text/x-python",
   "name": "python",
   "nbconvert_exporter": "python",
   "pygments_lexer": "ipython3",
   "version": "3.11.4"
  }
 },
 "nbformat": 4,
 "nbformat_minor": 4
}
