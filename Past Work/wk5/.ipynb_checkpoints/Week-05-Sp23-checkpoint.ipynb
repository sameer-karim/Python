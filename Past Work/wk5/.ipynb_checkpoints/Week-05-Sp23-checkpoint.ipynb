{
 "cells": [
  {
   "cell_type": "markdown",
   "metadata": {},
   "source": [
    "<hr />\n",
    "<h1>Table of Contents</h1>\n",
    "\n",
    "<h1 style=\"font-size:24px; color: red; line-height: 28px;\">\n",
    "Main Themes of this Week&rsquo;s Lesson</h1>\n",
    "<p style=\"font-size:8px;\">Feb 04, 2023 <span style=\"color:white;\">©2023 GB</span></p>\n",
    "<hr />\n",
    "<ol style=\"font-size: 22px; font-family:'Avenir Next', Helvetica, Arial, sans-serif; line-height:28px;\">\n",
    "    <li><i><a href=\"#functions\">Functions</a></i> &amp; passing arguments</li>\n",
    "<li><a href=\"#severalerrors\">Several ways of Handling Errors</a><ul>\n",
    "\t\t<li>assert</li>\n",
    "\t\t<li>recording errors</li>\n",
    "    <li><a href=\"#tryexcept\">try/except</a></li>\n",
    "\t\t<li>Optional: *arg and **kwarg</li>\n",
    "        <li>Scope of variables: <a href=\"#globallocal\">global, local</a></li>\n",
    "\t</ul>\n",
    "\t</li>\n",
    "    <li><a href=\"#args\">System Arguments: <i>Scripts &amp; passing arguments</i></a> to scripts <code style=\"font-size:10px;\">sys.argv[]</code></li>\n",
    "    <li><a href=\"lambdamap\">Lambda functions; map()</a></li>\n",
    "<li>Recursion<hr /></li>\n",
    "<li>Appendix: Examples, How-to Demos\n",
    "    <ul>\n",
    "        <li>Logging</li>\n",
    "        <li>Global and Local; Information Hiding</li>\n",
    "        <li>Lambda Examples; Map(); Review</li>\n",
    "    </ul>\n",
    "    </li>\n",
    "</ol>\n",
    "<hr />"
   ]
  },
  {
   "cell_type": "markdown",
   "metadata": {},
   "source": [
    "<h1 id=\"functions\" style=\"font-size:18px; color: red; line-height: 28px;\">\n",
    "Functions &amp; Passing Arguments</h1>\n",
    "<ol>\n",
    "    <li>define a function with the keyword def: <code>def</code></li>\n",
    "    <li>pass <span style=\"color:red;\">zero or more parameters</span> to that function; the parameters are used in the function with scope limited only to that function,<ul>\n",
    "            <li><code>def funcx():</code></li>\n",
    "            <li><code>def funcy(a, b):</code></li>\n",
    "        <li><code>def funcz(a, b, z = 20):</code> a <i>default</i> value passed </li>\n",
    "        </ul>\n",
    "    </li>\n",
    "    <li>functions may look outside themselves if you refer to a variable that is not inside the function; for instance, if there’s a global variable</li>\n",
    "    <li>functions may (but don&rsquo;t have to) <span style=\"color:red;\">return</span> a new value</li>\n",
    "    <li>functions are <span style=\"color:red;\">defined</span> - but <span style=\"color:red;\">not used until called in the code</span></li>\n",
    "    <li>Plan your project (as demo&rsquo;d last week) and turn those modules into functions (or later, objects)</li>\n",
    "</ol>"
   ]
  },
  {
   "cell_type": "markdown",
   "metadata": {},
   "source": [
    "<h3>Examples</h3>"
   ]
  },
  {
   "cell_type": "code",
   "execution_count": null,
   "metadata": {},
   "outputs": [],
   "source": [
    "# ---- FUNCTIONS TO SHOW DEFINITION, 0+ parameters ---\n",
    "# stripped down function, using the def keyword\n",
    "\n",
    "def show_the_weather():\n",
    "    print(\"The weather today is great!\")\n",
    "\n",
    "# call the function whenever we want and as often as we want\n",
    "show_the_weather()\n",
    "\n",
    "def show_the_weather(day, temp):\n",
    "    # this function accepts 2 parameters\n",
    "    print(f\"{day}'s weather will be {temp} degrees.\")\n",
    "\n",
    "show_the_weather(\"Thursday\", 75)"
   ]
  },
  {
   "cell_type": "markdown",
   "metadata": {},
   "source": [
    "<hr /><p>Two versions : one with if...elif...else for 3.8 and one 3.10+ match</p>"
   ]
  },
  {
   "cell_type": "code",
   "execution_count": null,
   "metadata": {},
   "outputs": [],
   "source": [
    "!python --version"
   ]
  },
  {
   "cell_type": "code",
   "execution_count": null,
   "metadata": {},
   "outputs": [],
   "source": [
    "def show_the_weather(day, temp):\n",
    "     # this function accepts 2 parameters\n",
    "    print(f\"{day}'s weather:\")\n",
    "    print( day_type(temp) )  #this function in another function\n",
    "\n",
    "\n",
    "def day_type(temp):\n",
    "    if temp >= 85:\n",
    "        return \"hot!\"\n",
    "    elif temp >= 75 and temp < 85:\n",
    "        return \"pretty warm\"\n",
    "    elif temp >= 50 and temp < 75:\n",
    "        return \"temperate or cool\"\n",
    "    else:\n",
    "        return \"may be cold\"\n",
    "    \n",
    "# notice we can use the print() command to accept 0, 1 or more arguments\n",
    "print(\"A single parameter in the print method:\\n\")\n",
    "\n",
    "print(\"Today's weather\", (day_type(65)))\n",
    "print(f\"Today's weather is {day_type(65)}\")\n"
   ]
  },
  {
   "cell_type": "code",
   "execution_count": 13,
   "metadata": {},
   "outputs": [],
   "source": [
    "# Below is for 3.10"
   ]
  },
  {
   "cell_type": "code",
   "execution_count": 5,
   "metadata": {},
   "outputs": [
    {
     "ename": "SyntaxError",
     "evalue": "invalid syntax (<ipython-input-5-901ba637605e>, line 8)",
     "output_type": "error",
     "traceback": [
      "\u001b[0;36m  File \u001b[0;32m\"<ipython-input-5-901ba637605e>\"\u001b[0;36m, line \u001b[0;32m8\u001b[0m\n\u001b[0;31m    match temp:\u001b[0m\n\u001b[0m          ^\u001b[0m\n\u001b[0;31mSyntaxError\u001b[0m\u001b[0;31m:\u001b[0m invalid syntax\n"
     ]
    }
   ],
   "source": [
    "def show_the_weather(day, temp):\n",
    "     # this function accepts 2 parameters\n",
    "    print(f\"{day}'s weather:\")\n",
    "    print( day_type(temp) )  #this function in another function\n",
    "\n",
    "\n",
    "def day_type(temp):\n",
    "    match temp:\n",
    "        case >= 85:\n",
    "            return \"Hot!\"\n",
    "        case temp >= 75 and temp < 85:\n",
    "            return \"pretty warm\"\n",
    "        case temp >= 50 and temp < 75:\n",
    "            return \"temperate or cool\"\n",
    "        case _:\n",
    "            return \"may be cold.\"\n",
    "    \n",
    "# notice we can use the print() command to accept 0, 1 or more arguments\n",
    "print(\"A single parameter in the print method:\\n\")\n",
    "\n",
    "print(f\"Today's weather\" {day_type(65)}\")\n",
    "print(f\"Today's weather is {day_type(65)}\")\n"
   ]
  },
  {
   "cell_type": "markdown",
   "metadata": {},
   "source": [
    "<hr />\n",
    "<h1 id=\"severalerrors\" style=\"font-size:22px; color: red; line-height: 26px;\">\n",
    "Several ways of Handling Errors</h1>"
   ]
  },
  {
   "cell_type": "markdown",
   "metadata": {},
   "source": [
    "<p>There are several ways to handle errors, depending on the programming language:\n",
    "    <ol style=\"font-size:18px;line-height:25px;\">\n",
    "        <li>constant, e.g., DEBUG = True: one way of using if statements during development</li>\n",
    "        <li><code>assert</code>: a very python way.  This way we can separate data from coding, cause we know what the data should be (e.g., x + y = <i>2</i>) in order to focus on the coding</li>\n",
    "        <li>Using <i>default values</i> </li>\n",
    "        <li><code>try ... except</code> blocks; described below in the lesson</li>\n",
    "        <li><i>*arg</i> and <i>**kwarg</i></li>\n",
    "        <li><code>logging</code> described in the Appendix\n",
    "    </ol>\n",
    "</p>\n",
    "<p>One way to avoid errors is to pass a default value - that way a variable in a function doesn&rsquo;t have to be tested and the code reliably has data to use.</p>\n",
    "<p>Another way to avoid errors is when passing parameters to apply the idea of <i>polymorphism</i>: using the <code>*arg</code> and <code>**kwarg</code> to pass an unknown number of items (aka <i>positional arguments</i></p>\n",
    "<p>See Examples <a href=\"#appendix\">Appendix</a> below for python&rsquo;s <code>logging</code></p>"
   ]
  },
  {
   "cell_type": "markdown",
   "metadata": {},
   "source": [
    "<h3>Examples</h3>"
   ]
  },
  {
   "cell_type": "markdown",
   "metadata": {},
   "source": [
    "<code>DEBUG = True</code><br />\n",
    "<code>assert</code><br />\n",
    "<code>logger</code><br />\n",
    "<code>*args</code><br />\n",
    "<code>**kwargs</code><br />\n",
    "<p>Use error checking (1) error correction on input, (2) critical running of your script (something that must be there or else!), (3) always use try/except around any file read/write, SQL connection, URL, etc., (4) accidents in math/missing values</p>\n",
    "<p><b>Boolean flag - debug idea</b></p>\n",
    "<pre style=\"color:olive;\">DEBUG = True\n",
    "...\n",
    "if DEBUG:\n",
    "    results = call_function_x()\n",
    "else:\n",
    "    results = call_other_function()\n",
    "\n",
    "print(f\"The test version results are {results}\")\n",
    "</pre>\n",
    "<hr />\n",
    "<p><b>Assert</b></p>\n",
    "<pre style=\"color:olive;\">from nose.tools import assert_equal\n",
    "\n",
    "def test(num):\n",
    "    \"\"\" Returns the sum of all the digits of the input \"\"\"\n",
    "    returnTest = num + 5\n",
    "    return returnTest\n",
    "\n",
    "assert_equal(test(10), 15)\n",
    "\n",
    "print(test(55) == 12)  # for error checking - like a range of data.\n",
    "</pre>\n",
    "\n",
    "<hr />\n",
    "<p><b>Logging</b><br />and types of errors: debug, info, warning, error, critical.  Code usually continues running if <i>debug</i>, <i>info</i>, <i>warning</i>; but will crash on <i>error</i> and <i>critical</i>.</p>"
   ]
  },
  {
   "cell_type": "markdown",
   "metadata": {},
   "source": [
    "<hr /><b>Default values in parameters</b>\n",
    "<pre style=\"color:olive;\">\n",
    "def myfunction(name = \"Tom\"):\n",
    "    print(f\"Welcome, {name}\")\n",
    "\n",
    "myfunction(\"Rex\")\n",
    "myfunction()</pre>"
   ]
  },
  {
   "cell_type": "code",
   "execution_count": 8,
   "metadata": {},
   "outputs": [
    {
     "name": "stdout",
     "output_type": "stream",
     "text": [
      "Welcome, Rex\n",
      "Welcome, Tom\n"
     ]
    }
   ],
   "source": [
    "def myfunction(name = \"Tom\"):\n",
    "    print(f\"Welcome, {name}\")\n",
    "\n",
    "myfunction(\"Rex\")\n",
    "myfunction()"
   ]
  },
  {
   "cell_type": "markdown",
   "metadata": {},
   "source": [
    "<hr />\n",
    "<b>*arg and **kwarg</b>\n",
    "<ul>\n",
    "    <li>\n",
    "        <code>*args</code> is used to unpack a list. \"args\" is just a name - call it anything you want. The * is used to pass \"positional arguments\" - that is, not a copy of the full list, but a way to iterate over the positions (0, 1, 2, ... n) to get each element.\n",
    "    </li>\n",
    "    <li>\n",
    "        <code>**kwarg</code> is for unpacking dictionaries\n",
    "    </li>\n",
    "</ul>\n",
    "<p><b>*arg Example</b></p>"
   ]
  },
  {
   "cell_type": "code",
   "execution_count": 24,
   "metadata": {},
   "outputs": [],
   "source": [
    "# *args is an unpacking operator.\n",
    "\n",
    "l1 = [1, 2, 3, 4, 5, 6]\n",
    "g = 1,2,3\n",
    "#print(l1)\n",
    "\n",
    "winner = 3\n",
    "\n",
    "#def sumset(para1, param2) ...\n",
    "#def sumset(give me the list)\n",
    "def sumset(*args):  # NAME doesn't matter - use *cats if you want!\n",
    "    summer = 0\n",
    "    #some other important data is here for checking ... \n",
    "    for x in args:\n",
    "        summer += x\n",
    "        print(f\"Sumset x = {x}. summer = {summer}\")\n",
    "    return summer"
   ]
  },
  {
   "cell_type": "code",
   "execution_count": 25,
   "metadata": {},
   "outputs": [
    {
     "name": "stdout",
     "output_type": "stream",
     "text": [
      "Sumset x = 1. summer = 1\n",
      "Sumset x = 2. summer = 3\n",
      "Sumset x = 3. summer = 6\n",
      "Sumset x = 4. summer = 10\n",
      "Sumset x = 5. summer = 15\n",
      "Sumset x = 6. summer = 21\n",
      "\n",
      "Sumset with list:  21\n",
      "Sumset x = 1. summer = 1\n",
      "Sumset x = 2. summer = 3\n",
      "Sumset x = 3. summer = 6\n",
      "\n",
      "Sumset with hardcoded list: 6\n"
     ]
    }
   ],
   "source": [
    "print(\"\\nSumset with list: \", sumset(*l1)) \n",
    "\n",
    "print(\"\\nSumset with hardcoded list:\", sumset(1, 2, 3)) \n",
    "# will work fine."
   ]
  },
  {
   "cell_type": "code",
   "execution_count": 26,
   "metadata": {},
   "outputs": [
    {
     "name": "stdout",
     "output_type": "stream",
     "text": [
      "Sumset x = 1. summer = 1\n",
      "1\n"
     ]
    }
   ],
   "source": [
    "print(sumset(l1[0]))"
   ]
  },
  {
   "cell_type": "code",
   "execution_count": 27,
   "metadata": {},
   "outputs": [
    {
     "ename": "TypeError",
     "evalue": "unsupported operand type(s) for +=: 'int' and 'list'",
     "output_type": "error",
     "traceback": [
      "\u001b[0;31m---------------------------------------------------------------------------\u001b[0m",
      "\u001b[0;31mTypeError\u001b[0m                                 Traceback (most recent call last)",
      "\u001b[0;32m<ipython-input-27-39bbfa2bc08c>\u001b[0m in \u001b[0;36m<module>\u001b[0;34m\u001b[0m\n\u001b[1;32m      1\u001b[0m \u001b[0;31m#but not using the * to indicate unpacking will fail.\u001b[0m\u001b[0;34m\u001b[0m\u001b[0;34m\u001b[0m\u001b[0;34m\u001b[0m\u001b[0m\n\u001b[0;32m----> 2\u001b[0;31m \u001b[0mprint\u001b[0m\u001b[0;34m(\u001b[0m\u001b[0msumset\u001b[0m\u001b[0;34m(\u001b[0m\u001b[0ml1\u001b[0m\u001b[0;34m)\u001b[0m\u001b[0;34m)\u001b[0m \u001b[0;31m# will fail.\u001b[0m\u001b[0;34m\u001b[0m\u001b[0;34m\u001b[0m\u001b[0m\n\u001b[0m",
      "\u001b[0;32m<ipython-input-24-c68f72847182>\u001b[0m in \u001b[0;36msumset\u001b[0;34m(*args)\u001b[0m\n\u001b[1;32m     13\u001b[0m     \u001b[0;31m#some other important data is here for checking ...\u001b[0m\u001b[0;34m\u001b[0m\u001b[0;34m\u001b[0m\u001b[0;34m\u001b[0m\u001b[0m\n\u001b[1;32m     14\u001b[0m     \u001b[0;32mfor\u001b[0m \u001b[0mx\u001b[0m \u001b[0;32min\u001b[0m \u001b[0margs\u001b[0m\u001b[0;34m:\u001b[0m\u001b[0;34m\u001b[0m\u001b[0;34m\u001b[0m\u001b[0m\n\u001b[0;32m---> 15\u001b[0;31m         \u001b[0msummer\u001b[0m \u001b[0;34m+=\u001b[0m \u001b[0mx\u001b[0m\u001b[0;34m\u001b[0m\u001b[0;34m\u001b[0m\u001b[0m\n\u001b[0m\u001b[1;32m     16\u001b[0m         \u001b[0mprint\u001b[0m\u001b[0;34m(\u001b[0m\u001b[0;34mf\"Sumset x = {x}. summer = {summer}\"\u001b[0m\u001b[0;34m)\u001b[0m\u001b[0;34m\u001b[0m\u001b[0;34m\u001b[0m\u001b[0m\n\u001b[1;32m     17\u001b[0m     \u001b[0;32mreturn\u001b[0m \u001b[0msummer\u001b[0m\u001b[0;34m\u001b[0m\u001b[0;34m\u001b[0m\u001b[0m\n",
      "\u001b[0;31mTypeError\u001b[0m: unsupported operand type(s) for +=: 'int' and 'list'"
     ]
    }
   ],
   "source": [
    "#but not using the * to indicate unpacking will fail.\n",
    "print(sumset(l1)) # will fail."
   ]
  },
  {
   "cell_type": "code",
   "execution_count": 28,
   "metadata": {},
   "outputs": [
    {
     "name": "stdout",
     "output_type": "stream",
     "text": [
      "<class 'list'>\n",
      "Who has arrived?  Suky\n"
     ]
    }
   ],
   "source": [
    "# Passing a list of hard-coded names and selecting \n",
    "# only #2 in unknown list.\n",
    "guests = [\"Tom\", \"Rex\", \"Suky\", \"Lars\", \"Jane\", \"Shuo\"]\n",
    "print(type(guests))\n",
    "\n",
    "def invitations(*guests):\n",
    "    print(\"Who has arrived? \", guests[2])\n",
    "\n",
    "invitations(\"Tom\", \"Rex\", \"Suky\", \"Lars\")"
   ]
  },
  {
   "cell_type": "markdown",
   "metadata": {},
   "source": [
    "<p><b>**kwarg Example</b> is used with dictionaries; if you don't know how many arguments will be used, use **</p>"
   ]
  },
  {
   "cell_type": "code",
   "execution_count": 29,
   "metadata": {},
   "outputs": [
    {
     "name": "stdout",
     "output_type": "stream",
     "text": [
      "Today's host is Rex\n"
     ]
    }
   ],
   "source": [
    "def invitations(**people):\n",
    "  print(\"Today's host is \" + people[\"host\"])\n",
    "\n",
    "invitations(dj = \"Tom\", host = \"Rex\")"
   ]
  },
  {
   "cell_type": "code",
   "execution_count": 4,
   "metadata": {},
   "outputs": [
    {
     "name": "stdout",
     "output_type": "stream",
     "text": [
      "<class 'dict'>\n",
      "\n",
      "GETTING VALUES\n",
      " cat dog\n"
     ]
    }
   ],
   "source": [
    "dtest = {\"1\":\"cat\", \"2\":\"dog\"}\n",
    "print(type(dtest))\n",
    "\n",
    "print(\"\\nGETTING VALUES\")\n",
    "\n",
    "def dtester(**kwargs):\n",
    "    v = \"\"\n",
    "    for i in kwargs.values():\n",
    "        v += \" \"+i\n",
    "    return v\n",
    "\n",
    "print(dtester(**dtest))"
   ]
  },
  {
   "cell_type": "code",
   "execution_count": 5,
   "metadata": {},
   "outputs": [
    {
     "name": "stdout",
     "output_type": "stream",
     "text": [
      "GETTING KEYS\n",
      "<class 'dict'>\n",
      " 1 2\n"
     ]
    }
   ],
   "source": [
    "print(\"GETTING KEYS\")\n",
    "dtest = {\"1\":\"cat\", \"2\":\"dog\"}\n",
    "print(type(dtest))\n",
    "\n",
    "def dtester(**kwargs):\n",
    "    v = \"\"\n",
    "    for i in kwargs:\n",
    "        v += \" \"+i\n",
    "    return v\n",
    "\n",
    "print(dtester(**dtest))"
   ]
  },
  {
   "cell_type": "markdown",
   "metadata": {},
   "source": [
    "<h2 id=\"tryexcept\" style=\"color:red;\">Try ... except block</h2>\n",
    "<p>Using the above error as a bridge, how to deal with errors before the fact?  <b>NB</b>: use the try...except block anytime \n",
    "<ol>\n",
    "    <li>file read/write</li>\n",
    "    <li>sql connections and read/write</li>\n",
    "    <li>any really critical data for your script</li>\n",
    "    <li>any time you want to check a variable</li>\n",
    "</ol>\n",
    "<p>There are <b>built-in exceptions</b> and we can <b>define our own</b>.</p>\n",
    "<h2>Examples</h2>\n",
    "<ul>\n",
    "    <li>File Read: 4 versions</li>\n",
    "    <li>Built-in Exceptions</li>\n",
    "    <li>Defining your own</li>\n",
    "</ul>"
   ]
  },
  {
   "cell_type": "code",
   "execution_count": 1,
   "metadata": {},
   "outputs": [
    {
     "name": "stdout",
     "output_type": "stream",
     "text": [
      "File exists\n"
     ]
    }
   ],
   "source": [
    "# 1: a generic Exception\n",
    "try:\n",
    "    file = open('testofile.txt')\n",
    "    print('File exists')\n",
    "except Exception:\n",
    "    print('File does not exist')"
   ]
  },
  {
   "cell_type": "code",
   "execution_count": 2,
   "metadata": {},
   "outputs": [
    {
     "name": "stdout",
     "output_type": "stream",
     "text": [
      "File exists\n"
     ]
    }
   ],
   "source": [
    "# 2: a specific built-in exception FileNotFound\n",
    "try:\n",
    "    file = open('testofile.txt')\n",
    "    print('File exists')\n",
    "except FileNotFoundError as e:\n",
    "    print('File does not exist:', e)\n",
    "except Exception as e:\n",
    "    print('An error occurred:', e)"
   ]
  },
  {
   "cell_type": "code",
   "execution_count": 3,
   "metadata": {},
   "outputs": [
    {
     "name": "stdout",
     "output_type": "stream",
     "text": [
      "File exists\n",
      "This is testofile.txt \n",
      "鹅、鹅、鹅\n",
      "曲项向天歌。\n",
      "白毛浮绿水，\n",
      "红掌拨清波\n",
      "\n",
      "Morne esprit, autrefois amoureux de la lutte, \n",
      "L'Espoir, dont l'éperon attisait ton ardeur, \n",
      "Ne veut plus t'enfourcher! Couche-toi sans pudeur, \n",
      "Vieux cheval dont le pied à chaque obstacle bute. \n",
      "Résigne-toi, mon coeur; dors ton sommeil de brute. \n"
     ]
    }
   ],
   "source": [
    "# 3: Built-in and Generic Exception\n",
    "# notice the odd application of \"else\"\n",
    "try:\n",
    "    file = open('testofile.txt')\n",
    "    print('File exists')\n",
    "except FileNotFoundError as e:\n",
    "    print('File does not exist:', e)\n",
    "except Exception as e:\n",
    "    print('An error occurred:', e)\n",
    "else:\n",
    "    print(file.read())\n",
    "    file.close()"
   ]
  },
  {
   "cell_type": "code",
   "execution_count": 4,
   "metadata": {},
   "outputs": [
    {
     "name": "stdout",
     "output_type": "stream",
     "text": [
      "File exists\n",
      "This is testofile.txt \n",
      "鹅、鹅、鹅\n",
      "曲项向天歌。\n",
      "白毛浮绿水，\n",
      "红掌拨清波\n",
      "\n",
      "Morne esprit, autrefois amoureux de la lutte, \n",
      "L'Espoir, dont l'éperon attisait ton ardeur, \n",
      "Ne veut plus t'enfourcher! Couche-toi sans pudeur, \n",
      "Vieux cheval dont le pied à chaque obstacle bute. \n",
      "Résigne-toi, mon coeur; dors ton sommeil de brute. \n",
      "The finally area always runs. Exception or not.\n"
     ]
    }
   ],
   "source": [
    "# 4: as above; including the \"finally\"\n",
    "status = \"\"\n",
    "try:\n",
    "    file = open('testofile.txt')\n",
    "    print('File exists')\n",
    "    status = \"Ok!\"\n",
    "except FileNotFoundError as e:\n",
    "    print('File does not exist:', e)\n",
    "    status = \"failure\"\n",
    "except Exception as e:\n",
    "    print('An error occurred:', e)\n",
    "    status = \"generic failure\" # probably write to the error log\n",
    "else:\n",
    "    print(file.read())\n",
    "    try:\n",
    "        file.close()\n",
    "    except:\n",
    "        # can't close the file.\n",
    "finally:\n",
    "    # if sql show the status code to the end-user...\n",
    "    print(f'The finally area always runs. Exception or not. {status}')"
   ]
  },
  {
   "cell_type": "code",
   "execution_count": null,
   "metadata": {},
   "outputs": [
    {
     "name": "stdout",
     "output_type": "stream",
     "text": [
      "Enter a float3.7\n",
      "reciprocal is  0.27027027027027023\n"
     ]
    }
   ],
   "source": [
    "# 5 \"Mission critical\" variables [making sure x is there]\n",
    "# and notice testing the variables: ValueError and ZeroDivisionError\n",
    "\n",
    "y = float(input(\"Enter a float\"))\n",
    "print(\"reciprocal is \",1/y)\n",
    "# ----------------------------------\n",
    "status_msg = \"\"\n",
    "try:\n",
    "    x = float(input(\"Enter a number: \"))\n",
    "    print(\"\\tThe reciprocal is \", 1/x)\n",
    "\n",
    "except ValueError:\n",
    "    # in case the user enters a letter\n",
    "    # this is an example of a _specific_ error\n",
    "    print(\"Sorry, only numbers, please.\")\n",
    "\n",
    "except ZeroDivisionError:\n",
    "    # this is an example of a _specific_ error\n",
    "    print(\"Sorry, no reciprocal for 0.\")\n",
    "\n",
    "except:\n",
    "    # this is an example of a _general_ error\n",
    "    # something else went wrong.\n",
    "    print(\"Sorry, there was an error.  Contact Rob.\")\n",
    "\n",
    "else:\n",
    "    status_msg = \"All good.\"\n",
    "    #print(\"\\nThis is the else section - called no matter what.\")\n",
    "    \n",
    "print(status_msg)"
   ]
  },
  {
   "cell_type": "code",
   "execution_count": null,
   "metadata": {},
   "outputs": [],
   "source": [
    "# 6: define Python user-defined exceptions\n",
    "# in this example we want to make sure that the \n",
    "# user's input is okay ... notice \"raise\"\n",
    "\n",
    "class InvalidAgeException(Exception):\n",
    "    \"Raised when the input value is less than 18\"\n",
    "    # here we could save to a log or send a message.\n",
    "    pass\n",
    "\n",
    "# you need to guess this number\n",
    "number = 18\n",
    "\n",
    "try:\n",
    "    input_num = int(input(\"Enter a number: \"))\n",
    "    if input_num < number:\n",
    "        raise InvalidAgeException\n",
    "    else:\n",
    "        print(\"Eligible to Vote\")\n",
    "        \n",
    "except InvalidAgeException:\n",
    "    print(\"Exception occurred: Invalid Age\")"
   ]
  },
  {
   "cell_type": "code",
   "execution_count": null,
   "metadata": {},
   "outputs": [],
   "source": [
    "# 6a: same idea but in object-oriented code.\n",
    "# in this example, only students 18-25 get the discount.\n",
    "\n",
    "class InvalidAgeException(Exception):\n",
    "    \"\"\"Exception raised for errors in the input age.\n",
    "\n",
    "    Attributes:\n",
    "        age -- input age which caused the error\n",
    "        message -- explanation of the error\n",
    "    \"\"\"\n",
    "\n",
    "    def __init__(self, age, message=\"Discounts only for students under 25 (18 - 25)\"):\n",
    "        self.age = age\n",
    "        self.message = message\n",
    "        super().__init__(self.message)\n",
    "\n",
    "\n",
    "age = int(input(\"Enter your age: \"))\n",
    "if not 18 < age < 25:\n",
    "    raise InvalidAgeException(age)"
   ]
  },
  {
   "cell_type": "markdown",
   "metadata": {},
   "source": [
    "<hr />\n",
    "<p>Example of a specific kind of error, generated when we cannot connect our python script to an SQL server.</p>\n",
    "<pre style=\"font-size:10px;color:olive;\">import mysql.connector\n",
    "\n",
    "try:\n",
    "  cnx = mysql.connector.connect(user='scott', database='employees')\n",
    "  cursor = cnx.cursor()\n",
    "  cursor.execute(\"SELECT * FORM employees\")   # Syntax error in query\n",
    "  cnx.close()\n",
    "except mysql.connector.Error as err:\n",
    "  print(f\"Sorry, an boo-boo {err}\")\n",
    "</pre>"
   ]
  },
  {
   "cell_type": "markdown",
   "metadata": {},
   "source": [
    "<hr />\n",
    "<h1 id=\"globallocal\" style=\"font-size:22px; color: red; line-height: 26px;\">Global/Local/Hiding of variables</h1>\n",
    "<ol>\n",
    "    <li>A variable that&rsquo;s not part of a class or function can have <b>global</b> scope (any part of the code can access/change it</li>\n",
    "    <li>Variables in a function are <b>local</b>, visible only in the function</li>\n",
    "    <li>&ldquo;Information hiding&rdquo; is a function nested in another function; so the nested function should be visible only in the parent function</li>\n",
    "    <li>There are variations on this theme demonstrated in the Appendix.\n",
    "</ol>"
   ]
  },
  {
   "cell_type": "code",
   "execution_count": 32,
   "metadata": {},
   "outputs": [
    {
     "name": "stdout",
     "output_type": "stream",
     "text": [
      "\n",
      "And functions ... \n",
      "Original x:  5\n",
      "\t Calling demo1\n",
      "\t x is  27\n",
      "\n",
      "Calling demo2():\n",
      "\tlocal x * global y =-100\n",
      "________________________________________\n"
     ]
    }
   ],
   "source": [
    "x = 5\n",
    "a = \"fish\"\n",
    "global z = \"hi\"\n",
    "\n",
    "print(\"\\nAnd functions ... \")\n",
    "def demo1():\n",
    "    x = 27   # demo1.x ≠ global x\n",
    "    non-local z = \"bye\"\n",
    "    return x\n",
    "\n",
    "print(\"Original x: \", x)\n",
    "print(\"\\t Calling demo1\")\n",
    "print(\"\\t x is \", demo1())\n",
    "\n",
    "y = 100 # global\n",
    "def demo2():\n",
    "    x = -1 # local x\n",
    "    print(\"\\nCalling demo2():\\n\\tlocal x * global y =\", end=\"\")\n",
    "    print(x * y)\n",
    "\n",
    "demo2()\n",
    "\n",
    "print(\"_\"*40)"
   ]
  },
  {
   "cell_type": "markdown",
   "metadata": {},
   "source": [
    "<hr />\n",
    "<h1 id=\"globallocal\" style=\"font-size:22px; color: red; line-height: 26px;\">System Arguments: <code>sys.argv[]</code></h1>"
   ]
  },
  {
   "cell_type": "markdown",
   "metadata": {},
   "source": [
    "<p>Just as we can pass data into a function, so we can pass data from the terminal into our scripts, using <code>sys.argv</code></p>\n",
    "<p>Executing a .py file from the terminal window means we can provide data to the script from outside that script.  The syntax to start a python program also accepts data that are read once the program starts.  These are called the argument vector; in code they’re a Python list (called argv) from the system module (sys).  Hence sys.argv.</p>\n",
    "<p>What is the value of sys.argv[0]?</p>\n",
    "<img src=\"images/argv.png\"/>"
   ]
  },
  {
   "cell_type": "code",
   "execution_count": 35,
   "metadata": {},
   "outputs": [
    {
     "name": "stdout",
     "output_type": "stream",
     "text": [
      "Name of the script /Library/Frameworks/Python.framework/Versions/3.8/lib/python3.8/site-packages/ipykernel_launcher.py\n",
      "# of args:  3\n",
      "arguments:  ['/Library/Frameworks/Python.framework/Versions/3.8/lib/python3.8/site-packages/ipykernel_launcher.py', '-f', '/Users/gb/Library/Jupyter/runtime/kernel-72d1db8b-1f9f-4634-a90c-dc7bcb858e55.json']\n",
      "\t  0  is  /Library/Frameworks/Python.framework/Versions/3.8/lib/python3.8/site-packages/ipykernel_launcher.py\n"
     ]
    },
    {
     "ename": "IndexError",
     "evalue": "list index out of range",
     "output_type": "error",
     "traceback": [
      "\u001b[0;31m---------------------------------------------------------------------------\u001b[0m",
      "\u001b[0;31mIndexError\u001b[0m                                Traceback (most recent call last)",
      "\u001b[0;32m<ipython-input-35-39563575a2c2>\u001b[0m in \u001b[0;36m<module>\u001b[0;34m\u001b[0m\n\u001b[1;32m     10\u001b[0m \u001b[0;32mfor\u001b[0m \u001b[0mi\u001b[0m \u001b[0;32min\u001b[0m \u001b[0mrange\u001b[0m\u001b[0;34m(\u001b[0m\u001b[0;36m0\u001b[0m\u001b[0;34m,\u001b[0m \u001b[0mlen\u001b[0m\u001b[0;34m(\u001b[0m\u001b[0msys\u001b[0m\u001b[0;34m.\u001b[0m\u001b[0margv\u001b[0m\u001b[0;34m)\u001b[0m\u001b[0;34m)\u001b[0m\u001b[0;34m:\u001b[0m\u001b[0;34m\u001b[0m\u001b[0;34m\u001b[0m\u001b[0m\n\u001b[1;32m     11\u001b[0m     \u001b[0mprint\u001b[0m\u001b[0;34m(\u001b[0m\u001b[0;34m\"\\t \"\u001b[0m\u001b[0;34m,\u001b[0m\u001b[0mi\u001b[0m\u001b[0;34m,\u001b[0m\u001b[0;34m\" is \"\u001b[0m\u001b[0;34m,\u001b[0m \u001b[0msys\u001b[0m\u001b[0;34m.\u001b[0m\u001b[0margv\u001b[0m\u001b[0;34m[\u001b[0m\u001b[0mi\u001b[0m\u001b[0;34m]\u001b[0m\u001b[0;34m)\u001b[0m\u001b[0;34m\u001b[0m\u001b[0;34m\u001b[0m\u001b[0m\n\u001b[0;32m---> 12\u001b[0;31m     \u001b[0mcat\u001b[0m \u001b[0;34m=\u001b[0m \u001b[0msys\u001b[0m\u001b[0;34m.\u001b[0m\u001b[0margv\u001b[0m\u001b[0;34m[\u001b[0m\u001b[0;36m3\u001b[0m\u001b[0;34m]\u001b[0m\u001b[0;34m\u001b[0m\u001b[0;34m\u001b[0m\u001b[0m\n\u001b[0m\u001b[1;32m     13\u001b[0m \u001b[0;34m\u001b[0m\u001b[0m\n\u001b[1;32m     14\u001b[0m \u001b[0mprint\u001b[0m\u001b[0;34m(\u001b[0m\u001b[0mcat\u001b[0m\u001b[0;34m)\u001b[0m\u001b[0;34m\u001b[0m\u001b[0;34m\u001b[0m\u001b[0m\n",
      "\u001b[0;31mIndexError\u001b[0m: list index out of range"
     ]
    }
   ],
   "source": [
    "# DON'T RUN IN THE NOTEBOOK _ use the argdemo.py from terminal window.\n",
    "import sys\n",
    "\n",
    "print(\"Name of the script\", sys.argv[0])\n",
    "\n",
    "print(\"# of args: \", len(sys.argv))\n",
    "print(\"arguments: \", str(sys.argv))\n",
    "\n",
    "# cat is choice\n",
    "for i in range(0, len(sys.argv)):\n",
    "    print(\"\\t \",i,\" is \", sys.argv[i])\n",
    "    cat = sys.argv[3]\n",
    "\n",
    "print(cat)"
   ]
  },
  {
   "cell_type": "markdown",
   "metadata": {},
   "source": [
    "<hr />\n",
    "<h1 id=\"lambdamap\" style=\"font-size:22px; color: red; line-height: 26px;\">Lambda &amp; Map()</h1>\n",
    "<img src=\"images/mapsyntax.jpg\">\n",
    "<p>In the first pass, the value of <code>x</code> is taken from the iterable (here 23) and passed to the middle x.</p>\n",
    "<p>\n",
    "The lambda says to declare a placeholder variable x.\n",
    "</p><p>\n",
    "Repeat until the iterable is exhausted.</p>"
   ]
  },
  {
   "cell_type": "markdown",
   "metadata": {},
   "source": [
    "<hr/>\n",
    "<b>Lambda &amp; Map Functions</b>\n",
    "<p>After list comprehensions what can we do to pass data (very much like a list comprehension) that&rsquo;ll build up to bigger containers? Hence \"lambda\" - an anonymous function and \"map\".</p>\n",
    "<p>The syntax is straight forward: a placeholder variable separated by a colon : and then the action.</p>\n",
    "<p>A <code>lambda</code> is a small, anonymous function, taking any number of arguments but can have only <u>one</u> expression.  The syntax is <code>lambda <i>arguments</i> : <i>expression</i></code>.</p>\n",
    "<p>Notice the \"placeholder\" variable in the middle of the statement, the actions upon (expression) upon that variable.  The lambda acts like the \"eval()\" function in some languages.</p>\n",
    "<p style=\"border-radius:3px;background-color:steelblue;padding:5px;color:white;\">Read each of the below statements and think about how they're read by the computer and where the \"temp\" variable is declared and initialized.</p>"
   ]
  },
  {
   "cell_type": "code",
   "execution_count": null,
   "metadata": {},
   "outputs": [],
   "source": [
    "\"\"\"x = i for i in range(0,10)\n",
    "print(type(x))\n",
    "print(\"List comprehension comparison: \", list(x))\n",
    "print(\"-\"*40)\n",
    "\"\"\"\n",
    "\n",
    "# one var \n",
    "def x(i):\n",
    "    return i + 10\n",
    "\n",
    "\"\"\" In the stack there must be a reference for ever \n",
    "for this function ... \"\"\"\n",
    "\n",
    "x = lambda a : a + 10\n",
    "print(x)\n",
    "print(x(5))\n",
    "\"\"\" this lives on the heap and will disappear from RAM after use. \n",
    "\"\"\"\n",
    "\n",
    "# two vars:\n",
    "total = lambda a, b : a + b\n",
    "print(total(20,15))\n",
    "\n",
    "# lambda accepting 3 vars and adding them \n",
    "x = lambda a, b, c : a + b + c\n",
    "print(x(10, 25, 33))\n",
    "\n",
    "# notice here number1[0] is added to number2[0] and so on\n",
    "number1 = [5,10,15]\n",
    "number2 = [6, 12, 18]\n",
    "\n",
    "print(type(number2))\n",
    "\n",
    "result = map(lambda x, y: x + y, number1, number2)\n",
    "\n",
    "print(list(result))\n",
    "\"\"\""
   ]
  },
  {
   "cell_type": "markdown",
   "metadata": {},
   "source": [
    "<p>Nest a lambda into another function ... </p>"
   ]
  },
  {
   "cell_type": "code",
   "execution_count": null,
   "metadata": {},
   "outputs": [],
   "source": [
    "def get_rate(currency):\n",
    "    rates = {\"EUR\": .85, \"CND\": 1.23}\n",
    "    return rates[currency]\n",
    "\n",
    "def todays_rates(n):\n",
    "  return lambda a : a * n\n",
    "\n",
    "my_euros = todays_rates( get_rate(\"EUR\") )\n",
    "\n",
    "money_to_convert = int(input(\"Enter the amount: $\"))\n",
    "print(f\"€{my_euros(money_to_convert)}\")"
   ]
  },
  {
   "cell_type": "markdown",
   "metadata": {},
   "source": [
    "<b>Map and Lambda</b>\n",
    "<p><code>map()</code> executes a specified function for each element in an iterable.</p><p>The syntax is <code>map(<i>function</i>, <i>iterable</i></code>.)\n",
    "</p>\n",
    "<p>Here we define a function that accepts a single parameter and returns the length of that parameter.  The next example passes two iterables.  Think of <code>map()</code> as your own hands - getting the first value from the iterable and passing it into the placeholder variable x that lambda will use.</p>"
   ]
  },
  {
   "cell_type": "code",
   "execution_count": 4,
   "metadata": {},
   "outputs": [
    {
     "data": {
      "text/plain": [
       "[25, 100, 225, 400]"
      ]
     },
     "execution_count": 4,
     "metadata": {},
     "output_type": "execute_result"
    }
   ],
   "source": [
    "list(map(lambda x : x **2, (5, 10, 15, 20)))"
   ]
  },
  {
   "cell_type": "code",
   "execution_count": 5,
   "metadata": {},
   "outputs": [
    {
     "name": "stdout",
     "output_type": "stream",
     "text": [
      "[6, 8, 4, 13]\n"
     ]
    }
   ],
   "source": [
    "# the map command takes each element from the list () and passes \n",
    "# them one-by-one to the function (whoIsLonger()).  The results\n",
    "# are still in RAM, so let's send them to a list for printing.\n",
    "\n",
    "def whoIsLonger(n):\n",
    "    return len(n)\n",
    "\n",
    "x = map(whoIsLonger, ('Boston','Berkeley','Roma', 'Juan-les-Pins'))\n",
    "print(list(x))"
   ]
  },
  {
   "cell_type": "code",
   "execution_count": 6,
   "metadata": {},
   "outputs": [
    {
     "name": "stdout",
     "output_type": "stream",
     "text": [
      "<map object at 0x7fcac80349a0>\n",
      "[2, 4, 6, 8]\n",
      "<map object at 0x7fcac8034af0>\n",
      "['Boston3000', 'BackBay3000', 'Cambridge1203']\n",
      "[18, 16, 14, 12]\n",
      "[11, 22, 33]\n"
     ]
    }
   ],
   "source": [
    "# do the same thing different ways\n",
    "# MAP\n",
    "def addition(n):\n",
    "    return n + n\n",
    "    \n",
    "numbers = (1, 2, 3, 4)\n",
    "result = map(addition, numbers)\n",
    "print(result)\n",
    "print(list(result))\n",
    "\n",
    "# try with strings\n",
    "def additionS(s1, s2):\n",
    "    return s1 + s2\n",
    "\n",
    "x = map(additionS, [\"Boston\", \"BackBay\", \"Cambridge\"], [\"3000\",\"3000\",\"1203\"])\n",
    "print(x)  # notice this is a map object - \n",
    "# need to cast into something usable.\n",
    "\n",
    "converted_x_to_list = list(x)\n",
    "print(converted_x_to_list)\n",
    "\n",
    "# LAMBDA with single var input to iterate over\n",
    "\n",
    "numbers = (9, 8, 7, 6)\n",
    "result = map(lambda x: x + x, numbers)\n",
    "print(list(result))\n",
    "\n",
    "\n",
    "# LAMBDA with more than 1 objects\n",
    "number1 = [5, 10, 15]\n",
    "number2 = [6, 12, 18]\n",
    "\n",
    "result = map(lambda x, y: x + y, number1, number2)\n",
    "print(list(result))\n"
   ]
  },
  {
   "cell_type": "markdown",
   "metadata": {},
   "source": [
    "<hr/>\n",
    "<img src=\"images/mendelbrot.jpg\"/>\n",
    "<p style=\"position:relative;top:-300px;color:red;left:25px;font-size:28px;z-index:2;\">Recursion</p>"
   ]
  },
  {
   "cell_type": "markdown",
   "metadata": {},
   "source": [
    "<table>\n",
    "    <tr>\n",
    "        <td><img src=\"images/recursion-green.jpg\"/></td>\n",
    "        <td><img src=\"images/recursion1.jpg\"/></td>\n",
    "    </tr>\n",
    "</table>"
   ]
  },
  {
   "cell_type": "markdown",
   "metadata": {},
   "source": [
    "<p>Recursion is when a function is declared and in its operation calls itself.</p>\n",
    "<p>Like all looping behaviors, a recursive call needs an exit condition.</p><p>\n",
    "There’s “base case” and the “recursive rule”, calling itself.</p>\n",
    "<p>Functions are stored in the stack in RAM; so using 1 function calling itself is better than multiple functions.</p>\n",
    "<p>Is recursion always a faster technique? (no.)</p>"
   ]
  },
  {
   "cell_type": "code",
   "execution_count": null,
   "metadata": {},
   "outputs": [],
   "source": [
    "def factorial(n):  # n > 1 ..., say 5 ... \n",
    "    if n == 1:\n",
    "        return 1\n",
    "    return n * factorial(n - 1)\n",
    "\n",
    "\"\"\" notice the function calls itself \"\"\"\n",
    "print(factorial(1))\n",
    "print(factorial(4))\n",
    "print(factorial(43))"
   ]
  },
  {
   "cell_type": "markdown",
   "metadata": {},
   "source": [
    "<hr />\n",
    "<blockquote>\n",
    "    <p>\n",
    "        <a href=\"FibonacciAndBigO.pdf\">Here is a .pdf from a computing course.</a>\n",
    "</blockquote>    "
   ]
  },
  {
   "cell_type": "markdown",
   "metadata": {},
   "source": [
    "<hr />\n",
    "<p style=\"background-color: rgba(255, 87, 51, 0.5);padding:10px;font-size:16px;\">Update about Recursion [Spring &lsquo;23]</p>\n",
    "<p>Given interest in recursion and its impact on algorithm performance (and the last homework), here are additional <b>optional</b> deeper explorations about recursion, just fyi.</p>\n",
    "<p>\n",
    "As we&rsquo;ve seen, we can call functions from within other functions.  Each time we call a new function, Python adds a new frame to the execution stack, and that frame has its own namespace.  If you understand this process clearly, you&rsquo;re ready to understand the idea of recursion.  Consider the following code:"
   ]
  },
  {
   "cell_type": "code",
   "execution_count": 2,
   "metadata": {},
   "outputs": [
    {
     "name": "stdout",
     "output_type": "stream",
     "text": [
      "2\n"
     ]
    }
   ],
   "source": [
    "def factorial(n):\n",
    "    if n==1:\n",
    "        return 1\n",
    "    return n * factorial(n-1)\n",
    "\n",
    "print(factorial(2))"
   ]
  },
  {
   "cell_type": "markdown",
   "metadata": {},
   "source": [
    "<p>Here, we have a function called factorial, which includes a function call inside itself.  What's surprising is that the function being called is factorial itself.  Think about this: in Python, it's possible for a function to call itself.</p>"
   ]
  },
  {
   "cell_type": "markdown",
   "metadata": {},
   "source": [
    "Now think about what happens when you pass 2 into the function.  This time, control skips the if clause and goes straight to the return statement.  Since n is 2, the function is supposed to return ```2 * factorial(2-1) = 2 * factorial(1)```.\n",
    "\n",
    "To finish evaluating this expression, Python has to call the factorial function again, but passing in 1 this time.  As we already saw above, ```factorial(1)``` returns 1.  This means that our final answer will be ```2 * 1 = 2```."
   ]
  },
  {
   "cell_type": "markdown",
   "metadata": {},
   "source": [
    "<p>See if you can understand what would happen if you passed 3 into the function.  As we execute our program, the factorial function appears in the call stack multiple times.  In other words there are multiple copies of this function running at the same time.  You might worry that all these copies have a variable named <i>n</i>, but of course we know this isn&rsquo;t a problem.  Each function has its own unique n in its local namespace, and each of these <i>n</i>&rsquo;s has a different value.  In fact, every time we add a new factorial function to the call stack, the local n is exactly one less than the previous <i>n</i>.</p>"
   ]
  },
  {
   "cell_type": "markdown",
   "metadata": {},
   "source": [
    "<p>Review:</p>\n",
    "<p>As you can see, our function computes the factorial of a number.  The factorial of n is defined as the product of all the integers up to and including n, ```1 * 2 * 3 *... * n```.\n",
    "</p>\n",
    "<p>Each recursive algorithm needs two elements.</p>\n",
    "<ul>\n",
    "    <li>A base case</li>\n",
    "    <li>A recursive rule</li>\n",
    "</ul><p>\n",
    "The base case is a simple version of the problem that we can solve immediately.  In our example, the base case is '''n==1'''.  When we reach the base case, we just return the answer right away.\n",
    "</p>\n",
    "The recursive rule is a mathematical way to break the problem down into easier problems.  It's  a mathematical fact that we can write the factorial of n as follows:\n",
    "</p>\n",
    "<pre>\n",
    "```factorial(n) = 1 * 2 * ...* (n-1) * n = n * factorial(n-1)```\n",
    "</pre>\n",
    "<p>This is a mathematical relationship.  Notice, though, that it appears pretty much identically in the code of our function.</p>"
   ]
  },
  {
   "cell_type": "markdown",
   "metadata": {},
   "source": [
    "<h2>Should you use recursion?</h2>\n",
    "<p>\n",
    "At this point, you may be wondering why you would ever want to use recursion.  After all, you could have just written a factorial function using a loop.  In fact, this is a general principle: any recursive algorithm could be rewritten using loops instead of recursive function calls.\n",
    "</p><p>\n",
    "In the case of computing factorials, the looping strategy is probably better than recursion.  There are, however, situations in which the recursive algorithm is much more elegant and easier to understand.  These situations are typically more advanced, and introductory programming courses normally don't cover them.\n",
    "</p><p>\n",
    "For now, let's see just one more realistic example of recursion that's useful in data science.\n",
    "</p><p>\n",
    "Below, we define a string that contains JSON data.  This is a popular file format that you will probably encounter when scraping data from websites or from public apis.  As you can see, it's a nested structure in which data at different levels is accessed by keys.</p>"
   ]
  },
  {
   "cell_type": "markdown",
   "metadata": {},
   "source": [
    "<hr />\n",
    "<p style=\"color:skyblue;\">Example integrating imports, sys, time, and sys.argv[] to see the runtime of a fibonacci sequence.</p>"
   ]
  },
  {
   "cell_type": "code",
   "execution_count": 4,
   "metadata": {},
   "outputs": [
    {
     "name": "stdout",
     "output_type": "stream",
     "text": [
      "Enter a number: 4\n",
      "1 1 2 3 "
     ]
    }
   ],
   "source": [
    "import sys\n",
    "import time\n",
    "\n",
    "def fibonacci(end):\n",
    "    end = int(end)\n",
    "    current = 0\n",
    "    next = 1\n",
    "\n",
    "    while next <= end:\n",
    "        print(next, end=' ')\n",
    "        next_value = current + next\n",
    "        current = next\n",
    "        next = next_value\n",
    "    return\n",
    "\n",
    "# prompt the user for an integer number up to which the fibonacci sequence shall run\n",
    "end = sys.argv[1]  # input(\"Enter a number: \")\n",
    "\n",
    "# calls the fibonacci function\n",
    "\n",
    "start_time = time.time()\n",
    "\n",
    "print(\"\\n\\nRunning the fibonacci sequence.\\n\\tPractice comparing recursion versions and non-recursive versions.\")\n",
    "\n",
    "fibonacci(end)\n",
    "\n",
    "print(\"\\n\\n--- %s seconds ---\" % (time.time() - start_time))"
   ]
  },
  {
   "cell_type": "markdown",
   "metadata": {},
   "source": [
    "<hr />\n",
    "<p>Here&rsqsuo;s a version that's recursive... can you convert it \n",
    "    for timing, etc., compared to the above non-recursive version?\n",
    "    <i>n</i> must be >&gt; 1.\n",
    "</p>\n",
    "<pre>fib(n):\n",
    "    if n <= 1\n",
    "        return 1\n",
    "    return fib(n - 1) + fib(n - 2)\n",
    "</pre>\t\n"
   ]
  },
  {
   "cell_type": "markdown",
   "metadata": {},
   "source": [
    "<hr />\n",
    "<h1 style=\"color:maroon;font-family:Baskerville;\"><i>Please see the accompanying how-to demo notebook.  There are a lot of examples that might help.</i></h1>\n",
    "<p><a href=\"week_5_howtos.ipynb\" target='new'>\n",
    "    Extra Notebook Here\n",
    "</a></p>"
   ]
  },
  {
   "cell_type": "markdown",
   "metadata": {},
   "source": [
    "<hr />\n",
    "<h1 style=\"height:25px;\">End of this week&rsquo;s main points.</h1>\n",
    "<hr />\n",
    "<h1 id=\"appendix\" style=\"font-size:18px; color: red; line-height: 28px;\">\n",
    "Appendix: Examples, How-Do Demos</h1>\n",
    "<p>Table of Contents</p>\n",
    "<ol><li>Logging</li>\n",
    "    <li>Global and Local; Information Hiding</li>\n",
    "    <li>Lambda Examples; Map(); Review</li>\n",
    "</ol>"
   ]
  },
  {
   "cell_type": "markdown",
   "metadata": {},
   "source": [
    "<h2>Logging</h2>\n",
    "<hr /><b>A note about errors and debugging</b>\n",
    "<p>Consider hardcoding values first in order to focus on the logic of your script.  Once the logic seems solid (using the assert is a good idea here), now variabilize your code - removing the hard coded test values.  e.g., make sure that your addition function returns a correct value (2 + 2 ≠ 5) ... then you can replace vars (i + j = 4).</p>\n",
    "<p>There are 5 levels of errors: debug | info | Warning | Error | Critical.   Optional later: check out the <code>import logging</code> library and set for yourself the level of bugs to catch.</p>\n",
    "<pre>\n",
    "import logging\n",
    "\n",
    "#create a logger\n",
    "logger = logging.getLogger('mylogger')\n",
    "#set logging level - see the options: \n",
    "logger.setLevel(logging.DEBUG)\n",
    "\n",
    "handler = logging.FileHandler('mylog.log')\n",
    "#create a logging format\n",
    "formatter = logging.Formatter('%(asctime)s - %(name)s - %(levelname)s - %(message)s')\n",
    "handler.setFormatter(formatter)\n",
    "logger.addHandler(handler)\n",
    "\n",
    "#write a debug message\n",
    "logger.debug('This is a DEBUG message')\n",
    "</pre>\n",
    "<p>And then you can scan the file for error message and determine which to keep, which to show the end-user, and which of them need to be integrated into your try-except blocks.</p>\n",
    "<hr />\n",
    "<h3>Example</h3>"
   ]
  },
  {
   "cell_type": "code",
   "execution_count": 4,
   "metadata": {},
   "outputs": [],
   "source": [
    "\"\"\" from https://pythonexamples.org/python-logging-debug/ \"\"\"\n",
    "import logging\n",
    "\n",
    "class MyFilter(object):\n",
    "    def __init__(self, level):\n",
    "        self.__level = level\n",
    "\n",
    "    def filter(self, logRecord):\n",
    "        return logRecord.levelno <= self.__level\n",
    "\n",
    "#create a logger\n",
    "logger = logging.getLogger('mylogger')\n",
    "logger.setLevel(logging.DEBUG)\n",
    "handler = logging.FileHandler('mylog.log')\n",
    "formatter = logging.Formatter('%(asctime)s - %(name)s - %(levelname)s - %(message)s')\n",
    "handler.setFormatter(formatter)\n",
    "#set filter to log only DEBUG lines\n",
    "handler.addFilter(MyFilter(logging.DEBUG))\n",
    "logger.addHandler(handler)\n",
    "\n",
    "#write a debug line to log file\n",
    "logger.debug('This is a DEBUG message')\n",
    "logger.info('This is a INFO message')\n",
    "logger.warning('This is a WARNING message')\n",
    "logger.error('This is an ERROR message')\n",
    "logger.critical('This is a CRITICAL message')"
   ]
  },
  {
   "cell_type": "markdown",
   "metadata": {},
   "source": [
    "<hr /><h3>Example of <code>global</code> and <code>non-local</code> keywords</h3>\n",
    "<p>Calling a global var from inside a function.  And optional Wrapping and Nesting Functions</h2>\n",
    "<p>Why wrap a function in another function?  Something called <i>information hiding</i>, among other reasons.  Check out <a href=\"https://en.wikipedia.org/wiki/Nested_function\">Wikipedia</a>.</p>\n",
    "<p>Main point: compare the values of <u>global</u> and <u>local (defined in a function)</u> variables.\n",
    "</p><p>Optional is the nested demo5().</p>"
   ]
  },
  {
   "cell_type": "code",
   "execution_count": 33,
   "metadata": {},
   "outputs": [
    {
     "name": "stdout",
     "output_type": "stream",
     "text": [
      "Global values for x and y: x = 5  id [ 4447693632 ]  y = 32 id [ 4447694496 ]\n",
      "------------------------------ \n",
      "Start the demo.\n",
      "\n",
      "\n",
      "Original values of (global) x 5 and (global) y 32\n",
      "\n",
      "Calling Demo3: Accessing global x:  5 and id:  4447693632\n",
      "\n",
      "Calling Demo4: local x =  30  local y =  dog\n",
      "\n",
      "\tWhat about global x and y? \n",
      "\n",
      " ------------------------------ \n",
      "Inside demo4:\\t Local value of y: dog  and id: 140410155678128\n",
      "\n",
      "\tAbout to call demo5() to update global x and nonlocal y with nested function...\n",
      "\n",
      "\t> Local y is 'dog' but nonlocal y is ' cat ' and id: 140410132179888\n",
      "------------------------------ \n",
      "After running demo3() and demo4(), what's the global value of y?\n",
      "Global y is  32  id: [ 4447694496 ]\n"
     ]
    },
    {
     "ename": "NameError",
     "evalue": "name 'demo5' is not defined",
     "output_type": "error",
     "traceback": [
      "\u001b[0;31m---------------------------------------------------------------------------\u001b[0m",
      "\u001b[0;31mNameError\u001b[0m                                 Traceback (most recent call last)",
      "\u001b[0;32m<ipython-input-33-946e35c9ee38>\u001b[0m in \u001b[0;36m<module>\u001b[0;34m\u001b[0m\n\u001b[1;32m     35\u001b[0m \u001b[0mprint\u001b[0m\u001b[0;34m(\u001b[0m\u001b[0;34m\"Global y is \"\u001b[0m\u001b[0;34m,\u001b[0m \u001b[0my\u001b[0m\u001b[0;34m,\u001b[0m \u001b[0;34m\" id: [\"\u001b[0m\u001b[0;34m,\u001b[0m \u001b[0mid\u001b[0m\u001b[0;34m(\u001b[0m\u001b[0my\u001b[0m\u001b[0;34m)\u001b[0m\u001b[0;34m,\u001b[0m\u001b[0;34m\"]\"\u001b[0m\u001b[0;34m)\u001b[0m\u001b[0;34m\u001b[0m\u001b[0;34m\u001b[0m\u001b[0m\n\u001b[1;32m     36\u001b[0m \u001b[0;34m\u001b[0m\u001b[0m\n\u001b[0;32m---> 37\u001b[0;31m \u001b[0mdemo5\u001b[0m\u001b[0;34m(\u001b[0m\u001b[0;34m)\u001b[0m\u001b[0;34m\u001b[0m\u001b[0;34m\u001b[0m\u001b[0m\n\u001b[0m",
      "\u001b[0;31mNameError\u001b[0m: name 'demo5' is not defined"
     ]
    }
   ],
   "source": [
    "x = 5\n",
    "y = 32\n",
    "\n",
    "print(\"Global values for x and y: x =\",x,\" id [\",id(x),\"]  y =\",y,\"id [\",id(y),\"]\")\n",
    "\n",
    "def demo3():\n",
    "    # usually only local here ... so to reference global ... \n",
    "    global x\n",
    "    print(\"Calling Demo3: Accessing global x: \",x, \"and id: \", id(x))\n",
    "\n",
    "def demo4():\n",
    "    x = 30  # entirely local!\n",
    "    y = \"dog\"\n",
    "    print(\"\\nCalling Demo4: local x = \",x, \" local y = \", y)\n",
    "    print(\"\\n\\tWhat about global x and y? \")\n",
    "    \n",
    "    def demo5():\n",
    "        global x\n",
    "        x = -5\n",
    "        nonlocal y\n",
    "        y = \"cat\"\n",
    "    \n",
    "    print(\"\\n\",\"-\"*30,\"\\nInside demo4:\\\\t Local value of y:\", y,\" and id:\", id(y))\n",
    "    print(\"\\n\\tAbout to call demo5() to update global x and nonlocal y with nested function...\")\n",
    "    demo5()\n",
    "    print(\"\\n\\t> Local y is 'dog' but nonlocal y is '\",y,\"' and id:\", id(y))\n",
    "\n",
    "print(\"-\"*30,\"\\nStart the demo.\\n\\n\")\n",
    "print(f\"Original values of (global) x {x} and (global) y {y}\\n\")\n",
    "\n",
    "demo3()\n",
    "demo4()\n",
    "\n",
    "print(\"-\"*30,\"\\nAfter running demo3() and demo4(), what's the global value of y?\")\n",
    "print(\"Global y is \", y, \" id: [\", id(y),\"]\")\n",
    "\n",
    "demo5()"
   ]
  },
  {
   "cell_type": "markdown",
   "metadata": {},
   "source": [
    "<hr />\n",
    "<h2>Lambda Examples</h2>\n",
    "<p>See also optional notebooks:\n",
    "<ol><li><b>Lambdas, iterators, and more</b> week_05_functions_intro_extra.ipynb</li>\n",
    "    <li><b>Content Aggregator</b> Week-05-ApplicationDemo.ipynb]</li>\n",
    "</ol></p>"
   ]
  },
  {
   "cell_type": "markdown",
   "metadata": {},
   "source": [
    "<p>See also optional notebooks:\n",
    "<ol><li><b>Lambdas, iterators, and more</b> week_05_functions_intro_extra.ipynb</li>\n",
    "    <li><b>Content Aggregator</b> Week-05-ApplicationDemo.ipynb]</li>\n",
    "</ol></p>"
   ]
  },
  {
   "cell_type": "code",
   "execution_count": null,
   "metadata": {},
   "outputs": [],
   "source": [
    "# Python 3 - sorting a dictionary\n",
    "\n",
    "counties = {\n",
    "        \"Berkeley\":\"Oakland\", \"San Francisco\":\"San José\",\n",
    "        \"Sacramento\":\"Stockton\", \"San José\":\"Hayward\",\n",
    "        \"Merced\":\"Stockton\", \"Los Feliz\":\"Santa Monica\",\n",
    "        \"Bakersfield\":\"Mojave\",\"Long Beach\":\"Crenshaw\"}\n",
    "\n",
    "print(\"-\"*40,\"\\nNOT sorted:\")\n",
    "for town in counties.keys():\n",
    "        print (\"{:15s} / {:15s}\".format(town,counties[town]))\n",
    "\n",
    "print(\"-\"*40,\"\\nSorted by KEY:\")\n",
    "towns = list(counties.keys())\n",
    "towns.sort()\n",
    "for town in towns:\n",
    "    print (\"{:15s} / {:15s}\".format(town,counties[town]))\n",
    "\n",
    "print(\"-\"*40,\"\\nSorted by VALUE:\")\n",
    "towns = list(counties.keys())\n",
    "towns.sort(key = lambda x:counties[x])\n",
    "for town in towns:\n",
    "    print (\"{:15s} / {:15s}\".format(town,counties[town]))"
   ]
  },
  {
   "cell_type": "markdown",
   "metadata": {},
   "source": [
    "<hr />\n",
    "<h2 style=\"color:steelblue;\">Another optional example: sorting and dictionaries using lambda</h2>\n",
    "<p>You cannot sort a dict.  If you sort a list of strings that are digits, you don't get a numeric sort by default.</p>\n",
    "<p>\n",
    "Solutions<ul>\n",
    "    <li>Sort a list of keys</li>\n",
    "    <li>Specifiy a sort lambda (Python 2 comparator, Python 3 key function) for that list</li>\n",
    "    </ul>"
   ]
  },
  {
   "cell_type": "code",
   "execution_count": null,
   "metadata": {},
   "outputs": [],
   "source": [
    "stuff = {'9': 36, '10': 26, '8': 25, '6': 2}\n",
    "\n",
    "print(\"-\"*40,\"\\nSorting in NUMERIC order by key\")\n",
    "names = list(stuff.keys())\n",
    "names.sort(key = lambda x: int(x))\n",
    "\n",
    "print(\"-\"*40,\"\\nOutput in NUMERIC order \")\n",
    "for name in names:\n",
    "    print(name, stuff[name])\n",
    "\n",
    "# Following code fills in the gaps for missing keys\n",
    "# that is, we have 6, 8, 9 but NO 7 as a key.  So we \n",
    "# make one on the fly and provide it a value of 0\n",
    "print(\"-\"*40,\"\\nFilling the 'gaps' with default 0 \")\n",
    "for want in range(int(names[0]),int(names[-1])+1):\n",
    "    stuff[str(want)] = stuff.get(str(want),0)\n",
    "\n",
    "print(\"-\"*40,\"\\nOutput in NUMERIC order \")\n",
    "for name in range(int(names[0]),int(names[-1])+1):\n",
    "    print(name,stuff[str(name)])"
   ]
  },
  {
   "cell_type": "markdown",
   "metadata": {},
   "source": [
    "<hr />\n",
    "<h2 style=\"color:steelblue;\">Review of Map and Lambda</h2>"
   ]
  },
  {
   "cell_type": "code",
   "execution_count": null,
   "metadata": {},
   "outputs": [],
   "source": [
    "# LAMBDA with single var input to iterate over\n",
    "numbers = (9, 8, 7, 6)\n",
    "result = map(lambda x: x + x, numbers)\n",
    "print(list(result))\n",
    "\n",
    "# OUTPUT: [18, 16, 14, 12]\n",
    "\n",
    "# LAMBDA with more than 1 object\n",
    "number1 = [5, 10, 15]\n",
    "number2 = [6, 12, 18]\n",
    "\n",
    "result = map(lambda x,y : x+y, number1, number2)\n",
    "print(list(result))\n",
    "\n",
    "# OUTPUT: [11, 22, 33]"
   ]
  },
  {
   "cell_type": "code",
   "execution_count": 6,
   "metadata": {},
   "outputs": [
    {
     "name": "stdout",
     "output_type": "stream",
     "text": [
      "[2, 4, 6, 8]\n",
      "['Boston $3000', 'BackBay $3000', 'Cambridge $1203']\n"
     ]
    }
   ],
   "source": [
    "# MAP\n",
    "def addition(n):\n",
    "    return n + n\n",
    "\n",
    "numbers = (1, 2, 3, 4)\n",
    "result = map(addition, numbers)\n",
    "print(list(result))\n",
    "\n",
    "\n",
    "# try with strings\n",
    "def cityMap(x, y):\n",
    "    return x + \" $\" + y\n",
    "\n",
    "x = map(cityMap, (\"Boston\", \"BackBay\", \"Cambridge\"), \n",
    "    (\"3000\",\"3000\",\"1203\"))\n",
    "print(list(x))"
   ]
  },
  {
   "cell_type": "code",
   "execution_count": null,
   "metadata": {},
   "outputs": [],
   "source": []
  }
 ],
 "metadata": {
  "kernelspec": {
   "display_name": "Python 3 (ipykernel)",
   "language": "python",
   "name": "python3"
  },
  "language_info": {
   "codemirror_mode": {
    "name": "ipython",
    "version": 3
   },
   "file_extension": ".py",
   "mimetype": "text/x-python",
   "name": "python",
   "nbconvert_exporter": "python",
   "pygments_lexer": "ipython3",
   "version": "3.11.4"
  }
 },
 "nbformat": 4,
 "nbformat_minor": 4
}
