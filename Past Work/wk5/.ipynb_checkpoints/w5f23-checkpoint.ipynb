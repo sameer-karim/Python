{
 "cells": [
  {
   "cell_type": "code",
   "execution_count": 1,
   "metadata": {},
   "outputs": [
    {
     "data": {
      "text/html": [
       "<script src=\"js/showNotes.js\"></script>\n"
      ],
      "text/plain": [
       "<IPython.core.display.HTML object>"
      ]
     },
     "metadata": {},
     "output_type": "display_data"
    }
   ],
   "source": [
    "%%html\n",
    "<script src=\"js/showNotes.js\"></script>"
   ]
  },
  {
   "cell_type": "markdown",
   "metadata": {},
   "source": [
    "<p style=\"font-size:9px;\">Version: Discussion version 1, \n",
    "    July 18, 2023 | <b>updated Sept 23, 2023</b> [&copy; 2023 gb]</p>\n",
    "<img src=\"images/ischool-banner.png\" />\n",
    "<p>&nbsp;</p>\n",
    "<div style=\"height: 100px;color:#3B7EA1; font-size:24px; vertical-align:top; text-align:left;\">\n",
    "    Computing for Data Science\n",
    "    <img style=\"width:20%; vertical-align:top; float: left; padding-right: 20px; display: block; margin-left: 0; margin-right: auto;\" \n",
    "         src=\"images/ucb_logo.png\"/>\n",
    "</div>    "
   ]
  },
  {
   "cell_type": "markdown",
   "metadata": {},
   "source": [
    "<hr />\n",
    "<h1 style=\"font-size:36; color: #003262;\">Current (F23) Weekly Syllabus Topics</h1>\n",
    "<table width=\"100%;\">\n",
    "<tr>\n",
    "<td style=\"text-align:left; vertical-align:top;\">\n",
    "<ol>\n",
    "    <li>\n",
    "    <ul>\n",
    "        <li>Computer Architecture Basics; \n",
    "        Bash, Git, GitHub;</li>\n",
    "        <li>Command Line;</li>\n",
    "        <li>Manipulating Files &amp; Directories;\n",
    "        VIM;\n",
    "        Command Line intro;</li>\n",
    "    </ul>\n",
    "</li>\n",
    "<li>\n",
    "    <ul>\n",
    "    <li>Programming Lang Orientation: \n",
    "    <li>jupyter; python and command line;\n",
    "    objects &amp; types;\n",
    "    <li>variables (numbers and strings), formatting strings;</li>\n",
    "    <li>control while loops</li>\n",
    "    </ul>\n",
    "</li>\n",
    "<li>\n",
    "    <ul>\n",
    "        <li>Sequences</li>\n",
    "        <li>Lists, Tuples &amp; Mutability</li>\n",
    "        <li>Ranges</li>\n",
    "        <li>Dictionaries, Nested Lists &amp; dictionaries</li>\n",
    "    </ul>\n",
    "</li>\n",
    "</ol>\n",
    "</td>\n",
    "<td style=\"text-align:left; vertical-align:top;\">\n",
    "<ol start=\"4\">\n",
    "<li>\n",
    "    <ul>\n",
    "        <li>For Loops\n",
    "        <li>Exits\n",
    "        <li>Algorithms: searching [exhaustive, bisection, heron&rsquo;s methods]</li>\n",
    "        <li>Comprehensions</li>\n",
    "    </ul>\n",
    "</li>\n",
    "<li>\n",
    "    <ul style='background-color: #FDB515;'>\n",
    "        <li>Functions</li>\n",
    "        <li>Calling, Nesting</li>\n",
    "        <li>Namespaces, Global and Local Vars</li>\n",
    "        <li>Recursion; nested dictionaries &amp; recursion</li>\n",
    "        <li>Parameters</li>\n",
    "        <li>Exceptions</li>\n",
    "        <li>Lambdas</li>\n",
    "    </ul>\n",
    "</li>\n",
    "<li>\n",
    "    <ul>\n",
    "        <li>Complexity\n",
    "        <li>Measuring time and Steps</li>\n",
    "        <li>Big &Theta;</li>\n",
    "        <li>Searching and Subsequences\n",
    "        <li>Modules &amp; Packages</li>\n",
    "    </ul>\n",
    "</li>\n",
    "</ol>\n",
    "</td>\n",
    "    </tr>\n",
    "<table>\n",
    "<table width=\"100%\">\n",
    "    <tr>\n",
    "<td style=\"text-align:left; vertical-align:top;\">\n",
    "<ol start=\"7\">\n",
    "<li>\n",
    "    <ul>\n",
    "        <li>Classes</li>\n",
    "        <li>Attributes, Binding</li>\n",
    "        <li>Initializing and Control</li>\n",
    "        <li>&UnderBar;&UnderBar;str&UnderBar;&UnderBar; and &UnderBar;&UnderBar;repr&UnderBar;&UnderBar;\n",
    "        </li>\n",
    "    </ul>\n",
    "</li>\n",
    "<li>\n",
    "    <ul>\n",
    "        <li>Object-Oriented Programming</li>\n",
    "        <li>Inheritance</li>\n",
    "        <li>Polymorphism</li>\n",
    "        <li>Magic Methods</li>\n",
    "    </ul>\n",
    "</li>\n",
    "<li>\n",
    "    <ul>\n",
    "    <li>PyData Ecosystem and Numpy</li>\n",
    "    <li>Boolean selection and types</li>\n",
    "    <li>Vectorization &amp; Multidimensional Arrays</li>\n",
    "    <li>Slicing and combining</li>\n",
    "    <li>Linear model in matrix form, Numpy</li>\n",
    "    </ul>\n",
    "</li>\n",
    "</ol>\n",
    "</td>\n",
    "<td style=\"text-align:left; vertical-align:top;\">\n",
    "<ol start=\"10\">\n",
    "<li>\n",
    "    <ul>\n",
    "        <li>Pandas &amp; Data Analysis</li>\n",
    "        <li>Series and Data Frames</li>\n",
    "        <li>Bracket index, log &amp; iloc</li>\n",
    "        <li>Functions and DataFrames</li>\n",
    "        <li>Sorting</li>\n",
    "    </ul>\n",
    "</li>\n",
    "<li>\n",
    "    <ul>\n",
    "        <li>Datasets and EDA</li>\n",
    "        <li>Fixing Data Issues (Cleansing)</li>\n",
    "        <li>Answering Questions</li>\n",
    "    </ul>\n",
    "</li>\n",
    "<li>\n",
    "    <ul>\n",
    "        <li>Plotting &amp; Visualization</li>\n",
    "        <li>Libraries (Matplotlib, Seaborn, etc.)</li>\n",
    "        <li>Plot features</li>\n",
    "    </ul>\n",
    "</li>\n",
    "</ol>\n",
    "</td>\n",
    "</tr>\n",
    "</table>\n",
    "<table width=\"100%\">\n",
    "<tr>\n",
    "<td style=\"text-align:left; vertical-align:top;\">\n",
    "<ol start=\"13\">\n",
    "    <li>\n",
    "    <ul>\n",
    "        <li>Pandas Aggregation &amp; Group Operations</li>\n",
    "        <li>Series.groupby</li>\n",
    "        <li>DataFrame.groupby</li>\n",
    "        <li>Aggregation</li>\n",
    "        <li>Pivot Tables &amp; Crosstabs</li>\n",
    "    </ul>\n",
    "</li>\n",
    "<li>\n",
    "    <ul>\n",
    "        <li>Presentations (so no time to cover...\n",
    "        <li>Texts, unicode, decoding errors, regex, time series, etc.)</li>\n",
    "    </ul>\n",
    "</li>\n",
    "</ol>\n",
    "</td>\n",
    "</tr>\n",
    "</table>"
   ]
  },
  {
   "cell_type": "markdown",
   "metadata": {},
   "source": [
    "<p style=\"font-size: 16px; line-height: 22px; color: #3B7EA1;\">\n",
    "    Check-In:  how was last week?\n",
    "</p>"
   ]
  },
  {
   "cell_type": "markdown",
   "metadata": {},
   "source": [
    "<hr />\n",
    "<div>\n",
    "    <p>\n",
    "        <img src=\"images/IntroIcon.png\" style=\"float:left; padding:10px; width:50px; text-align:top;\"/>\n",
    "        <span  style=\"color: #3B7EA1;font-size:24px;\">Introduction</span>\n",
    "    </p>\n",
    "</div>"
   ]
  },
  {
   "cell_type": "markdown",
   "metadata": {},
   "source": [
    "<hr />\n",
    "<h1 style=\"font-size:36; color: #003262;\">\n",
    "Week 5 Topics</h1>\n",
    "<p>\n",
    "<ol>\n",
    "    <li>Functions &amp; passing arguments</li>\n",
    "    <li>Several ways of Handling Errors\n",
    "        <ul>\n",
    "            <li>assert</li>\n",
    "            <li>recording errors</li>\n",
    "            <li>try/except</li>\n",
    "            <li><i>Optional: *arg and **kwarg</i></li>\n",
    "            <li>Scope of variables: global, local </li>\n",
    "        </ul>\n",
    "        </li>\n",
    "    <li>System Arguments: <i>Scripts &amp; passing arguments</i> to scripts <code style=\"font-size:10px;\">sys.argv[]</code></li>\n",
    "    <li>Lambda functions; <code>map()</code></li>\n",
    "    <li>Recursion</li>\n",
    "    </ol>\n",
    "    </hr >\n",
    "<h2 style=\"color:#3B7EA1;\">Appendix:  Examples, How-to Demos</h2>\n",
    "    <ul>\n",
    "        <li>Logging</li>\n",
    "        <li>Global and Local; Information Hiding</li>\n",
    "        <li>Lambda Examples; Map(); Review</li>\n",
    "    </ul>\n",
    "<h2 style=\"color:#C4820E;\">Longer reviews and example - check out during class or after as how-to guides.</h2>\n",
    "    <ol>\n",
    "        <li><a href=\"week_5_howtos.ipynb\" target=\"new\">Detailed How-To Guide to Lambdas</a></li>\n",
    "        <li><a href=\"week_05_functions_intro_extra.ipynb\" target=\"new\">Lambdas, iterators, and more</a></li>\n",
    "    <li><a target='new' href=\"Week-05-ApplicationDemo.ipynb\">Content Aggregator</a></li>\n",
    "    </ol>"
   ]
  },
  {
   "cell_type": "markdown",
   "metadata": {},
   "source": [
    "<hr />\n",
    "<h2 style=\"background-color: #003262; color:white; border-radius: 4px; padding: 8px;\">\n",
    "    Functions &amp; Arguments (parameters)\n",
    "</h2>\n",
    "<ol>\n",
    "    <li>Define a function with the keyword def: <code>def</code></li>\n",
    "    <li>Pass zero or more parameters to that function; the parameters are used in the function with scope limited only to that function,<br />\n",
    "<code>def funcx():\n",
    "def funcy(a, b):\n",
    "def funcz(a, b, z = 20):</code> a default value passed last</li>\n",
    "    <li>functions may look outside themselves if you refer to a variable that is not inside the function; for instance, if there’s a global variable</li>\n",
    "<li>functions may (but don’t have to) return a new value</li>\n",
    "    <li>functions are defined - but not used until called in the code</li></ol>\n",
    "<p>Plan your project (as demo’d last week) and turn those modules into functions (or later, objects).</p>"
   ]
  },
  {
   "cell_type": "markdown",
   "metadata": {},
   "source": [
    "<p>\n",
    "<img src=\"images/hands-on.png\" style=\"float:left; padding:10px; width:100px;\"/>\n",
    "<span style=\"color: #3B7EA1;font-size:18px;\">Hands On ...</span>\n",
    "    <br /><span style=\"font-size:12px;\">Write the same function for the weather, one with no parameters, one with two.</span>\n",
    "</p>\n",
    "<p style=\"color:black; font-size: 14px;\"><b>Desired output</b>:</p>\n",
    "<code>The weather today is great!\n",
    "Thursday's weather will be 75 degrees.</code>"
   ]
  },
  {
   "cell_type": "code",
   "execution_count": 2,
   "metadata": {},
   "outputs": [
    {
     "data": {
      "text/html": [
       "<button style=\"background-color:rgb(129,156,19);color:white;\" onclick=\"loadDoc('answers/w5_1.txt', '1')\">Show Answer</button>\n",
       "<p id=\"showNotes1\"></p>\n"
      ],
      "text/plain": [
       "<IPython.core.display.HTML object>"
      ]
     },
     "metadata": {},
     "output_type": "display_data"
    }
   ],
   "source": [
    "%%html\n",
    "<button style=\"background-color:rgb(129,156,19);color:white;\" onclick=\"loadDoc('answers/w5_1.txt', '1')\">Show Answer</button>\n",
    "<p id=\"showNotes1\"></p>"
   ]
  },
  {
   "cell_type": "markdown",
   "metadata": {},
   "source": [
    "<hr />\n",
    "<h2>System Arguments <code>sysv.arg</code></h2>\n",
    "<p>Just as we can pass data into a function, so we can pass data from the terminal into our scripts, using sys.argv</p><p>\n",
    "Executing a .py file from the terminal window means we can provide data to the script from outside that script. The syntax to start a python program also accepts data that are read once the program starts. These are called the argument vector; in code they’re a Python list (called argv) from the system module (sys). Hence sys.argv.</p>\n",
    "<p>What is the value of <code>sys.argv[0]</code>?</p>\n",
    "<table width=\"100%\">\n",
    "    <tr>\n",
    "        <td width=\"50%\" style=\"text-align:top;\">\n",
    "            <img src=\"images/argv.png\"/>\n",
    "        </td>\n",
    "        <td style=\"text-align: left;\">\n",
    "<pre>\n",
    "# just demo: don't execute in the notebook.\n",
    "# use the argdemo.py from terminal window.\n",
    "\n",
    "import sys\n",
    "\n",
    "print(\"Name of the script\", sys.argv[0])\n",
    "\n",
    "print(\"# of args: \", len(sys.argv))\n",
    "print(\"arguments: \", str(sys.argv))\n",
    "\n",
    "# cat is choice\n",
    "for i in range(0, len(sys.argv)):\n",
    "    print(\"\\t \",i,\" is \", sys.argv[i])\n",
    "    cat = sys.argv[3]\n",
    "\n",
    "print(cat)\n",
    "</pre>\n",
    "        </td>\n",
    "    </tr>\n",
    "</table>            "
   ]
  },
  {
   "cell_type": "markdown",
   "metadata": {},
   "source": [
    "<hr />\n",
    "<h2 style=\"background-color: #003262; color:white; border-radius: 4px; padding: 8px;\">\n",
    "Calling, Nesting\n",
    "</h2>"
   ]
  },
  {
   "cell_type": "markdown",
   "metadata": {},
   "source": [
    "<p>\n",
    "A rule-of-thumb is to write all the functions first, then call them as needed in the code.  In this example, the first function takes 0 parameters, the second takes 2, the third takes two, the last of which has a default value.  Note, too, that one function is <b>nested</b> inside another function.  The return value of the nested function is streamed as a parameter to the enclosing function.  For example:</p>\n",
    "<p style=\"font-family: Courier;\">\n",
    "import statements<br /><br />\n",
    "def <span style=\"color:red;\">function_a()</span>:<br />\n",
    "&nbsp;&nbsp;&nbsp;<i>do something</i><br /><br />\n",
    "    def <span style=\"color:maroon;\">function_b(argument_1, argument_2)</span>:<br />\n",
    "&nbsp;&nbsp;&nbsp;<i>do something<br />\n",
    "&nbsp;&nbsp;&nbsp;return r</i><br />\n",
    "<br />\n",
    "def <span style=\"color:purple;\">function_c(argument_1, default = \"d\")</span>:<br />\n",
    "&nbsp;&nbsp;&nbsp;<i>do something</i><br />\n",
    "    &nbsp;&nbsp;&nbsp;return <i>value</i><br />\n",
    "<br />\n",
    "if __name__ == \"__main__\":<br />\n",
    "    &nbsp;&nbsp;&nbsp;<span style=\"color:maroon;\">function_b( 5, 25 )</span><br />\n",
    "    &nbsp;&nbsp;&nbsp;<span style='color:red;'>function_a</span>( <span style='color:purple'>function_c('a', 'b')</span> )\n",
    "</p>"
   ]
  },
  {
   "cell_type": "markdown",
   "metadata": {},
   "source": [
    "<hr />\n",
    "<h2 style=\"background-color: #003262; color:white; border-radius: 4px; padding: 8px;\">\n",
    "Namespaces: global and local\n",
    "</h2>"
   ]
  },
  {
   "cell_type": "markdown",
   "metadata": {},
   "source": [
    "<p><b>Global</b> namespace contains the variables that are visible throughout the running of the program, by all parts of the program.</p>\n",
    "<p><b>Local</b> namespace is restricted to the body of a function.</p>\n",
    "<p>In this example, identify the global &amp; local variables&rsquo; values and whether they can be altered.</p>\n",
    "<p>This is called the <b>scope</b> of the variable.  Python tried to find the variables starting <b>local</b>, then <b>enclosing or nested</b>, then python searches the <b>global</b> namespace, and finally for any <b>built-in</b> vars (using <code>dir(__builtins__)</code>), called the LEGB rule.</p>\n",
    "<p><b>information hiding</b> is when a function is defined <i>within</i> another function.</p>\n",
    "<pre>\n",
    "i = 5\n",
    "j = 'test'\n",
    "\n",
    "print(i)\n",
    "\n",
    "def function_a():\n",
    "    return i + 5\n",
    "</pre>"
   ]
  },
  {
   "cell_type": "code",
   "execution_count": 1,
   "metadata": {
    "tags": []
   },
   "outputs": [
    {
     "name": "stdout",
     "output_type": "stream",
     "text": [
      "Start: i = 5\n",
      "\tInside function_a: GLOBAL i = 5\n",
      "\tfunction_b with LOCAL i = 22\n",
      "\t\tfunction_c with i parameter + local value added = 12\n",
      "\tfunction_d with i parameter = 10\n",
      "\t\tfunction_c with i parameter + local value added = 10\n",
      "\tfunction e: 100\n",
      "\n",
      " what about the other global j? This is a global var from line 2.\n",
      "\n",
      "End GLOBAL i = 10\n"
     ]
    }
   ],
   "source": [
    "i = 5\n",
    "j = 'This is a global var from line 2.'\n",
    "\n",
    "print(f\"Start: i = {i}\")\n",
    "\n",
    "def function_a():\n",
    "    print(f\"\\tInside function_a: GLOBAL i = {i}\")\n",
    "    \n",
    "def function_b():\n",
    "    i = 22\n",
    "    print(f\"\\tfunction_b with LOCAL i = {i}\")\n",
    "\n",
    "def function_c(i):\n",
    "    i = i + 7\n",
    "    print(f\"\\t\\tfunction_c with i parameter + local value added = {i}\")\n",
    "    return i\n",
    "\n",
    "def function_d(i):\n",
    "    i = i + 5\n",
    "    print(f\"\\tfunction_d with i parameter = {i}\")\n",
    "    return i\n",
    "\n",
    "def function_e(i):\n",
    "    print(f\"\\tfunction e: {i ** 2}\")\n",
    "\n",
    "function_a()\n",
    "function_b()\n",
    "function_c(i)\n",
    "i = function_d(i)\n",
    "          \n",
    "function_e(function_c(3)) # notice 3 is passed to c(); 7 is added = 10;\n",
    "                          # then e squares the returned value of 10.\n",
    "\n",
    "print(f\"\\n what about the other global j? {j}\")\n",
    "print(f\"\\nEnd GLOBAL i = {i}\")"
   ]
  },
  {
   "cell_type": "code",
   "execution_count": 7,
   "metadata": {
    "tags": []
   },
   "outputs": [
    {
     "name": "stdout",
     "output_type": "stream",
     "text": [
      "This is A\n",
      "This is B inside A:  57\n",
      "This is B inside A:  55\n",
      "50\n"
     ]
    }
   ],
   "source": [
    "# information hiding example\n",
    "x = 'cat'\n",
    "\n",
    "def A():\n",
    "    x = 50\n",
    "    print(\"This is A\")\n",
    "    \n",
    "    def B(x):\n",
    "        x = x + 5\n",
    "        print(\"This is B inside A: \", x)\n",
    "    # --------\n",
    "    B(52)\n",
    "    B(x)\n",
    "    print(x)\n",
    "# ---------------------------------\n",
    "A()"
   ]
  },
  {
   "cell_type": "code",
   "execution_count": 5,
   "metadata": {
    "tags": []
   },
   "outputs": [
    {
     "ename": "NameError",
     "evalue": "name 'B' is not defined",
     "output_type": "error",
     "traceback": [
      "\u001b[0;31m---------------------------------------------------------------------------\u001b[0m",
      "\u001b[0;31mNameError\u001b[0m                                 Traceback (most recent call last)",
      "Cell \u001b[0;32mIn[5], line 2\u001b[0m\n\u001b[1;32m      1\u001b[0m \u001b[38;5;66;03m# but can we access B() directly, without A()?\u001b[39;00m\n\u001b[0;32m----> 2\u001b[0m B(\u001b[38;5;241m22\u001b[39m)\n",
      "\u001b[0;31mNameError\u001b[0m: name 'B' is not defined"
     ]
    }
   ],
   "source": [
    "# but can we access B() directly, without A()?\n",
    "B(22)\n",
    "\n",
    "# no, we can't!"
   ]
  },
  {
   "cell_type": "markdown",
   "metadata": {},
   "source": [
    "<hr />\n",
    "<h2 style=\"background-color: #003262; color:white; border-radius: 4px; padding: 8px;\">\n",
    "Recursion\n",
    "</h2>\n",
    "<p>Recursion is a function that calls itself.  Sometimes recursion consumes a lot of resources.  Python imposes a limit on the # of recursive calls; you can reset the value.  Here we compare two similar activities using recursion and separate functions.</p>"
   ]
  },
  {
   "cell_type": "code",
   "execution_count": 6,
   "metadata": {},
   "outputs": [
    {
     "name": "stdout",
     "output_type": "stream",
     "text": [
      "1 \t 3\n",
      "2 \t 5\n",
      "3 \t 7\n",
      "4 \t 9\n",
      "5 \t 11\n",
      "6 \t 13\n",
      "7 \t 15\n",
      "8 \t 17\n",
      "9 \t 19\n",
      "10 \t 21\n"
     ]
    }
   ],
   "source": [
    "def func(x):\n",
    "    return x * 2\n",
    "\n",
    "def demo_0(limit):\n",
    "    i = 0\n",
    "    x = 1\n",
    "    while i < limit:\n",
    "        x += func(1)\n",
    "        i += 1\n",
    "        print(f\"{i} \\t {x}\")\n",
    "        \n",
    "demo_0(10)"
   ]
  },
  {
   "cell_type": "code",
   "execution_count": 7,
   "metadata": {},
   "outputs": [
    {
     "name": "stdout",
     "output_type": "stream",
     "text": [
      "Count: 0 \ti = 3\n",
      "Count: 1 \ti = 7\n",
      "Count: 2 \ti = 15\n",
      "Count: 3 \ti = 31\n",
      "Count: 4 \ti = 63\n",
      "Count: 5 \ti = 127\n",
      "Count: 6 \ti = 255\n",
      "Count: 7 \ti = 511\n",
      "Count: 8 \ti = 1023\n",
      "Count: 9 \ti = 2047\n"
     ]
    }
   ],
   "source": [
    "# NON recursive\n",
    "def func(x):\n",
    "    if x > 0:\n",
    "        x = x + 1\n",
    "    else:\n",
    "        x = 0\n",
    "    return x\n",
    "    \n",
    "def demo_1(limit):\n",
    "    cnt = 0\n",
    "    i = 1\n",
    "    while cnt < limit:\n",
    "        i = func(i) + i\n",
    "        print(f\"Count: {cnt} \\ti = {i}\")\n",
    "        cnt = cnt + 1\n",
    "        \n",
    "demo_1(10)"
   ]
  },
  {
   "cell_type": "code",
   "execution_count": 8,
   "metadata": {},
   "outputs": [
    {
     "name": "stdout",
     "output_type": "stream",
     "text": [
      "------------------------------\n",
      "Count: 1 \tx = 1\n",
      "Count: 2 \tx = 3\n",
      "Count: 3 \tx = 6\n",
      "Count: 4 \tx = 10\n",
      "Count: 5 \tx = 15\n",
      "Count: 6 \tx = 21\n",
      "Count: 7 \tx = 28\n",
      "Count: 8 \tx = 36\n",
      "Count: 9 \tx = 45\n",
      "Count: 10 \tx = 55\n"
     ]
    },
    {
     "data": {
      "text/plain": [
       "55"
      ]
     },
     "execution_count": 8,
     "metadata": {},
     "output_type": "execute_result"
    }
   ],
   "source": [
    "# Recursive\n",
    "cnt = 1\n",
    "\n",
    "def rec_1(x):\n",
    "    \"\"\" a recursive function that accepts a single int value \"\"\"\n",
    "    global cnt\n",
    "    if x > 0:\n",
    "        x = x + rec_1(x - 1)\n",
    "        print(f\"Count: {cnt} \\tx = {x}\")\n",
    "        cnt = cnt + 1\n",
    "    else:\n",
    "        x = 0\n",
    "    return x\n",
    "    \n",
    "print(\"-\"*30)\n",
    "rec_1(10)"
   ]
  },
  {
   "cell_type": "markdown",
   "metadata": {},
   "source": [
    "<p><b style=\"color: #3B7EA1;\">Sometime recursion is <i>not</i> faster...</p>"
   ]
  },
  {
   "cell_type": "code",
   "execution_count": 9,
   "metadata": {
    "tags": []
   },
   "outputs": [
    {
     "ename": "NameError",
     "evalue": "name 'rec_1' is not defined",
     "output_type": "error",
     "traceback": [
      "\u001b[0;31m---------------------------------------------------------------------------\u001b[0m",
      "\u001b[0;31mNameError\u001b[0m                                 Traceback (most recent call last)",
      "Cell \u001b[0;32mIn[9], line 5\u001b[0m\n\u001b[1;32m      1\u001b[0m \u001b[38;5;28;01mimport\u001b[39;00m \u001b[38;5;21;01mtime\u001b[39;00m\n\u001b[1;32m      3\u001b[0m start \u001b[38;5;241m=\u001b[39m time\u001b[38;5;241m.\u001b[39mtime()\n\u001b[0;32m----> 5\u001b[0m rec_1(\u001b[38;5;241m2000\u001b[39m)\n\u001b[1;32m      7\u001b[0m \u001b[38;5;28mprint\u001b[39m(time\u001b[38;5;241m.\u001b[39mtime() \u001b[38;5;241m-\u001b[39m start)\n",
      "\u001b[0;31mNameError\u001b[0m: name 'rec_1' is not defined"
     ]
    }
   ],
   "source": [
    "import time\n",
    "\n",
    "start = time.time()\n",
    "\n",
    "rec_1(2000)\n",
    "\n",
    "print(time.time() - start)"
   ]
  },
  {
   "cell_type": "code",
   "execution_count": 10,
   "metadata": {
    "tags": []
   },
   "outputs": [
    {
     "ename": "NameError",
     "evalue": "name 'demo_0' is not defined",
     "output_type": "error",
     "traceback": [
      "\u001b[0;31m---------------------------------------------------------------------------\u001b[0m",
      "\u001b[0;31mNameError\u001b[0m                                 Traceback (most recent call last)",
      "Cell \u001b[0;32mIn[10], line 5\u001b[0m\n\u001b[1;32m      1\u001b[0m \u001b[38;5;28;01mimport\u001b[39;00m \u001b[38;5;21;01mtime\u001b[39;00m\n\u001b[1;32m      3\u001b[0m start \u001b[38;5;241m=\u001b[39m time\u001b[38;5;241m.\u001b[39mtime()\n\u001b[0;32m----> 5\u001b[0m demo_0(\u001b[38;5;241m10\u001b[39m)\n\u001b[1;32m      7\u001b[0m \u001b[38;5;28mprint\u001b[39m(time\u001b[38;5;241m.\u001b[39mtime() \u001b[38;5;241m-\u001b[39m start)\n",
      "\u001b[0;31mNameError\u001b[0m: name 'demo_0' is not defined"
     ]
    }
   ],
   "source": [
    "import time\n",
    "\n",
    "start = time.time()\n",
    "\n",
    "demo_0(10)\n",
    "\n",
    "print(time.time() - start)"
   ]
  },
  {
   "cell_type": "markdown",
   "metadata": {},
   "source": [
    "<hr />\n",
    "<h2 style=\"background-color: #003262; color:white; border-radius: 4px; padding: 8px;\">\n",
    "Exceptions\n",
    "</h2>"
   ]
  },
  {
   "cell_type": "markdown",
   "metadata": {},
   "source": [
    "<h2>Try ... except block</h2>\n",
    "<p>Using the above error as a bridge, how to deal with errors before the fact?  \n",
    "    <b>NB</b>: use the try...except block anytime \n",
    "<ol>\n",
    "    <li>file read/write</li>\n",
    "    <li>sql connections and read/write</li>\n",
    "    <li>any really critical data for your script</li>\n",
    "    <li>any time you want to check a variable</li>\n",
    "</ol>\n",
    "<p>There are <b>built-in exceptions</b> and we can <b>define our own</b>.</p>\n",
    "<h2 style=\"color: #3B7EA1;\">Examples</h2>\n",
    "<ul>\n",
    "    <li>File Read: 4 versions</li>\n",
    "    <li>Built-in Exceptions</li>\n",
    "    <li>Defining your own</li>\n",
    "</ul>"
   ]
  },
  {
   "cell_type": "markdown",
   "metadata": {},
   "source": [
    "<p>\n",
    "    <img style=\"float:left; width: 50px; padding-right:10px;\" src=\"images/DiscussIcon.png\">\n",
    "What kinds of errors can you anticipate?  How would you handle errors - save them to a log for analysis? Send an error message to the end-user?  What about missing data or data out of range?  Or ... </p>\n",
    "<p>Here is a sequence of building up errors and try-except syntax.</p>"
   ]
  },
  {
   "cell_type": "code",
   "execution_count": 11,
   "metadata": {},
   "outputs": [
    {
     "name": "stdout",
     "output_type": "stream",
     "text": [
      "/Users/gb/Documents/UCB-DataSci/Fa23/wk5/testofile.txt\n"
     ]
    }
   ],
   "source": [
    "import os\n",
    "print(os.path.abspath(\"testofile.txt\"))"
   ]
  },
  {
   "cell_type": "code",
   "execution_count": 18,
   "metadata": {},
   "outputs": [
    {
     "name": "stdout",
     "output_type": "stream",
     "text": [
      "File exists\n"
     ]
    }
   ],
   "source": [
    "# 1: a generic Exception\n",
    "try:\n",
    "    file = open('testofile.txt')\n",
    "    print('File exists')\n",
    "except Exception:\n",
    "    print('File does not exist')"
   ]
  },
  {
   "cell_type": "code",
   "execution_count": 19,
   "metadata": {},
   "outputs": [
    {
     "name": "stdout",
     "output_type": "stream",
     "text": [
      "File exists\n"
     ]
    }
   ],
   "source": [
    "# 2: a specific built-in exception FileNotFound\n",
    "try:\n",
    "    file = open('testofile.txt')\n",
    "    print('File exists')\n",
    "except FileNotFoundError as e:\n",
    "    print('File does not exist:', e)\n",
    "except Exception as e:\n",
    "    print('An error occurred:', e)"
   ]
  },
  {
   "cell_type": "code",
   "execution_count": 20,
   "metadata": {},
   "outputs": [
    {
     "name": "stdout",
     "output_type": "stream",
     "text": [
      "File exists\n",
      "Η αγάπη για τα χρήματα είναι η ρίζα κάθε κακού.\n"
     ]
    }
   ],
   "source": [
    "# 3: Built-in and Generic Exception\n",
    "# notice the odd application of \"else\"\n",
    "try:\n",
    "    file = open('testofile2.txt')\n",
    "    print('File exists')\n",
    "except FileNotFoundError as e:\n",
    "    print('File does not exist:', e)\n",
    "except Exception as e:\n",
    "    print('An error occurred:', e)\n",
    "else:\n",
    "    print(file.read())\n",
    "    file.close()"
   ]
  },
  {
   "cell_type": "markdown",
   "metadata": {},
   "source": [
    "<pre>\n",
    "try:\n",
    "       # Some Code.... \n",
    "\n",
    "except:\n",
    "       # optional block\n",
    "       # Handling of exception (if required)\n",
    "\n",
    "else:\n",
    "       # execute if no exception\n",
    "\n",
    "finally:\n",
    "      # Some code .....(always executed)\n",
    "</pre>"
   ]
  },
  {
   "cell_type": "code",
   "execution_count": 6,
   "metadata": {},
   "outputs": [
    {
     "name": "stdout",
     "output_type": "stream",
     "text": [
      "Yeah, Tyler! The answer is 1.\n",
      "Yikes, Olivia!  Cannot divide by zero.\n"
     ]
    }
   ],
   "source": [
    "def demo_divide(x, y):\n",
    "    try:\n",
    "        result = x // y\n",
    "    except ZeroDivisionError:\n",
    "        print(\"Yikes, Olivia!  Cannot divide by zero.\")\n",
    "    else:\n",
    "        print(f\"Yeah, Tyler! The answer is {result}.\")\n",
    "\n",
    "demo_divide(3, 2)\n",
    "demo_divide(3, 0)"
   ]
  },
  {
   "cell_type": "code",
   "execution_count": 24,
   "metadata": {},
   "outputs": [
    {
     "name": "stdout",
     "output_type": "stream",
     "text": [
      "*** [File exists.] ***\n",
      "\n",
      "This is testofile.txt\n",
      "鹅、鹅、鹅    goose, goose, goose\n",
      "曲项向天歌。  The song is singing to the sky.\n",
      "白毛浮绿水，  White hair floats on green water,\n",
      "红掌拨清波    Anthurium stirs clear waves\n",
      "------------\n",
      "Morne esprit, autrefois amoureux de la lutte, \n",
      "L'Espoir, dont l'éperon attisait ton ardeur, \n",
      "Ne veut plus t'enfourcher! Couche-toi sans pudeur, \n",
      "Vieux cheval dont le pied à chaque obstacle bute. \n",
      "Résigne-toi, mon coeur; dors ton sommeil de brute.\n",
      "\n",
      "[The file has been closed.]\n",
      "\n",
      "[The finally area always runs. Exception or not. Ok!.]\n"
     ]
    }
   ],
   "source": [
    "# 4: as above; including the \"finally\"\n",
    "status = \"\"\n",
    "try:\n",
    "    file = open('testofile.txt')\n",
    "    print('*** [File exists.] ***\\n')\n",
    "    status = \"Ok!\"\n",
    "except FileNotFoundError as e:\n",
    "    print('\\t[Sorry, File does not exist:', e,']')\n",
    "    status = \"failure\"\n",
    "except Exception as e:\n",
    "    print(f\"\\t[An error occurred: {e}.]\")\n",
    "    status = \"generic failure\" # probably write to the error log\n",
    "else:\n",
    "    print(file.read())\n",
    "    try:\n",
    "        file.close()\n",
    "        print(f\"\\n[The file has been closed.]\")\n",
    "    except:\n",
    "        # can't close the file.\n",
    "        print(\"\\n[Sorry, can't close the file.]\")\n",
    "finally:\n",
    "    # if sql show the status code to the end-user...\n",
    "    print(f'\\n[The finally area always runs. Exception or not. {status}.]')"
   ]
  },
  {
   "cell_type": "code",
   "execution_count": 4,
   "metadata": {},
   "outputs": [
    {
     "name": "stdout",
     "output_type": "stream",
     "text": [
      "Enter a float: 7\n",
      "reciprocal is  0.14285714285714285\n",
      "Enter a number: x\n",
      "Sorry, only numbers, please.\n",
      "\n"
     ]
    }
   ],
   "source": [
    "# 5 \"Mission critical\" variables [making sure x is there]\n",
    "# and notice testing the variables: ValueError and ZeroDivisionError\n",
    "\n",
    "y = float(input(\"Enter a float: \"))\n",
    "print(\"reciprocal is \",1/y)\n",
    "# ----------------------------------\n",
    "status_msg = \"\"\n",
    "try:\n",
    "    x = float(input(\"Enter a number: \"))\n",
    "    print(\"\\tThe reciprocal is \", 1/x)\n",
    "\n",
    "except ValueError:\n",
    "    # in case the user enters a letter\n",
    "    # this is an example of a _specific_ error\n",
    "    print(\"Sorry, only numbers, please.\")\n",
    "\n",
    "except ZeroDivisionError:\n",
    "    # this is an example of a _specific_ error\n",
    "    print(\"Sorry, no reciprocal for 0.\")\n",
    "\n",
    "except:\n",
    "    # this is an example of a _general_ error\n",
    "    # something else went wrong.\n",
    "    print(\"Sorry, there was an error.  Contact Rob.\")\n",
    "\n",
    "else: # never gonna print - but finally would!\n",
    "    status_msg = \"All good.\"\n",
    "    #print(\"\\nThis is the else section - called no matter what.\")\n",
    "\n",
    "print(status_msg)"
   ]
  },
  {
   "cell_type": "code",
   "execution_count": null,
   "metadata": {},
   "outputs": [],
   "source": [
    "# 6: define Python user-defined exceptions\n",
    "# in this example we want to make sure that the \n",
    "# user's input is okay ... notice \"raise\"\n",
    "\n",
    "class InvalidAgeException(Exception):\n",
    "    \"Raised when the input value is less than 18\"\n",
    "    # here we could save to a log or send a message.\n",
    "    pass\n",
    "\n",
    "# you need to guess this number\n",
    "number = 18\n",
    "\n",
    "try:\n",
    "    input_num = int(input(\"Enter a number: \"))\n",
    "    if input_num < number:\n",
    "        raise InvalidAgeException\n",
    "    else:\n",
    "        print(\"Eligible to Vote\")\n",
    "        \n",
    "except InvalidAgeException:\n",
    "    print(\"Exception occurred: Invalid Age\")"
   ]
  },
  {
   "cell_type": "code",
   "execution_count": null,
   "metadata": {},
   "outputs": [],
   "source": [
    "# 6a: same idea but in object-oriented code.\n",
    "# in this example, only students 18-25 get the discount.\n",
    "\n",
    "class InvalidAgeException(Exception):\n",
    "    \"\"\"Exception raised for errors in the input age.\n",
    "\n",
    "    Attributes:\n",
    "        age -- input age which caused the error\n",
    "        message -- explanation of the error\n",
    "    \"\"\"\n",
    "\n",
    "    def __init__(self, age, message=\"Discounts only for students under 25 (18 - 25)\"):\n",
    "        self.age = age\n",
    "        self.message = message\n",
    "        super().__init__(self.message)\n",
    "\n",
    "\n",
    "age = int(input(\"Enter your age: \"))\n",
    "if not 18 < age < 25:\n",
    "    raise InvalidAgeException(age)"
   ]
  },
  {
   "cell_type": "code",
   "execution_count": null,
   "metadata": {},
   "outputs": [],
   "source": []
  },
  {
   "cell_type": "markdown",
   "metadata": {},
   "source": [
    "<hr />\n",
    "<h2 style=\"background-color: #003262; color:white; border-radius: 4px; padding: 8px;\">\n",
    "Lambda and Map()\n",
    "</h2>"
   ]
  },
  {
   "cell_type": "markdown",
   "metadata": {},
   "source": [
    "<img src=\"images/mapsyntax.jpg\">\n",
    "<p>In the first pass, the value of <code>x</code> is taken from the iterable (here 23) and passed to the middle x.</p>\n",
    "<p>\n",
    "The lambda says to declare a placeholder variable x.\n",
    "</p><p>\n",
    "Repeat until the iterable is exhausted.</p>"
   ]
  },
  {
   "cell_type": "markdown",
   "metadata": {},
   "source": [
    "<hr/>\n",
    "<p>\n",
    "<img src=\"images/AdvancedIcon.png\" style=\"width:50px;padding-right:10px;float:left;\">\n",
    "After list comprehensions what can we do to pass data (very much like a list comprehension) that&rsquo;ll build up to bigger containers? Hence <code>lambda</code> - an anonymous function and <code>map</code>.</p>\n",
    "<p>The syntax is straight forward: a placeholder variable separated by a colon : and then the action.</p>\n",
    "<p>A <code>lambda</code> is a small, anonymous function, taking any number of arguments but can have only <u>one</u> expression.  The syntax is <code>lambda <i>arguments</i> : <i>expression</i></code>.</p>\n",
    "<p>Notice the \"placeholder\" variable in the middle of the statement, the actions upon (expression) upon that variable.  The lambda acts like the \"eval()\" function in some languages.</p>\n",
    "<p style=\"border-radius:3px;background-color:steelblue;padding:5px;color:white;\">Read each of the below statements and think about how they're read by the computer and where the \"temp\" variable is declared and initialized.</p>"
   ]
  },
  {
   "cell_type": "markdown",
   "metadata": {},
   "source": [
    "<h2 style=\"color: #3B7EA1;\">One variable</h2>"
   ]
  },
  {
   "cell_type": "code",
   "execution_count": 10,
   "metadata": {},
   "outputs": [
    {
     "name": "stdout",
     "output_type": "stream",
     "text": [
      "<function <lambda> at 0x10671f060>\n",
      "15\n"
     ]
    },
    {
     "data": {
      "text/plain": [
       "' this lives on the heap and will disappear from RAM after use. \\n'"
      ]
     },
     "execution_count": 10,
     "metadata": {},
     "output_type": "execute_result"
    }
   ],
   "source": [
    "# one var \n",
    "def x(i):\n",
    "    return i + 10\n",
    "\n",
    "\"\"\" In the stack there must be a reference for ever \n",
    "for this function ... \"\"\"\n",
    "\n",
    "x = lambda a : a + 10\n",
    "print(x)\n",
    "print(x(5))\n",
    "\"\"\" this lives on the heap and will disappear from RAM after use. \n",
    "\"\"\""
   ]
  },
  {
   "cell_type": "markdown",
   "metadata": {},
   "source": [
    "<h2  style=\"color: #3B7EA1;\">Two Variables</h2>"
   ]
  },
  {
   "cell_type": "code",
   "execution_count": 1,
   "metadata": {},
   "outputs": [
    {
     "name": "stdout",
     "output_type": "stream",
     "text": [
      "<function <lambda> at 0x10671e200>\n",
      "15\n",
      "35\n",
      "68\n",
      "<class 'list'>\n",
      "[11, 22, 33]\n"
     ]
    }
   ],
   "source": [
    "# two vars:\n",
    "total = lambda a, b : a + b\n",
    "print(total(20,15))\n",
    "\n",
    "# lambda accepting 3 vars and adding them \n",
    "x = lambda a, b, c : a + b + c\n",
    "print(x(10, 25, 33))\n",
    "\n",
    "# notice here number1[0] is added to number2[0] and so on\n",
    "number1 = [5,10,15]\n",
    "number2 = [6, 12, 18]\n",
    "\n",
    "print(type(number2))\n",
    "\n",
    "result = map(lambda x, y: x + y, number1, number2)\n",
    "\n",
    "print(list(result))"
   ]
  },
  {
   "cell_type": "markdown",
   "metadata": {},
   "source": [
    "<h2  style=\"color: #3B7EA1;\">Lambda in a function</h2>"
   ]
  },
  {
   "cell_type": "code",
   "execution_count": 2,
   "metadata": {},
   "outputs": [
    {
     "name": "stdout",
     "output_type": "stream",
     "text": [
      "Enter the whole number amount: $: 42\n",
      "€35.699999999999996\n",
      "€ 35.70\n"
     ]
    }
   ],
   "source": [
    "def get_rate(currency):\n",
    "    rates = {\"EUR\": .85, \"CND\": 1.23}\n",
    "    return rates[currency]\n",
    "\n",
    "def todays_rates(n):\n",
    "    return lambda a : a * n\n",
    "\n",
    "my_euros = todays_rates( get_rate(\"EUR\") )\n",
    "\n",
    "money_to_convert = int(input(\"Enter the whole number amount: $: \"))\n",
    "\n",
    "print(f\"€{my_euros(money_to_convert)}\")\n",
    "\n",
    "# ---------------------------------\n",
    "import decimal\n",
    "\n",
    "inputNumber = my_euros(money_to_convert)\n",
    "decimalVersion = decimal.Decimal(inputNumber)\n",
    "roundedVersion = decimalVersion.quantize(decimal.Decimal('0.00'))\n",
    "\n",
    "print(\"€\",roundedVersion)"
   ]
  },
  {
   "cell_type": "markdown",
   "metadata": {},
   "source": [
    "<hr />\n",
    "<h2 style=\"color: #3B7EA1;\">Map and Lambda</h2>\n",
    "<p><code>map()</code> executes a specified function for each element in an iterable.</p><p>The syntax is <code>map(<i>function</i>, <i>iterable</i></code>.)\n",
    "</p>\n",
    "<p>Here we define a function that accepts a single parameter and returns the length of that parameter.  The next example passes two iterables.  Think of <code>map()</code> as your own hands - getting the first value from the iterable and passing it into the placeholder variable x that lambda will use.</p>"
   ]
  },
  {
   "cell_type": "code",
   "execution_count": 15,
   "metadata": {},
   "outputs": [
    {
     "data": {
      "text/plain": [
       "[25, 100, 225, 400]"
      ]
     },
     "execution_count": 15,
     "metadata": {},
     "output_type": "execute_result"
    }
   ],
   "source": [
    "list(map(lambda x : x**2, (5, 10, 15, 20)))"
   ]
  },
  {
   "cell_type": "code",
   "execution_count": 16,
   "metadata": {},
   "outputs": [
    {
     "name": "stdout",
     "output_type": "stream",
     "text": [
      "[6, 8, 4, 13]\n"
     ]
    }
   ],
   "source": [
    "# the map command takes each element from the list () and passes \n",
    "# them one-by-one to the function (whoIsLonger()).  The results\n",
    "# are still in RAM, so let's send them to a list for printing.\n",
    "\n",
    "def whoIsLonger(n):\n",
    "    return len(n)\n",
    "\n",
    "x = map(whoIsLonger, ('Boston','Berkeley','Roma', 'Juan-les-Pins'))\n",
    "print(list(x))"
   ]
  },
  {
   "cell_type": "code",
   "execution_count": 18,
   "metadata": {},
   "outputs": [
    {
     "name": "stdout",
     "output_type": "stream",
     "text": [
      "[18, 16, 14, 12]\n",
      "[11, 22, 33]\n"
     ]
    }
   ],
   "source": [
    "# LAMBDA with single var input to iterate over\n",
    "numbers = (9, 8, 7, 6)\n",
    "result = map(lambda x: x + x, numbers)\n",
    "print(list(result))\n",
    "\n",
    "# OUTPUT: [18, 16, 14, 12]\n",
    "\n",
    "# LAMBDA with more than 1 object\n",
    "number1 = [5, 10, 15]\n",
    "number2 = [6, 12, 18]\n",
    "\n",
    "result = map(lambda x,y : x+y, number1, number2)\n",
    "print(list(result))\n",
    "\n",
    "# OUTPUT: [11, 22, 33]"
   ]
  },
  {
   "cell_type": "code",
   "execution_count": 17,
   "metadata": {},
   "outputs": [
    {
     "name": "stdout",
     "output_type": "stream",
     "text": [
      "<map object at 0x1087203a0>\n",
      "[2, 4, 6, 8]\n",
      "<map object at 0x108609090>\n",
      "['Boston3000', 'BackBay3000', 'Cambridge1203']\n"
     ]
    }
   ],
   "source": [
    "# do the same thing different ways\n",
    "# MAP\n",
    "def addition(n):\n",
    "    return n + n\n",
    "    \n",
    "numbers = (1, 2, 3, 4)\n",
    "result = map(addition, numbers)\n",
    "print(result)\n",
    "print(list(result))\n",
    "\n",
    "# try with strings\n",
    "def additionS(s1, s2):\n",
    "    return s1 + s2\n",
    "\n",
    "x = map(additionS, [\"Boston\", \"BackBay\", \"Cambridge\"], [\"3000\",\"3000\",\"1203\"])\n",
    "print(x)  # notice this is a map object - \n",
    "# need to cast into something usable.\n",
    "\n",
    "converted_x_to_list = list(x)\n",
    "print(converted_x_to_list)"
   ]
  },
  {
   "cell_type": "markdown",
   "metadata": {},
   "source": [
    "<hr />\n",
    "<p style=\"background-color: #003262; color:white; border-radius: 4px; padding: 8px; font-size:24px;\">Breakout Room\n",
    "</p>\n",
    "<a href=\"week_05_activity_solution.ipynb"
   ]
  },
  {
   "cell_type": "markdown",
   "metadata": {},
   "source": [
    "<hr />\n",
    "<div style=\"background-color:#C4820E;color:white; padding:5px;\">\n",
    "    <strong>Appendix</strong>: Optional: Appendix about handling errors: assert, DEBUG, *arg and **kwarg &amp; logging errors.</div>\n",
    "</p>\n",
    "\n"
   ]
  },
  {
   "cell_type": "markdown",
   "metadata": {},
   "source": [
    "<p>There are several ways to handle errors, depending on the programming language:\n",
    "    <ol style=\"line-height:18px;\">\n",
    "        <li><code>assert</code>: a very python way.  This way we can separate data from coding, cause we know what the data should be (e.g., x + y = <i>2</i>) in order to focus on the coding</li>\n",
    "    <li>constant, e.g., a global boolean value <code>DEBUG = True</code> one way of using if statements during development</li>\n",
    "        <li>Using <i>default values</i> </li>\n",
    "        <li><code>try ... except</code> blocks; described below in the lesson</li>\n",
    "        <li><i>*arg</i> and <i>**kwarg</i></li>\n",
    "        <li><code>logging</code> described in the Appendix\n",
    "    </ol>\n",
    "</p>\n",
    "<p>One way to avoid errors is to pass a default value - that way a variable in a function doesn&rsquo;t have to be tested and the code reliably has data to use.</p>\n",
    "<p>Another way to avoid errors is when passing parameters to apply the idea of <i>polymorphism</i>: using the <code>*arg</code> and <code>**kwarg</code> to pass an unknown number of items (aka <i>positional arguments</i>)</p>\n",
    "<p>See Examples <a href=\"#appendix\">Appendix</a> below for python&rsquo;s <code>logging</code></p>"
   ]
  },
  {
   "cell_type": "markdown",
   "metadata": {},
   "source": [
    "<code>DEBUG = True</code><br />\n",
    "<code>assert</code><br />\n",
    "<code>logger</code><br />\n",
    "<code>*args</code><br />\n",
    "<code>**kwargs</code><br />\n",
    "<p>Use error checking (1) error correction on input, (2) critical running of your script (something that must be there or else!), (3) always use try/except around any file read/write, SQL connection, URL, etc., (4) accidents in math/missing values</p>\n",
    "<p><b>Boolean flag - debug idea</b></p>\n",
    "<pre style=\"color:olive;\">DEBUG = True\n",
    "...\n",
    "if DEBUG:\n",
    "    results = call_function_x()\n",
    "else:\n",
    "    results = call_other_function()\n",
    "\n",
    "print(f\"The test version results are {results}\")\n",
    "</pre>\n",
    "<hr />\n",
    "<p><b>Assert</b></p>\n",
    "<pre style=\"color:black;\">from nose.tools import assert_equal\n",
    "\n",
    "def test(num):\n",
    "    \"\"\" Returns the sum of all the digits of the input \"\"\"\n",
    "    returnTest = num + 5\n",
    "    return returnTest\n",
    "\n",
    "assert_equal(test(10), 15)\n",
    "\n",
    "print(test(55) == 12)  # for error checking - like a range of data.\n",
    "</pre>\n",
    "\n",
    "<hr />\n",
    "<p><b>Logging</b><br />and types of errors: debug, info, warning, error, critical.  Code usually continues running if <i>debug</i>, <i>info</i>, <i>warning</i>; but will crash on <i>error</i> and <i>critical</i>.</p>"
   ]
  },
  {
   "cell_type": "markdown",
   "metadata": {},
   "source": [
    "<hr /><b>Default values in parameters</b>\n",
    "<pre>\n",
    "def myfunction(name = \"Tom\"):\n",
    "    print(f\"Welcome, {name}\")\n",
    "\n",
    "myfunction(\"Rex\")\n",
    "myfunction()</pre>"
   ]
  },
  {
   "cell_type": "markdown",
   "metadata": {},
   "source": [
    "<hr />\n",
    "<b>*arg and **kwarg</b>\n",
    "<ul>\n",
    "    <li>\n",
    "        <code>*args</code> is used to unpack a list. \"args\" is just a name - call it anything you want. The * is used to pass \"positional arguments\" - that is, not a copy of the full list, but a way to iterate over the positions (0, 1, 2, ... n) to get each element.\n",
    "    </li>\n",
    "    <li>\n",
    "        <code>**kwarg</code> is for unpacking dictionaries\n",
    "    </li>\n",
    "</ul>\n",
    "<p><b>*arg Example</b></p>"
   ]
  },
  {
   "cell_type": "code",
   "execution_count": 11,
   "metadata": {},
   "outputs": [],
   "source": [
    "# *args is an unpacking operator.\n",
    "\n",
    "l1 = [1, 2, 3, 4, 5, 6]\n",
    "g = 1,2,3\n",
    "#print(l1)\n",
    "\n",
    "winner = 3\n",
    "\n",
    "#def sumset(para1, param2) ...\n",
    "#def sumset(give me the list)\n",
    "def sumset(*args):  # NAME doesn't matter - use *cats if you want!\n",
    "    summer = 0\n",
    "    #some other important data is here for checking ... \n",
    "    for x in args:\n",
    "        summer += x\n",
    "        print(f\"Sumset x = {x}. summer = {summer}\")\n",
    "    return summer"
   ]
  },
  {
   "cell_type": "code",
   "execution_count": 12,
   "metadata": {},
   "outputs": [
    {
     "name": "stdout",
     "output_type": "stream",
     "text": [
      "Sumset x = 1. summer = 1\n",
      "Sumset x = 2. summer = 3\n",
      "Sumset x = 3. summer = 6\n",
      "Sumset x = 4. summer = 10\n",
      "Sumset x = 5. summer = 15\n",
      "Sumset x = 6. summer = 21\n",
      "\n",
      "Sumset with list:  21\n",
      "Sumset x = 1. summer = 1\n",
      "Sumset x = 2. summer = 3\n",
      "Sumset x = 3. summer = 6\n",
      "\n",
      "Sumset with hardcoded list: 6\n",
      "Sumset x = 1. summer = 1\n",
      "1\n"
     ]
    }
   ],
   "source": [
    "print(\"\\nSumset with list: \", sumset(*l1)) \n",
    "\n",
    "print(\"\\nSumset with hardcoded list:\", sumset(1, 2, 3)) \n",
    "# will work fine.\n",
    "\n",
    "print(sumset(l1[0]))\n",
    "\n",
    "#but not using the * to indicate unpacking will fail.\n",
    "#print(sumset(l1)) # will fail."
   ]
  },
  {
   "cell_type": "code",
   "execution_count": 13,
   "metadata": {},
   "outputs": [
    {
     "name": "stdout",
     "output_type": "stream",
     "text": [
      "<class 'list'>\n",
      "Who has arrived?  Suky\n"
     ]
    }
   ],
   "source": [
    "# Passing a list of hard-coded names and selecting \n",
    "# only #2 in unknown list.\n",
    "guests = [\"Tom\", \"Rex\", \"Suky\", \"Lars\", \"Jane\", \"Shuo\"]\n",
    "print(type(guests))\n",
    "\n",
    "def invitations(*guests):\n",
    "    print(\"Who has arrived? \", guests[2])\n",
    "\n",
    "invitations(\"Tom\", \"Rex\", \"Suky\", \"Lars\")"
   ]
  },
  {
   "cell_type": "markdown",
   "metadata": {},
   "source": [
    "<p><b>**kwarg Example</b> is used with dictionaries; if you don't know how many arguments will be used, use **</p>"
   ]
  },
  {
   "cell_type": "code",
   "execution_count": 4,
   "metadata": {},
   "outputs": [
    {
     "name": "stdout",
     "output_type": "stream",
     "text": [
      "Today's host is Rex\n"
     ]
    }
   ],
   "source": [
    "def invitations(**people):\n",
    "    print(\"Today's host is \" + people[\"host\"])\n",
    "\n",
    "invitations(dj = \"Tom\", host = \"Rex\")"
   ]
  },
  {
   "cell_type": "code",
   "execution_count": 5,
   "metadata": {},
   "outputs": [
    {
     "name": "stdout",
     "output_type": "stream",
     "text": [
      "<class 'dict'>\n",
      "\n",
      "GETTING VALUES\n",
      " cat dog\n"
     ]
    }
   ],
   "source": [
    "dtest = {\"1\":\"cat\", \"2\":\"dog\"}\n",
    "print(type(dtest))\n",
    "\n",
    "print(\"\\nGETTING VALUES\")\n",
    "\n",
    "def dtester(**kwargs):\n",
    "    v = \"\"\n",
    "    for i in kwargs.values():\n",
    "        v += \" \"+i\n",
    "    return v\n",
    "\n",
    "print(dtester(**dtest))"
   ]
  },
  {
   "cell_type": "code",
   "execution_count": 6,
   "metadata": {},
   "outputs": [
    {
     "name": "stdout",
     "output_type": "stream",
     "text": [
      "GETTING KEYS\n",
      "<class 'dict'>\n",
      " 1 2\n"
     ]
    }
   ],
   "source": [
    "print(\"GETTING KEYS\")\n",
    "dtest = {\"1\":\"cat\", \"2\":\"dog\"}\n",
    "print(type(dtest))\n",
    "\n",
    "def dtester(**kwargs):\n",
    "    v = \"\"\n",
    "    for i in kwargs:\n",
    "        v += \" \"+i\n",
    "    return v\n",
    "\n",
    "print(dtester(**dtest))"
   ]
  },
  {
   "cell_type": "markdown",
   "metadata": {},
   "source": [
    "<hr />\n",
    "<h2 style=\"color: #3B7EA1;\">Logging</h2>\n",
    "<b>A note about errors and debugging</b>\n",
    "<p>Consider hardcoding values first in order to focus on the logic of your script.  Once the logic seems solid (using the assert is a good idea here), now variabilize your code - removing the hard coded test values.  e.g., make sure that your addition function returns a correct value (2 + 2 ≠ 5) ... then you can replace vars (i + j = 4).</p>\n",
    "<p>There are 5 levels of errors: debug | info | Warning | Error | Critical.   Optional later: check out the <code>import logging</code> library and set for yourself the level of bugs to catch.</p>\n",
    "<pre>\n",
    "import logging\n",
    "\n",
    "#create a logger\n",
    "logger = logging.getLogger('mylogger')\n",
    "#set logging level - see the options: \n",
    "logger.setLevel(logging.DEBUG)\n",
    "\n",
    "handler = logging.FileHandler('mylog.log')\n",
    "#create a logging format\n",
    "formatter = logging.Formatter('%(asctime)s - %(name)s - %(levelname)s - %(message)s')\n",
    "handler.setFormatter(formatter)\n",
    "logger.addHandler(handler)\n",
    "\n",
    "#write a debug message\n",
    "logger.debug('This is a DEBUG message')\n",
    "</pre>\n",
    "<p>And then you can scan the file for error message and determine which to keep, which to show the end-user, and which of them need to be integrated into your try-except blocks.</p>\n",
    "<hr />\n",
    "<h3>Example</h3>"
   ]
  },
  {
   "cell_type": "code",
   "execution_count": 7,
   "metadata": {},
   "outputs": [],
   "source": [
    "\"\"\" from https://pythonexamples.org/python-logging-debug/ \"\"\"\n",
    "import logging\n",
    "\n",
    "class MyFilter(object):\n",
    "    def __init__(self, level):\n",
    "        self.__level = level\n",
    "\n",
    "    def filter(self, logRecord):\n",
    "        return logRecord.levelno <= self.__level\n",
    "\n",
    "#create a logger\n",
    "logger = logging.getLogger('mylogger')\n",
    "logger.setLevel(logging.DEBUG)\n",
    "handler = logging.FileHandler('mylog.log')\n",
    "formatter = logging.Formatter('%(asctime)s - %(name)s - %(levelname)s - %(message)s')\n",
    "handler.setFormatter(formatter)\n",
    "#set filter to log only DEBUG lines\n",
    "handler.addFilter(MyFilter(logging.DEBUG))\n",
    "logger.addHandler(handler)\n",
    "\n",
    "#write a debug line to log file\n",
    "logger.debug('This is a DEBUG message')\n",
    "logger.info('This is a INFO message')\n",
    "logger.warning('This is a WARNING message')\n",
    "logger.error('This is an ERROR message')\n",
    "logger.critical('This is a CRITICAL message')"
   ]
  },
  {
   "cell_type": "markdown",
   "metadata": {},
   "source": [
    "<hr />\n",
    "<p>End of the optional and review materials.</p>"
   ]
  }
 ],
 "metadata": {
  "kernelspec": {
   "display_name": "Python 3 (ipykernel)",
   "language": "python",
   "name": "python3"
  },
  "language_info": {
   "codemirror_mode": {
    "name": "ipython",
    "version": 3
   },
   "file_extension": ".py",
   "mimetype": "text/x-python",
   "name": "python",
   "nbconvert_exporter": "python",
   "pygments_lexer": "ipython3",
   "version": "3.11.4"
  }
 },
 "nbformat": 4,
 "nbformat_minor": 4
}
