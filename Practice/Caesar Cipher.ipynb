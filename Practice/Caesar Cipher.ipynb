{
 "cells": [
  {
   "cell_type": "code",
   "execution_count": 1,
   "id": "9e19bfcc",
   "metadata": {},
   "outputs": [],
   "source": [
    "alphabet = 'abcdefghijklmnopqrstuvwxyz'"
   ]
  },
  {
   "cell_type": "code",
   "execution_count": 2,
   "id": "08af1a09",
   "metadata": {},
   "outputs": [],
   "source": [
    "input_text = 'hello'"
   ]
  },
  {
   "cell_type": "code",
   "execution_count": 3,
   "id": "ab6363b7",
   "metadata": {},
   "outputs": [
    {
     "name": "stdout",
     "output_type": "stream",
     "text": [
      "khoor\n"
     ]
    }
   ],
   "source": [
    "output = ''\n",
    "for char in input_text:\n",
    "    alpha_index = alphabet.find(char)\n",
    "    output = output + alphabet[alpha_index+3]\n",
    "print(output)"
   ]
  },
  {
   "cell_type": "code",
   "execution_count": 4,
   "id": "c3c335ed",
   "metadata": {},
   "outputs": [],
   "source": [
    "def shift_amount(i):\n",
    "    return i%26"
   ]
  },
  {
   "cell_type": "code",
   "execution_count": 5,
   "id": "8382bb65",
   "metadata": {},
   "outputs": [],
   "source": [
    "def encrypt(text,required_shift):\n",
    "    text = text.lower()\n",
    "    out_string = ''\n",
    "    for char in text:\n",
    "        if char not in alphabet:\n",
    "            out_string = out_string + char\n",
    "        else:\n",
    "            alpha_index = alphabet.find(char)\n",
    "            out_string = out_string + alphabet[shift_amount(alpha_index + required_shift)]\n",
    "    return out_string"
   ]
  },
  {
   "cell_type": "code",
   "execution_count": 6,
   "id": "ac545b44",
   "metadata": {},
   "outputs": [],
   "source": [
    "new_string = 'Once Upon'\n",
    "shift = encrypt(new_string,5)"
   ]
  },
  {
   "cell_type": "code",
   "execution_count": 7,
   "id": "d77bfdda",
   "metadata": {},
   "outputs": [
    {
     "data": {
      "text/plain": [
       "'tshj zuts'"
      ]
     },
     "execution_count": 7,
     "metadata": {},
     "output_type": "execute_result"
    }
   ],
   "source": [
    "shift"
   ]
  },
  {
   "cell_type": "code",
   "execution_count": 8,
   "id": "89812f81",
   "metadata": {},
   "outputs": [
    {
     "ename": "TypeError",
     "evalue": "'str' object is not callable",
     "output_type": "error",
     "traceback": [
      "\u001b[0;31m---------------------------------------------------------------------------\u001b[0m",
      "\u001b[0;31mTypeError\u001b[0m                                 Traceback (most recent call last)",
      "\u001b[0;32m/var/folders/70/yhtnrnlx6f1b2nnthwkcgyfm0000gn/T/ipykernel_57094/3843859233.py\u001b[0m in \u001b[0;36m<module>\u001b[0;34m\u001b[0m\n\u001b[1;32m      1\u001b[0m \u001b[0mquestion\u001b[0m \u001b[0;34m=\u001b[0m \u001b[0;34m'the cat on the mat'\u001b[0m\u001b[0;34m\u001b[0m\u001b[0;34m\u001b[0m\u001b[0m\n\u001b[0;32m----> 2\u001b[0;31m \u001b[0mprint\u001b[0m\u001b[0;34m(\u001b[0m\u001b[0mencrypt\u001b[0m\u001b[0;34m(\u001b[0m\u001b[0mquestion\u001b[0m\u001b[0;34m(\u001b[0m\u001b[0;36m11\u001b[0m\u001b[0;34m)\u001b[0m\u001b[0;34m)\u001b[0m\u001b[0;34m)\u001b[0m\u001b[0;34m\u001b[0m\u001b[0;34m\u001b[0m\u001b[0m\n\u001b[0m",
      "\u001b[0;31mTypeError\u001b[0m: 'str' object is not callable"
     ]
    }
   ],
   "source": [
    "question = 'the cat on the mat'\n",
    "print(encrypt(question(11)))"
   ]
  },
  {
   "cell_type": "code",
   "execution_count": 10,
   "id": "1d3a5bf4",
   "metadata": {},
   "outputs": [
    {
     "name": "stdout",
     "output_type": "stream",
     "text": [
      "esp nle dle zy esp xle\n"
     ]
    }
   ],
   "source": [
    "question_text = 'the cat sat on the mat'\n",
    "print(encrypt(question_text,11))"
   ]
  },
  {
   "cell_type": "code",
   "execution_count": null,
   "id": "6c217b11",
   "metadata": {},
   "outputs": [],
   "source": []
  }
 ],
 "metadata": {
  "kernelspec": {
   "display_name": "Python 3 (ipykernel)",
   "language": "python",
   "name": "python3"
  },
  "language_info": {
   "codemirror_mode": {
    "name": "ipython",
    "version": 3
   },
   "file_extension": ".py",
   "mimetype": "text/x-python",
   "name": "python",
   "nbconvert_exporter": "python",
   "pygments_lexer": "ipython3",
   "version": "3.9.7"
  }
 },
 "nbformat": 4,
 "nbformat_minor": 5
}
