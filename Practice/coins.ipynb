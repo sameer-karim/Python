{
 "cells": [
  {
   "cell_type": "code",
   "execution_count": 1,
   "id": "ad0bbc3f",
   "metadata": {},
   "outputs": [],
   "source": [
    "n = 1001\n",
    "coins = [0]*n"
   ]
  },
  {
   "cell_type": "code",
   "execution_count": 2,
   "id": "3611060f",
   "metadata": {},
   "outputs": [],
   "source": [
    "#first loop increases step size (checking every second coin, third coin, etc), second loop iterates through coins. 0 = tails, 1 = heads\n",
    "for i in range(1,n):\n",
    "    for j in range (0,n,i):\n",
    "        coins[j] = 1 - coins[j]"
   ]
  },
  {
   "cell_type": "code",
   "execution_count": 3,
   "id": "1c1f49cc",
   "metadata": {},
   "outputs": [],
   "source": [
    "d = {}\n",
    "for i,v in enumerate(coins):\n",
    "    if v != 0:\n",
    "        d[i] = v"
   ]
  },
  {
   "cell_type": "code",
   "execution_count": 4,
   "id": "c1057fc6",
   "metadata": {},
   "outputs": [
    {
     "data": {
      "text/plain": [
       "{1: 1,\n",
       " 4: 1,\n",
       " 9: 1,\n",
       " 16: 1,\n",
       " 25: 1,\n",
       " 36: 1,\n",
       " 49: 1,\n",
       " 64: 1,\n",
       " 81: 1,\n",
       " 100: 1,\n",
       " 121: 1,\n",
       " 144: 1,\n",
       " 169: 1,\n",
       " 196: 1,\n",
       " 225: 1,\n",
       " 256: 1,\n",
       " 289: 1,\n",
       " 324: 1,\n",
       " 361: 1,\n",
       " 400: 1,\n",
       " 441: 1,\n",
       " 484: 1,\n",
       " 529: 1,\n",
       " 576: 1,\n",
       " 625: 1,\n",
       " 676: 1,\n",
       " 729: 1,\n",
       " 784: 1,\n",
       " 841: 1,\n",
       " 900: 1,\n",
       " 961: 1}"
      ]
     },
     "execution_count": 4,
     "metadata": {},
     "output_type": "execute_result"
    }
   ],
   "source": [
    "d"
   ]
  },
  {
   "cell_type": "code",
   "execution_count": null,
   "id": "0af8c23a",
   "metadata": {},
   "outputs": [],
   "source": []
  }
 ],
 "metadata": {
  "kernelspec": {
   "display_name": "Python 3 (ipykernel)",
   "language": "python",
   "name": "python3"
  },
  "language_info": {
   "codemirror_mode": {
    "name": "ipython",
    "version": 3
   },
   "file_extension": ".py",
   "mimetype": "text/x-python",
   "name": "python",
   "nbconvert_exporter": "python",
   "pygments_lexer": "ipython3",
   "version": "3.9.7"
  }
 },
 "nbformat": 4,
 "nbformat_minor": 5
}
