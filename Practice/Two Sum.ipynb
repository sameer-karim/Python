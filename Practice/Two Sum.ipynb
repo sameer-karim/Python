{
 "cells": [
  {
   "cell_type": "code",
   "execution_count": 1,
   "id": "d598c80d",
   "metadata": {},
   "outputs": [],
   "source": [
    "def two_sum(nums, target):\n",
    "    d = {}\n",
    "    \n",
    "    for i in range(len(nums)):\n",
    "        if target - nums[i] in d:\n",
    "            print(d)\n",
    "            return [d[target-nums[i]],i]\n",
    "        \n",
    "        d[nums[i]] = i\n",
    "        \n",
    "    return -1"
   ]
  },
  {
   "cell_type": "code",
   "execution_count": 3,
   "id": "8e3da37f",
   "metadata": {},
   "outputs": [
    {
     "name": "stdout",
     "output_type": "stream",
     "text": [
      "{8: 0, 6: 1, 11: 2}\n",
      "[1, 3]\n"
     ]
    }
   ],
   "source": [
    "L = [8,6,11,3]\n",
    "print(two_sum(L,9))"
   ]
  },
  {
   "cell_type": "code",
   "execution_count": 4,
   "id": "afd41ad5",
   "metadata": {},
   "outputs": [
    {
     "name": "stdout",
     "output_type": "stream",
     "text": [
      "{4: 0, 3: 1}\n",
      "[1, 2]\n"
     ]
    }
   ],
   "source": [
    "L2 = [4,3,7,2,7,9,12]\n",
    "print(two_sum(L2,10))"
   ]
  },
  {
   "cell_type": "code",
   "execution_count": 5,
   "id": "ff9e76a1",
   "metadata": {},
   "outputs": [
    {
     "name": "stdout",
     "output_type": "stream",
     "text": [
      "-1\n"
     ]
    }
   ],
   "source": [
    "L3 = [3,6,2]\n",
    "print(two_sum(L3, 40))"
   ]
  },
  {
   "cell_type": "code",
   "execution_count": null,
   "id": "acb2ff45",
   "metadata": {},
   "outputs": [],
   "source": []
  }
 ],
 "metadata": {
  "kernelspec": {
   "display_name": "Python 3 (ipykernel)",
   "language": "python",
   "name": "python3"
  },
  "language_info": {
   "codemirror_mode": {
    "name": "ipython",
    "version": 3
   },
   "file_extension": ".py",
   "mimetype": "text/x-python",
   "name": "python",
   "nbconvert_exporter": "python",
   "pygments_lexer": "ipython3",
   "version": "3.9.7"
  }
 },
 "nbformat": 4,
 "nbformat_minor": 5
}
