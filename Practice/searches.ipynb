{
 "cells": [
  {
   "cell_type": "code",
   "execution_count": 3,
   "id": "823598ef",
   "metadata": {},
   "outputs": [],
   "source": [
    "def linear_search(item, my_list):\n",
    "    i = 0\n",
    "    found = False\n",
    "    \n",
    "    while i < len(my_list) and found == False: #looking through the list for as long as it is and checking each item\n",
    "        if my_list[i] == item:\n",
    "            found = True\n",
    "        else:\n",
    "            i = i + 1\n",
    "    return found"
   ]
  },
  {
   "cell_type": "code",
   "execution_count": 4,
   "id": "8674faf1",
   "metadata": {},
   "outputs": [
    {
     "name": "stdout",
     "output_type": "stream",
     "text": [
      "True\n",
      "False\n"
     ]
    }
   ],
   "source": [
    "test = [6,5,8,2,4,45,78,23,66]\n",
    "print(linear_search(2,test))\n",
    "print(linear_search(44,test))"
   ]
  },
  {
   "cell_type": "code",
   "execution_count": 6,
   "id": "72f850ae",
   "metadata": {},
   "outputs": [],
   "source": [
    "def binary_search(item, my_list):\n",
    "    found = False\n",
    "    first = 0\n",
    "    last = len(my_list) - 1\n",
    "    \n",
    "    while first <= last and found == False:\n",
    "        midpoint = (first + last)//2\n",
    "        if my_list[midpoint] == item:\n",
    "            found = True\n",
    "        else:\n",
    "            if my_list[midpoint] < item:\n",
    "                first = midpoint + 1\n",
    "            else:\n",
    "                last = midpoint - 1\n",
    "    return found\n"
   ]
  },
  {
   "cell_type": "code",
   "execution_count": 7,
   "id": "b9da20e8",
   "metadata": {},
   "outputs": [
    {
     "name": "stdout",
     "output_type": "stream",
     "text": [
      "True\n",
      "False\n"
     ]
    }
   ],
   "source": [
    "test = [6,5,8,2,4,45,78,23,66]\n",
    "print(linear_search(2,test))\n",
    "print(linear_search(44,test))"
   ]
  },
  {
   "cell_type": "code",
   "execution_count": 8,
   "id": "34c1dc65",
   "metadata": {},
   "outputs": [],
   "source": [
    "def bubble_sort(my_list):\n",
    "    swap_again = True\n",
    "    n = len(my_list)\n",
    "    while n > 0 and swap_again == True:\n",
    "        n = n - 1\n",
    "        swap_again == False\n",
    "        \n",
    "        for i in range(n):\n",
    "            if my_list[i] > my_list[i+1]:\n",
    "                my_list[i], my_list[i+1] = my_list[i+1], my_list[i] #checks values against each other and swaps if greater\n",
    "                swap_again = True\n",
    "    return my_list"
   ]
  },
  {
   "cell_type": "code",
   "execution_count": 9,
   "id": "479feb8c",
   "metadata": {},
   "outputs": [
    {
     "name": "stdout",
     "output_type": "stream",
     "text": [
      "[3, 30, 32, 60, 70, 100, 5445]\n"
     ]
    }
   ],
   "source": [
    "test_2 = [70,60,100,3,5445,30,32]\n",
    "print(bubble_sort(test_2))"
   ]
  },
  {
   "cell_type": "code",
   "execution_count": 11,
   "id": "c780b56c",
   "metadata": {},
   "outputs": [],
   "source": [
    "def insertion_sort(my_list):\n",
    "    n = len(my_list)\n",
    "    for i in range(1,n):\n",
    "        value = my_list[i]\n",
    "        j = i\n",
    "        while j > 0 and my_list[j-1] > value:\n",
    "            my_list[j] = my_list[j-1] #creates a gap for the already sorted list to move into\n",
    "            j = j - 1 #decrease j until while loop conditions are not met\n",
    "        my_list[j] = value\n",
    "    return my_list"
   ]
  },
  {
   "cell_type": "code",
   "execution_count": 12,
   "id": "ff65b57e",
   "metadata": {},
   "outputs": [
    {
     "name": "stdout",
     "output_type": "stream",
     "text": [
      "[3, 30, 32, 60, 70, 100, 5445]\n"
     ]
    }
   ],
   "source": [
    "test_2 = [70,60,100,3,5445,30,32]\n",
    "print(bubble_sort(test_2))"
   ]
  },
  {
   "cell_type": "code",
   "execution_count": null,
   "id": "28e846e2",
   "metadata": {},
   "outputs": [],
   "source": []
  },
  {
   "cell_type": "code",
   "execution_count": null,
   "id": "ec32c696",
   "metadata": {},
   "outputs": [],
   "source": []
  },
  {
   "cell_type": "code",
   "execution_count": null,
   "id": "b58f4697",
   "metadata": {},
   "outputs": [],
   "source": []
  },
  {
   "cell_type": "code",
   "execution_count": null,
   "id": "62d6005b",
   "metadata": {},
   "outputs": [],
   "source": []
  }
 ],
 "metadata": {
  "kernelspec": {
   "display_name": "Python 3 (ipykernel)",
   "language": "python",
   "name": "python3"
  },
  "language_info": {
   "codemirror_mode": {
    "name": "ipython",
    "version": 3
   },
   "file_extension": ".py",
   "mimetype": "text/x-python",
   "name": "python",
   "nbconvert_exporter": "python",
   "pygments_lexer": "ipython3",
   "version": "3.9.7"
  }
 },
 "nbformat": 4,
 "nbformat_minor": 5
}
