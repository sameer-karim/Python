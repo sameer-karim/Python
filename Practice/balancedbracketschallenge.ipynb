{
 "cells": [
  {
   "cell_type": "code",
   "execution_count": 27,
   "id": "a743768e",
   "metadata": {},
   "outputs": [],
   "source": [
    "def balancedBrackets(s):\n",
    "    stack = []\n",
    "    \n",
    "    d = {')':'(',\n",
    "         '}':'{',\n",
    "         ']':'['}\n",
    "    \n",
    "    for char in s:\n",
    "        \n",
    "        if not stack:\n",
    "            stack.append(char)\n",
    "        elif char not in d:\n",
    "            stack.append(char)\n",
    "            #print('this is char',char,'this is stack',stack)\n",
    "        elif d[char] == stack[-1]:\n",
    "                stack.pop()\n",
    "                #print('this is char',char,'this is stack',stack)\n",
    "        else:\n",
    "            stack.append(char)\n",
    "        \n",
    "    if not stack:\n",
    "        \n",
    "        return True\n",
    "    \n",
    "    else:\n",
    "        return False"
   ]
  },
  {
   "cell_type": "code",
   "execution_count": 28,
   "id": "febe8da8",
   "metadata": {},
   "outputs": [],
   "source": [
    "string = '[[({})]]'"
   ]
  },
  {
   "cell_type": "code",
   "execution_count": 29,
   "id": "9414746f",
   "metadata": {},
   "outputs": [
    {
     "data": {
      "text/plain": [
       "True"
      ]
     },
     "execution_count": 29,
     "metadata": {},
     "output_type": "execute_result"
    }
   ],
   "source": [
    "balancedBrackets(string)"
   ]
  },
  {
   "cell_type": "code",
   "execution_count": 30,
   "id": "e2cb205c",
   "metadata": {},
   "outputs": [],
   "source": [
    "string2 = '[[{()]]}'"
   ]
  },
  {
   "cell_type": "code",
   "execution_count": 31,
   "id": "12d7151e",
   "metadata": {},
   "outputs": [
    {
     "data": {
      "text/plain": [
       "False"
      ]
     },
     "execution_count": 31,
     "metadata": {},
     "output_type": "execute_result"
    }
   ],
   "source": [
    "balancedBrackets(string2)"
   ]
  },
  {
   "cell_type": "code",
   "execution_count": null,
   "id": "a5a0f09d",
   "metadata": {},
   "outputs": [],
   "source": []
  }
 ],
 "metadata": {
  "kernelspec": {
   "display_name": "Python 3 (ipykernel)",
   "language": "python",
   "name": "python3"
  },
  "language_info": {
   "codemirror_mode": {
    "name": "ipython",
    "version": 3
   },
   "file_extension": ".py",
   "mimetype": "text/x-python",
   "name": "python",
   "nbconvert_exporter": "python",
   "pygments_lexer": "ipython3",
   "version": "3.9.7"
  }
 },
 "nbformat": 4,
 "nbformat_minor": 5
}
